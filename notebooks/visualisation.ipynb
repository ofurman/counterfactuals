{
 "cells": [
  {
   "cell_type": "code",
   "execution_count": null,
   "metadata": {},
   "outputs": [],
   "source": [
    "%load_ext autoreload\n",
    "%autoreload 2"
   ]
  },
  {
   "cell_type": "code",
   "execution_count": null,
   "metadata": {},
   "outputs": [],
   "source": [
    "import matplotlib.pyplot as plt\n",
    "import numpy as np\n",
    "import torch\n",
    "\n",
    "from matplotlib import cm, ticker\n",
    "from sklearn.metrics import classification_report\n",
    "from tqdm import tqdm\n",
    "\n",
    "from counterfactuals.datasets.moons import MoonsDataset\n",
    "from counterfactuals.optimizers.approach_gen_disc_loss import ApproachGenDiscLoss\n",
    "from counterfactuals.losses import BinaryDiscLoss\n",
    "\n",
    "from counterfactuals.utils import plot_loss_space"
   ]
  },
  {
   "cell_type": "code",
   "execution_count": null,
   "metadata": {},
   "outputs": [],
   "source": [
    "def plot_model_distribution(model, median_prob=None, disc_model=None):\n",
    "    fig, ax = plt.subplots(1, 1)\n",
    "    fig.set_size_inches(20,12)\n",
    "\n",
    "    xline = torch.linspace(-1.5, 2.5, 200)\n",
    "    yline = torch.linspace(-.75, 1.25, 200)\n",
    "    xgrid, ygrid = torch.meshgrid(xline, yline)\n",
    "    xyinput = torch.cat([xgrid.reshape(-1, 1), ygrid.reshape(-1, 1)], dim=1)\n",
    "    \n",
    "    with torch.no_grad():\n",
    "        zgrid0 = model.log_prob(xyinput, torch.zeros(40000, 1)).exp().reshape(200, 200)\n",
    "        zgrid1 = model.log_prob(xyinput, torch.ones(40000, 1)).exp().reshape(200, 200)\n",
    "\n",
    "    zgrid0 = zgrid0.numpy()\n",
    "    zgrid1 = zgrid1.numpy()\n",
    "\n",
    "from counterfactuals.optimizers.approach_three import ApproachThree\n",
    "from counterfactuals.optimizers.ppcef import PPCEF\n",
    "from counterfactuals.losses import BinaryDiscLoss\n",
    "\n",
    "    \n",
    "    cs0 = ax.contour(xgrid.numpy(), ygrid.numpy(), zgrid0, levels=10, cmap='Greys', linewidths=0.4, antialiased=True)\n",
    "    cs1 = ax.contour(xgrid.numpy(), ygrid.numpy(), zgrid1, levels=10, cmap='Oranges', linewidths=0.4, antialiased=True)\n",
    "    return ax"
   ]
  },
  {
   "cell_type": "code",
   "execution_count": null,
   "metadata": {},
   "outputs": [],
   "source": [
    "dataset = MoonsDataset(file_path=\"../data/moons.csv\")\n",
    "\n",
    "disc_model = torch.load(\"../models/disc_model_LR_MoonsDataset.pt\")\n",
    "flow = torch.load(\"../models/gen_model_FLOW_orig_MoonsDataset.pt\")\n",
    "cf = ApproachGenDiscLoss(\n",
    "    gen_model=flow,\n",
    "    disc_model=disc_model,\n",
    "    disc_model_criterion=BinaryDiscLoss(),\n",
    "    checkpoint_path=\"model.pt\",\n",
    "    neptune_run=None,\n",
    ")"
   ]
  },
  {
   "cell_type": "code",
   "execution_count": null,
   "metadata": {},
   "outputs": [],
   "source": [
    "median_prob = cf.calculate_median_log_prob(dataset.train_dataloader(batch_size=64, shuffle=False))\n",
    "\n",
    "x_origin = torch.tensor([[-0.6,  0.65]], requires_grad=False)\n",
    "x = torch.tensor([[-0.6,  0.65]], requires_grad=True)\n",
    "context_origin = torch.Tensor([0])\n",
    "context_target = torch.Tensor([1])\n",
    "\n",
    "optimizer = torch.optim.Adam([x], lr=0.005)\n",
    "min_loss = np.inf\n",
    "no_improve = 0\n",
    "\n",
    "num_iterations = 2000\n",
    "patience = 20\n",
    "alpha = 10\n",
    "\n",
    "\n",
    "p_hist = []\n",
    "\n",
    "for i in tqdm(range(num_iterations)):\n",
    "    optimizer.zero_grad()\n",
    "    loss_components = cf.search_step(x, x_origin, context_origin, context_target, alpha=alpha, delta=median_prob)\n",
    "    mean_loss = loss_components[\"loss\"].mean()\n",
    "    mean_loss.backward()\n",
    "    optimizer.step()\n",
    "\n",
    "    if mean_loss.item() < min_loss:\n",
    "        min_loss = mean_loss.item()\n",
    "    else:\n",
    "        no_improve += 1\n",
    "    if no_improve > patience:\n",
    "        break\n",
    "\n",
    "    if i % 150 == 0:\n",
    "        p_hist.append(x.detach().numpy().copy())\n",
    "\n",
    "p_hist.append(x.detach().numpy().copy())\n",
    "p_hist = np.concatenate(p_hist)\n"
   ]
  },
  {
   "cell_type": "code",
   "execution_count": null,
   "metadata": {},
   "outputs": [],
   "source": [
    "flow = MaskedAutoregressiveFlow(features=2, hidden_features=4, context_features=1)\n",
    "cf = PPCEF(\n",
    "    gen_model=flow,\n",
    "    disc_model=disc_model,\n",
    "    disc_model_criterion=torch.nn.BCELoss(),\n",
    "    checkpoint_path=\"model.pt\",\n",
    "    neptune_run=None,\n",
    ")"
   ]
  },
  {
   "cell_type": "code",
   "execution_count": null,
   "metadata": {},
   "outputs": [],
   "source": [
    "train_dataloader = dataset.train_dataloader(batch_size=64, shuffle=True, noise_lvl=1e-5)\n",
    "test_dataloader = dataset.test_dataloader(batch_size=64, shuffle=False)\n",
    "cf.train_model(\n",
    "    train_loader=train_dataloader,\n",
    "    test_loader=test_dataloader,\n",
    "    epochs=200,\n",
    ")"
   ]
  },
  {
   "cell_type": "code",
   "execution_count": null,
   "metadata": {},
   "outputs": [],
   "source": [
    "disc_model(x_origin), disc_model(x)"
   ]
  },
  {
   "cell_type": "code",
   "execution_count": null,
   "metadata": {},
   "outputs": [],
   "source": [
    "## Distribution Plot\n",
    "ax = plot_model_distribution(cf.gen_model, median_prob, disc_model)\n",
    "\n",
    "## Classifier Line\n",
    "w1, w2 = list(disc_model.parameters())[0].detach().cpu().numpy()[0]\n",
    "b = list(disc_model.parameters())[1].detach().cpu().numpy().item()\n",
    "c = -b/w2\n",
    "m = -w1/w2\n",
    "xmin, xmax = -1.5, 2.5\n",
    "ymin, ymax = -1.5, 2.5\n",
    "xd = np.array([xmin, xmax])\n",
    "yd = m*xd + c\n",
    "plt.plot(xd, yd, '#ADD8E6', lw=2.0, ls=\"dashed\")\n",
    "plt.axis(\"off\")\n",
    "\n",
    "## Arrows\n",
    "for i in range(p_hist.shape[0]-1):\n",
    "    ax.arrow(p_hist[i, 0], p_hist[i, 1], p_hist[i+1, 0]-p_hist[i, 0], p_hist[i+1, 1]-p_hist[i, 1], width=0.015, lw=0.001, length_includes_head=True, alpha=0.5, color=\"k\")\n",
    "\n",
    "ax.scatter(p_hist[0:1, 0], p_hist[0:1, 1], c=\"k\", s=100, alpha=0.8)\n",
    "ax.scatter(p_hist[1:-1, 0], p_hist[1:-1, 1], c=\"orange\", s=100, alpha=0.8)\n",
    "ax.scatter(p_hist[-1:, 0], p_hist[-1:, 1], c=\"#DC143C\", s=100, alpha=0.8)\n",
    "_ = ax.axis(\"off\")\n",
    "\n",
    "## Save Figure\n",
    "plt.tight_layout()\n",
    "plt.savefig('moons.pdf')"
   ]
  }
 ],
 "metadata": {
  "kernelspec": {
   "display_name": "Python 3 (ipykernel)",
   "language": "python",
   "name": "python3"
  },
  "language_info": {
   "codemirror_mode": {
    "name": "ipython",
    "version": 3
   },
   "file_extension": ".py",
   "mimetype": "text/x-python",
   "name": "python",
   "nbconvert_exporter": "python",
   "pygments_lexer": "ipython3"
  }
 },
 "nbformat": 4,
 "nbformat_minor": 4
}
