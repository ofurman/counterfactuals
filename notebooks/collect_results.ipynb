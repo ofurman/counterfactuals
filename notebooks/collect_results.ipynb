{
 "cells": [
  {
   "cell_type": "code",
   "execution_count": null,
   "metadata": {},
   "outputs": [],
   "source": [
    "import os\n",
    "import numpy as np\n",
    "import pandas as pd"
   ]
  },
  {
   "cell_type": "code",
   "execution_count": null,
   "metadata": {},
   "outputs": [],
   "source": [
    "dataset_name = \"MoonsDataset\"\n",
    "experiment_output_folder = \"../models\"\n",
    "METHOD = \"ppcef\"\n",
    "disc_model = \"MultinomialLogisticRegression\"  # MultilayerPerceptron, MultinomialLogisticRegression, LogisticRegression, NODE\n",
    "columns = {\n",
    "    \"dataset\": \"dataset\",\n",
    "    \"method\": \"method\",\n",
    "    \"model_returned_smth\": \"Coverage\",\n",
    "    \"valid_cf_disc\": \"validity\",\n",
    "    \"flow_prob_condition_acc\": \"Prob. Plaus.\",\n",
    "    \"lof_scores_cfs\": \"LOF\",\n",
    "    # \"lof_scores_xs\": \"LOF_x\",\n",
    "    \"isolation_forest_scores_cfs\": \"IsoForest\",\n",
    "    # \"isolation_forest_scores_xs\": \"IsoForest_x\",\n",
    "    \"flow_log_density_cfs\": \"Log Dens.\",\n",
    "    \"dissimilarity_proximity_continuous_manhatan\": \"L1\",\n",
    "    \"dissimilarity_proximity_continuous_euclidean\": \"L2\",\n",
    "    \"time\": \"Time\",\n",
    "}"
   ]
  },
  {
   "cell_type": "code",
   "execution_count": null,
   "metadata": {},
   "outputs": [],
   "source": [
    "# First batch\n",
    "datasets = [\n",
    "    \"MoonsDataset\",\n",
    "    \"LawDataset\",\n",
    "    \"AuditDataset\",\n",
    "    \"HelocDataset\",\n",
    "    # \"BlobsDataset\",\n",
    "    # \"DigitsDataset\",\n",
    "    # \"WineDataset\",\n",
    "]\n",
    "methods = [\n",
    "    # \"cbce\",\n",
    "    # \"CEGP\",\n",
    "    # \"CEM\",\n",
    "    # \"wach\",\n",
    "    \"ppcef\",\n",
    "    # \"artelth20\"\n",
    "]  #  ,\n",
    "df_results = pd.DataFrame()\n",
    "for dataset_name in datasets:\n",
    "    for method in methods:\n",
    "        output_folder = os.path.join(experiment_output_folder, dataset_name)\n",
    "        os.makedirs(output_folder, exist_ok=True)\n",
    "        save_folder = os.path.join(output_folder, method)\n",
    "        os.makedirs(save_folder, exist_ok=True)\n",
    "\n",
    "        df_part_results = pd.read_csv(\n",
    "            os.path.join(save_folder, f\"metrics_{disc_model}_cv.csv\")\n",
    "        )\n",
    "        means = df_part_results.iloc[0]\n",
    "        output = {k: None for k in columns.values()}\n",
    "        # output = dict()\n",
    "        for key, value in columns.items():\n",
    "            if value == \"IsoForest\":\n",
    "                output[value] = f\"{means.get(key, np.nan):.3f}\"\n",
    "            elif value == \"LOF\":\n",
    "                if means.get(key, float(\"inf\")) < 10:\n",
    "                    output[value] = f\"{means.get(key, np.nan):.2f}\"\n",
    "                else:\n",
    "                    output[value] = f\"{means.get(key, np.nan):.2e}\"\n",
    "            else:\n",
    "                output[value] = f\"{means.get(key, np.nan):.2f}\"\n",
    "        output[\"dataset\"] = dataset_name.removesuffix(\"Dataset\")\n",
    "        output[\"method\"] = method\n",
    "        df_part_results = (\n",
    "            pd.Series(output).to_frame().T.rename(columns=columns)[columns.values()]\n",
    "        )\n",
    "\n",
    "        df_results = pd.concat([df_results, df_part_results], axis=0, ignore_index=True)"
   ]
  },
  {
   "cell_type": "code",
   "execution_count": null,
   "metadata": {},
   "outputs": [],
   "source": [
    "df_results"
   ]
  },
  {
   "cell_type": "code",
   "execution_count": null,
   "metadata": {},
   "outputs": [],
   "source": [
    "print(df_results.to_latex(index=False))"
   ]
  },
  {
   "cell_type": "code",
   "execution_count": null,
   "metadata": {},
   "outputs": [],
   "source": [
    "# All batches\n",
    "datasets = [\n",
    "    # \"MoonsDataset\",\n",
    "    # \"LawDataset\",\n",
    "    # \"AuditDataset\",\n",
    "    # \"HelocDataset\",\n",
    "    \"BlobsDataset\",\n",
    "    \"DigitsDataset\",\n",
    "    \"WineDataset\",\n",
    "]\n",
    "methods = [\"ppcef\"]  # \"artelth20\",\"cbce\", \"CEM\",\"CEGP\",\"wach\",\n",
    "df_results = pd.DataFrame()\n",
    "for dataset_name in datasets:\n",
    "    for method in methods:\n",
    "        output_folder = os.path.join(experiment_output_folder, dataset_name)\n",
    "        os.makedirs(output_folder, exist_ok=True)\n",
    "        save_folder = os.path.join(output_folder, method)\n",
    "        os.makedirs(save_folder, exist_ok=True)\n",
    "\n",
    "        df_part_results = pd.read_csv(\n",
    "            os.path.join(save_folder, f\"metrics_{disc_model}_CE_cv.csv\")\n",
    "        )\n",
    "        means = df_part_results.mean().round(3).to_dict()\n",
    "        stds = df_part_results.std().round(3).to_dict()\n",
    "        output = {k: None for k in columns.values()}\n",
    "        # output = dict()\n",
    "        for key, value in columns.items():\n",
    "            if value == \"IsoForest\":\n",
    "                output[value] = (\n",
    "                    f\"{means.get(key, np.nan):.3f}$\\pm${stds.get(key, np.nan):.3f}\"\n",
    "                )\n",
    "            elif value == \"LOF\":\n",
    "                if means.get(key, float(\"inf\")) < 10:\n",
    "                    output[value] = (\n",
    "                        f\"{means.get(key, np.nan):.2f}$\\pm${stds.get(key, np.nan):.2f}\"\n",
    "                    )\n",
    "                else:\n",
    "                    output[value] = (\n",
    "                        f\"{means.get(key, np.nan):.2e}$\\pm${stds.get(key, np.nan):.2e}\"\n",
    "                    )\n",
    "            else:\n",
    "                output[value] = (\n",
    "                    f\"{means.get(key, np.nan):.2f}$\\pm${stds.get(key, np.nan):.2f}\"\n",
    "                )\n",
    "        output[\"dataset\"] = dataset_name.removesuffix(\"Dataset\")\n",
    "        output[\"method\"] = method\n",
    "        df_part_results = (\n",
    "            pd.Series(output).to_frame().T.rename(columns=columns)[columns.values()]\n",
    "        )\n",
    "\n",
    "        df_results = pd.concat([df_results, df_part_results], axis=0, ignore_index=True)"
   ]
  },
  {
   "cell_type": "code",
   "execution_count": null,
   "metadata": {},
   "outputs": [],
   "source": [
    "df_results"
   ]
  },
  {
   "cell_type": "code",
   "execution_count": null,
   "metadata": {},
   "outputs": [],
   "source": [
    "df_results"
   ]
  },
  {
   "cell_type": "code",
   "execution_count": null,
   "metadata": {},
   "outputs": [],
   "source": []
  },
  {
   "cell_type": "code",
   "execution_count": null,
   "metadata": {},
   "outputs": [],
   "source": [
    "print(df_results.to_latex(index=False))"
   ]
  },
  {
   "cell_type": "code",
   "execution_count": null,
   "metadata": {},
   "outputs": [],
   "source": [
    "df_res = pd.DataFrame()\n",
    "for i in [1, 2, 5, 10, 100, 1000]:\n",
    "    df = pd.read_csv(\n",
    "        f\"../models/LawDataset/ppcef/metrics_LogisticRegression_lambda_{i}_cv.csv\"\n",
    "    ).mean()\n",
    "    df[\"lambda\"] = i\n",
    "    df_res = pd.concat([df_res, df.to_frame()], axis=1)"
   ]
  },
  {
   "cell_type": "code",
   "execution_count": null,
   "metadata": {},
   "outputs": [],
   "source": [
    "columns = {\n",
    "    \"lambda\": \"lambda\",\n",
    "    # \"dataset\": \"dataset\",\n",
    "    # \"method\": \"method\",\n",
    "    \"model_returned_smth\": \"Coverage\",\n",
    "    \"valid_cf_disc\": \"validity\",\n",
    "    \"flow_prob_condition_acc\": \"Prob. Plaus.\",\n",
    "    \"lof_scores_cfs\": \"LOF\",\n",
    "    # \"lof_scores_xs\": \"LOF_x\",\n",
    "    \"isolation_forest_scores_cfs\": \"IsoForest\",\n",
    "    # \"isolation_forest_scores_xs\": \"IsoForest_x\",\n",
    "    \"flow_log_density_cfs\": \"Log Dens.\",\n",
    "    \"dissimilarity_proximity_continuous_manhatan\": \"L1\",\n",
    "    \"dissimilarity_proximity_continuous_euclidean\": \"L2\",\n",
    "    \"time\": \"Time\",\n",
    "}\n",
    "\n",
    "df_res.T.rename(columns=columns)[columns.values()].round(2)"
   ]
  },
  {
   "cell_type": "code",
   "execution_count": null,
   "metadata": {},
   "outputs": [],
   "source": []
  }
 ],
 "metadata": {
  "kernelspec": {
   "display_name": "venv1",
   "language": "python",
   "name": "python3"
  },
  "language_info": {
   "codemirror_mode": {
    "name": "ipython",
    "version": 3
   },
   "file_extension": ".py",
   "mimetype": "text/x-python",
   "name": "python",
   "nbconvert_exporter": "python",
   "pygments_lexer": "ipython3",
   "version": "3.11.8"
  }
 },
 "nbformat": 4,
 "nbformat_minor": 2
}
