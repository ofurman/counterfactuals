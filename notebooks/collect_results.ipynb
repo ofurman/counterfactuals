{
 "cells": [
  {
   "cell_type": "code",
   "execution_count": 1,
   "metadata": {},
   "outputs": [],
   "source": [
    "import os\n",
    "import numpy as np\n",
    "import pandas as pd"
   ]
  },
  {
   "cell_type": "code",
   "execution_count": 5,
   "metadata": {},
   "outputs": [],
   "source": [
    "dataset_name = \"MoonsDataset\"\n",
    "experiment_output_folder = \"../models\"\n",
    "METHOD = \"ppcef\"\n",
    "disc_model = \"NNRegression\"  # MultilayerPerceptron, MultinomialLogisticRegression, LogisticRegression, NODE\n",
    "columns = {\n",
    "    \"dataset\": \"dataset\",\n",
    "    \"method\": \"method\",\n",
    "    # \"model_returned_smth\": \"Coverage\",\n",
    "    \"valid_mae\": \"MAE\",\n",
    "    \"flow_prob_condition_acc\": \"Prob. Plaus.\",\n",
    "    \"lof_scores_cfs\": \"LOF\",\n",
    "    # \"lof_scores_xs\": \"LOF_x\",\n",
    "    \"isolation_forest_scores_cfs\": \"IsoForest\",\n",
    "    # \"isolation_forest_scores_xs\": \"IsoForest_x\",\n",
    "    \"flow_log_density_cfs\": \"Log Dens.\",\n",
    "    \"dissimilarity_proximity_continuous_manhatan\": \"L1\",\n",
    "    \"dissimilarity_proximity_continuous_euclidean\": \"L2\",\n",
    "    \"time\": \"Time\",\n",
    "}"
   ]
  },
  {
   "cell_type": "code",
   "execution_count": 6,
   "metadata": {},
   "outputs": [],
   "source": [
    "# First batch\n",
    "datasets = [\n",
    "    \"ToyRegressionDataset\",\n",
    "    \"ConcreteDataset\",\n",
    "    \"DiabetesDataset\",\n",
    "    \"YachtDataset\",\n",
    "    \"Scm20dDataset\",\n",
    "    # \"DigitsDataset\",\n",
    "    # \"WineDataset\",\n",
    "]\n",
    "df_results = pd.DataFrame()\n",
    "for dataset_name in datasets:\n",
    "    output_folder = os.path.join(experiment_output_folder, dataset_name)\n",
    "    os.makedirs(output_folder, exist_ok=True)\n",
    "\n",
    "    df_part_results = pd.read_csv(\n",
    "        os.path.join(output_folder, f\"metrics_{disc_model}.csv\")\n",
    "    )\n",
    "    df_part_results[\"dataset\"] = dataset_name\n",
    "    df_part_results[\"method\"] = \"PPCEFR\"\n",
    "\n",
    "    df_part_results_wach = pd.read_csv(\n",
    "        os.path.join(output_folder, f\"metrics_wach_{disc_model}.csv\")\n",
    "    )\n",
    "    df_part_results_wach[\"dataset\"] = dataset_name\n",
    "    df_part_results_wach[\"method\"] = \"WACH\"\n",
    "\n",
    "    if dataset_name != \"Scm20dDataset\":\n",
    "        df_part_results_cearm = pd.read_csv(\n",
    "            os.path.join(output_folder, f\"metrics_cearm_{disc_model}.csv\")\n",
    "        )\n",
    "        df_part_results_cearm[\"dataset\"] = dataset_name\n",
    "        df_part_results_cearm[\"method\"] = \"CEARM\"\n",
    "    else:\n",
    "        df_part_results_cearm = pd.DataFrame()\n",
    "\n",
    "    df_results = pd.concat(\n",
    "        [df_results, df_part_results, df_part_results_wach, df_part_results_cearm]\n",
    "    )"
   ]
  },
  {
   "cell_type": "code",
   "execution_count": 7,
   "metadata": {},
   "outputs": [
    {
     "name": "stdout",
     "output_type": "stream",
     "text": [
      "\\begin{tabular}{llrrrrrrrr}\n",
      "\\toprule\n",
      " &  & MAE & Prob. Plaus. & LOF & IsoForest & Log Dens. & L1 & L2 & Time \\\\\n",
      "dataset & method &  &  &  &  &  &  &  &  \\\\\n",
      "\\midrule\n",
      "\\multirow[t]{3}{*}{ConcreteDataset} & CEARM & 0.11 & 0.00 & 2.20 & -0.11 & -4197.69 & 2.66 & 1.14 & 130.21 \\\\\n",
      " & PPCEFR & 0.02 & 0.99 & 1.09 & 0.03 & 7.46 & 0.37 & 0.16 & 4.53 \\\\\n",
      " & WACH & 0.03 & 0.51 & 1.12 & 0.01 & 2.83 & 0.28 & 0.13 & 3.78 \\\\\n",
      "\\cline{1-10}\n",
      "\\multirow[t]{3}{*}{DiabetesDataset} & CEARM & 0.10 & 0.00 & 1.85 & -0.09 & -166.15 & 3.25 & 1.23 & 64.41 \\\\\n",
      " & PPCEFR & 0.02 & 1.00 & 1.05 & 0.04 & 8.48 & 0.78 & 0.31 & 5.64 \\\\\n",
      " & WACH & 0.03 & 0.27 & 1.12 & 0.02 & 3.67 & 0.66 & 0.26 & 2.96 \\\\\n",
      "\\cline{1-10}\n",
      "\\multirow[t]{2}{*}{Scm20dDataset} & PPCEFR & 0.06 & 0.88 & 1.08 & 0.05 & 85.42 & 3.93 & 0.66 & 56.83 \\\\\n",
      " & WACH & 0.03 & 0.04 & 1.08 & 0.01 & 29.01 & 2.51 & 0.41 & 21.19 \\\\\n",
      "\\cline{1-10}\n",
      "\\multirow[t]{3}{*}{ToyRegressionDataset} & CEARM & 0.12 & 0.20 & 1.54 & -0.08 & -4.61 & 0.52 & 0.40 & 107.84 \\\\\n",
      " & PPCEFR & 0.00 & 1.00 & 1.10 & 0.03 & 2.94 & 0.26 & 0.19 & 13.10 \\\\\n",
      " & WACH & 0.04 & 0.80 & 1.11 & 0.02 & 2.00 & 0.25 & 0.18 & 4.45 \\\\\n",
      "\\cline{1-10}\n",
      "\\multirow[t]{3}{*}{YachtDataset} & CEARM & 0.14 & 0.00 & 1.11 & -0.05 & -183.60 & 2.08 & 1.01 & 36.29 \\\\\n",
      " & PPCEFR & 0.00 & 1.00 & 1.02 & -0.01 & 5.16 & 0.63 & 0.40 & 18.95 \\\\\n",
      " & WACH & 0.02 & 0.25 & 1.03 & -0.02 & -6.45 & 0.53 & 0.36 & 2.93 \\\\\n",
      "\\cline{1-10}\n",
      "\\bottomrule\n",
      "\\end{tabular}\n",
      "\n"
     ]
    }
   ],
   "source": [
    "df_results = df_results.rename(columns=columns)[columns.values()].round(2)\n",
    "\n",
    "print(\n",
    "    df_results.groupby([\"dataset\", \"method\"])\n",
    "    .mean()\n",
    "    .to_latex(float_format=\"%.2f\", multicolumn=True, multirow=True, index=True)\n",
    ")"
   ]
  },
  {
   "cell_type": "code",
   "execution_count": null,
   "metadata": {},
   "outputs": [],
   "source": []
  },
  {
   "cell_type": "code",
   "execution_count": null,
   "metadata": {},
   "outputs": [],
   "source": [
    "# First batch\n",
    "datasets = [\n",
    "    \"ToyRegressionDataset\",\n",
    "    \"ConcreteDataset\",\n",
    "    \"DiabetesDataset\",\n",
    "    \"YachtDataset\",\n",
    "    \"Scm20dDataset\",\n",
    "    # \"DigitsDataset\",\n",
    "    # \"WineDataset\",\n",
    "]\n",
    "methods = [\n",
    "    # \"cbce\",\n",
    "    # \"CEGP\",\n",
    "    # \"CEM\",\n",
    "    # \"wach\",\n",
    "    \"ppcef\",\n",
    "    # \"artelth20\"\n",
    "]  #  ,\n",
    "df_results = pd.DataFrame()\n",
    "for dataset_name in datasets:\n",
    "    for method in methods:\n",
    "        output_folder = os.path.join(experiment_output_folder, dataset_name)\n",
    "        os.makedirs(output_folder, exist_ok=True)\n",
    "        save_folder = os.path.join(output_folder, method)\n",
    "        os.makedirs(save_folder, exist_ok=True)\n",
    "\n",
    "        df_part_results = pd.read_csv(\n",
    "            os.path.join(output_folder, f\"metrics_{disc_model}_cv.csv\")\n",
    "        )\n",
    "        means = df_part_results.iloc[0]\n",
    "        output = {k: None for k in columns.values()}\n",
    "        # output = dict()\n",
    "        for key, value in columns.items():\n",
    "            if value == \"IsoForest\":\n",
    "                output[value] = f\"{means.get(key, np.nan):.3f}\"\n",
    "            elif value == \"LOF\":\n",
    "                if means.get(key, float(\"inf\")) < 10:\n",
    "                    output[value] = f\"{means.get(key, np.nan):.2f}\"\n",
    "                else:\n",
    "                    output[value] = f\"{means.get(key, np.nan):.2e}\"\n",
    "            else:\n",
    "                output[value] = f\"{means.get(key, np.nan):.2f}\"\n",
    "        output[\"dataset\"] = dataset_name.removesuffix(\"Dataset\")\n",
    "        output[\"method\"] = method\n",
    "        df_part_results = (\n",
    "            pd.Series(output).to_frame().T.rename(columns=columns)[columns.values()]\n",
    "        )\n",
    "\n",
    "        df_results = pd.concat([df_results, df_part_results], axis=0, ignore_index=True)"
   ]
  },
  {
   "cell_type": "code",
   "execution_count": null,
   "metadata": {},
   "outputs": [],
   "source": [
    "df_results"
   ]
  },
  {
   "cell_type": "code",
   "execution_count": null,
   "metadata": {},
   "outputs": [],
   "source": [
    "print(df_results.to_latex(index=False))"
   ]
  },
  {
   "cell_type": "code",
   "execution_count": null,
   "metadata": {},
   "outputs": [],
   "source": [
    "# All batches\n",
    "datasets = [\n",
    "    # \"MoonsDataset\",\n",
    "    # \"LawDataset\",\n",
    "    # \"AuditDataset\",\n",
    "    # \"HelocDataset\",\n",
    "    \"BlobsDataset\",\n",
    "    \"DigitsDataset\",\n",
    "    \"WineDataset\",\n",
    "]\n",
    "methods = [\"ppcef\"]  # \"artelth20\",\"cbce\", \"CEM\",\"CEGP\",\"wach\",\n",
    "df_results = pd.DataFrame()\n",
    "for dataset_name in datasets:\n",
    "    for method in methods:\n",
    "        output_folder = os.path.join(experiment_output_folder, dataset_name)\n",
    "        os.makedirs(output_folder, exist_ok=True)\n",
    "        save_folder = os.path.join(output_folder, method)\n",
    "        os.makedirs(save_folder, exist_ok=True)\n",
    "\n",
    "        df_part_results = pd.read_csv(\n",
    "            os.path.join(save_folder, f\"metrics_{disc_model}_CE_cv.csv\")\n",
    "        )\n",
    "        means = df_part_results.mean().round(3).to_dict()\n",
    "        stds = df_part_results.std().round(3).to_dict()\n",
    "        output = {k: None for k in columns.values()}\n",
    "        # output = dict()\n",
    "        for key, value in columns.items():\n",
    "            if value == \"IsoForest\":\n",
    "                output[value] = (\n",
    "                    f\"{means.get(key, np.nan):.3f}$\\pm${stds.get(key, np.nan):.3f}\"\n",
    "                )\n",
    "            elif value == \"LOF\":\n",
    "                if means.get(key, float(\"inf\")) < 10:\n",
    "                    output[value] = (\n",
    "                        f\"{means.get(key, np.nan):.2f}$\\pm${stds.get(key, np.nan):.2f}\"\n",
    "                    )\n",
    "                else:\n",
    "                    output[value] = (\n",
    "                        f\"{means.get(key, np.nan):.2e}$\\pm${stds.get(key, np.nan):.2e}\"\n",
    "                    )\n",
    "            else:\n",
    "                output[value] = (\n",
    "                    f\"{means.get(key, np.nan):.2f}$\\pm${stds.get(key, np.nan):.2f}\"\n",
    "                )\n",
    "        output[\"dataset\"] = dataset_name.removesuffix(\"Dataset\")\n",
    "        output[\"method\"] = method\n",
    "        df_part_results = (\n",
    "            pd.Series(output).to_frame().T.rename(columns=columns)[columns.values()]\n",
    "        )\n",
    "\n",
    "        df_results = pd.concat([df_results, df_part_results], axis=0, ignore_index=True)"
   ]
  },
  {
   "cell_type": "code",
   "execution_count": null,
   "metadata": {},
   "outputs": [],
   "source": [
    "df_results"
   ]
  },
  {
   "cell_type": "code",
   "execution_count": null,
   "metadata": {},
   "outputs": [],
   "source": [
    "df_results"
   ]
  },
  {
   "cell_type": "code",
   "execution_count": null,
   "metadata": {},
   "outputs": [],
   "source": []
  },
  {
   "cell_type": "code",
   "execution_count": null,
   "metadata": {},
   "outputs": [],
   "source": [
    "print(df_results.to_latex(index=False))"
   ]
  },
  {
   "cell_type": "code",
   "execution_count": null,
   "metadata": {},
   "outputs": [],
   "source": [
    "df_res = pd.DataFrame()\n",
    "for i in [1, 2, 5, 10, 100, 1000]:\n",
    "    df = pd.read_csv(\n",
    "        f\"../models/LawDataset/ppcef/metrics_LogisticRegression_lambda_{i}_cv.csv\"\n",
    "    ).mean()\n",
    "    df[\"lambda\"] = i\n",
    "    df_res = pd.concat([df_res, df.to_frame()], axis=1)"
   ]
  },
  {
   "cell_type": "code",
   "execution_count": null,
   "metadata": {},
   "outputs": [],
   "source": [
    "columns = {\n",
    "    \"lambda\": \"lambda\",\n",
    "    # \"dataset\": \"dataset\",\n",
    "    # \"method\": \"method\",\n",
    "    \"model_returned_smth\": \"Coverage\",\n",
    "    \"valid_cf_disc\": \"validity\",\n",
    "    \"flow_prob_condition_acc\": \"Prob. Plaus.\",\n",
    "    \"lof_scores_cfs\": \"LOF\",\n",
    "    # \"lof_scores_xs\": \"LOF_x\",\n",
    "    \"isolation_forest_scores_cfs\": \"IsoForest\",\n",
    "    # \"isolation_forest_scores_xs\": \"IsoForest_x\",\n",
    "    \"flow_log_density_cfs\": \"Log Dens.\",\n",
    "    \"dissimilarity_proximity_continuous_manhatan\": \"L1\",\n",
    "    \"dissimilarity_proximity_continuous_euclidean\": \"L2\",\n",
    "    \"time\": \"Time\",\n",
    "}\n",
    "\n",
    "df_res.T.rename(columns=columns)[columns.values()].round(2)"
   ]
  },
  {
   "cell_type": "code",
   "execution_count": null,
   "metadata": {},
   "outputs": [],
   "source": []
  }
 ],
 "metadata": {
  "kernelspec": {
   "display_name": "venv1",
   "language": "python",
   "name": "python3"
  },
  "language_info": {
   "codemirror_mode": {
    "name": "ipython",
    "version": 3
   },
   "file_extension": ".py",
   "mimetype": "text/x-python",
   "name": "python",
   "nbconvert_exporter": "python",
   "pygments_lexer": "ipython3",
   "version": "3.11.9"
  }
 },
 "nbformat": 4,
 "nbformat_minor": 2
}
