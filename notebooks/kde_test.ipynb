{
 "cells": [
  {
   "cell_type": "code",
   "execution_count": 1,
   "metadata": {},
   "outputs": [],
   "source": [
    "%load_ext autoreload\n",
    "%autoreload 2"
   ]
  },
  {
   "cell_type": "code",
   "execution_count": 2,
   "metadata": {},
   "outputs": [],
   "source": [
    "import torch\n",
    "import numpy as np\n",
    "from counterfactuals.datasets import LawDataset, MoonsDataset, HelocDataset, PolishBankDataset, AuditDataset\n",
    "\n",
    "from counterfactuals.generative_models.kde import KDE\n",
    "from nflows.flows.autoregressive import MaskedAutoregressiveFlow"
   ]
  },
  {
   "cell_type": "code",
   "execution_count": 3,
   "metadata": {},
   "outputs": [
    {
     "name": "stderr",
     "output_type": "stream",
     "text": [
      "/Users/ofurman/Study/counterfactuals/venv/lib/python3.11/site-packages/sklearn/preprocessing/_label.py:114: DataConversionWarning: A column-vector y was passed when a 1d array was expected. Please change the shape of y to (n_samples, ), for example using ravel().\n",
      "  y = column_or_1d(y, warn=True)\n",
      "/Users/ofurman/Study/counterfactuals/venv/lib/python3.11/site-packages/sklearn/preprocessing/_label.py:132: DataConversionWarning: A column-vector y was passed when a 1d array was expected. Please change the shape of y to (n_samples, ), for example using ravel().\n",
      "  y = column_or_1d(y, dtype=self.classes_.dtype, warn=True)\n"
     ]
    }
   ],
   "source": [
    "# dataset = MoonsDataset(\"../data/moons.csv\")\n",
    "dataset = AuditDataset(\"../data/audit.csv\")\n",
    "# dataset = LawDataset(\"../data/law.csv\")\n",
    "# dataset = HelocDataset(\"../data/heloc.csv\")\n",
    "# dataset = PolishBankDataset(\"../data/polish_bankruptcy.csv\")\n",
    "train_dataloader = dataset.train_dataloader(batch_size=128, shuffle=True, noise_lvl=0)\n",
    "test_dataloader = dataset.test_dataloader(batch_size=128, shuffle=False)"
   ]
  },
  {
   "cell_type": "code",
   "execution_count": 5,
   "metadata": {},
   "outputs": [
    {
     "name": "stdout",
     "output_type": "stream",
     "text": [
      "KDE Train\n",
      "KDE Test\n",
      "KDE Train 28.85 28.98\n",
      "KDE Test 28.3 24.54\n"
     ]
    }
   ],
   "source": [
    "kde = KDE(bandwidth=0.1)\n",
    "kde.fit(train_dataloader)\n",
    "log_prob = []\n",
    "for x, y in train_dataloader:\n",
    "    log_prob.append(kde.log_prob(x, y))\n",
    "print(\"KDE Train\")\n",
    "med_kde_train = np.median(torch.hstack(log_prob).numpy()).round(2)\n",
    "mean_kde_train = np.mean(torch.hstack(log_prob).numpy()).round(2)\n",
    "\n",
    "log_prob = []\n",
    "for x, y in test_dataloader:\n",
    "    log_prob.append(kde.log_prob(x, y))\n",
    "print(\"KDE Test\")\n",
    "med_kde_test = np.median(torch.hstack(log_prob).numpy()).round(2)\n",
    "mean_kde_test = np.mean(torch.hstack(log_prob).numpy()).round(2)\n",
    "\n",
    "print(\"KDE Train\", med_kde_train, mean_kde_train)\n",
    "print(\"KDE Test\", med_kde_test, mean_kde_test)\n",
    "\n",
    "\n",
    "# flow = torch.load(\"../models/gen_model_FLOW_orig_MoonsDataset.pt\")\n",
    "# log_prob = []\n",
    "# with torch.no_grad():\n",
    "#     for x, y in train_dataloader:\n",
    "#         y = y.view(-1, 1)\n",
    "#         log_prob.append(flow.log_prob(x, y))\n",
    "# med_flow_train = np.median(torch.hstack(log_prob).numpy()).round(2)\n",
    "# mean_flow_train = np.mean(torch.hstack(log_prob).numpy()).round(2)\n",
    "\n",
    "# log_prob = []\n",
    "# with torch.no_grad():\n",
    "#     for x, y in test_dataloader:\n",
    "#         y = y.view(-1, 1)\n",
    "#         log_prob.append(flow.log_prob(x, y))\n",
    "# med_flow_test = np.median(torch.hstack(log_prob).numpy()).round(2)\n",
    "# mean_flow_test = np.mean(torch.hstack(log_prob).numpy()).round(2)"
   ]
  },
  {
   "cell_type": "code",
   "execution_count": 4,
   "metadata": {},
   "outputs": [
    {
     "name": "stderr",
     "output_type": "stream",
     "text": [
      "/Users/ofurman/Study/counterfactuals/venv/lib/python3.11/site-packages/sklearn/preprocessing/_label.py:114: DataConversionWarning: A column-vector y was passed when a 1d array was expected. Please change the shape of y to (n_samples, ), for example using ravel().\n",
      "  y = column_or_1d(y, warn=True)\n",
      "/Users/ofurman/Study/counterfactuals/venv/lib/python3.11/site-packages/sklearn/preprocessing/_label.py:132: DataConversionWarning: A column-vector y was passed when a 1d array was expected. Please change the shape of y to (n_samples, ), for example using ravel().\n",
      "  y = column_or_1d(y, dtype=self.classes_.dtype, warn=True)\n"
     ]
    },
    {
     "name": "stdout",
     "output_type": "stream",
     "text": [
      "../models/gen_model_FLOW_orig_MoonsDataset.pt\n",
      "<counterfactuals.datasets.moons.MoonsDataset object at 0x2ace815d0>\n",
      "mean table\n",
      "-0.42, -0.43, 2.63, 0.83\n",
      "median table\n",
      "-0.29, -0.25, 2.76, 0.81\n",
      "../models/gen_model_FLOW_orig_LawDataset.pt\n",
      "<counterfactuals.datasets.law.LawDataset object at 0x2acd08350>\n",
      "mean table\n",
      "1.19, 1.19, 2.07, 2.12\n",
      "median table\n",
      "1.37, 1.43, 2.21, 2.28\n",
      "../models/gen_model_FLOW_orig_HelocDataset.pt\n",
      "<counterfactuals.datasets.heloc.HelocDataset object at 0x2ac6e7e90>\n",
      "mean table\n",
      "24.32, 22.37, 2.07, 2.16\n",
      "median table\n",
      "23.82, 22.78, 2.02, 2.05\n"
     ]
    }
   ],
   "source": [
    "for dataset in [\n",
    "        MoonsDataset(\"../data/moons.csv\"),\n",
    "        LawDataset(\"../data/law.csv\"),\n",
    "        HelocDataset(\"../data/heloc.csv\"),\n",
    "        AuditDataset(\"../data/audit.csv\"),\n",
    "    ]:\n",
    "    train_dataloader = dataset.train_dataloader(batch_size=128, shuffle=True, noise_lvl=0)\n",
    "    test_dataloader = dataset.test_dataloader(batch_size=128, shuffle=False)\n",
    "    kde = KDE(bandwidth=0.1)\n",
    "    kde.fit(train_dataloader)\n",
    "    log_prob = []\n",
    "    for x, y in train_dataloader:\n",
    "        log_prob.append(kde.log_prob(x, y))\n",
    "    med_kde_train = np.median(torch.hstack(log_prob).numpy()).round(2)\n",
    "    mean_kde_train = np.mean(torch.hstack(log_prob).numpy()).round(2)\n",
    "\n",
    "    log_prob = []\n",
    "    for x, y in test_dataloader:\n",
    "        log_prob.append(kde.log_prob(x, y))\n",
    "    med_kde_test = np.median(torch.hstack(log_prob).numpy()).round(2)\n",
    "    mean_kde_test = np.mean(torch.hstack(log_prob).numpy()).round(2)\n",
    "\n",
    "\n",
    "    flow = torch.load(f\"../models/gen_model_FLOW_orig_{str(dataset).split(' ')[0].split('.')[-1]}.pt\")\n",
    "    print(f\"../models/gen_model_FLOW_orig_{str(dataset).split(' ')[0].split('.')[-1]}.pt\")\n",
    "    with torch.no_grad():\n",
    "        log_prob = []\n",
    "        with torch.no_grad():\n",
    "            for x, y in train_dataloader:\n",
    "                y = y.view(-1, 1)\n",
    "                log_prob.append(flow.log_prob(x, y).squeeze())\n",
    "        med_flow_train = np.median(torch.hstack(log_prob).numpy()).round(2)\n",
    "        mean_flow_train = np.mean(torch.hstack(log_prob).numpy()).round(2)\n",
    "\n",
    "        log_prob = []\n",
    "        with torch.no_grad():\n",
    "            for x, y in test_dataloader:\n",
    "                y = y.view(-1, 1)\n",
    "                log_prob.append(flow.log_prob(x, y).squeeze())\n",
    "        med_flow_test = np.median(torch.hstack(log_prob).numpy()).round(2)\n",
    "        mean_flow_test = np.mean(torch.hstack(log_prob).numpy()).round(2)\n",
    "\n",
    "    print(str(dataset))\n",
    "    print(\"mean table\")\n",
    "    print(f\"{mean_kde_train:.2f}, {mean_kde_test:.2f}, {mean_flow_train:.2f}, {mean_flow_test:.2f}\")\n",
    "    print(\"median table\")\n",
    "    print(f\"{med_kde_train:.2f}, {med_kde_test:.2f}, {med_flow_train:.2f}, {med_flow_test:.2f}\")"
   ]
  },
  {
   "cell_type": "code",
   "execution_count": null,
   "metadata": {},
   "outputs": [],
   "source": []
  }
 ],
 "metadata": {
  "kernelspec": {
   "display_name": "venv",
   "language": "python",
   "name": "python3"
  },
  "language_info": {
   "codemirror_mode": {
    "name": "ipython",
    "version": 3
   },
   "file_extension": ".py",
   "mimetype": "text/x-python",
   "name": "python",
   "nbconvert_exporter": "python",
   "pygments_lexer": "ipython3",
   "version": "3.11.6"
  }
 },
 "nbformat": 4,
 "nbformat_minor": 2
}
