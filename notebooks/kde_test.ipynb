{
 "cells": [
  {
   "cell_type": "code",
   "execution_count": 1,
   "metadata": {},
   "outputs": [],
   "source": [
    "%load_ext autoreload\n",
    "%autoreload 2"
   ]
  },
  {
   "cell_type": "code",
   "execution_count": 2,
   "metadata": {},
   "outputs": [],
   "source": [
    "import torch\n",
    "import numpy as np\n",
    "from counterfactuals.datasets import (\n",
    "    LawDataset,\n",
    "    MoonsDataset,\n",
    "    HelocDataset,\n",
    "    AuditDataset,\n",
    "    AdultDataset,\n",
    ")\n",
    "\n",
    "from counterfactuals.generative_models.kde import KDE\n",
    "from counterfactuals.generative_models.maf import MaskedAutoregressiveFlow\n",
    "from counterfactuals.generative_models.nice import NICE\n",
    "from counterfactuals.generative_models.real_nvp import RealNVP"
   ]
  },
  {
   "cell_type": "code",
   "execution_count": 3,
   "metadata": {},
   "outputs": [],
   "source": [
    "# dataset = MoonsDataset(\"../data/moons.csv\")\n",
    "# dataset = AuditDataset(\"../data/audit.csv\")\n",
    "# dataset = LawDataset(\"../data/law.csv\")\n",
    "# dataset = HelocDataset(\"../data/heloc.csv\")\n",
    "# dataset = PolishBankDataset(\"../data/polish_bankruptcy.csv\")\n",
    "dataset = AdultDataset(\"../data/adult.csv\")\n",
    "train_dataloader = dataset.train_dataloader(batch_size=128, shuffle=True, noise_lvl=0)\n",
    "test_dataloader = dataset.test_dataloader(batch_size=128, shuffle=False)"
   ]
  },
  {
   "cell_type": "code",
   "execution_count": 4,
   "metadata": {},
   "outputs": [
    {
     "name": "stderr",
     "output_type": "stream",
     "text": [
      "Epoch 47, Train: -27.3569, test: -43.2998, patience: 20:  47%|████▋     | 47/100 [00:46<00:52,  1.02it/s] \n"
     ]
    }
   ],
   "source": [
    "maf = MaskedAutoregressiveFlow(\n",
    "    features=dataset.X_train.shape[1],\n",
    "    hidden_features=128,\n",
    "    context_features=1,\n",
    "    num_layers=5,\n",
    "    num_blocks_per_layer=2,\n",
    "    use_residual_blocks=True,\n",
    "    use_random_masks=False,\n",
    ")\n",
    "maf.fit(train_dataloader, test_dataloader)"
   ]
  },
  {
   "cell_type": "code",
   "execution_count": 5,
   "metadata": {},
   "outputs": [
    {
     "name": "stderr",
     "output_type": "stream",
     "text": [
      "Epoch 99, Train: 26.6591, test: 26.6644, patience: 5: 100%|██████████| 100/100 [01:37<00:00,  1.02it/s]\n"
     ]
    }
   ],
   "source": [
    "nice = NICE(\n",
    "    features=dataset.X_train.shape[1],\n",
    "    hidden_features=128,\n",
    "    context_features=1,\n",
    "    num_layers=5,\n",
    "    num_blocks_per_layer=2,\n",
    ")\n",
    "nice.fit(train_dataloader, test_dataloader)"
   ]
  },
  {
   "cell_type": "code",
   "execution_count": 6,
   "metadata": {},
   "outputs": [
    {
     "name": "stderr",
     "output_type": "stream",
     "text": [
      "Epoch 99, Train: 26.5830, test: 26.5827, patience: 4: 100%|██████████| 100/100 [01:36<00:00,  1.03it/s]\n"
     ]
    }
   ],
   "source": [
    "real_nvp = RealNVP(\n",
    "    features=dataset.X_train.shape[1],\n",
    "    hidden_features=128,\n",
    "    context_features=1,\n",
    "    num_layers=5,\n",
    "    num_blocks_per_layer=2,\n",
    ")\n",
    "real_nvp.fit(train_dataloader, test_dataloader)"
   ]
  },
  {
   "cell_type": "code",
   "execution_count": 7,
   "metadata": {},
   "outputs": [
    {
     "name": "stdout",
     "output_type": "stream",
     "text": [
      "Train log-likelihood: 33.29024124145508\n",
      "Test log-likelihood: 30.512453079223633\n",
      "KDE Train\n"
     ]
    },
    {
     "ename": "TypeError",
     "evalue": "mean() received an invalid combination of arguments - got (out=NoneType, dtype=NoneType, axis=NoneType, ), but expected one of:\n * (*, torch.dtype dtype = None)\n * (tuple of ints dim, bool keepdim = False, *, torch.dtype dtype = None)\n * (tuple of names dim, bool keepdim = False, *, torch.dtype dtype = None)\n",
     "output_type": "error",
     "traceback": [
      "\u001b[0;31m---------------------------------------------------------------------------\u001b[0m",
      "\u001b[0;31mTypeError\u001b[0m                                 Traceback (most recent call last)",
      "Cell \u001b[0;32mIn[7], line 9\u001b[0m\n\u001b[1;32m      7\u001b[0m \u001b[38;5;28mprint\u001b[39m(\u001b[38;5;124m\"\u001b[39m\u001b[38;5;124mKDE Train\u001b[39m\u001b[38;5;124m\"\u001b[39m)\n\u001b[1;32m      8\u001b[0m med_kde_train \u001b[38;5;241m=\u001b[39m np\u001b[38;5;241m.\u001b[39mmedian(log_prob)\u001b[38;5;241m.\u001b[39mround(\u001b[38;5;241m2\u001b[39m)\n\u001b[0;32m----> 9\u001b[0m mean_kde_train \u001b[38;5;241m=\u001b[39m \u001b[43mnp\u001b[49m\u001b[38;5;241;43m.\u001b[39;49m\u001b[43mmean\u001b[49m\u001b[43m(\u001b[49m\u001b[43mlog_prob\u001b[49m\u001b[43m)\u001b[49m\u001b[38;5;241m.\u001b[39mround(\u001b[38;5;241m2\u001b[39m)\n\u001b[1;32m     11\u001b[0m \u001b[38;5;66;03m# log_prob = []\u001b[39;00m\n\u001b[1;32m     12\u001b[0m log_prob \u001b[38;5;241m=\u001b[39m kde\u001b[38;5;241m.\u001b[39mpredict_log_prob(test_dataloader)\n",
      "File \u001b[0;32m<__array_function__ internals>:180\u001b[0m, in \u001b[0;36mmean\u001b[0;34m(*args, **kwargs)\u001b[0m\n",
      "File \u001b[0;32m~/Developer/counterfactuals/venv/lib/python3.10/site-packages/numpy/core/fromnumeric.py:3430\u001b[0m, in \u001b[0;36mmean\u001b[0;34m(a, axis, dtype, out, keepdims, where)\u001b[0m\n\u001b[1;32m   3428\u001b[0m         \u001b[38;5;28;01mpass\u001b[39;00m\n\u001b[1;32m   3429\u001b[0m     \u001b[38;5;28;01melse\u001b[39;00m:\n\u001b[0;32m-> 3430\u001b[0m         \u001b[38;5;28;01mreturn\u001b[39;00m \u001b[43mmean\u001b[49m\u001b[43m(\u001b[49m\u001b[43maxis\u001b[49m\u001b[38;5;241;43m=\u001b[39;49m\u001b[43maxis\u001b[49m\u001b[43m,\u001b[49m\u001b[43m \u001b[49m\u001b[43mdtype\u001b[49m\u001b[38;5;241;43m=\u001b[39;49m\u001b[43mdtype\u001b[49m\u001b[43m,\u001b[49m\u001b[43m \u001b[49m\u001b[43mout\u001b[49m\u001b[38;5;241;43m=\u001b[39;49m\u001b[43mout\u001b[49m\u001b[43m,\u001b[49m\u001b[43m \u001b[49m\u001b[38;5;241;43m*\u001b[39;49m\u001b[38;5;241;43m*\u001b[39;49m\u001b[43mkwargs\u001b[49m\u001b[43m)\u001b[49m\n\u001b[1;32m   3432\u001b[0m \u001b[38;5;28;01mreturn\u001b[39;00m _methods\u001b[38;5;241m.\u001b[39m_mean(a, axis\u001b[38;5;241m=\u001b[39maxis, dtype\u001b[38;5;241m=\u001b[39mdtype,\n\u001b[1;32m   3433\u001b[0m                       out\u001b[38;5;241m=\u001b[39mout, \u001b[38;5;241m*\u001b[39m\u001b[38;5;241m*\u001b[39mkwargs)\n",
      "\u001b[0;31mTypeError\u001b[0m: mean() received an invalid combination of arguments - got (out=NoneType, dtype=NoneType, axis=NoneType, ), but expected one of:\n * (*, torch.dtype dtype = None)\n * (tuple of ints dim, bool keepdim = False, *, torch.dtype dtype = None)\n * (tuple of names dim, bool keepdim = False, *, torch.dtype dtype = None)\n"
     ]
    }
   ],
   "source": [
    "kde = KDE(bandwidth=0.1)\n",
    "kde.fit(train_dataloader, test_dataloader)\n",
    "log_prob = kde.predict_log_prob(train_dataloader)\n",
    "# log_prob = []\n",
    "# for x, y in train_dataloader:\n",
    "#     log_prob.append(kde.log_prob(x, y))\n",
    "print(\"KDE Train\")\n",
    "med_kde_train = np.median(log_prob).round(2)\n",
    "mean_kde_train = np.mean(log_prob).round(2)\n",
    "\n",
    "# log_prob = []\n",
    "log_prob = kde.predict_log_prob(test_dataloader)\n",
    "# for x, y in test_dataloader:\n",
    "#     log_prob.append(kde.log_prob(x, y))\n",
    "#     kde.predict_log_prob(x, y)\n",
    "print(\"KDE Test\")\n",
    "med_kde_test = np.median(log_prob).round(2)\n",
    "mean_kde_test = np.mean(log_prob).round(2)\n",
    "\n",
    "print(\"KDE Train\", med_kde_train, mean_kde_train)\n",
    "print(\"KDE Test\", med_kde_test, mean_kde_test)\n",
    "\n",
    "\n",
    "# flow = torch.load(\"../models/gen_model_FLOW_orig_MoonsDataset.pt\")\n",
    "# log_prob = []\n",
    "# with torch.no_grad():\n",
    "#     for x, y in train_dataloader:\n",
    "#         y = y.view(-1, 1)\n",
    "#         log_prob.append(flow.log_prob(x, y))\n",
    "# med_flow_train = np.median(torch.hstack(log_prob).numpy()).round(2)\n",
    "# mean_flow_train = np.mean(torch.hstack(log_prob).numpy()).round(2)\n",
    "\n",
    "# log_prob = []\n",
    "# with torch.no_grad():\n",
    "#     for x, y in test_dataloader:\n",
    "#         y = y.view(-1, 1)\n",
    "#         log_prob.append(flow.log_prob(x, y))\n",
    "# med_flow_test = np.median(torch.hstack(log_prob).numpy()).round(2)\n",
    "# mean_flow_test = np.mean(torch.hstack(log_prob).numpy()).round(2)"
   ]
  },
  {
   "cell_type": "code",
   "execution_count": null,
   "metadata": {},
   "outputs": [],
   "source": []
  },
  {
   "cell_type": "code",
   "execution_count": null,
   "metadata": {},
   "outputs": [],
   "source": [
    "for dataset in [\n",
    "    MoonsDataset(\"../data/moons.csv\"),\n",
    "    LawDataset(\"../data/law.csv\"),\n",
    "    HelocDataset(\"../data/heloc.csv\"),\n",
    "    AuditDataset(\"../data/audit.csv\"),\n",
    "]:\n",
    "    train_dataloader = dataset.train_dataloader(\n",
    "        batch_size=128, shuffle=True, noise_lvl=0\n",
    "    )\n",
    "    test_dataloader = dataset.test_dataloader(batch_size=128, shuffle=False)\n",
    "    kde = KDE(bandwidth=0.1)\n",
    "    kde.fit(train_dataloader)\n",
    "    log_prob = []\n",
    "    for x, y in train_dataloader:\n",
    "        log_prob.append(kde.log_prob(x, y))\n",
    "    med_kde_train = np.median(torch.hstack(log_prob).numpy()).round(2)\n",
    "    mean_kde_train = np.mean(torch.hstack(log_prob).numpy()).round(2)\n",
    "\n",
    "    log_prob = []\n",
    "    for x, y in test_dataloader:\n",
    "        log_prob.append(kde.log_prob(x, y))\n",
    "    med_kde_test = np.median(torch.hstack(log_prob).numpy()).round(2)\n",
    "    mean_kde_test = np.mean(torch.hstack(log_prob).numpy()).round(2)\n",
    "\n",
    "    flow = torch.load(\n",
    "        f\"../models/gen_model_FLOW_orig_{str(dataset).split(' ')[0].split('.')[-1]}.pt\"\n",
    "    )\n",
    "    print(\n",
    "        f\"../models/gen_model_FLOW_orig_{str(dataset).split(' ')[0].split('.')[-1]}.pt\"\n",
    "    )\n",
    "    with torch.no_grad():\n",
    "        log_prob = []\n",
    "        with torch.no_grad():\n",
    "            for x, y in train_dataloader:\n",
    "                y = y.view(-1, 1)\n",
    "                log_prob.append(flow.log_prob(x, y).squeeze())\n",
    "        med_flow_train = np.median(torch.hstack(log_prob).numpy()).round(2)\n",
    "        mean_flow_train = np.mean(torch.hstack(log_prob).numpy()).round(2)\n",
    "\n",
    "        log_prob = []\n",
    "        with torch.no_grad():\n",
    "            for x, y in test_dataloader:\n",
    "                y = y.view(-1, 1)\n",
    "                log_prob.append(flow.log_prob(x, y).squeeze())\n",
    "        med_flow_test = np.median(torch.hstack(log_prob).numpy()).round(2)\n",
    "        mean_flow_test = np.mean(torch.hstack(log_prob).numpy()).round(2)\n",
    "\n",
    "    print(str(dataset))\n",
    "    print(\"mean table\")\n",
    "    print(\n",
    "        f\"{mean_kde_train:.2f}, {mean_kde_test:.2f}, {mean_flow_train:.2f}, {mean_flow_test:.2f}\"\n",
    "    )\n",
    "    print(\"median table\")\n",
    "    print(\n",
    "        f\"{med_kde_train:.2f}, {med_kde_test:.2f}, {med_flow_train:.2f}, {med_flow_test:.2f}\"\n",
    "    )"
   ]
  },
  {
   "cell_type": "code",
   "execution_count": null,
   "metadata": {},
   "outputs": [],
   "source": []
  }
 ],
 "metadata": {
  "kernelspec": {
   "display_name": "venv",
   "language": "python",
   "name": "python3"
  },
  "language_info": {
   "codemirror_mode": {
    "name": "ipython",
    "version": 3
   },
   "file_extension": ".py",
   "mimetype": "text/x-python",
   "name": "python",
   "nbconvert_exporter": "python",
   "pygments_lexer": "ipython3",
   "version": "3.10.16"
  }
 },
 "nbformat": 4,
 "nbformat_minor": 2
}
