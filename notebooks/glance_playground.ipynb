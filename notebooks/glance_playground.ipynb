{
 "cells": [
  {
   "cell_type": "code",
   "execution_count": 1,
   "metadata": {},
   "outputs": [],
   "source": [
    "%load_ext autoreload\n",
    "%autoreload 2"
   ]
  },
  {
   "cell_type": "code",
   "execution_count": 2,
   "metadata": {},
   "outputs": [],
   "source": [
    "import numpy as np\n",
    "import torch"
   ]
  },
  {
   "cell_type": "code",
   "execution_count": 3,
   "metadata": {},
   "outputs": [],
   "source": [
    "from counterfactuals.datasets import HelocDataset\n",
    "from counterfactuals.discriminative_models import MultilayerPerceptron"
   ]
  },
  {
   "cell_type": "code",
   "execution_count": 4,
   "metadata": {},
   "outputs": [],
   "source": [
    "dataset = HelocDataset(\"../data/heloc.csv\")"
   ]
  },
  {
   "cell_type": "code",
   "execution_count": 5,
   "metadata": {},
   "outputs": [
    {
     "name": "stderr",
     "output_type": "stream",
     "text": [
      "/Users/lukasz/Genwro/counterfactuals/counterfactuals/discriminative_models/multilayer_perceptron.py:109: FutureWarning: You are using `torch.load` with `weights_only=False` (the current default value), which uses the default pickle module implicitly. It is possible to construct malicious pickle data which will execute arbitrary code during unpickling (See https://github.com/pytorch/pytorch/blob/main/SECURITY.md#untrusted-models for more details). In a future release, the default value for `weights_only` will be flipped to `True`. This limits the functions that could be executed during unpickling. Arbitrary objects will no longer be allowed to be loaded via this mode unless they are explicitly allowlisted by the user via `torch.serialization.add_safe_globals`. We recommend you start setting `weights_only=True` for any use case where you don't have full control of the loaded file. Please open an issue on GitHub for any issues related to this experimental feature.\n",
      "  self.load_state_dict(torch.load(path))\n"
     ]
    }
   ],
   "source": [
    "disc_model = MultilayerPerceptron(dataset.X_test.shape[1], [512, 512], 2)\n",
    "disc_model.load(\"heloc_disc_model.pt\")"
   ]
  },
  {
   "cell_type": "code",
   "execution_count": 6,
   "metadata": {},
   "outputs": [],
   "source": [
    "class DiscModelWrapper:\n",
    "    def __init__(self, model):\n",
    "        self.model = model\n",
    "        self.model_type = \"classifier\"\n",
    "\n",
    "    def get_output(\n",
    "        self, input_instance, model_score=True, transform_data=False, out_tensor=False\n",
    "    ):\n",
    "        \"\"\"returns prediction probabilities\n",
    "\n",
    "        :param input_tensor: test input.\n",
    "        :param transform_data: boolean to indicate if data transformation is required.\n",
    "        \"\"\"\n",
    "        input_tensor = input_instance\n",
    "        if not torch.is_tensor(input_instance):\n",
    "            input_tensor = torch.tensor(input_instance.to_numpy()).float()\n",
    "        out = self.model(input_tensor).float()\n",
    "        if not out_tensor:\n",
    "            out = out.data.numpy()\n",
    "        if model_score is False:\n",
    "            out = np.round(out)  # TODO need to generalize for n-class classifier\n",
    "        return out"
   ]
  },
  {
   "cell_type": "code",
   "execution_count": 7,
   "metadata": {},
   "outputs": [
    {
     "name": "stderr",
     "output_type": "stream",
     "text": [
      "/Users/lukasz/miniconda3/envs/globe-ce/lib/python3.11/site-packages/tqdm/auto.py:21: TqdmWarning: IProgress not found. Please update jupyter and ipywidgets. See https://ipywidgets.readthedocs.io/en/stable/user_install.html\n",
      "  from .autonotebook import tqdm as notebook_tqdm\n",
      "/Users/lukasz/Genwro/DiCE/dice_ml/model_interfaces/pytorch_model.py:27: FutureWarning: You are using `torch.load` with `weights_only=False` (the current default value), which uses the default pickle module implicitly. It is possible to construct malicious pickle data which will execute arbitrary code during unpickling (See https://github.com/pytorch/pytorch/blob/main/SECURITY.md#untrusted-models for more details). In a future release, the default value for `weights_only` will be flipped to `True`. This limits the functions that could be executed during unpickling. Arbitrary objects will no longer be allowed to be loaded via this mode unless they are explicitly allowlisted by the user via `torch.serialization.add_safe_globals`. We recommend you start setting `weights_only=True` for any use case where you don't have full control of the loaded file. Please open an issue on GitHub for any issues related to this experimental feature.\n",
      "  self.model = torch.load(self.model_path)\n",
      " 83%|████████▎ | 1648/1975 [03:24<00:45,  7.15it/s]"
     ]
    },
    {
     "name": "stdout",
     "output_type": "stream",
     "text": [
      "No Counterfactuals found for the given configuration, perhaps try with different parameters... ; total time taken: 00 min 00 sec\n"
     ]
    },
    {
     "name": "stderr",
     "output_type": "stream",
     "text": [
      "100%|██████████| 1975/1975 [04:08<00:00,  7.96it/s]\n"
     ]
    },
    {
     "ename": "AttributeError",
     "evalue": "'NoneType' object has no attribute 'to_numpy'",
     "output_type": "error",
     "traceback": [
      "\u001b[0;31m---------------------------------------------------------------------------\u001b[0m",
      "\u001b[0;31mAttributeError\u001b[0m                            Traceback (most recent call last)",
      "Cell \u001b[0;32mIn[7], line 6\u001b[0m\n\u001b[1;32m      3\u001b[0m model \u001b[38;5;241m=\u001b[39m DiscModelWrapper(disc_model)\n\u001b[1;32m      5\u001b[0m global_glance \u001b[38;5;241m=\u001b[39m Glance(dataset, model)\n\u001b[0;32m----> 6\u001b[0m \u001b[43mglobal_glance\u001b[49m\u001b[38;5;241;43m.\u001b[39;49m\u001b[43mprep\u001b[49m\u001b[43m(\u001b[49m\u001b[43mmethod_to_use\u001b[49m\u001b[38;5;241;43m=\u001b[39;49m\u001b[38;5;124;43m\"\u001b[39;49m\u001b[38;5;124;43mdice\u001b[39;49m\u001b[38;5;124;43m\"\u001b[39;49m\u001b[43m)\u001b[49m\n\u001b[1;32m      8\u001b[0m merge_history \u001b[38;5;241m=\u001b[39m global_glance\u001b[38;5;241m.\u001b[39mget_merge_history()\n\u001b[1;32m      9\u001b[0m action_full_history \u001b[38;5;241m=\u001b[39m global_glance\u001b[38;5;241m.\u001b[39mget_action_full_history()\n",
      "File \u001b[0;32m~/Genwro/counterfactuals/counterfactuals/cf_methods/glance/glance.py:77\u001b[0m, in \u001b[0;36mGlobalGLANCE.prep\u001b[0;34m(self, method_to_use)\u001b[0m\n\u001b[1;32m     71\u001b[0m \u001b[38;5;28;01mif\u001b[39;00m method_to_use \u001b[38;5;241m==\u001b[39m \u001b[38;5;124m\"\u001b[39m\u001b[38;5;124mdice\u001b[39m\u001b[38;5;124m\"\u001b[39m:\n\u001b[1;32m     72\u001b[0m     \u001b[38;5;28mself\u001b[39m\u001b[38;5;241m.\u001b[39mexplainer \u001b[38;5;241m=\u001b[39m DiceExplainerWrapper(\n\u001b[1;32m     73\u001b[0m         \u001b[38;5;28mself\u001b[39m\u001b[38;5;241m.\u001b[39mdataset,\n\u001b[1;32m     74\u001b[0m         \u001b[38;5;28mself\u001b[39m\u001b[38;5;241m.\u001b[39mmodel,\n\u001b[1;32m     75\u001b[0m     )\n\u001b[0;32m---> 77\u001b[0m \u001b[38;5;28;43mself\u001b[39;49m\u001b[38;5;241;43m.\u001b[39;49m\u001b[43m__perform\u001b[49m\u001b[43m(\u001b[49m\u001b[43m)\u001b[49m\n",
      "File \u001b[0;32m~/Genwro/counterfactuals/counterfactuals/cf_methods/glance/glance.py:102\u001b[0m, in \u001b[0;36mGlobalGLANCE.__perform\u001b[0;34m(self)\u001b[0m\n\u001b[1;32m    100\u001b[0m \u001b[38;5;28;01mfor\u001b[39;00m _m \u001b[38;5;129;01min\u001b[39;00m \u001b[38;5;28mrange\u001b[39m(\u001b[38;5;28mself\u001b[39m\u001b[38;5;241m.\u001b[39mm):\n\u001b[1;32m    101\u001b[0m     query_instance \u001b[38;5;241m=\u001b[39m \u001b[38;5;28mself\u001b[39m\u001b[38;5;241m.\u001b[39m__np_to_pd(c)\n\u001b[0;32m--> 102\u001b[0m     counterfactual \u001b[38;5;241m=\u001b[39m \u001b[38;5;28;43mself\u001b[39;49m\u001b[38;5;241;43m.\u001b[39;49m\u001b[43mexplainer\u001b[49m\u001b[38;5;241;43m.\u001b[39;49m\u001b[43mgenerate\u001b[49m\u001b[43m(\u001b[49m\u001b[43mquery_instance\u001b[49m\u001b[43m)\u001b[49m\n\u001b[1;32m    103\u001b[0m     vec \u001b[38;5;241m=\u001b[39m counterfactual \u001b[38;5;241m-\u001b[39m c\n\u001b[1;32m    104\u001b[0m     \u001b[38;5;28;01mif\u001b[39;00m \u001b[38;5;28mlen\u001b[39m(vec\u001b[38;5;241m.\u001b[39mshape) \u001b[38;5;241m==\u001b[39m \u001b[38;5;241m2\u001b[39m:\n",
      "File \u001b[0;32m~/Genwro/counterfactuals/counterfactuals/cf_methods/glance/glance.py:39\u001b[0m, in \u001b[0;36mDiceExplainerWrapper.generate\u001b[0;34m(self, query_instance)\u001b[0m\n\u001b[1;32m     32\u001b[0m query_instance \u001b[38;5;241m=\u001b[39m pd\u001b[38;5;241m.\u001b[39mDataFrame(\n\u001b[1;32m     33\u001b[0m     \u001b[38;5;28mself\u001b[39m\u001b[38;5;241m.\u001b[39mdataset\u001b[38;5;241m.\u001b[39mX_test, columns\u001b[38;5;241m=\u001b[39m\u001b[38;5;28mself\u001b[39m\u001b[38;5;241m.\u001b[39mdataset\u001b[38;5;241m.\u001b[39mfeatures[:\u001b[38;5;241m-\u001b[39m\u001b[38;5;241m1\u001b[39m]\n\u001b[1;32m     34\u001b[0m )\n\u001b[1;32m     35\u001b[0m dice_exp \u001b[38;5;241m=\u001b[39m \u001b[38;5;28mself\u001b[39m\u001b[38;5;241m.\u001b[39mexp\u001b[38;5;241m.\u001b[39mgenerate_counterfactuals(\n\u001b[1;32m     36\u001b[0m     query_instance, total_CFs\u001b[38;5;241m=\u001b[39m\u001b[38;5;241m1\u001b[39m, desired_class\u001b[38;5;241m=\u001b[39m\u001b[38;5;124m\"\u001b[39m\u001b[38;5;124mopposite\u001b[39m\u001b[38;5;124m\"\u001b[39m\n\u001b[1;32m     37\u001b[0m )\n\u001b[1;32m     38\u001b[0m all_examples \u001b[38;5;241m=\u001b[39m np\u001b[38;5;241m.\u001b[39mconcatenate(\n\u001b[0;32m---> 39\u001b[0m     \u001b[43m[\u001b[49m\u001b[43mexample\u001b[49m\u001b[38;5;241;43m.\u001b[39;49m\u001b[43mfinal_cfs_df\u001b[49m\u001b[38;5;241;43m.\u001b[39;49m\u001b[43mto_numpy\u001b[49m\u001b[43m(\u001b[49m\u001b[43m)\u001b[49m\u001b[43m \u001b[49m\u001b[38;5;28;43;01mfor\u001b[39;49;00m\u001b[43m \u001b[49m\u001b[43mexample\u001b[49m\u001b[43m \u001b[49m\u001b[38;5;129;43;01min\u001b[39;49;00m\u001b[43m \u001b[49m\u001b[43mdice_exp\u001b[49m\u001b[38;5;241;43m.\u001b[39;49m\u001b[43mcf_examples_list\u001b[49m\u001b[43m]\u001b[49m\n\u001b[1;32m     40\u001b[0m )\n\u001b[1;32m     41\u001b[0m \u001b[38;5;28;01mreturn\u001b[39;00m all_examples\n",
      "File \u001b[0;32m~/Genwro/counterfactuals/counterfactuals/cf_methods/glance/glance.py:39\u001b[0m, in \u001b[0;36m<listcomp>\u001b[0;34m(.0)\u001b[0m\n\u001b[1;32m     32\u001b[0m query_instance \u001b[38;5;241m=\u001b[39m pd\u001b[38;5;241m.\u001b[39mDataFrame(\n\u001b[1;32m     33\u001b[0m     \u001b[38;5;28mself\u001b[39m\u001b[38;5;241m.\u001b[39mdataset\u001b[38;5;241m.\u001b[39mX_test, columns\u001b[38;5;241m=\u001b[39m\u001b[38;5;28mself\u001b[39m\u001b[38;5;241m.\u001b[39mdataset\u001b[38;5;241m.\u001b[39mfeatures[:\u001b[38;5;241m-\u001b[39m\u001b[38;5;241m1\u001b[39m]\n\u001b[1;32m     34\u001b[0m )\n\u001b[1;32m     35\u001b[0m dice_exp \u001b[38;5;241m=\u001b[39m \u001b[38;5;28mself\u001b[39m\u001b[38;5;241m.\u001b[39mexp\u001b[38;5;241m.\u001b[39mgenerate_counterfactuals(\n\u001b[1;32m     36\u001b[0m     query_instance, total_CFs\u001b[38;5;241m=\u001b[39m\u001b[38;5;241m1\u001b[39m, desired_class\u001b[38;5;241m=\u001b[39m\u001b[38;5;124m\"\u001b[39m\u001b[38;5;124mopposite\u001b[39m\u001b[38;5;124m\"\u001b[39m\n\u001b[1;32m     37\u001b[0m )\n\u001b[1;32m     38\u001b[0m all_examples \u001b[38;5;241m=\u001b[39m np\u001b[38;5;241m.\u001b[39mconcatenate(\n\u001b[0;32m---> 39\u001b[0m     [\u001b[43mexample\u001b[49m\u001b[38;5;241;43m.\u001b[39;49m\u001b[43mfinal_cfs_df\u001b[49m\u001b[38;5;241;43m.\u001b[39;49m\u001b[43mto_numpy\u001b[49m() \u001b[38;5;28;01mfor\u001b[39;00m example \u001b[38;5;129;01min\u001b[39;00m dice_exp\u001b[38;5;241m.\u001b[39mcf_examples_list]\n\u001b[1;32m     40\u001b[0m )\n\u001b[1;32m     41\u001b[0m \u001b[38;5;28;01mreturn\u001b[39;00m all_examples\n",
      "\u001b[0;31mAttributeError\u001b[0m: 'NoneType' object has no attribute 'to_numpy'"
     ]
    }
   ],
   "source": [
    "from counterfactuals.cf_methods.glance import Glance\n",
    "\n",
    "model = DiscModelWrapper(disc_model)\n",
    "\n",
    "global_glance = Glance(dataset, model)\n",
    "global_glance.prep(method_to_use=\"dice\")\n",
    "\n",
    "merge_history = global_glance.get_merge_history()\n",
    "action_full_history = global_glance.get_action_full_history()"
   ]
  }
 ],
 "metadata": {
  "kernelspec": {
   "display_name": "globe-ce",
   "language": "python",
   "name": "python3"
  },
  "language_info": {
   "codemirror_mode": {
    "name": "ipython",
    "version": 3
   },
   "file_extension": ".py",
   "mimetype": "text/x-python",
   "name": "python",
   "nbconvert_exporter": "python",
   "pygments_lexer": "ipython3",
   "version": "3.11.9"
  }
 },
 "nbformat": 4,
 "nbformat_minor": 2
}
