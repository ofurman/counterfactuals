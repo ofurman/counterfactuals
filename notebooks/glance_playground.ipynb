{
 "cells": [
  {
   "cell_type": "code",
   "execution_count": 2,
   "metadata": {},
   "outputs": [],
   "source": [
    "%load_ext autoreload\n",
    "%autoreload 2"
   ]
  },
  {
   "cell_type": "code",
   "execution_count": 3,
   "metadata": {},
   "outputs": [],
   "source": [
    "from counterfactuals.datasets import HelocDataset\n",
    "from counterfactuals.discriminative_models import MultilayerPerceptron"
   ]
  },
  {
   "cell_type": "code",
   "execution_count": 4,
   "metadata": {},
   "outputs": [],
   "source": [
    "dataset = HelocDataset(\"../data/heloc.csv\")"
   ]
  },
  {
   "cell_type": "code",
   "execution_count": 5,
   "metadata": {},
   "outputs": [
    {
     "name": "stderr",
     "output_type": "stream",
     "text": [
      "/home/lukasz/genwro/counterfactuals/counterfactuals/discriminative_models/multilayer_perceptron.py:109: FutureWarning: You are using `torch.load` with `weights_only=False` (the current default value), which uses the default pickle module implicitly. It is possible to construct malicious pickle data which will execute arbitrary code during unpickling (See https://github.com/pytorch/pytorch/blob/main/SECURITY.md#untrusted-models for more details). In a future release, the default value for `weights_only` will be flipped to `True`. This limits the functions that could be executed during unpickling. Arbitrary objects will no longer be allowed to be loaded via this mode unless they are explicitly allowlisted by the user via `torch.serialization.add_safe_globals`. We recommend you start setting `weights_only=True` for any use case where you don't have full control of the loaded file. Please open an issue on GitHub for any issues related to this experimental feature.\n",
      "  self.load_state_dict(torch.load(path))\n"
     ]
    }
   ],
   "source": [
    "disc_model = MultilayerPerceptron(dataset.X_test.shape[1], [512, 512], 2)\n",
    "disc_model.load(\"heloc_disc_model.pt\")"
   ]
  },
  {
   "cell_type": "code",
   "execution_count": 6,
   "metadata": {},
   "outputs": [
    {
     "data": {
      "text/plain": [
       "MultilayerPerceptron(\n",
       "  (layers): ModuleList(\n",
       "    (0): Linear(in_features=23, out_features=512, bias=True)\n",
       "    (1): Linear(in_features=512, out_features=512, bias=True)\n",
       "    (2): Linear(in_features=512, out_features=2, bias=True)\n",
       "  )\n",
       "  (relu): ReLU()\n",
       "  (dropout): Dropout(p=0.2, inplace=False)\n",
       "  (final_activation): Softmax(dim=1)\n",
       "  (criterion): CrossEntropyLoss()\n",
       ")"
      ]
     },
     "execution_count": 6,
     "metadata": {},
     "output_type": "execute_result"
    }
   ],
   "source": [
    "disc_model"
   ]
  },
  {
   "cell_type": "code",
   "execution_count": 21,
   "metadata": {},
   "outputs": [],
   "source": [
    "dataset.y_train = disc_model.predict(dataset.X_train).detach().numpy()\n",
    "dataset.y_test = disc_model.predict(dataset.X_test).detach().numpy()"
   ]
  },
  {
   "cell_type": "code",
   "execution_count": 24,
   "metadata": {},
   "outputs": [
    {
     "name": "stderr",
     "output_type": "stream",
     "text": [
      "100%|██████████| 1/1 [00:00<00:00,  9.35it/s]\n",
      "100%|██████████| 1/1 [00:00<00:00,  9.24it/s]\n",
      "100%|██████████| 1/1 [00:00<00:00,  9.14it/s]\n",
      "100%|██████████| 1/1 [00:00<00:00,  7.69it/s]\n",
      "100%|██████████| 1/1 [00:00<00:00,  6.55it/s]\n",
      "100%|██████████| 1/1 [00:00<00:00,  8.43it/s]\n",
      "100%|██████████| 1/1 [00:00<00:00,  9.25it/s]\n",
      "100%|██████████| 1/1 [00:00<00:00,  9.10it/s]\n",
      "100%|██████████| 1/1 [00:00<00:00,  8.53it/s]\n",
      "100%|██████████| 1/1 [00:00<00:00,  9.22it/s]\n",
      "100%|██████████| 1/1 [00:00<00:00,  8.34it/s]\n",
      "100%|██████████| 1/1 [00:00<00:00,  7.77it/s]\n",
      "100%|██████████| 1/1 [00:00<00:00,  6.89it/s]\n",
      "100%|██████████| 1/1 [00:00<00:00,  6.86it/s]\n",
      "100%|██████████| 1/1 [00:00<00:00,  7.93it/s]\n",
      "100%|██████████| 1/1 [00:00<00:00,  8.81it/s]\n",
      "100%|██████████| 1/1 [00:00<00:00,  9.00it/s]\n",
      "100%|██████████| 1/1 [00:00<00:00,  8.36it/s]\n",
      "100%|██████████| 1/1 [00:00<00:00,  9.12it/s]\n",
      "100%|██████████| 1/1 [00:00<00:00,  9.33it/s]\n",
      "100%|██████████| 1/1 [00:00<00:00,  7.48it/s]\n",
      "100%|██████████| 1/1 [00:00<00:00,  8.15it/s]\n",
      "100%|██████████| 1/1 [00:00<00:00,  5.91it/s]\n",
      "100%|██████████| 1/1 [00:00<00:00,  6.70it/s]\n",
      "100%|██████████| 1/1 [00:00<00:00,  7.57it/s]\n",
      "100%|██████████| 1/1 [00:00<00:00,  8.45it/s]\n",
      "100%|██████████| 1/1 [00:00<00:00,  8.47it/s]\n",
      "100%|██████████| 1/1 [00:00<00:00,  9.08it/s]\n",
      "100%|██████████| 1/1 [00:00<00:00,  5.80it/s]\n",
      "100%|██████████| 1/1 [00:00<00:00,  4.70it/s]\n"
     ]
    },
    {
     "name": "stdout",
     "output_type": "stream",
     "text": [
      "Validity: \n"
     ]
    },
    {
     "data": {
      "text/plain": [
       "tensor(0.9416)"
      ]
     },
     "execution_count": 24,
     "metadata": {},
     "output_type": "execute_result"
    }
   ],
   "source": [
    "from counterfactuals.cf_methods.glance import GlobalGLANCE\n",
    "\n",
    "global_glance = GlobalGLANCE(dataset, disc_model, k=30, m=1, s=4)\n",
    "global_glance.prep()\n",
    "X_cfs = global_glance.explain()\n",
    "print(\"Validity: \")\n",
    "disc_model.predict(X_cfs).sum() / X_cfs.shape[0]"
   ]
  }
 ],
 "metadata": {
  "kernelspec": {
   "display_name": "cf",
   "language": "python",
   "name": "python3"
  },
  "language_info": {
   "codemirror_mode": {
    "name": "ipython",
    "version": 3
   },
   "file_extension": ".py",
   "mimetype": "text/x-python",
   "name": "python",
   "nbconvert_exporter": "python",
   "pygments_lexer": "ipython3",
   "version": "3.11.9"
  }
 },
 "nbformat": 4,
 "nbformat_minor": 2
}
