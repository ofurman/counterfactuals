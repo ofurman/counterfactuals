{
 "cells": [
  {
   "cell_type": "code",
   "execution_count": null,
   "metadata": {},
   "outputs": [],
   "source": [
    "import matplotlib.pyplot as plt\n",
    "import sklearn.datasets as datasets\n",
    "import numpy as np\n",
    "from scipy.optimize import minimize\n",
    "\n",
    "import torch\n",
    "import torch.optim as optim\n",
    "\n",
    "from nflows.flows import MaskedAutoregressiveFlow"
   ]
  },
  {
   "cell_type": "code",
   "execution_count": null,
   "metadata": {},
   "outputs": [],
   "source": [
    "x, y = datasets.make_moons(512, noise=0.1)\n",
    "plt.scatter(x[:, 0], x[:, 1], c=y);"
   ]
  },
  {
   "cell_type": "code",
   "execution_count": null,
   "metadata": {},
   "outputs": [],
   "source": [
    "flow = MaskedAutoregressiveFlow(features=2, hidden_features=4, context_features=1)\n",
    "optimizer = optim.Adam(flow.parameters())"
   ]
  },
  {
   "cell_type": "code",
   "execution_count": null,
   "metadata": {},
   "outputs": [],
   "source": [
    "num_iter = 3000\n",
    "for i in range(num_iter):\n",
    "    x, y = datasets.make_moons(128, noise=0.1)\n",
    "    x = torch.tensor(x, dtype=torch.float32)\n",
    "    y = torch.tensor(y, dtype=torch.float32).reshape(-1, 1)\n",
    "    optimizer.zero_grad()\n",
    "    loss = -flow.log_prob(inputs=x, context=y).mean()\n",
    "    loss.backward()\n",
    "    optimizer.step()\n",
    "    if (i + 1) % 500 == 0:\n",
    "        print(loss.item())"
   ]
  },
  {
   "cell_type": "markdown",
   "metadata": {},
   "source": [
    "$$agmin\\quad d(x, x’) - \\lambda (log p(x’|y’) - log(p(x’|y=0) + p(x’|y=1)))$$"
   ]
  },
  {
   "cell_type": "code",
   "execution_count": null,
   "metadata": {},
   "outputs": [],
   "source": [
    "y_0 = torch.Tensor([[0.0]])\n",
    "y_1 = torch.Tensor([[1.0]])\n",
    "# x = [0.7,  0.01]\n",
    "x = [1.0, 0.0]\n",
    "\n",
    "\n",
    "def optim_f(x_hat, x_i, model, y_orig, y_hat, alpha=1.0):\n",
    "    with torch.no_grad():\n",
    "        x_i = torch.Tensor([x_i])\n",
    "        x_hat = torch.Tensor([x_hat])\n",
    "        # p_orig = model.log_prob(x_hat, context=y_orig).detach().exp().item()\n",
    "        p_hat = model.log_prob(x_hat, context=y_hat).detach().exp().item()\n",
    "        dist = np.linalg.norm(x_i - x_hat)\n",
    "        return -alpha * p_hat + dist\n",
    "\n",
    "\n",
    "res = minimize(optim_f, x, method=\"Powell\", args=(x, flow, y_0, y_1, 2))\n",
    "res.x"
   ]
  },
  {
   "cell_type": "code",
   "execution_count": null,
   "metadata": {},
   "outputs": [],
   "source": [
    "x_init = torch.Tensor([x])\n",
    "xline = torch.linspace(-1.5, 2.5, 200)\n",
    "yline = torch.linspace(-0.75, 1.25, 200)\n",
    "xgrid, ygrid = torch.meshgrid(xline, yline)\n",
    "xyinput = torch.cat([xgrid.reshape(-1, 1), ygrid.reshape(-1, 1)], dim=1)\n",
    "\n",
    "for i in np.linspace(0.5, 1, 10):\n",
    "    fig, ax = plt.subplots(1, 2)\n",
    "    fig.set_size_inches(12, 5)\n",
    "\n",
    "    with torch.no_grad():\n",
    "        zgrid0 = -flow.log_prob(xyinput, torch.ones(40000, 1)).exp().reshape(200, 200)\n",
    "        zgrid1 = -i * flow.log_prob(xyinput, torch.ones(40000, 1)).exp().reshape(\n",
    "            200, 200\n",
    "        ) + np.linalg.norm(xyinput - x_init.repeat(40000, 1), axis=1).reshape(200, 200)\n",
    "\n",
    "    ax[0].contourf(xgrid.numpy(), ygrid.numpy(), zgrid0.numpy(), levels=20)\n",
    "    ax[1].contourf(xgrid.numpy(), ygrid.numpy(), zgrid1.numpy(), levels=20)\n",
    "    ax[0].scatter(x_init[0, 0], x_init[0, 1], c=\"r\")\n",
    "    ax[1].scatter(x_init[0, 0], x_init[0, 1], c=\"r\")\n",
    "\n",
    "    res = minimize(optim_f, x, method=\"Powell\", args=(x, flow, y_0, y_1, i))\n",
    "    ax[0].arrow(\n",
    "        x[0],\n",
    "        x[1],\n",
    "        res.x[0] - x[0],\n",
    "        res.x[1] - x[1],\n",
    "        width=0.025,\n",
    "        length_includes_head=True,\n",
    "        color=\"C3\",\n",
    "    )\n",
    "    ax[1].arrow(\n",
    "        x[0],\n",
    "        x[1],\n",
    "        res.x[0] - x[0],\n",
    "        res.x[1] - x[1],\n",
    "        width=0.025,\n",
    "        length_includes_head=True,\n",
    "        color=\"C3\",\n",
    "    )\n",
    "    plt.title(f\"Penalty: {i}\")\n",
    "    plt.show()"
   ]
  },
  {
   "cell_type": "markdown",
   "metadata": {},
   "source": [
    "$$ \\beta = 0.01 $$\n",
    "$$\\theta = \\beta + p(x'|y) - p(x'|y') $$\n",
    "$$agmin\\quad d(x, x’) - \\alpha*max(\\theta, 0)$$"
   ]
  },
  {
   "cell_type": "code",
   "execution_count": null,
   "metadata": {},
   "outputs": [],
   "source": [
    "y_0 = torch.Tensor([[0.0]])\n",
    "y_1 = torch.Tensor([[1.0]])\n",
    "# x = [0.7,  0.01]\n",
    "x = [1.0, 0.0]\n",
    "print(flow.log_prob(torch.Tensor([x]), context=y_0).detach().item())\n",
    "\n",
    "\n",
    "def optim_f(x_hat, x_i, model, y_orig, y_hat, alpha=1.0, beta=0.0):\n",
    "    with torch.no_grad():\n",
    "        x_i = torch.Tensor([x_i])\n",
    "        x_hat = torch.Tensor([x_hat])\n",
    "        # p_orig = model.log_prob(x_hat, context=y_orig).detach().item()\n",
    "        p_orig = model.log_prob(x_i, context=y_orig).detach().exp().item()\n",
    "        p_hat = model.log_prob(x_hat, context=y_hat).detach().exp().item()\n",
    "        dist = np.linalg.norm(x_i - x_hat)\n",
    "        theta = beta + np.abs(p_orig - p_hat)\n",
    "        return theta + alpha * dist\n",
    "\n",
    "\n",
    "res = minimize(optim_f, x, method=\"Powell\", args=(x, flow, y_0, y_1, 0.5))\n",
    "\n",
    "res.x, flow.log_prob(torch.Tensor([res.x]), context=y_1).detach().item()"
   ]
  },
  {
   "cell_type": "code",
   "execution_count": null,
   "metadata": {},
   "outputs": [],
   "source": [
    "with torch.no_grad():\n",
    "    samples_zero, log_probs = flow.sample_and_log_prob(512, context=torch.Tensor([[0]]))\n",
    "    samples_one, log_probs = flow.sample_and_log_prob(512, context=torch.ones(1, 1))\n",
    "plt.scatter(samples_zero.squeeze()[:, 0], samples_zero.squeeze()[:, 1], c=\"g\")\n",
    "plt.scatter(samples_one.squeeze()[:, 0], samples_one.squeeze()[:, 1], c=\"b\")\n",
    "plt.arrow(\n",
    "    x[0],\n",
    "    x[1],\n",
    "    res.x[0] - x[0],\n",
    "    res.x[1] - x[1],\n",
    "    width=0.025,\n",
    "    length_includes_head=True,\n",
    "    color=\"C3\",\n",
    ")\n",
    "plt.scatter(x[0], x[1], c=\"r\")"
   ]
  },
  {
   "cell_type": "code",
   "execution_count": null,
   "metadata": {},
   "outputs": [],
   "source": [
    "x_init = torch.Tensor([x])\n",
    "xline = torch.linspace(-1.5, 2.5, 200)\n",
    "yline = torch.linspace(-0.75, 1.25, 200)\n",
    "xgrid, ygrid = torch.meshgrid(xline, yline)\n",
    "xyinput = torch.cat([xgrid.reshape(-1, 1), ygrid.reshape(-1, 1)], dim=1)\n",
    "\n",
    "for i in np.linspace(0, 1, 11):\n",
    "    fig, ax = plt.subplots(1, 2)\n",
    "    fig.set_size_inches(12, 5)\n",
    "\n",
    "    with torch.no_grad():\n",
    "        zgrid0 = -flow.log_prob(xyinput, torch.ones(40000, 1)).exp().reshape(200, 200)\n",
    "\n",
    "        dist = np.linalg.norm(xyinput - x_init.repeat(40000, 1), axis=1).reshape(\n",
    "            200, 200\n",
    "        )\n",
    "        p_orig = flow.log_prob(x_init, context=torch.Tensor([[0]])).exp().item()\n",
    "        p_hat = flow.log_prob(xyinput, torch.ones(40000, 1)).exp().reshape(200, 200)\n",
    "        theta = np.abs(p_orig - p_hat)\n",
    "        zgrid1 = theta + i * dist\n",
    "\n",
    "    ax[0].contourf(xgrid.numpy(), ygrid.numpy(), zgrid0.numpy(), levels=20)\n",
    "    ax[1].contourf(xgrid.numpy(), ygrid.numpy(), zgrid1, levels=20)\n",
    "    ax[0].scatter(x_init[0, 0], x_init[0, 1], c=\"r\")\n",
    "    ax[1].scatter(x_init[0, 0], x_init[0, 1], c=\"r\")\n",
    "\n",
    "    res = minimize(optim_f, x, method=\"Powell\", args=(x, flow, y_0, y_1, i))\n",
    "    ax[0].arrow(\n",
    "        x[0],\n",
    "        x[1],\n",
    "        res.x[0] - x[0],\n",
    "        res.x[1] - x[1],\n",
    "        width=0.025,\n",
    "        length_includes_head=True,\n",
    "        color=\"C3\",\n",
    "    )\n",
    "    ax[1].arrow(\n",
    "        x[0],\n",
    "        x[1],\n",
    "        res.x[0] - x[0],\n",
    "        res.x[1] - x[1],\n",
    "        width=0.025,\n",
    "        length_includes_head=True,\n",
    "        color=\"C3\",\n",
    "    )\n",
    "    plt.title(f\"Penalty: {i}, distance: {np.linalg.norm(x_init - res.x):0.2f}\")\n",
    "    plt.show()"
   ]
  },
  {
   "cell_type": "code",
   "execution_count": null,
   "metadata": {},
   "outputs": [],
   "source": []
  }
 ],
 "metadata": {
  "kernelspec": {
   "display_name": "Python 3",
   "language": "python",
   "name": "python3"
  },
  "language_info": {
   "codemirror_mode": {
    "name": "ipython",
    "version": 3
   },
   "file_extension": ".py",
   "mimetype": "text/x-python",
   "name": "python",
   "nbconvert_exporter": "python",
   "pygments_lexer": "ipython3"
  }
 },
 "nbformat": 4,
 "nbformat_minor": 4
}
