{
 "cells": [
  {
   "cell_type": "code",
   "execution_count": 1,
   "metadata": {},
   "outputs": [],
   "source": [
    "%load_ext autoreload\n",
    "%autoreload 2"
   ]
  },
  {
   "cell_type": "code",
   "execution_count": 6,
   "metadata": {},
   "outputs": [],
   "source": [
    "import torch\n",
    "import numpy as np\n",
    "from counterfactuals.datasets import MoonsDataset\n",
    "from counterfactuals.losses import MulticlassDiscLoss\n",
    "from counterfactuals.cf_methods import PUMAL\n",
    "from counterfactuals.generative_models import MaskedAutoregressiveFlow\n",
    "from counterfactuals.discriminative_models import MultilayerPerceptron\n",
    "from counterfactuals.metrics import CFMetrics"
   ]
  },
  {
   "cell_type": "code",
   "execution_count": 3,
   "metadata": {},
   "outputs": [],
   "source": [
    "dataset = MoonsDataset(\"../data/moons.csv\")"
   ]
  },
  {
   "cell_type": "code",
   "execution_count": 4,
   "metadata": {},
   "outputs": [
    {
     "name": "stderr",
     "output_type": "stream",
     "text": [
      "Epoch 357, Train: 0.0027, test: 0.0330, patience: 100:   7%|▋         | 358/5000 [00:07<01:36, 48.01it/s]\n",
      "/Users/oleksiifurman/Developer/counterfactuals/counterfactuals/discriminative_models/multilayer_perceptron.py:122: FutureWarning: You are using `torch.load` with `weights_only=False` (the current default value), which uses the default pickle module implicitly. It is possible to construct malicious pickle data which will execute arbitrary code during unpickling (See https://github.com/pytorch/pytorch/blob/main/SECURITY.md#untrusted-models for more details). In a future release, the default value for `weights_only` will be flipped to `True`. This limits the functions that could be executed during unpickling. Arbitrary objects will no longer be allowed to be loaded via this mode unless they are explicitly allowlisted by the user via `torch.serialization.add_safe_globals`. We recommend you start setting `weights_only=True` for any use case where you don't have full control of the loaded file. Please open an issue on GitHub for any issues related to this experimental feature.\n",
      "  self.load_state_dict(torch.load(path))\n"
     ]
    },
    {
     "data": {
      "text/plain": [
       "MultilayerPerceptron(\n",
       "  (layers): ModuleList(\n",
       "    (0): Linear(in_features=2, out_features=512, bias=True)\n",
       "    (1): Linear(in_features=512, out_features=512, bias=True)\n",
       "    (2): Linear(in_features=512, out_features=2, bias=True)\n",
       "  )\n",
       "  (relu): ReLU()\n",
       "  (dropout): Dropout(p=0.2, inplace=False)\n",
       "  (final_activation): Softmax(dim=1)\n",
       "  (criterion): CrossEntropyLoss()\n",
       ")"
      ]
     },
     "execution_count": 4,
     "metadata": {},
     "output_type": "execute_result"
    }
   ],
   "source": [
    "disc_model = MultilayerPerceptron(\n",
    "    dataset.X_test.shape[1], [512, 512], dataset.y_test.shape[1]\n",
    ")\n",
    "disc_model.fit(\n",
    "    dataset.train_dataloader(batch_size=128, shuffle=True),\n",
    "    dataset.test_dataloader(batch_size=128, shuffle=False),\n",
    "    epochs=5000,\n",
    "    patience=100,\n",
    "    lr=1e-3,\n",
    ")\n",
    "disc_model.eval()"
   ]
  },
  {
   "cell_type": "code",
   "execution_count": 7,
   "metadata": {},
   "outputs": [
    {
     "name": "stdout",
     "output_type": "stream",
     "text": [
      "Test accuracy: 1.0\n"
     ]
    }
   ],
   "source": [
    "y_pred = disc_model.predict(dataset.X_test).detach().numpy().flatten()\n",
    "print(\"Test accuracy:\", (y_pred == np.argmax(dataset.y_test, axis=1)).mean())"
   ]
  },
  {
   "cell_type": "code",
   "execution_count": 8,
   "metadata": {},
   "outputs": [],
   "source": [
    "dataset.y_train = dataset.y_transformer.transform(\n",
    "    disc_model.predict(dataset.X_train).detach().numpy().reshape(-1, 1)\n",
    ")\n",
    "dataset.y_test = dataset.y_transformer.transform(\n",
    "    disc_model.predict(dataset.X_test).detach().numpy().reshape(-1, 1)\n",
    ")"
   ]
  },
  {
   "cell_type": "code",
   "execution_count": 9,
   "metadata": {},
   "outputs": [
    {
     "name": "stderr",
     "output_type": "stream",
     "text": [
      "Epoch 216, Train: -0.9051, test: -0.9427, patience: 100:  43%|████▎     | 216/500 [00:09<00:12, 22.02it/s]\n",
      "/Users/oleksiifurman/Developer/counterfactuals/counterfactuals/generative_models/maf/maf.py:163: FutureWarning: You are using `torch.load` with `weights_only=False` (the current default value), which uses the default pickle module implicitly. It is possible to construct malicious pickle data which will execute arbitrary code during unpickling (See https://github.com/pytorch/pytorch/blob/main/SECURITY.md#untrusted-models for more details). In a future release, the default value for `weights_only` will be flipped to `True`. This limits the functions that could be executed during unpickling. Arbitrary objects will no longer be allowed to be loaded via this mode unless they are explicitly allowlisted by the user via `torch.serialization.add_safe_globals`. We recommend you start setting `weights_only=True` for any use case where you don't have full control of the loaded file. Please open an issue on GitHub for any issues related to this experimental feature.\n",
      "  self.load_state_dict(torch.load(path))\n"
     ]
    }
   ],
   "source": [
    "gen_model = MaskedAutoregressiveFlow(\n",
    "    features=dataset.X_train.shape[1],\n",
    "    hidden_features=16,\n",
    "    num_blocks_per_layer=2,\n",
    "    num_layers=5,\n",
    "    context_features=2,\n",
    "    batch_norm_within_layers=True,\n",
    "    batch_norm_between_layers=True,\n",
    "    use_random_permutations=True,\n",
    ")\n",
    "train_dataloader = dataset.train_dataloader(\n",
    "    batch_size=256, shuffle=True, noise_lvl=0.03\n",
    ")\n",
    "test_dataloader = dataset.test_dataloader(batch_size=256, shuffle=False)\n",
    "\n",
    "gen_model.fit(\n",
    "    train_dataloader,\n",
    "    train_dataloader,\n",
    "    learning_rate=1e-3,\n",
    "    patience=100,\n",
    "    num_epochs=500,\n",
    "    checkpoint_path=\"moons_flow1.pth\",\n",
    ")"
   ]
  },
  {
   "cell_type": "code",
   "execution_count": 10,
   "metadata": {},
   "outputs": [],
   "source": [
    "source_class = 0\n",
    "target_class = 1\n",
    "X_test_origin = dataset.X_test[np.argmax(dataset.y_test, axis=1) == source_class]\n",
    "y_test_origin = dataset.y_test[np.argmax(dataset.y_test, axis=1) == source_class]"
   ]
  },
  {
   "cell_type": "code",
   "execution_count": 14,
   "metadata": {},
   "outputs": [],
   "source": [
    "cf_method = PUMAL(\n",
    "    X=X_test_origin,\n",
    "    cf_method_type=\"GCE\",\n",
    "    K=6,\n",
    "    gen_model=gen_model,\n",
    "    disc_model=disc_model,\n",
    "    disc_model_criterion=MulticlassDiscLoss(eps=0.01),\n",
    "    not_actionable_features=None,\n",
    "    neptune_run=None,\n",
    ")\n",
    "\n",
    "train_dataloader_for_log_prob = dataset.train_dataloader(batch_size=4096, shuffle=False)\n",
    "log_prob_threshold = torch.quantile(\n",
    "    gen_model.predict_log_prob(train_dataloader_for_log_prob),\n",
    "    0.25,\n",
    ")\n",
    "\n",
    "cf_dataloader = torch.utils.data.DataLoader(\n",
    "    torch.utils.data.TensorDataset(\n",
    "        torch.tensor(X_test_origin).float(),\n",
    "        torch.tensor(y_test_origin).float(),\n",
    "    ),\n",
    "    batch_size=4096,\n",
    "    shuffle=False,\n",
    ")"
   ]
  },
  {
   "cell_type": "code",
   "execution_count": 15,
   "metadata": {},
   "outputs": [
    {
     "name": "stderr",
     "output_type": "stream",
     "text": [
      "loss: 5811.2456, dist: 0.0612, max_inner: 466.0587, loss_disc: 0.0000, delta_loss: 5345.1807:  90%|█████████ | 18019/20000 [01:49<00:12, 164.27it/s]       \n"
     ]
    },
    {
     "data": {
      "text/plain": [
       "{'coverage': 1.0,\n",
       " 'validity': 1.0,\n",
       " 'actionability': 0.0,\n",
       " 'sparsity': 1.0,\n",
       " 'proximity_categorical_hamming': nan,\n",
       " 'proximity_categorical_jaccard': 0.4575844545879927,\n",
       " 'proximity_continuous_manhattan': 0.6115565376505436,\n",
       " 'proximity_continuous_euclidean': 0.4575844545879927,\n",
       " 'proximity_continuous_mad': 3.1594508689584084,\n",
       " 'proximity_l2_jaccard': 0.4575844545879927,\n",
       " 'proximity_mad_hamming': nan,\n",
       " 'prob_plausibility': 0.8737864077669902,\n",
       " 'log_density_cf': 1.5956664,\n",
       " 'log_density_test': 1.3673558,\n",
       " 'lof_scores_cf': 1.0299549,\n",
       " 'lof_scores_test': 1.0530212,\n",
       " 'isolation_forest_scores_cf': 0.006346049550843414,\n",
       " 'isolation_forest_scores_test': 0.003182315741079119}"
      ]
     },
     "execution_count": 15,
     "metadata": {},
     "output_type": "execute_result"
    }
   ],
   "source": [
    "delta, Xs, ys_orig, ys_target = cf_method.explain_dataloader(\n",
    "    dataloader=cf_dataloader,\n",
    "    target_class=target_class,\n",
    "    epochs=20000,\n",
    "    lr=0.01,\n",
    "    patience=500,\n",
    "    alpha_dist=1e-1,\n",
    "    alpha_plaus=10**4,\n",
    "    alpha_class=10**5,\n",
    "    alpha_s=10**4,\n",
    "    alpha_k=10**3,\n",
    "    alpha_d=10**2,\n",
    "    log_prob_threshold=log_prob_threshold,\n",
    ")\n",
    "Xs_cfs = Xs + delta().detach().numpy()\n",
    "\n",
    "metrics = CFMetrics(\n",
    "    X_cf=Xs_cfs,\n",
    "    y_target=ys_target,\n",
    "    X_train=dataset.X_train,\n",
    "    y_train=dataset.y_train,\n",
    "    X_test=X_test_origin,\n",
    "    y_test=y_test_origin,\n",
    "    disc_model=disc_model,\n",
    "    gen_model=gen_model,\n",
    "    continuous_features=list(range(dataset.X_train.shape[1])),\n",
    "    categorical_features=dataset.categorical_features,\n",
    "    prob_plausibility_threshold=log_prob_threshold,\n",
    ")\n",
    "metrics.calc_all_metrics()"
   ]
  },
  {
   "cell_type": "code",
   "execution_count": null,
   "metadata": {},
   "outputs": [],
   "source": []
  }
 ],
 "metadata": {
  "kernelspec": {
   "display_name": "venv",
   "language": "python",
   "name": "python3"
  },
  "language_info": {
   "codemirror_mode": {
    "name": "ipython",
    "version": 3
   },
   "file_extension": ".py",
   "mimetype": "text/x-python",
   "name": "python",
   "nbconvert_exporter": "python",
   "pygments_lexer": "ipython3",
   "version": "3.11.11"
  }
 },
 "nbformat": 4,
 "nbformat_minor": 4
}
