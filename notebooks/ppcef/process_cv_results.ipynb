{
 "cells": [
  {
   "cell_type": "code",
   "execution_count": 1,
   "metadata": {},
   "outputs": [],
   "source": [
    "import pandas as pd"
   ]
  },
  {
   "cell_type": "code",
   "execution_count": 2,
   "metadata": {},
   "outputs": [],
   "source": [
    "INTERESTING_COLUMNS = [\n",
    "    \"model_returned_smth\",\n",
    "    \"valid_cf_disc\",\n",
    "    \"flow_prob_condition_acc\",\n",
    "    \"dissimilarity_proximity_continuous_manhatan\",\n",
    "    \"dissimilarity_proximity_continuous_euclidean\",\n",
    "    \"flow_log_density_cfs\",\n",
    "    \"lof_scores_cfs\",\n",
    "    \"isolation_forest_scores_cfs\",\n",
    "    \"time\",\n",
    "]"
   ]
  },
  {
   "cell_type": "code",
   "execution_count": 16,
   "metadata": {},
   "outputs": [
    {
     "name": "stdout",
     "output_type": "stream",
     "text": [
      "| dataset   |   model_returned_smth |   valid_cf_disc |   flow_prob_condition_acc |   dissimilarity_proximity_continuous_manhatan |   dissimilarity_proximity_continuous_euclidean |   flow_log_density_cfs |   lof_scores_cfs |   isolation_forest_scores_cfs |    time |\n",
      "|:----------|----------------------:|----------------:|--------------------------:|----------------------------------------------:|-----------------------------------------------:|-----------------------:|-----------------:|------------------------------:|--------:|\n",
      "| Moons     |                  1    |            0.86 |                      0.08 |                                          0.49 |                                           0.35 |                  -4.8  |      1.06        |                         -0    |  367.11 |\n",
      "| Law       |                  0.99 |            0.75 |                      0.35 |                                          0.47 |                                           0.32 |                  -0.31 |      1.06        |                          0.02 |  568.73 |\n",
      "| Audit     |                  1    |            0.95 |                      0.1  |                                          1.91 |                                           0.7  |                  10.59 |      6.49074e+06 |                          0.05 |  364.45 |\n",
      "| Heloc     |                  1    |            0.71 |                      0    |                                          0.87 |                                           0.44 |                 -29.99 |      1.1         |                          0.03 | 4263.47 |\n",
      "| Blobs     |                  1    |            1    |                      0    |                                          0.51 |                                           0.37 |                 -11.21 |      1.07        |                         -0.05 | 1034.44 |\n",
      "| Wine      |                  1    |            0.97 |                      0    |                                          1.82 |                                           0.8  |                 -10.26 |      1.1         |                         -0.02 |   84.21 |\n",
      "| Digits    |                  1    |            0.97 |                      0.17 |                                          2.66 |                                           1.23 |                 -19.96 |      1.06        |                          0    |  428.53 |\n"
     ]
    }
   ],
   "source": [
    "df_wach = pd.concat(\n",
    "    [\n",
    "        pd.read_csv(\n",
    "            \"../models/MoonsDataset/metrics_wach.csv\", usecols=INTERESTING_COLUMNS\n",
    "        ),\n",
    "        pd.read_csv(\n",
    "            \"../models/LawDataset/metrics_wach.csv\", usecols=INTERESTING_COLUMNS\n",
    "        ),\n",
    "        pd.read_csv(\n",
    "            \"../models/AuditDataset/metrics_wach.csv\", usecols=INTERESTING_COLUMNS\n",
    "        ),\n",
    "        pd.read_csv(\n",
    "            \"../models/HelocDataset/metrics_wach.csv\", usecols=INTERESTING_COLUMNS\n",
    "        ),\n",
    "        pd.read_csv(\n",
    "            \"../models/BlobsDataset/metrics_wach.csv\", usecols=INTERESTING_COLUMNS\n",
    "        ),\n",
    "        pd.read_csv(\n",
    "            \"../models/WineDataset/metrics_wach.csv\", usecols=INTERESTING_COLUMNS\n",
    "        ),\n",
    "        pd.read_csv(\n",
    "            \"../models/DigitsDataset/metrics_wach.csv\", usecols=INTERESTING_COLUMNS\n",
    "        ),\n",
    "    ]\n",
    ").round(2)\n",
    "df_wach[\"dataset\"] = [\"Moons\", \"Law\", \"Audit\", \"Heloc\", \"Blobs\", \"Wine\", \"Digits\"]\n",
    "df_wach[\"method\"] = \"Wachter\"\n",
    "print(df_wach[[\"dataset\"] + INTERESTING_COLUMNS].to_markdown(index=False))"
   ]
  },
  {
   "cell_type": "code",
   "execution_count": 4,
   "metadata": {},
   "outputs": [
    {
     "name": "stdout",
     "output_type": "stream",
     "text": [
      "|    | dataset   |   model_returned_smth |   valid_cf_disc |   flow_prob_condition_acc |   dissimilarity_proximity_continuous_manhatan |   dissimilarity_proximity_continuous_euclidean |   flow_log_density_cfs |   lof_scores_cfs |   isolation_forest_scores_cfs |   time |\n",
      "|---:|:----------|----------------------:|----------------:|--------------------------:|----------------------------------------------:|-----------------------------------------------:|-----------------------:|-----------------:|------------------------------:|-------:|\n",
      "|  0 | Moons     |                   1   |            1    |                      0.1  |                                          0.26 |                                           0.26 |                  -2.99 |             1.07 |                         -0.02 |   3.42 |\n",
      "|  0 | Law       |                   1   |            1    |                      0.4  |                                          0.16 |                                           0.16 |                   0.72 |             1.06 |                          0.03 |   6.66 |\n",
      "|  0 | Audit     |                   1   |            0.87 |                      0.02 |                                          1.15 |                                           1.04 |                 -60.9  |         44357    |                          0.09 |  97.63 |\n",
      "|  0 | Blobs     |                   1   |            1    |                      0    |                                          0.39 |                                           0.32 |                  -5.58 |            23.47 |                         -0.09 |   3.32 |\n",
      "|  0 | Wine      |                   1   |            0.97 |                      0    |                                          0.84 |                                           0.77 |                 -12.07 |             1.11 |                          0.02 |   7    |\n",
      "|  0 | Digits    |                   0.9 |            0.92 |                      0.06 |                                          3.52 |                                           2.61 |                 -42.65 |             1.06 |                          0.01 | 619.39 |\n"
     ]
    }
   ],
   "source": [
    "df_artelt = pd.concat(\n",
    "    [\n",
    "        pd.read_csv(\n",
    "            \"../models/MoonsDataset/metrics_artelt.csv\", usecols=INTERESTING_COLUMNS\n",
    "        ),\n",
    "        pd.read_csv(\n",
    "            \"../models/LawDataset/metrics_artelt.csv\", usecols=INTERESTING_COLUMNS\n",
    "        ),\n",
    "        pd.read_csv(\n",
    "            \"../models/AuditDataset/metrics_artelt.csv\", usecols=INTERESTING_COLUMNS\n",
    "        ),\n",
    "        # pd.read_csv(\"../models/HelocDataset/metrics_artelt.csv\", usecols=INTERESTING_COLUMNS),\n",
    "        pd.read_csv(\n",
    "            \"../models/BlobsDataset/metrics_artelt.csv\", usecols=INTERESTING_COLUMNS\n",
    "        ),\n",
    "        pd.read_csv(\n",
    "            \"../models/WineDataset/metrics_artelt.csv\", usecols=INTERESTING_COLUMNS\n",
    "        ),\n",
    "        pd.read_csv(\n",
    "            \"../models/DigitsDataset/metrics_artelt.csv\", usecols=INTERESTING_COLUMNS\n",
    "        ),\n",
    "    ]\n",
    ").round(2)\n",
    "df_artelt[\"dataset\"] = [\"Moons\", \"Law\", \"Audit\", \"Blobs\", \"Wine\", \"Digits\"]  # \"Heloc\",\n",
    "df_artelt[\"method\"] = \"Artelt\"\n",
    "print(df_artelt[[\"dataset\"] + INTERESTING_COLUMNS].to_markdown())"
   ]
  },
  {
   "cell_type": "code",
   "execution_count": 26,
   "metadata": {},
   "outputs": [
    {
     "name": "stdout",
     "output_type": "stream",
     "text": [
      "| dataset   |   model_returned_smth |   valid_cf_disc |   flow_prob_condition_acc |   dissimilarity_proximity_continuous_manhatan |   dissimilarity_proximity_continuous_euclidean |   flow_log_density_cfs |   lof_scores_cfs |   isolation_forest_scores_cfs |   time |\n",
      "|:----------|----------------------:|----------------:|--------------------------:|----------------------------------------------:|-----------------------------------------------:|-----------------------:|-----------------:|------------------------------:|-------:|\n",
      "| Moons     |                     1 |            0.86 |                      0.14 |                                          0.88 |                                           0.68 |                  -8.71 |      4.3867e+06  |                          0    |   0.08 |\n",
      "| Law       |                     1 |            0.75 |                      0.11 |                                          0.74 |                                           0.48 |                   0.29 |      3.82483e+06 |                          0.04 |   0.25 |\n",
      "| Audit     |                     1 |            0.95 |                      0.5  |                                          3.39 |                                           1.52 |                  18.88 |      2.24912e+07 |                          0.11 |   0.04 |\n",
      "| Heloc     |                     1 |            0.71 |                      0.57 |                                          2.79 |                                           0.81 |                  28.77 |      1.69134e+06 |                          0.09 |   5.77 |\n",
      "| Blobs     |                     1 |            1    |                      0    |                                          0.72 |                                           0.56 |                 -34.53 |      2.15698e+06 |                          0.02 |   0.12 |\n",
      "| Wine      |                     1 |            0.94 |                      0    |                                          3.49 |                                           1.2  |                  -9.15 |      2.80809e+08 |                          0.06 |   0.01 |\n",
      "| Digits    |                     1 |            1    |                      0    |                                         18.13 |                                           3.31 |                 -40.2  |      8.99945e+07 |                         -0.02 |   0.23 |\n"
     ]
    }
   ],
   "source": [
    "df_cbce = pd.concat(\n",
    "    [\n",
    "        pd.read_csv(\n",
    "            \"../models/MoonsDataset/metrics_cbce.csv\", usecols=INTERESTING_COLUMNS\n",
    "        ),\n",
    "        pd.read_csv(\n",
    "            \"../models/LawDataset/metrics_cbce.csv\", usecols=INTERESTING_COLUMNS\n",
    "        ),\n",
    "        pd.read_csv(\n",
    "            \"../models/AuditDataset/metrics_cbce.csv\", usecols=INTERESTING_COLUMNS\n",
    "        ),\n",
    "        pd.read_csv(\n",
    "            \"../models/HelocDataset/metrics_cbce.csv\", usecols=INTERESTING_COLUMNS\n",
    "        ),\n",
    "        pd.read_csv(\n",
    "            \"../models/BlobsDataset/metrics_cbce.csv\", usecols=INTERESTING_COLUMNS\n",
    "        ),\n",
    "        pd.read_csv(\n",
    "            \"../models/WineDataset/metrics_cbce.csv\", usecols=INTERESTING_COLUMNS\n",
    "        ),\n",
    "        pd.read_csv(\n",
    "            \"../models/DigitsDataset/metrics_cbce.csv\", usecols=INTERESTING_COLUMNS\n",
    "        ),\n",
    "    ]\n",
    ").round(2)\n",
    "df_cbce[\"dataset\"] = [\"Moons\", \"Law\", \"Audit\", \"Heloc\", \"Blobs\", \"Wine\", \"Digits\"]\n",
    "df_cbce[\"method\"] = \"CBCE\"\n",
    "print(df_cbce[[\"dataset\"] + INTERESTING_COLUMNS].to_markdown(index=False))"
   ]
  },
  {
   "cell_type": "code",
   "execution_count": 6,
   "metadata": {},
   "outputs": [
    {
     "name": "stdout",
     "output_type": "stream",
     "text": [
      "| dataset   |   model_returned_smth |   valid_cf_disc |   flow_prob_condition_acc |   dissimilarity_proximity_continuous_manhatan |   dissimilarity_proximity_continuous_euclidean |   flow_log_density_cfs |   lof_scores_cfs |   isolation_forest_scores_cfs |   time |\n",
      "|:----------|----------------------:|----------------:|--------------------------:|----------------------------------------------:|-----------------------------------------------:|-----------------------:|-----------------:|------------------------------:|-------:|\n",
      "| Moons     |                     1 |            0.5  |                      0.85 |                                          0.76 |                                           0.66 |                 -97.04 |      1.07        |                         -0.02 |  -1    |\n",
      "| Law       |                     1 |            0.37 |                      0.49 |                                          0.18 |                                           0.18 |                   1.07 |      1.06        |                          0.04 |  -1    |\n",
      "| Audit     |                     1 |            0.5  |                      0.3  |                                          1.64 |                                           0.58 |                  32.19 |      4.02896e+06 |                          0.05 |  -1    |\n",
      "| Heloc     |                     1 |            0.53 |                      0.35 |                                          0.32 |                                           0.14 |                  23.58 |      1.09        |                          0.05 |  -1    |\n",
      "| Blobs     |                     1 |            1    |                      0    |                                          0.3  |                                           0.24 |                  -3.15 |      1.09        |                         -0.07 | 746.6  |\n",
      "| Wine      |                     1 |            0.94 |                      0.08 |                                          0.91 |                                           0.34 |                   4.55 |      1.07        |                          0.04 |  84.66 |\n",
      "| Digits    |                     1 |            0.97 |                      0.29 |                                          2.51 |                                           0.63 |                  27.2  |      1.05        |                          0.01 | 646.35 |\n"
     ]
    }
   ],
   "source": [
    "df_cegp = pd.concat(\n",
    "    [\n",
    "        pd.read_csv(\n",
    "            \"../models/MoonsDataset/metrics_cegp.csv\", usecols=INTERESTING_COLUMNS\n",
    "        ),\n",
    "        pd.read_csv(\n",
    "            \"../models/LawDataset/metrics_cegp.csv\", usecols=INTERESTING_COLUMNS\n",
    "        ),\n",
    "        pd.read_csv(\n",
    "            \"../models/AuditDataset/metrics_cegp.csv\", usecols=INTERESTING_COLUMNS\n",
    "        ),\n",
    "        pd.read_csv(\n",
    "            \"../models/HelocDataset/metrics_cegp.csv\", usecols=INTERESTING_COLUMNS\n",
    "        ),\n",
    "        pd.read_csv(\n",
    "            \"../models/BlobsDataset/metrics_cegp.csv\", usecols=INTERESTING_COLUMNS\n",
    "        ),\n",
    "        pd.read_csv(\n",
    "            \"../models/WineDataset/metrics_cegp.csv\", usecols=INTERESTING_COLUMNS\n",
    "        ),\n",
    "        pd.read_csv(\n",
    "            \"../models/DigitsDataset/metrics_cegp.csv\", usecols=INTERESTING_COLUMNS\n",
    "        ),\n",
    "    ]\n",
    ").round(2)\n",
    "df_cegp[\"dataset\"] = [\"Moons\", \"Law\", \"Audit\", \"Heloc\", \"Blobs\", \"Wine\", \"Digits\"]\n",
    "df_cegp[\"method\"] = \"CEGP\"\n",
    "print(df_cegp[[\"dataset\"] + INTERESTING_COLUMNS].to_markdown(index=False))"
   ]
  },
  {
   "cell_type": "code",
   "execution_count": 7,
   "metadata": {},
   "outputs": [
    {
     "name": "stdout",
     "output_type": "stream",
     "text": [
      "| dataset   |   model_returned_smth |   valid_cf_disc |   flow_prob_condition_acc |   dissimilarity_proximity_continuous_manhatan |   dissimilarity_proximity_continuous_euclidean |   flow_log_density_cfs |   lof_scores_cfs |   isolation_forest_scores_cfs |   time |\n",
      "|:----------|----------------------:|----------------:|--------------------------:|----------------------------------------------:|-----------------------------------------------:|-----------------------:|-----------------:|------------------------------:|-------:|\n",
      "| Moons     |                  1    |            0.76 |                      0    |                                          1.51 |                                           1.12 |                 -83.29 |             1.19 |                         -0.18 |  -1    |\n",
      "| Law       |                  1    |            0.75 |                      0.16 |                                          0.34 |                                           0.32 |                  -0.75 |             1.06 |                         -0    | 332.12 |\n",
      "| Audit     |                  0.51 |            0.95 |                      0    |                                          1.42 |                                           0.46 |               -2247.9  |         51128    |                         -0.07 | 122.81 |\n",
      "| Heloc     |                  1    |            0.69 |                      0.11 |                                          0.47 |                                           0.26 |                   8.46 |             1.1  |                          0.03 |  -1    |\n",
      "| Blobs     |                  0.94 |            1    |                      0    |                                          0.5  |                                           0.47 |                 -20.01 |             1.09 |                         -0.12 | 294.69 |\n",
      "| Wine      |                  1    |            0.97 |                      0    |                                          1.33 |                                           0.68 |                 -10.33 |             1.13 |                         -0.04 |  34.8  |\n",
      "| Digits    |                  1    |            0.97 |                      0.04 |                                          3.1  |                                           1.08 |                 -67.65 |             1.07 |                         -0.03 | 285.74 |\n"
     ]
    }
   ],
   "source": [
    "df_cem = pd.concat(\n",
    "    [\n",
    "        pd.read_csv(\n",
    "            \"../models/MoonsDataset/metrics_cem.csv\", usecols=INTERESTING_COLUMNS\n",
    "        ),\n",
    "        pd.read_csv(\n",
    "            \"../models/LawDataset/metrics_cem.csv\", usecols=INTERESTING_COLUMNS\n",
    "        ),\n",
    "        pd.read_csv(\n",
    "            \"../models/AuditDataset/metrics_cem.csv\", usecols=INTERESTING_COLUMNS\n",
    "        ),\n",
    "        pd.read_csv(\n",
    "            \"../models/HelocDataset/metrics_cem.csv\", usecols=INTERESTING_COLUMNS\n",
    "        ),\n",
    "        pd.read_csv(\n",
    "            \"../models/BlobsDataset/metrics_cem.csv\", usecols=INTERESTING_COLUMNS\n",
    "        ),\n",
    "        pd.read_csv(\n",
    "            \"../models/WineDataset/metrics_cem.csv\", usecols=INTERESTING_COLUMNS\n",
    "        ),\n",
    "        pd.read_csv(\n",
    "            \"../models/DigitsDataset/metrics_cem.csv\", usecols=INTERESTING_COLUMNS\n",
    "        ),\n",
    "    ]\n",
    ").round(2)\n",
    "df_cem[\"dataset\"] = [\"Moons\", \"Law\", \"Audit\", \"Heloc\", \"Blobs\", \"Wine\", \"Digits\"]\n",
    "df_cem[\"method\"] = \"CEM\"\n",
    "print(df_cem[[\"dataset\"] + INTERESTING_COLUMNS].to_markdown(index=False))"
   ]
  },
  {
   "cell_type": "code",
   "execution_count": 25,
   "metadata": {},
   "outputs": [
    {
     "name": "stdout",
     "output_type": "stream",
     "text": [
      "| dataset   |   model_returned_smth |   valid_cf_disc |   flow_prob_condition_acc |   dissimilarity_proximity_continuous_manhatan |   dissimilarity_proximity_continuous_euclidean |   flow_log_density_cfs |   lof_scores_cfs |   isolation_forest_scores_cfs |   time |\n",
      "|:----------|----------------------:|----------------:|--------------------------:|----------------------------------------------:|-----------------------------------------------:|-----------------------:|-----------------:|------------------------------:|-------:|\n",
      "| Moons     |                     1 |            1    |                      1    |                                          0.45 |                                           0.36 |                   1.76 |      1.15        |                          0.03 |   4.97 |\n",
      "| Law       |                     1 |            1    |                      1    |                                          0.32 |                                           0.19 |                   2.06 |      1.06        |                          0.07 |   4.55 |\n",
      "| Audit     |                     1 |            0.99 |                      0.98 |                                          2.07 |                                           0.74 |                  38.86 |      4.21302e+06 |                          0.07 |   2.87 |\n",
      "| Heloc     |                     1 |            1    |                      1    |                                          1.23 |                                           0.34 |                  33.22 |      1.1         |                          0.09 |  21.13 |\n",
      "| Blobs     |                     1 |            1    |                      1    |                                          0.65 |                                           0.47 |                   2.94 |      1.18        |                          0.05 |   6.37 |\n",
      "| Wine      |                     1 |            1    |                      1    |                                          1.68 |                                           0.53 |                   9.03 |      1.07        |                          0.08 |   3.88 |\n",
      "| Digits    |                     1 |            1    |                      0.99 |                                          8.41 |                                           1.35 |                  42.97 |      1.05        |                          0.02 |   9.16 |\n"
     ]
    }
   ],
   "source": [
    "df_ppcef = pd.concat(\n",
    "    [\n",
    "        pd.read_csv(\"../models/MoonsDataset/metrics.csv\", usecols=INTERESTING_COLUMNS),\n",
    "        pd.read_csv(\"../models/LawDataset/metrics.csv\", usecols=INTERESTING_COLUMNS),\n",
    "        pd.read_csv(\"../models/AuditDataset/metrics.csv\", usecols=INTERESTING_COLUMNS),\n",
    "        pd.read_csv(\"../models/HelocDataset/metrics.csv\", usecols=INTERESTING_COLUMNS),\n",
    "        pd.read_csv(\"../models/BlobsDataset/metrics.csv\", usecols=INTERESTING_COLUMNS),\n",
    "        pd.read_csv(\"../models/WineDataset/metrics.csv\", usecols=INTERESTING_COLUMNS),\n",
    "        pd.read_csv(\"../models/DigitsDataset/metrics.csv\", usecols=INTERESTING_COLUMNS),\n",
    "    ]\n",
    ").round(2)\n",
    "df_ppcef[\"dataset\"] = [\"Moons\", \"Law\", \"Audit\", \"Heloc\", \"Blobs\", \"Wine\", \"Digits\"]\n",
    "print(df_ppcef[[\"dataset\"] + INTERESTING_COLUMNS].to_markdown(index=False))\n",
    "# df_ppcef.to_csv(\"metrics_mlp_maf_ppcef.csv\", index=False)"
   ]
  },
  {
   "cell_type": "code",
   "execution_count": null,
   "metadata": {},
   "outputs": [],
   "source": []
  }
 ],
 "metadata": {
  "kernelspec": {
   "display_name": "venv",
   "language": "python",
   "name": "python3"
  },
  "language_info": {
   "codemirror_mode": {
    "name": "ipython",
    "version": 3
   },
   "file_extension": ".py",
   "mimetype": "text/x-python",
   "name": "python",
   "nbconvert_exporter": "python",
   "pygments_lexer": "ipython3",
   "version": "3.11.8"
  }
 },
 "nbformat": 4,
 "nbformat_minor": 2
}
