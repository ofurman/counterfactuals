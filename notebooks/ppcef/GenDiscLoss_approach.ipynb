{
 "cells": [
  {
   "cell_type": "code",
   "execution_count": null,
   "metadata": {},
   "outputs": [],
   "source": [
    "%load_ext autoreload\n",
    "%autoreload 2"
   ]
  },
  {
   "cell_type": "code",
   "execution_count": null,
   "metadata": {},
   "outputs": [],
   "source": [
    "import torch\n",
    "import numpy as np"
   ]
  },
  {
   "cell_type": "code",
   "execution_count": null,
   "metadata": {},
   "outputs": [],
   "source": [
    "from nflows.flows import MaskedAutoregressiveFlow\n",
    "\n",
    "from counterfactuals.datasets import (\n",
    "    AdultDataset,\n",
    ")\n",
    "from counterfactuals.discriminative_models import LogisticRegression\n",
    "from counterfactuals.optimizers.ppcef import PPCEF\n",
    "\n",
    "from counterfactuals.metrics.metrics import (\n",
    "    evaluate_cf,\n",
    ")\n",
    "from sklearn.metrics import classification_report"
   ]
  },
  {
   "cell_type": "markdown",
   "metadata": {},
   "source": [
    "# Create dataset"
   ]
  },
  {
   "cell_type": "code",
   "execution_count": null,
   "metadata": {},
   "outputs": [],
   "source": [
    "# dataset = CompasDataset(file_path=\"../data/compas_two_years.csv\")\n",
    "dataset = AdultDataset(file_path=\"../data/adult.csv\")\n",
    "# dataset = GermanCreditDataset(file_path=\"../data/german_credit.csv\")"
   ]
  },
  {
   "cell_type": "code",
   "execution_count": null,
   "metadata": {},
   "outputs": [],
   "source": [
    "disc_model = LogisticRegression(dataset.X_train.shape[1], 1)\n",
    "\n",
    "# disc_model = MultilayerPerceptron([dataset.X_train.shape[1], 128, 1])\n",
    "train_dataloader = dataset.train_dataloader(batch_size=128, shuffle=True, noise_lvl=0)\n",
    "disc_model.fit(train_dataloader, epochs=20)\n",
    "print(classification_report(dataset.y_test, disc_model.predict(dataset.X_test)))\n",
    "disc_model.predict(dataset.X_test).shape"
   ]
  },
  {
   "cell_type": "markdown",
   "metadata": {},
   "source": [
    "# Relabeling"
   ]
  },
  {
   "cell_type": "code",
   "execution_count": null,
   "metadata": {},
   "outputs": [],
   "source": [
    "y_pred_train = disc_model.predict(dataset.X_train)\n",
    "y_pred_test = disc_model.predict(dataset.X_test)\n",
    "dataset.y_train = y_pred_train\n",
    "dataset.y_test = y_pred_test\n",
    "\n",
    "# noise_lvl - zaszumianie numerycznych cech treningowego datasetu\n",
    "train_dataloader = dataset.train_dataloader(\n",
    "    batch_size=128, shuffle=True, noise_lvl=1e-5\n",
    ")\n",
    "test_dataloader = dataset.test_dataloader(batch_size=128, shuffle=False)"
   ]
  },
  {
   "cell_type": "markdown",
   "metadata": {},
   "source": [
    "# Create flow model"
   ]
  },
  {
   "cell_type": "code",
   "execution_count": null,
   "metadata": {},
   "outputs": [],
   "source": [
    "# from nflows.flows import SimpleRealNVP\n",
    "\n",
    "# flow = SimpleRealNVP(use_volume_preserving=True, features=dataset.X_train.shape[1], hidden_features=4, context_features=1, num_layers=5)\n",
    "\n",
    "flow = MaskedAutoregressiveFlow(\n",
    "    features=dataset.X_train.shape[1],\n",
    "    hidden_features=4,\n",
    "    num_blocks_per_layer=2,\n",
    "    num_layers=1,\n",
    "    context_features=1,\n",
    ")"
   ]
  },
  {
   "cell_type": "markdown",
   "metadata": {},
   "source": [
    "# Create cf class, train and test flow model"
   ]
  },
  {
   "cell_type": "code",
   "execution_count": null,
   "metadata": {},
   "outputs": [],
   "source": [
    "cf = PPCEF(\n",
    "    gen_model=flow,\n",
    "    disc_model=disc_model,\n",
    "    disc_model_criterion=torch.nn.BCELoss(),\n",
    "    checkpoint_path=\"model.pt\",\n",
    "    neptune_run=None,\n",
    ")"
   ]
  },
  {
   "cell_type": "code",
   "execution_count": null,
   "metadata": {},
   "outputs": [],
   "source": [
    "cf.train_model(\n",
    "    train_loader=train_dataloader,\n",
    "    test_loader=test_dataloader,\n",
    "    epochs=20,\n",
    "    patience=20,\n",
    "    eps=1e-3,  # eps for patience\n",
    ")"
   ]
  },
  {
   "cell_type": "code",
   "execution_count": null,
   "metadata": {},
   "outputs": [],
   "source": [
    "cf.test_model(test_loader=test_dataloader)"
   ]
  },
  {
   "cell_type": "markdown",
   "metadata": {},
   "source": [
    "# Search counterfactuals"
   ]
  },
  {
   "cell_type": "code",
   "execution_count": null,
   "metadata": {},
   "outputs": [],
   "source": [
    "search_step_kwargs = {\n",
    "    \"alpha\": 20,\n",
    "    \"beta\": 0.1,\n",
    "}\n",
    "test_dataloader = dataset.test_dataloader(batch_size=16, shuffle=False)\n",
    "Xs_cf, Xs_orig, ys_orig = cf.search_batch(\n",
    "    dataloader=test_dataloader, epochs=1000, lr=0.005, **search_step_kwargs\n",
    ")"
   ]
  },
  {
   "cell_type": "markdown",
   "metadata": {},
   "source": [
    "# Evaluate"
   ]
  },
  {
   "cell_type": "code",
   "execution_count": null,
   "metadata": {},
   "outputs": [],
   "source": [
    "evaluate_cf(\n",
    "    cf_class=cf,\n",
    "    disc_model=disc_model,\n",
    "    X=Xs_orig,\n",
    "    X_cf=Xs_cf,\n",
    "    model_returned=np.ones(Xs_cf.shape[0]).astype(bool),\n",
    "    continuous_features=dataset.numerical_features,\n",
    "    categorical_features=dataset.categorical_features,\n",
    "    X_train=dataset.X_train,\n",
    "    y_train=dataset.y_train,\n",
    "    X_test=dataset.X_test,\n",
    "    y_test=dataset.y_test,\n",
    ")"
   ]
  },
  {
   "cell_type": "code",
   "execution_count": null,
   "metadata": {},
   "outputs": [],
   "source": []
  }
 ],
 "metadata": {
  "kernelspec": {
   "display_name": "Python 3 (ipykernel)",
   "language": "python",
   "name": "python3"
  },
  "language_info": {
   "codemirror_mode": {
    "name": "ipython",
    "version": 3
   },
   "file_extension": ".py",
   "mimetype": "text/x-python",
   "name": "python",
   "nbconvert_exporter": "python",
   "pygments_lexer": "ipython3"
  }
 },
 "nbformat": 4,
 "nbformat_minor": 4
}
