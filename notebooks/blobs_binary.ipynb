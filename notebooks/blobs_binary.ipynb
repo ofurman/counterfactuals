{
 "cells": [
  {
   "cell_type": "code",
   "execution_count": 1,
   "metadata": {},
   "outputs": [],
   "source": [
    "%load_ext autoreload\n",
    "%autoreload 2"
   ]
  },
  {
   "cell_type": "code",
   "execution_count": 2,
   "metadata": {},
   "outputs": [],
   "source": [
    "from counterfactuals.datasets import WineDataset"
   ]
  },
  {
   "cell_type": "code",
   "execution_count": 3,
   "metadata": {},
   "outputs": [],
   "source": [
    "# ds = BlobsDataset(\"../data/blobs.csv\")\n",
    "ds = WineDataset(\"../data/wine.csv\")"
   ]
  },
  {
   "cell_type": "code",
   "execution_count": 5,
   "metadata": {},
   "outputs": [],
   "source": [
    "ds.raw_data = ds.raw_data[(ds.raw_data[\"Target\"] == 0) | (ds.raw_data[\"Target\"] == 1)]"
   ]
  },
  {
   "cell_type": "code",
   "execution_count": 15,
   "metadata": {},
   "outputs": [
    {
     "data": {
      "text/plain": [
       "['Target',\n",
       " ' Alcohol',\n",
       " ' Malic acid',\n",
       " ' Ash',\n",
       " ' Alcalinity of ash',\n",
       " ' Magnesium',\n",
       " ' Total phenols',\n",
       " ' Flavanoids',\n",
       " ' Nonflavanoid phenols',\n",
       " ' Proanthocyanins',\n",
       " ' Color intensity',\n",
       " ' Hue',\n",
       " ' OD280/OD315 of diluted wines',\n",
       " ' Proline']"
      ]
     },
     "execution_count": 15,
     "metadata": {},
     "output_type": "execute_result"
    }
   ],
   "source": [
    "ds.raw_data.columns.to_list()"
   ]
  },
  {
   "cell_type": "code",
   "execution_count": null,
   "metadata": {},
   "outputs": [
    {
     "data": {
      "text/plain": [
       "array([0, 1])"
      ]
     },
     "execution_count": 7,
     "metadata": {},
     "output_type": "execute_result"
    }
   ],
   "source": [
    "ds.raw_data[\"Target\"].unique()"
   ]
  }
 ],
 "metadata": {
  "kernelspec": {
   "display_name": "cf",
   "language": "python",
   "name": "python3"
  },
  "language_info": {
   "codemirror_mode": {
    "name": "ipython",
    "version": 3
   },
   "file_extension": ".py",
   "mimetype": "text/x-python",
   "name": "python",
   "nbconvert_exporter": "python",
   "pygments_lexer": "ipython3",
   "version": "3.11.9"
  }
 },
 "nbformat": 4,
 "nbformat_minor": 2
}
