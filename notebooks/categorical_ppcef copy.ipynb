{
 "cells": [
  {
   "cell_type": "code",
   "execution_count": 58,
   "metadata": {},
   "outputs": [
    {
     "name": "stdout",
     "output_type": "stream",
     "text": [
      "The autoreload extension is already loaded. To reload it, use:\n",
      "  %reload_ext autoreload\n"
     ]
    }
   ],
   "source": [
    "%load_ext autoreload\n",
    "%autoreload 2"
   ]
  },
  {
   "cell_type": "code",
   "execution_count": 59,
   "metadata": {},
   "outputs": [],
   "source": [
    "import torch\n",
    "import numpy as np\n",
    "\n",
    "from counterfactuals.datasets import LawDataset, AdultDataset\n",
    "from counterfactuals.cf_methods.ppcef import PPCEF\n",
    "from counterfactuals.generative_models import MaskedAutoregressiveFlow\n",
    "from counterfactuals.discriminative_models import MultilayerPerceptron\n",
    "from counterfactuals.losses import MulticlassDiscLoss\n",
    "from counterfactuals.metrics import evaluate_cf"
   ]
  },
  {
   "cell_type": "code",
   "execution_count": 60,
   "metadata": {},
   "outputs": [],
   "source": [
    "datasets = {\n",
    "    \"adult\": (\n",
    "        AdultDataset(\"../data/adult.csv\"),\n",
    "        \"adult_disc_model.pt\",\n",
    "        \"adult_flow.pth\",\n",
    "    ),\n",
    "    \"law\": (LawDataset(\"../data/law.csv\"), \"law_disc_model.pt\", \"law_flow.pth\"),\n",
    "}\n",
    "\n",
    "dataset, disc_model_path, gen_model_path = datasets[\"adult\"]"
   ]
  },
  {
   "cell_type": "code",
   "execution_count": 61,
   "metadata": {},
   "outputs": [],
   "source": [
    "dataset = AdultDataset(\"../data/adult.csv\")"
   ]
  },
  {
   "cell_type": "code",
   "execution_count": 62,
   "metadata": {},
   "outputs": [
    {
     "data": {
      "text/html": [
       "<div>\n",
       "<style scoped>\n",
       "    .dataframe tbody tr th:only-of-type {\n",
       "        vertical-align: middle;\n",
       "    }\n",
       "\n",
       "    .dataframe tbody tr th {\n",
       "        vertical-align: top;\n",
       "    }\n",
       "\n",
       "    .dataframe thead th {\n",
       "        text-align: right;\n",
       "    }\n",
       "</style>\n",
       "<table border=\"1\" class=\"dataframe\">\n",
       "  <thead>\n",
       "    <tr style=\"text-align: right;\">\n",
       "      <th></th>\n",
       "      <th>age</th>\n",
       "      <th>workclass</th>\n",
       "      <th>education</th>\n",
       "      <th>marital_status</th>\n",
       "      <th>occupation</th>\n",
       "      <th>race</th>\n",
       "      <th>gender</th>\n",
       "      <th>hours_per_week</th>\n",
       "      <th>income</th>\n",
       "    </tr>\n",
       "  </thead>\n",
       "  <tbody>\n",
       "    <tr>\n",
       "      <th>0</th>\n",
       "      <td>39</td>\n",
       "      <td>Government</td>\n",
       "      <td>Bachelors</td>\n",
       "      <td>Single</td>\n",
       "      <td>White-Collar</td>\n",
       "      <td>White</td>\n",
       "      <td>Male</td>\n",
       "      <td>40</td>\n",
       "      <td>0</td>\n",
       "    </tr>\n",
       "    <tr>\n",
       "      <th>1</th>\n",
       "      <td>50</td>\n",
       "      <td>Self-Employed</td>\n",
       "      <td>Bachelors</td>\n",
       "      <td>Married</td>\n",
       "      <td>White-Collar</td>\n",
       "      <td>White</td>\n",
       "      <td>Male</td>\n",
       "      <td>13</td>\n",
       "      <td>0</td>\n",
       "    </tr>\n",
       "    <tr>\n",
       "      <th>2</th>\n",
       "      <td>38</td>\n",
       "      <td>Private</td>\n",
       "      <td>HS-grad</td>\n",
       "      <td>Divorced</td>\n",
       "      <td>Blue-Collar</td>\n",
       "      <td>White</td>\n",
       "      <td>Male</td>\n",
       "      <td>40</td>\n",
       "      <td>0</td>\n",
       "    </tr>\n",
       "    <tr>\n",
       "      <th>3</th>\n",
       "      <td>53</td>\n",
       "      <td>Private</td>\n",
       "      <td>School</td>\n",
       "      <td>Married</td>\n",
       "      <td>Blue-Collar</td>\n",
       "      <td>Other</td>\n",
       "      <td>Male</td>\n",
       "      <td>40</td>\n",
       "      <td>0</td>\n",
       "    </tr>\n",
       "    <tr>\n",
       "      <th>4</th>\n",
       "      <td>28</td>\n",
       "      <td>Private</td>\n",
       "      <td>Bachelors</td>\n",
       "      <td>Married</td>\n",
       "      <td>Professional</td>\n",
       "      <td>Other</td>\n",
       "      <td>Female</td>\n",
       "      <td>40</td>\n",
       "      <td>0</td>\n",
       "    </tr>\n",
       "    <tr>\n",
       "      <th>...</th>\n",
       "      <td>...</td>\n",
       "      <td>...</td>\n",
       "      <td>...</td>\n",
       "      <td>...</td>\n",
       "      <td>...</td>\n",
       "      <td>...</td>\n",
       "      <td>...</td>\n",
       "      <td>...</td>\n",
       "      <td>...</td>\n",
       "    </tr>\n",
       "    <tr>\n",
       "      <th>1275</th>\n",
       "      <td>51</td>\n",
       "      <td>Government</td>\n",
       "      <td>Bachelors</td>\n",
       "      <td>Married</td>\n",
       "      <td>White-Collar</td>\n",
       "      <td>White</td>\n",
       "      <td>Male</td>\n",
       "      <td>40</td>\n",
       "      <td>1</td>\n",
       "    </tr>\n",
       "    <tr>\n",
       "      <th>1276</th>\n",
       "      <td>46</td>\n",
       "      <td>Private</td>\n",
       "      <td>Bachelors</td>\n",
       "      <td>Married</td>\n",
       "      <td>Sales</td>\n",
       "      <td>White</td>\n",
       "      <td>Male</td>\n",
       "      <td>40</td>\n",
       "      <td>1</td>\n",
       "    </tr>\n",
       "    <tr>\n",
       "      <th>1277</th>\n",
       "      <td>67</td>\n",
       "      <td>Private</td>\n",
       "      <td>Bachelors</td>\n",
       "      <td>Married</td>\n",
       "      <td>Service</td>\n",
       "      <td>White</td>\n",
       "      <td>Male</td>\n",
       "      <td>7</td>\n",
       "      <td>1</td>\n",
       "    </tr>\n",
       "    <tr>\n",
       "      <th>1278</th>\n",
       "      <td>47</td>\n",
       "      <td>Private</td>\n",
       "      <td>HS-grad</td>\n",
       "      <td>Married</td>\n",
       "      <td>Blue-Collar</td>\n",
       "      <td>White</td>\n",
       "      <td>Male</td>\n",
       "      <td>35</td>\n",
       "      <td>0</td>\n",
       "    </tr>\n",
       "    <tr>\n",
       "      <th>1279</th>\n",
       "      <td>42</td>\n",
       "      <td>Private</td>\n",
       "      <td>HS-grad</td>\n",
       "      <td>Married</td>\n",
       "      <td>Sales</td>\n",
       "      <td>White</td>\n",
       "      <td>Male</td>\n",
       "      <td>40</td>\n",
       "      <td>0</td>\n",
       "    </tr>\n",
       "  </tbody>\n",
       "</table>\n",
       "<p>1280 rows × 9 columns</p>\n",
       "</div>"
      ],
      "text/plain": [
       "      age      workclass  education marital_status    occupation   race  \\\n",
       "0      39     Government  Bachelors         Single  White-Collar  White   \n",
       "1      50  Self-Employed  Bachelors        Married  White-Collar  White   \n",
       "2      38        Private    HS-grad       Divorced   Blue-Collar  White   \n",
       "3      53        Private     School        Married   Blue-Collar  Other   \n",
       "4      28        Private  Bachelors        Married  Professional  Other   \n",
       "...   ...            ...        ...            ...           ...    ...   \n",
       "1275   51     Government  Bachelors        Married  White-Collar  White   \n",
       "1276   46        Private  Bachelors        Married         Sales  White   \n",
       "1277   67        Private  Bachelors        Married       Service  White   \n",
       "1278   47        Private    HS-grad        Married   Blue-Collar  White   \n",
       "1279   42        Private    HS-grad        Married         Sales  White   \n",
       "\n",
       "      gender  hours_per_week  income  \n",
       "0       Male              40       0  \n",
       "1       Male              13       0  \n",
       "2       Male              40       0  \n",
       "3       Male              40       0  \n",
       "4     Female              40       0  \n",
       "...      ...             ...     ...  \n",
       "1275    Male              40       1  \n",
       "1276    Male              40       1  \n",
       "1277    Male               7       1  \n",
       "1278    Male              35       0  \n",
       "1279    Male              40       0  \n",
       "\n",
       "[1280 rows x 9 columns]"
      ]
     },
     "execution_count": 62,
     "metadata": {},
     "output_type": "execute_result"
    }
   ],
   "source": [
    "dataset.raw_data"
   ]
  },
  {
   "cell_type": "code",
   "execution_count": 64,
   "metadata": {},
   "outputs": [
    {
     "name": "stdout",
     "output_type": "stream",
     "text": [
      "4\n",
      "8\n",
      "5\n",
      "6\n",
      "2\n",
      "2\n"
     ]
    }
   ],
   "source": [
    "categorical = [\n",
    "    \"workclass\",\n",
    "    \"education\",\n",
    "    \"marital_status\",\n",
    "    \"occupation\",\n",
    "    \"race\",\n",
    "    \"gender\",\n",
    "]\n",
    "for col in categorical:\n",
    "    num = len(dataset.raw_data[col].dropna().unique())\n",
    "    print(num)"
   ]
  },
  {
   "cell_type": "code",
   "execution_count": 65,
   "metadata": {},
   "outputs": [
    {
     "data": {
      "text/plain": [
       "[(2, 6), (6, 14), (14, 19), (19, 25), (25, 27), (27, 29)]"
      ]
     },
     "execution_count": 65,
     "metadata": {},
     "output_type": "execute_result"
    }
   ],
   "source": [
    "dataset.intervals"
   ]
  },
  {
   "cell_type": "code",
   "execution_count": 4,
   "metadata": {},
   "outputs": [],
   "source": [
    "# dataset = AdultDataset(\"../data/adult.csv\")\n",
    "# dataset = GermanCreditDataset(\"../data/german_credit.csv\")\n",
    "# dataset = LawDataset(\"../data/law.csv\")"
   ]
  },
  {
   "cell_type": "code",
   "execution_count": 5,
   "metadata": {},
   "outputs": [
    {
     "name": "stderr",
     "output_type": "stream",
     "text": [
      "/home/lukasz/genwro/counterfactuals/counterfactuals/discriminative_models/multilayer_perceptron.py:109: FutureWarning: You are using `torch.load` with `weights_only=False` (the current default value), which uses the default pickle module implicitly. It is possible to construct malicious pickle data which will execute arbitrary code during unpickling (See https://github.com/pytorch/pytorch/blob/main/SECURITY.md#untrusted-models for more details). In a future release, the default value for `weights_only` will be flipped to `True`. This limits the functions that could be executed during unpickling. Arbitrary objects will no longer be allowed to be loaded via this mode unless they are explicitly allowlisted by the user via `torch.serialization.add_safe_globals`. We recommend you start setting `weights_only=True` for any use case where you don't have full control of the loaded file. Please open an issue on GitHub for any issues related to this experimental feature.\n",
      "  self.load_state_dict(torch.load(path))\n"
     ]
    }
   ],
   "source": [
    "disc_model = MultilayerPerceptron(dataset.X_test.shape[1], [512, 512], 2)\n",
    "# disc_model.fit(\n",
    "#     dataset.train_dataloader(batch_size=128, shuffle=True),\n",
    "#     dataset.test_dataloader(batch_size=128, shuffle=False),\n",
    "#     epochs=5000,\n",
    "#     patience=100,\n",
    "#     lr=1e-3,\n",
    "#     checkpoint_path=disc_model_path,\n",
    "# )\n",
    "# disc_model.load(\"adult_disc_model.pt\")\n",
    "disc_model.load(disc_model_path)"
   ]
  },
  {
   "cell_type": "code",
   "execution_count": 6,
   "metadata": {},
   "outputs": [
    {
     "name": "stdout",
     "output_type": "stream",
     "text": [
      "Test accuracy: 0.7635135135135135\n"
     ]
    }
   ],
   "source": [
    "y_pred = disc_model.predict(dataset.X_test).detach().numpy().flatten()\n",
    "print(\"Test accuracy:\", (y_pred == dataset.y_test).mean())"
   ]
  },
  {
   "cell_type": "code",
   "execution_count": 7,
   "metadata": {},
   "outputs": [],
   "source": [
    "dataset.y_train = disc_model.predict(dataset.X_train).detach().numpy()\n",
    "dataset.y_test = disc_model.predict(dataset.X_test).detach().numpy()"
   ]
  },
  {
   "cell_type": "code",
   "execution_count": 8,
   "metadata": {},
   "outputs": [
    {
     "name": "stderr",
     "output_type": "stream",
     "text": [
      "/home/lukasz/genwro/counterfactuals/counterfactuals/generative_models/maf/maf.py:154: FutureWarning: You are using `torch.load` with `weights_only=False` (the current default value), which uses the default pickle module implicitly. It is possible to construct malicious pickle data which will execute arbitrary code during unpickling (See https://github.com/pytorch/pytorch/blob/main/SECURITY.md#untrusted-models for more details). In a future release, the default value for `weights_only` will be flipped to `True`. This limits the functions that could be executed during unpickling. Arbitrary objects will no longer be allowed to be loaded via this mode unless they are explicitly allowlisted by the user via `torch.serialization.add_safe_globals`. We recommend you start setting `weights_only=True` for any use case where you don't have full control of the loaded file. Please open an issue on GitHub for any issues related to this experimental feature.\n",
      "  self.load_state_dict(torch.load(path))\n"
     ]
    }
   ],
   "source": [
    "gen_model = MaskedAutoregressiveFlow(\n",
    "    features=dataset.X_train.shape[1],\n",
    "    hidden_features=16,\n",
    "    num_blocks_per_layer=4,\n",
    "    num_layers=8,\n",
    "    context_features=1,\n",
    "    batch_norm_within_layers=True,\n",
    "    batch_norm_between_layers=True,\n",
    "    use_random_permutations=True,\n",
    ")\n",
    "train_dataloader = dataset.train_dataloader(\n",
    "    batch_size=256, shuffle=True, noise_lvl=0.03\n",
    ")\n",
    "test_dataloader = dataset.test_dataloader(batch_size=256, shuffle=False)\n",
    "\n",
    "# gen_model.fit(\n",
    "#     train_dataloader,\n",
    "#     train_dataloader,\n",
    "#     learning_rate=1e-3,\n",
    "#     patience=100,\n",
    "#     num_epochs=500,\n",
    "#    checkpoint_path=gen_model_path\n",
    "# )\n",
    "# gen_model.load(\"adult_flow.pth\")\n",
    "gen_model.load(gen_model_path)"
   ]
  },
  {
   "cell_type": "code",
   "execution_count": 9,
   "metadata": {},
   "outputs": [],
   "source": [
    "# torch.nn.functional.softmax(torch.rand(3, 4), dim=1)"
   ]
  },
  {
   "cell_type": "code",
   "execution_count": null,
   "metadata": {},
   "outputs": [
    {
     "name": "stderr",
     "output_type": "stream",
     "text": [
      "Discriminator loss: 0.5728, Prob loss: 164.3296:   2%|▏         | 468/20000 [00:06<03:36, 90.15it/s]"
     ]
    }
   ],
   "source": [
    "cf = PPCEF(\n",
    "    gen_model=gen_model,\n",
    "    disc_model=disc_model,\n",
    "    disc_model_criterion=MulticlassDiscLoss(),\n",
    "    neptune_run=None,\n",
    ")\n",
    "cf_dataloader = dataset.test_dataloader(batch_size=1024, shuffle=False)\n",
    "log_prob_threshold = torch.quantile(gen_model.predict_log_prob(cf_dataloader), 0.25)\n",
    "deltas, X_orig, y_orig, y_target, logs = cf.explain_dataloader(\n",
    "    cf_dataloader,\n",
    "    alpha=100,\n",
    "    log_prob_threshold=log_prob_threshold,\n",
    "    epochs=20000,\n",
    "    categorical_intervals=dataset.intervals,\n",
    ")"
   ]
  },
  {
   "cell_type": "code",
   "execution_count": null,
   "metadata": {},
   "outputs": [
    {
     "data": {
      "text/plain": [
       "{'coverage': 1.0,\n",
       " 'validity': 0.6441441441441441,\n",
       " 'actionability': 0.0,\n",
       " 'sparsity': 1.0,\n",
       " 'proximity_categorical_hamming': 0.8697565622096709,\n",
       " 'proximity_categorical_jaccard': 0.8697565622096709,\n",
       " 'proximity_continuous_manhattan': 0.9260526231383366,\n",
       " 'proximity_continuous_euclidean': 0.8697565622096709,\n",
       " 'proximity_continuous_mad': 2.0653113809370622,\n",
       " 'proximity_l2_jaccard': 0.8697565622096709,\n",
       " 'proximity_mad_hamming': 2.0653113809370622,\n",
       " 'prob_plausibility': 0.0,\n",
       " 'log_density_cf': -39664604.0,\n",
       " 'log_density_test': 13.249523,\n",
       " 'lof_scores_cf': 4.313986,\n",
       " 'lof_scores_test': 1.1692128,\n",
       " 'isolation_forest_scores_cf': -0.0882531255878314,\n",
       " 'isolation_forest_scores_test': 0.05782682392755528}"
      ]
     },
     "execution_count": 11,
     "metadata": {},
     "output_type": "execute_result"
    }
   ],
   "source": [
    "X_cf = X_orig + deltas\n",
    "\n",
    "evaluate_cf(\n",
    "    disc_model=disc_model,\n",
    "    gen_model=gen_model,\n",
    "    X_cf=X_cf,\n",
    "    model_returned=np.ones(X_cf.shape[0]),\n",
    "    continuous_features=dataset.numerical_features,\n",
    "    categorical_features=dataset.categorical_features,\n",
    "    X_train=dataset.X_train,\n",
    "    y_train=dataset.y_train,\n",
    "    X_test=X_orig,\n",
    "    y_test=y_orig,\n",
    "    median_log_prob=log_prob_threshold,\n",
    "    y_target=y_target,\n",
    ")"
   ]
  },
  {
   "cell_type": "code",
   "execution_count": null,
   "metadata": {},
   "outputs": [],
   "source": [
    "# torch.nn.functional.gumbel_softmax(torch.rand(4, 3), tau=0.1, dim=1)"
   ]
  },
  {
   "cell_type": "code",
   "execution_count": null,
   "metadata": {},
   "outputs": [],
   "source": [
    "X_cf = X_orig + deltas\n",
    "X_cf_cat = X_cf.copy()\n",
    "\n",
    "for interval in dataset.intervals:\n",
    "    begin, end = interval\n",
    "    max_indices = np.argmax(X_cf_cat[:, begin:end], axis=1)\n",
    "    X_cf_cat[:, begin:end] = np.eye(X_cf_cat[:, begin:end].shape[1])[max_indices]"
   ]
  },
  {
   "cell_type": "code",
   "execution_count": null,
   "metadata": {},
   "outputs": [
    {
     "data": {
      "text/plain": [
       "{'coverage': 1.0,\n",
       " 'validity': 0.740990990990991,\n",
       " 'actionability': 0.0,\n",
       " 'sparsity': 0.29902979902979904,\n",
       " 'proximity_categorical_hamming': 0.19302926251184455,\n",
       " 'proximity_categorical_jaccard': 0.40563934746235497,\n",
       " 'proximity_continuous_manhattan': 0.46348221536762624,\n",
       " 'proximity_continuous_euclidean': 0.40563934746235497,\n",
       " 'proximity_continuous_mad': 1.618620157344019,\n",
       " 'proximity_l2_jaccard': 0.40563934746235497,\n",
       " 'proximity_mad_hamming': 1.4060100723935087,\n",
       " 'prob_plausibility': 0.29954954954954954,\n",
       " 'log_density_cf': 9.062393,\n",
       " 'log_density_test': 13.249523,\n",
       " 'lof_scores_cf': 1.8406732,\n",
       " 'lof_scores_test': 1.1692128,\n",
       " 'isolation_forest_scores_cf': -0.028903640399058225,\n",
       " 'isolation_forest_scores_test': 0.05782682392755528}"
      ]
     },
     "execution_count": 14,
     "metadata": {},
     "output_type": "execute_result"
    }
   ],
   "source": [
    "evaluate_cf(\n",
    "    disc_model=disc_model,\n",
    "    gen_model=gen_model,\n",
    "    X_cf=X_cf_cat,\n",
    "    model_returned=np.ones(X_cf_cat.shape[0]),\n",
    "    continuous_features=dataset.numerical_features,\n",
    "    categorical_features=dataset.categorical_features,\n",
    "    X_train=dataset.X_train,\n",
    "    y_train=dataset.y_train,\n",
    "    X_test=X_orig,\n",
    "    y_test=y_orig,\n",
    "    median_log_prob=log_prob_threshold,\n",
    "    y_target=y_target,\n",
    ")"
   ]
  },
  {
   "cell_type": "code",
   "execution_count": null,
   "metadata": {},
   "outputs": [],
   "source": [
    "from collections import defaultdict\n",
    "import bisect\n",
    "\n",
    "import pandas as pd\n",
    "from sklearn.model_selection import KFold\n",
    "from sklearn.preprocessing import StandardScaler\n",
    "\n",
    "SEED = 42\n",
    "\n",
    "\n",
    "class TargetEncoderNormalizingDataCatalog:\n",
    "    def __init__(self, data):\n",
    "        self.data_frame = data.raw\n",
    "        self.continous = data.continous\n",
    "        self.categoricals = data.categoricals\n",
    "        self.feature_names = self.categoricals + self.continous\n",
    "        self.scaler = StandardScaler()\n",
    "        self.target = data.target\n",
    "        self.data_catalog = data\n",
    "        self.convert_to_target_encoding_form()\n",
    "        self.normalize_feature()\n",
    "        self.encoded_feature_name = \"\"\n",
    "        self.immutables = data.immutables\n",
    "\n",
    "    def convert_to_target_encoding_form(self):\n",
    "        self.cat_dict = {}\n",
    "        self.target_encoded_dict = {}\n",
    "        for feature in self.categoricals:\n",
    "            tmp_dict = defaultdict(lambda: 0)\n",
    "            data_tmp = pd.DataFrame(\n",
    "                {\n",
    "                    feature: self.data_frame[feature],\n",
    "                    self.target: self.data_frame[self.target],\n",
    "                }\n",
    "            )\n",
    "            target_mean = data_tmp.groupby(feature)[self.target].mean()\n",
    "            self.target_encoded_dict[feature] = target_mean\n",
    "            for cat in target_mean.index.tolist():\n",
    "                tmp_dict[cat] = target_mean[cat]\n",
    "            self.cat_dict[feature] = dict(tmp_dict)\n",
    "\n",
    "            tmp = np.repeat(np.nan, self.data_frame.shape[0])\n",
    "            kf = KFold(n_splits=10, shuffle=True, random_state=SEED)\n",
    "            for idx_1, idx_2 in kf.split(self.data_frame):\n",
    "                target_mean = data_tmp.iloc[idx_1].groupby(feature)[self.target].mean()\n",
    "                tmp[idx_2] = self.data_frame[feature].iloc[idx_2].map(target_mean)\n",
    "            self.data_frame[feature] = tmp\n",
    "\n",
    "        self.data_frame[self.categoricals] = self.data_frame[self.categoricals].astype(\n",
    "            \"float\"\n",
    "        )\n",
    "\n",
    "    def normalize_feature(self):\n",
    "        self.data_frame[self.feature_names] = self.scaler.fit_transform(\n",
    "            self.data_frame[self.feature_names]\n",
    "        )\n",
    "\n",
    "    def denormalize_continuous_feature(self, df):\n",
    "        df[self.feature_names] = self.scaler.inverse_transform(df[self.feature_names])\n",
    "        return df\n",
    "\n",
    "    def convert_from_targetenc_to_original_forms(self, df):\n",
    "        for cat in self.categoricals:\n",
    "            d = self.cat_dict[cat]\n",
    "            # ソート済みのキーと値のリストを作成\n",
    "            sorted_keys = sorted(d.keys(), key=lambda k: d[k])\n",
    "            sorted_values = [d[k] for k in sorted_keys]\n",
    "\n",
    "            values = df[cat].values\n",
    "            replace_values = []\n",
    "            for val in values:\n",
    "                # 二分探索でbに最も近い値のインデックスを見つける\n",
    "                index = bisect.bisect_left(sorted_values, val)\n",
    "\n",
    "                # 最も近い値のインデックスを範囲内に収める\n",
    "                if index == len(sorted_values):\n",
    "                    index -= 1\n",
    "                elif index > 0 and abs(sorted_values[index] - val) > abs(\n",
    "                    sorted_values[index - 1] - val\n",
    "                ):\n",
    "                    index -= 1\n",
    "\n",
    "                # 最も絶対値の差が小さいキーを見つける\n",
    "                closest_key = sorted_keys[index]\n",
    "                replace_values.append(closest_key)\n",
    "            df[cat] = replace_values\n",
    "        return df"
   ]
  },
  {
   "cell_type": "code",
   "execution_count": null,
   "metadata": {},
   "outputs": [
    {
     "data": {
      "text/html": [
       "<div>\n",
       "<style scoped>\n",
       "    .dataframe tbody tr th:only-of-type {\n",
       "        vertical-align: middle;\n",
       "    }\n",
       "\n",
       "    .dataframe tbody tr th {\n",
       "        vertical-align: top;\n",
       "    }\n",
       "\n",
       "    .dataframe thead th {\n",
       "        text-align: right;\n",
       "    }\n",
       "</style>\n",
       "<table border=\"1\" class=\"dataframe\">\n",
       "  <thead>\n",
       "    <tr style=\"text-align: right;\">\n",
       "      <th></th>\n",
       "      <th>feature</th>\n",
       "      <th>target</th>\n",
       "    </tr>\n",
       "  </thead>\n",
       "  <tbody>\n",
       "    <tr>\n",
       "      <th>0</th>\n",
       "      <td>1</td>\n",
       "      <td>0</td>\n",
       "    </tr>\n",
       "    <tr>\n",
       "      <th>1</th>\n",
       "      <td>1</td>\n",
       "      <td>1</td>\n",
       "    </tr>\n",
       "    <tr>\n",
       "      <th>2</th>\n",
       "      <td>2</td>\n",
       "      <td>0</td>\n",
       "    </tr>\n",
       "    <tr>\n",
       "      <th>3</th>\n",
       "      <td>2</td>\n",
       "      <td>1</td>\n",
       "    </tr>\n",
       "    <tr>\n",
       "      <th>4</th>\n",
       "      <td>1</td>\n",
       "      <td>1</td>\n",
       "    </tr>\n",
       "    <tr>\n",
       "      <th>5</th>\n",
       "      <td>3</td>\n",
       "      <td>0</td>\n",
       "    </tr>\n",
       "    <tr>\n",
       "      <th>6</th>\n",
       "      <td>2</td>\n",
       "      <td>1</td>\n",
       "    </tr>\n",
       "  </tbody>\n",
       "</table>\n",
       "</div>"
      ],
      "text/plain": [
       "   feature  target\n",
       "0        1       0\n",
       "1        1       1\n",
       "2        2       0\n",
       "3        2       1\n",
       "4        1       1\n",
       "5        3       0\n",
       "6        2       1"
      ]
     },
     "execution_count": 16,
     "metadata": {},
     "output_type": "execute_result"
    }
   ],
   "source": [
    "df = pd.DataFrame({\"feature\": [1, 1, 2, 2, 1, 3, 2], \"target\": [0, 1, 0, 1, 1, 0, 1]})\n",
    "df"
   ]
  },
  {
   "cell_type": "code",
   "execution_count": null,
   "metadata": {},
   "outputs": [
    {
     "data": {
      "text/plain": [
       "feature\n",
       "1    0.666667\n",
       "2    0.666667\n",
       "3    0.000000\n",
       "Name: target, dtype: float64"
      ]
     },
     "execution_count": 17,
     "metadata": {},
     "output_type": "execute_result"
    }
   ],
   "source": [
    "categorical_feature_values = df.groupby(\"feature\")[\"target\"].mean()\n",
    "categorical_feature_values"
   ]
  }
 ],
 "metadata": {
  "kernelspec": {
   "display_name": "cf",
   "language": "python",
   "name": "python3"
  },
  "language_info": {
   "codemirror_mode": {
    "name": "ipython",
    "version": 3
   },
   "file_extension": ".py",
   "mimetype": "text/x-python",
   "name": "python",
   "nbconvert_exporter": "python",
   "pygments_lexer": "ipython3",
   "version": "3.11.9"
  }
 },
 "nbformat": 4,
 "nbformat_minor": 2
}
