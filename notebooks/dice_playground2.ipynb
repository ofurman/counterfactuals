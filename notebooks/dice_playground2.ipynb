{
 "cells": [
  {
   "cell_type": "code",
   "execution_count": 1,
   "metadata": {},
   "outputs": [],
   "source": [
    "%load_ext autoreload\n",
    "%autoreload 2"
   ]
  },
  {
   "cell_type": "code",
   "execution_count": 2,
   "metadata": {},
   "outputs": [],
   "source": [
    "import torch\n",
    "import numpy as np\n",
    "\n",
    "from counterfactuals.datasets import LawDataset, AdultDataset, GermanCreditDataset\n",
    "from counterfactuals.discriminative_models import MultilayerPerceptron"
   ]
  },
  {
   "cell_type": "code",
   "execution_count": 3,
   "metadata": {},
   "outputs": [],
   "source": [
    "datasets = {\n",
    "    \"adult\": (\n",
    "        AdultDataset(\"../data/adult.csv\"),\n",
    "        \"adult_disc_model.pt\",\n",
    "        \"adult_flow.pth\",\n",
    "    ),\n",
    "    \"law\": (LawDataset(\"../data/law.csv\"), \"law_disc_model.pt\", \"law_flow.pth\"),\n",
    "    \"german\": (\n",
    "        GermanCreditDataset(\"../data/german_credit.csv\"),\n",
    "        \"german_disc_model.pt\",\n",
    "        \"german_flow.pth\",\n",
    "    ),\n",
    "}\n",
    "\n",
    "dataset, disc_model_path, gen_model_path = datasets[\"law\"]"
   ]
  },
  {
   "cell_type": "code",
   "execution_count": 4,
   "metadata": {},
   "outputs": [],
   "source": [
    "dataset.X_train = dataset.X_train.astype(np.float32)\n",
    "dataset.X_test = dataset.X_test.astype(np.float32)"
   ]
  },
  {
   "cell_type": "code",
   "execution_count": 5,
   "metadata": {},
   "outputs": [
    {
     "name": "stderr",
     "output_type": "stream",
     "text": [
      "/home/lukasz/genwro/counterfactuals/counterfactuals/discriminative_models/multilayer_perceptron.py:109: FutureWarning: You are using `torch.load` with `weights_only=False` (the current default value), which uses the default pickle module implicitly. It is possible to construct malicious pickle data which will execute arbitrary code during unpickling (See https://github.com/pytorch/pytorch/blob/main/SECURITY.md#untrusted-models for more details). In a future release, the default value for `weights_only` will be flipped to `True`. This limits the functions that could be executed during unpickling. Arbitrary objects will no longer be allowed to be loaded via this mode unless they are explicitly allowlisted by the user via `torch.serialization.add_safe_globals`. We recommend you start setting `weights_only=True` for any use case where you don't have full control of the loaded file. Please open an issue on GitHub for any issues related to this experimental feature.\n",
      "  self.load_state_dict(torch.load(path))\n"
     ]
    }
   ],
   "source": [
    "# disc_model = MultilayerPerceptron(dataset.X_test.shape[1], [512, 512], 2)\n",
    "disc_model = MultilayerPerceptron(dataset.X_test.shape[1], [256, 256], 1)\n",
    "# disc_model.fit(\n",
    "#     dataset.train_dataloader(batch_size=128, shuffle=True),\n",
    "#     dataset.test_dataloader(batch_size=128, shuffle=False),\n",
    "#     epochs=5000,\n",
    "#     patience=100,\n",
    "#     lr=1e-3,\n",
    "#     checkpoint_path=disc_model_path,\n",
    "# )\n",
    "disc_model.load(disc_model_path)\n",
    "# disc_model.load(\"german_disc_model_onehot.pt\")"
   ]
  },
  {
   "cell_type": "code",
   "execution_count": 6,
   "metadata": {},
   "outputs": [
    {
     "name": "stdout",
     "output_type": "stream",
     "text": [
      "Test accuracy: 0.759009009009009\n"
     ]
    }
   ],
   "source": [
    "y_pred = disc_model.predict(dataset.X_test).detach().numpy().flatten()\n",
    "print(\"Test accuracy:\", (y_pred == dataset.y_test).mean())"
   ]
  },
  {
   "cell_type": "code",
   "execution_count": 7,
   "metadata": {},
   "outputs": [],
   "source": [
    "dataset.y_train = disc_model.predict(dataset.X_train).detach().numpy()\n",
    "dataset.y_test = disc_model.predict(dataset.X_test).detach().numpy()"
   ]
  },
  {
   "cell_type": "code",
   "execution_count": 23,
   "metadata": {},
   "outputs": [],
   "source": [
    "import pandas as pd\n",
    "import dice_ml\n",
    "\n",
    "dataset = LawDataset(\"../data/law.csv\")\n",
    "\n",
    "X_train, y_train = dataset.X_train, dataset.y_train\n",
    "\n",
    "features = list(range(dataset.X_train.shape[1])) + [\"label\"]\n",
    "features = list(map(str, features))"
   ]
  },
  {
   "cell_type": "code",
   "execution_count": 9,
   "metadata": {},
   "outputs": [],
   "source": [
    "input_dataframe = pd.DataFrame(\n",
    "    np.concatenate((X_train, y_train.reshape(-1, 1)), axis=1),\n",
    "    columns=features,\n",
    ")\n",
    "\n",
    "dice = dice_ml.Data(\n",
    "    dataframe=input_dataframe,\n",
    "    continuous_features=list(map(str, dataset.numerical_columns)),\n",
    "    outcome_name=features[-1],\n",
    ")"
   ]
  },
  {
   "cell_type": "code",
   "execution_count": 10,
   "metadata": {},
   "outputs": [],
   "source": [
    "import torch.nn as nn\n",
    "\n",
    "\n",
    "class DiscWrapper(nn.Module):\n",
    "    def __init__(self, model):\n",
    "        super().__init__()\n",
    "        self.model = model\n",
    "\n",
    "    def forward(self, x):\n",
    "        x = torch.sigmoid(self.model(x))\n",
    "        return x"
   ]
  },
  {
   "cell_type": "code",
   "execution_count": 11,
   "metadata": {},
   "outputs": [],
   "source": [
    "disc_model_w = DiscWrapper(disc_model)"
   ]
  },
  {
   "cell_type": "code",
   "execution_count": 12,
   "metadata": {},
   "outputs": [],
   "source": [
    "model = dice_ml.Model(disc_model_w, backend=\"PYT\")\n",
    "\n",
    "exp = dice_ml.Dice(dice, model, method=\"gradient\")"
   ]
  },
  {
   "cell_type": "code",
   "execution_count": 27,
   "metadata": {},
   "outputs": [],
   "source": [
    "X_test_origin = dataset.X_test[dataset.y_test != 0]\n",
    "y_test_origin = dataset.y_test[dataset.y_test != 0]\n",
    "X_test_origin, y_test_origin = X_test_origin[:10], y_test_origin[:10]"
   ]
  },
  {
   "cell_type": "code",
   "execution_count": 28,
   "metadata": {},
   "outputs": [],
   "source": [
    "query_instance = pd.DataFrame(X_test_origin, columns=features[:-1])\n",
    "query_instance = query_instance.iloc[:10]"
   ]
  },
  {
   "cell_type": "code",
   "execution_count": 29,
   "metadata": {},
   "outputs": [
    {
     "name": "stdout",
     "output_type": "stream",
     "text": [
      "Diverse Counterfactuals found! total time taken: 00 min 01 sec\n",
      "Diverse Counterfactuals found! total time taken: 00 min 00 sec\n",
      "Diverse Counterfactuals found! total time taken: 00 min 01 sec\n",
      "Diverse Counterfactuals found! total time taken: 00 min 18 sec\n",
      "Diverse Counterfactuals found! total time taken: 00 min 02 sec\n",
      "Diverse Counterfactuals found! total time taken: 00 min 19 sec\n",
      "Diverse Counterfactuals found! total time taken: 00 min 02 sec\n",
      "Diverse Counterfactuals found! total time taken: 00 min 08 sec\n",
      "Diverse Counterfactuals found! total time taken: 00 min 01 sec\n",
      "Diverse Counterfactuals found! total time taken: 00 min 01 sec\n"
     ]
    }
   ],
   "source": [
    "cfs = exp.generate_counterfactuals(\n",
    "    query_instance,\n",
    "    total_CFs=1,\n",
    "    desired_class=\"opposite\",\n",
    "    posthoc_sparsity_param=None,\n",
    "    learning_rate=0.05,\n",
    ")\n",
    "#                             proximity_weight=0, diversity_weight=0, categorical_penalty=0.0)"
   ]
  },
  {
   "cell_type": "code",
   "execution_count": 15,
   "metadata": {},
   "outputs": [],
   "source": [
    "from sklearn.model_selection import train_test_split\n",
    "\n",
    "import dice_ml\n",
    "from dice_ml.utils import helpers"
   ]
  },
  {
   "cell_type": "code",
   "execution_count": 16,
   "metadata": {},
   "outputs": [],
   "source": [
    "dataset = helpers.load_adult_income_dataset()\n",
    "target = dataset[\"income\"]\n",
    "train_dataset, test_dataset, y_train, y_test = train_test_split(\n",
    "    dataset, target, test_size=0.2, random_state=0, stratify=target\n",
    ")\n",
    "x_train = train_dataset.drop(\"income\", axis=1)\n",
    "x_test = test_dataset.drop(\"income\", axis=1)"
   ]
  }
 ],
 "metadata": {
  "kernelspec": {
   "display_name": "cf",
   "language": "python",
   "name": "python3"
  },
  "language_info": {
   "codemirror_mode": {
    "name": "ipython",
    "version": 3
   },
   "file_extension": ".py",
   "mimetype": "text/x-python",
   "name": "python",
   "nbconvert_exporter": "python",
   "pygments_lexer": "ipython3",
   "version": "3.11.9"
  }
 },
 "nbformat": 4,
 "nbformat_minor": 2
}
