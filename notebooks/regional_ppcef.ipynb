{
 "cells": [
  {
   "cell_type": "code",
   "execution_count": 1,
   "metadata": {},
   "outputs": [],
   "source": [
    "%load_ext autoreload\n",
    "%autoreload 2"
   ]
  },
  {
   "cell_type": "code",
   "execution_count": 2,
   "metadata": {},
   "outputs": [],
   "source": [
    "import numpy as np\n",
    "import torch\n",
    "from matplotlib import pyplot as plt\n",
    "\n",
    "from counterfactuals.datasets import MoonsDataset\n",
    "from counterfactuals.cf_methods.rppcef import RPPCEF\n",
    "from counterfactuals.generative_models import MaskedAutoregressiveFlow\n",
    "from counterfactuals.discriminative_models import LogisticRegression\n",
    "from counterfactuals.losses import BinaryDiscLoss"
   ]
  },
  {
   "cell_type": "code",
   "execution_count": 3,
   "metadata": {},
   "outputs": [],
   "source": [
    "def plot_model_distribution(model, median_prob=None, disc_model=None):\n",
    "    fig, ax = plt.subplots(1, 1)\n",
    "    fig.set_size_inches(20, 12)\n",
    "\n",
    "    xline = torch.linspace(-1.5, 2.5, 200)\n",
    "    yline = torch.linspace(-0.75, 1.25, 200)\n",
    "    xgrid, ygrid = torch.meshgrid(xline, yline)\n",
    "    xyinput = torch.cat([xgrid.reshape(-1, 1), ygrid.reshape(-1, 1)], dim=1)\n",
    "\n",
    "    with torch.no_grad():\n",
    "        zgrid0 = model(xyinput, torch.zeros(40000, 1)).exp().reshape(200, 200)\n",
    "        zgrid1 = model(xyinput, torch.ones(40000, 1)).exp().reshape(200, 200)\n",
    "\n",
    "    zgrid0 = zgrid0.numpy()\n",
    "    zgrid1 = zgrid1.numpy()\n",
    "\n",
    "    if median_prob is not None:\n",
    "        median_prob = np.exp(median_prob)\n",
    "        # cs1_mp = ax.contourf(\n",
    "        #     xgrid.numpy(),\n",
    "        #     ygrid.numpy(),\n",
    "        #     zgrid1,\n",
    "        #     levels=[median_prob, median_prob + 10.00],\n",
    "        #     alpha=0.1,\n",
    "        #     colors=\"#DC143C\",\n",
    "        # )\n",
    "\n",
    "    # cs0 = ax.contour(\n",
    "    #     xgrid.numpy(),\n",
    "    #     ygrid.numpy(),\n",
    "    #     zgrid0,\n",
    "    #     levels=10,\n",
    "    #     cmap=\"Greys\",\n",
    "    #     linewidths=0.4,\n",
    "    #     antialiased=True,\n",
    "    # )\n",
    "    # cs1 = ax.contour(\n",
    "    #     xgrid.numpy(),\n",
    "    #     ygrid.numpy(),\n",
    "    #     zgrid1,\n",
    "    #     levels=10,\n",
    "    #     cmap=\"Oranges\",\n",
    "    #     linewidths=0.4,\n",
    "    #     antialiased=True,\n",
    "    # )\n",
    "    return ax"
   ]
  },
  {
   "cell_type": "code",
   "execution_count": 4,
   "metadata": {},
   "outputs": [],
   "source": [
    "# dataset = LawDataset(\"../data/law.csv\")\n",
    "# train_dataloader = dataset.train_dataloader(batch_size=1024, shuffle=True)\n",
    "# test_dataloader = dataset.test_dataloader(batch_size=1024, shuffle=False)"
   ]
  },
  {
   "cell_type": "code",
   "execution_count": 5,
   "metadata": {},
   "outputs": [],
   "source": [
    "dataset = MoonsDataset(\"../data/moons.csv\")\n",
    "train_dataloader = dataset.train_dataloader(batch_size=1024, shuffle=True)\n",
    "test_dataloader = dataset.test_dataloader(batch_size=1024, shuffle=False)\n",
    "\n",
    "disc_model = LogisticRegression(dataset.X_test.shape[1], 1)\n",
    "disc_model.load(\"../models/MoonsDataset/disc_model_LogisticRegression.pt\")\n",
    "\n",
    "# Re-labeling\n",
    "# dataset.y_train = disc_model.predict(dataset.X_train).detach().numpy()\n",
    "# dataset.y_test = disc_model.predict(dataset.X_test).detach().numpy()\n",
    "\n",
    "gen_model = MaskedAutoregressiveFlow(\n",
    "    features=dataset.X_train.shape[1], hidden_features=4, context_features=1\n",
    ")\n",
    "gen_model.load(\"../models/MoonsDataset/gen_model_MaskedAutoregressiveFlow.pt\")"
   ]
  },
  {
   "cell_type": "code",
   "execution_count": 6,
   "metadata": {},
   "outputs": [
    {
     "name": "stdout",
     "output_type": "stream",
     "text": [
      "Discriminative model accuracy: 0.848780487804878\n"
     ]
    }
   ],
   "source": [
    "print(\n",
    "    f\"Discriminative model accuracy: {np.mean((disc_model.predict(dataset.X_test).numpy() == dataset.y_test))}\"\n",
    ")"
   ]
  },
  {
   "cell_type": "code",
   "execution_count": 7,
   "metadata": {},
   "outputs": [],
   "source": [
    "max_samples = dataset.X_test[dataset.y_test == 0].shape[0]"
   ]
  },
  {
   "cell_type": "code",
   "execution_count": 8,
   "metadata": {},
   "outputs": [
    {
     "name": "stdout",
     "output_type": "stream",
     "text": [
      "{'K': 1, 'alpha_plausability': 0, 'alpha_search': 0}\n"
     ]
    },
    {
     "data": {
      "application/vnd.jupyter.widget-view+json": {
       "model_id": "accb2b4265094d84ad90f9ae5c123403",
       "version_major": 2,
       "version_minor": 0
      },
      "text/plain": [
       "  0%|                                                                                                         …"
      ]
     },
     "metadata": {},
     "output_type": "display_data"
    },
    {
     "name": "stdout",
     "output_type": "stream",
     "text": [
      "Number of vectors: 1\n"
     ]
    },
    {
     "name": "stderr",
     "output_type": "stream",
     "text": [
      "/opt/homebrew/anaconda3/envs/counterfactuals/lib/python3.10/site-packages/torch/functional.py:504: UserWarning: torch.meshgrid: in an upcoming release, it will be required to pass the indexing argument. (Triggered internally at /Users/runner/work/pytorch/pytorch/pytorch/aten/src/ATen/native/TensorShape.cpp:3527.)\n",
      "  return _VF.meshgrid(tensors, **kwargs)  # type: ignore[attr-defined]\n"
     ]
    },
    {
     "name": "stdout",
     "output_type": "stream",
     "text": [
      "{'K': 103, 'alpha_plausability': 0, 'alpha_search': 0}\n"
     ]
    },
    {
     "data": {
      "application/vnd.jupyter.widget-view+json": {
       "model_id": "ad4f64f86aee454f903bc40064637535",
       "version_major": 2,
       "version_minor": 0
      },
      "text/plain": [
       "  0%|                                                                                                         …"
      ]
     },
     "metadata": {},
     "output_type": "display_data"
    },
    {
     "name": "stdout",
     "output_type": "stream",
     "text": [
      "Number of vectors: 48\n",
      "{'K': 103, 'alpha_plausability': 0, 'alpha_search': 1000}\n"
     ]
    },
    {
     "data": {
      "application/vnd.jupyter.widget-view+json": {
       "model_id": "8821771f14184ba19c851ce47ddbfc9b",
       "version_major": 2,
       "version_minor": 0
      },
      "text/plain": [
       "  0%|                                                                                                         …"
      ]
     },
     "metadata": {},
     "output_type": "display_data"
    },
    {
     "name": "stdout",
     "output_type": "stream",
     "text": [
      "Number of vectors: 5\n",
      "{'K': 1, 'alpha_plausability': 1000, 'alpha_search': 0}\n"
     ]
    },
    {
     "data": {
      "application/vnd.jupyter.widget-view+json": {
       "model_id": "e48c255847164dd6bb1a4fac0e4d6607",
       "version_major": 2,
       "version_minor": 0
      },
      "text/plain": [
       "  0%|                                                                                                         …"
      ]
     },
     "metadata": {},
     "output_type": "display_data"
    },
    {
     "name": "stdout",
     "output_type": "stream",
     "text": [
      "Number of vectors: 1\n",
      "{'K': 103, 'alpha_plausability': 1000, 'alpha_search': 0}\n"
     ]
    },
    {
     "data": {
      "application/vnd.jupyter.widget-view+json": {
       "model_id": "724ef3b25a0a4b98909188dc1ee9452a",
       "version_major": 2,
       "version_minor": 0
      },
      "text/plain": [
       "  0%|                                                                                                         …"
      ]
     },
     "metadata": {},
     "output_type": "display_data"
    },
    {
     "name": "stdout",
     "output_type": "stream",
     "text": [
      "Number of vectors: 40\n",
      "{'K': 103, 'alpha_plausability': 1000, 'alpha_search': 1000}\n"
     ]
    },
    {
     "data": {
      "application/vnd.jupyter.widget-view+json": {
       "model_id": "8558ff7f03aa4824aab15586e36e8614",
       "version_major": 2,
       "version_minor": 0
      },
      "text/plain": [
       "  0%|                                                                                                         …"
      ]
     },
     "metadata": {},
     "output_type": "display_data"
    },
    {
     "name": "stdout",
     "output_type": "stream",
     "text": [
      "Number of vectors: 9\n"
     ]
    }
   ],
   "source": [
    "options = [\n",
    "    {\"K\": 1, \"alpha_plausability\": 0, \"alpha_search\": 0},\n",
    "    {\"K\": max_samples, \"alpha_plausability\": 0, \"alpha_search\": 0},\n",
    "    {\"K\": max_samples, \"alpha_plausability\": 0, \"alpha_search\": 1000},\n",
    "    {\"K\": 1, \"alpha_plausability\": 1000, \"alpha_search\": 0},\n",
    "    {\"K\": max_samples, \"alpha_plausability\": 1000, \"alpha_search\": 0},\n",
    "    {\"K\": max_samples, \"alpha_plausability\": 1000, \"alpha_search\": 1000},\n",
    "]\n",
    "\n",
    "for opt in options:\n",
    "    print(opt)\n",
    "    K = opt[\"K\"]\n",
    "    alpha_plausability = opt[\"alpha_plausability\"]\n",
    "    alpha_search = opt[\"alpha_search\"]\n",
    "\n",
    "    cf = RPPCEF(\n",
    "        K=K,\n",
    "        gen_model=gen_model,\n",
    "        disc_model=disc_model,\n",
    "        disc_model_criterion=BinaryDiscLoss(),\n",
    "        neptune_run=None,\n",
    "    )\n",
    "\n",
    "    cf_dataloader = torch.utils.data.DataLoader(\n",
    "        torch.utils.data.TensorDataset(\n",
    "            torch.from_numpy(dataset.X_test[dataset.y_test == 0]),\n",
    "            torch.from_numpy(dataset.y_test[dataset.y_test == 0]),\n",
    "        ),\n",
    "        batch_size=1024,\n",
    "        shuffle=False,\n",
    "    )\n",
    "    median_log_prob = torch.median(gen_model.predict_log_prob(cf_dataloader))\n",
    "\n",
    "    deltas, X_orig, y_orig, y_target, logs = cf.search_batch(\n",
    "        cf_dataloader,\n",
    "        alpha=1000,\n",
    "        alpha_plausability=alpha_plausability,\n",
    "        alpha_search=alpha_search,\n",
    "        median_log_prob=median_log_prob,\n",
    "        epochs=10000,\n",
    "    )\n",
    "\n",
    "    M, S, D = deltas[0].get_matrices()\n",
    "    print(f\"Number of vectors: {(S.sum(axis=0) != 0).sum()}\")\n",
    "\n",
    "    X_cf = X_orig + deltas[0]().detach().numpy()\n",
    "\n",
    "    ## Distribution Plot\n",
    "    ax = plot_model_distribution(cf.gen_model, median_log_prob, cf.disc_model)\n",
    "\n",
    "    ## Classifier Line\n",
    "    w1, w2 = list(disc_model.parameters())[0].detach().cpu().numpy()[0]\n",
    "    b = list(disc_model.parameters())[1].detach().cpu().numpy().item()\n",
    "    c = -b / w2\n",
    "    m = -w1 / w2\n",
    "    xmin, xmax = -1.5, 2.5\n",
    "    ymin, ymax = -1.5, 2.5\n",
    "    xd = np.array([xmin, xmax])\n",
    "    yd = m * xd + c\n",
    "    plt.plot(xd, yd, \"#ADD8E6\", lw=2.0, ls=\"dashed\")\n",
    "    # plt.axis(\"off\")\n",
    "\n",
    "    ## Original points\n",
    "    ax.scatter(X_orig[:, 0], X_orig[:, 1], alpha=0.5)\n",
    "\n",
    "    ## Counterfactuals\n",
    "    ax.scatter(X_cf[:, 0], X_cf[:, 1], c=\"r\")\n",
    "\n",
    "    for before, after in zip(X_orig, X_cf):\n",
    "        ax.arrow(\n",
    "            before[0],\n",
    "            before[1],\n",
    "            after[0] - before[0],\n",
    "            after[1] - before[1],\n",
    "            # head_width=0.0,\n",
    "            # head_length=0.0,\n",
    "            fc=\"gray\",\n",
    "            ec=\"gray\",\n",
    "            alpha=0.5,\n",
    "            width=0.0001,\n",
    "        )\n",
    "\n",
    "    plt.xlim([-0.10, 1.05])\n",
    "    plt.ylim([-0.10, 1.10])\n",
    "    plt.tight_layout()\n",
    "\n",
    "    ## Save Figure\n",
    "    plt.savefig(f\"K_{K}_Search_{alpha_search}_Plausability_{alpha_plausability}.pdf\")\n",
    "    plt.close()"
   ]
  },
  {
   "cell_type": "code",
   "execution_count": null,
   "metadata": {},
   "outputs": [],
   "source": []
  }
 ],
 "metadata": {
  "kernelspec": {
   "display_name": "venv",
   "language": "python",
   "name": "python3"
  },
  "language_info": {
   "codemirror_mode": {
    "name": "ipython",
    "version": 3
   },
   "file_extension": ".py",
   "mimetype": "text/x-python",
   "name": "python",
   "nbconvert_exporter": "python",
   "pygments_lexer": "ipython3",
   "version": "3.9.19"
  }
 },
 "nbformat": 4,
 "nbformat_minor": 4
}
