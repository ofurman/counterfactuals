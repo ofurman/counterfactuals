{
 "cells": [
  {
   "cell_type": "code",
   "execution_count": 1,
   "metadata": {},
   "outputs": [],
   "source": [
    "%load_ext autoreload\n",
    "%autoreload 2"
   ]
  },
  {
   "cell_type": "code",
   "execution_count": 2,
   "metadata": {},
   "outputs": [
    {
     "name": "stderr",
     "output_type": "stream",
     "text": [
      "/Users/oleksiifurman/Developer/counterfactuals/venv/lib/python3.11/site-packages/tqdm/auto.py:21: TqdmWarning: IProgress not found. Please update jupyter and ipywidgets. See https://ipywidgets.readthedocs.io/en/stable/user_install.html\n",
      "  from .autonotebook import tqdm as notebook_tqdm\n"
     ]
    }
   ],
   "source": [
    "import torch\n",
    "from matplotlib import pyplot as plt\n",
    "\n",
    "from counterfactuals.datasets import CreditDefaultDataset\n",
    "from counterfactuals.losses import BinaryDiscLoss\n",
    "from counterfactuals.cf_methods.group_ppcef.rppcef import RPPCEF\n",
    "from counterfactuals.generative_models import MaskedAutoregressiveFlow\n",
    "from counterfactuals.discriminative_models import MultilayerPerceptron\n",
    "from counterfactuals.metrics import CFMetrics"
   ]
  },
  {
   "cell_type": "code",
   "execution_count": 3,
   "metadata": {},
   "outputs": [],
   "source": [
    "dataset = CreditDefaultDataset(\"../data/credit_default.csv\", shuffle=False)"
   ]
  },
  {
   "cell_type": "code",
   "execution_count": 4,
   "metadata": {},
   "outputs": [],
   "source": [
    "# df = dataset.raw_data\n",
    "# df = pd.DataFrame(dataset.X_train, columns=df.columns[:-1])\n",
    "# df[\"default payment next month\"] = dataset.y_train\n",
    "\n",
    "# import seaborn as sns\n",
    "\n",
    "# # Display basic information about the dataframe\n",
    "# print(df.info())\n",
    "\n",
    "# # Display basic statistics of the dataframe\n",
    "# print(df.describe())\n",
    "\n",
    "# # Check for missing values\n",
    "# print(df.isnull().sum())\n",
    "\n",
    "# # Plot the distribution of the target variable\n",
    "# plt.figure(figsize=(10, 6))\n",
    "# sns.countplot(x='default payment next month', data=df)\n",
    "# plt.title('Distribution of Default Payment Next Month')\n",
    "# plt.show()\n",
    "\n",
    "# # Plot the correlation matrix\n",
    "# plt.figure(figsize=(15, 10))\n",
    "# correlation_matrix = df.corr()\n",
    "# sns.heatmap(correlation_matrix, annot=True, cmap='coolwarm', fmt='.2f')\n",
    "# plt.title('Correlation Matrix')\n",
    "# plt.show()\n",
    "\n",
    "# # Plot the distribution of numerical features\n",
    "# df.hist(bins=30, figsize=(20, 15), layout=(8, 3))\n",
    "# plt.tight_layout()\n",
    "# plt.show()\n",
    "\n",
    "# # Plot pairplot for a subset of features\n",
    "# subset_features = ['LIMIT_BAL', 'AGE', 'BILL_AMT1', 'PAY_AMT1', 'default payment next month']\n",
    "# sns.pairplot(df[subset_features], hue='default payment next month')\n",
    "# plt.show()"
   ]
  },
  {
   "cell_type": "code",
   "execution_count": 5,
   "metadata": {},
   "outputs": [],
   "source": [
    "# x_res = dataset.feature_transformer[\"cat\"].inverse_transform(dataset.X_train[:, dataset.categorical_columns])"
   ]
  },
  {
   "cell_type": "code",
   "execution_count": 6,
   "metadata": {},
   "outputs": [
    {
     "name": "stderr",
     "output_type": "stream",
     "text": [
      "  0%|          | 0/5000 [00:00<?, ?it/s]/Users/oleksiifurman/Developer/counterfactuals/counterfactuals/discriminative_models/multilayer_perceptron.py:115: FutureWarning: You are using `torch.load` with `weights_only=False` (the current default value), which uses the default pickle module implicitly. It is possible to construct malicious pickle data which will execute arbitrary code during unpickling (See https://github.com/pytorch/pytorch/blob/main/SECURITY.md#untrusted-models for more details). In a future release, the default value for `weights_only` will be flipped to `True`. This limits the functions that could be executed during unpickling. Arbitrary objects will no longer be allowed to be loaded via this mode unless they are explicitly allowlisted by the user via `torch.serialization.add_safe_globals`. We recommend you start setting `weights_only=True` for any use case where you don't have full control of the loaded file. Please open an issue on GitHub for any issues related to this experimental feature.\n",
      "  self.load_state_dict(torch.load(path))\n",
      "Epoch 364, Train: 0.4292, test: 0.4257, patience: 100:   7%|▋         | 365/5000 [01:19<16:54,  4.57it/s]\n"
     ]
    }
   ],
   "source": [
    "disc_model = MultilayerPerceptron(dataset.X_test.shape[1], [128, 128], 1, dropout=0.3)\n",
    "disc_model.fit(\n",
    "    dataset.train_dataloader(batch_size=256, shuffle=True),\n",
    "    dataset.test_dataloader(batch_size=256, shuffle=False),\n",
    "    epochs=5000,\n",
    "    patience=100,\n",
    "    lr=1e-3,\n",
    "    checkpoint_path=\"disc_model.pt\",\n",
    ")\n",
    "# disc_model.load(\"heloc_disc_model.pt\")"
   ]
  },
  {
   "cell_type": "code",
   "execution_count": 7,
   "metadata": {},
   "outputs": [],
   "source": [
    "# disc_model = LogisticRegression(dataset.X_test.shape[1], 1)\n",
    "# disc_model.fit(\n",
    "#     dataset.train_dataloader(batch_size=256, shuffle=True),\n",
    "#     dataset.test_dataloader(batch_size=256, shuffle=False),\n",
    "#     epochs=5000,\n",
    "#     patience=100,\n",
    "#     checkpoint_path=\"disc_model.pt\",\n",
    "# )\n",
    "# # # disc_model.load(\"disc_model.pt\")"
   ]
  },
  {
   "cell_type": "code",
   "execution_count": 8,
   "metadata": {},
   "outputs": [
    {
     "name": "stdout",
     "output_type": "stream",
     "text": [
      "Test accuracy: 0.8277044402537288\n"
     ]
    }
   ],
   "source": [
    "disc_model.eval()\n",
    "y_pred = disc_model.predict(dataset.X_test).detach().numpy().flatten()\n",
    "print(\"Test accuracy:\", (y_pred == dataset.y_test).mean())"
   ]
  },
  {
   "cell_type": "code",
   "execution_count": 9,
   "metadata": {},
   "outputs": [],
   "source": [
    "dataset.y_train = disc_model.predict(dataset.X_train).detach().numpy()\n",
    "dataset.y_test = disc_model.predict(dataset.X_test).detach().numpy()"
   ]
  },
  {
   "cell_type": "code",
   "execution_count": null,
   "metadata": {},
   "outputs": [
    {
     "name": "stderr",
     "output_type": "stream",
     "text": [
      "Epoch 499, Train: 0.4055, test: 0.4056, patience: 2: 100%|██████████| 500/500 [11:22<00:00,  1.37s/it] \n",
      "/Users/oleksiifurman/Developer/counterfactuals/counterfactuals/generative_models/maf/maf.py:163: FutureWarning: You are using `torch.load` with `weights_only=False` (the current default value), which uses the default pickle module implicitly. It is possible to construct malicious pickle data which will execute arbitrary code during unpickling (See https://github.com/pytorch/pytorch/blob/main/SECURITY.md#untrusted-models for more details). In a future release, the default value for `weights_only` will be flipped to `True`. This limits the functions that could be executed during unpickling. Arbitrary objects will no longer be allowed to be loaded via this mode unless they are explicitly allowlisted by the user via `torch.serialization.add_safe_globals`. We recommend you start setting `weights_only=True` for any use case where you don't have full control of the loaded file. Please open an issue on GitHub for any issues related to this experimental feature.\n",
      "  self.load_state_dict(torch.load(path))\n"
     ]
    }
   ],
   "source": [
    "gen_model = MaskedAutoregressiveFlow(\n",
    "    features=dataset.X_train.shape[1],\n",
    "    hidden_features=32,\n",
    "    num_blocks_per_layer=2,\n",
    "    num_layers=5,\n",
    "    context_features=1,\n",
    "    batch_norm_within_layers=True,\n",
    "    batch_norm_between_layers=True,\n",
    "    use_random_permutations=True,\n",
    ")\n",
    "train_dataloader = dataset.train_dataloader(\n",
    "    batch_size=256, shuffle=True, noise_lvl=0.03\n",
    ")\n",
    "test_dataloader = dataset.test_dataloader(batch_size=256, shuffle=False)\n",
    "\n",
    "gen_model.fit(\n",
    "    train_dataloader,\n",
    "    train_dataloader,\n",
    "    learning_rate=1e-3,\n",
    "    patience=100,\n",
    "    num_epochs=1000,\n",
    "    checkpoint_path=\"credit_default_flow.pt\",\n",
    ")\n",
    "# gen_model.load(\"credit_default_flow.pt\")"
   ]
  },
  {
   "cell_type": "code",
   "execution_count": 22,
   "metadata": {},
   "outputs": [
    {
     "data": {
      "text/plain": [
       "array([[ 20000,      1,      1],\n",
       "       [120000,      1,      1],\n",
       "       [ 90000,      1,      1],\n",
       "       ...,\n",
       "       [ 30000,      0,      1],\n",
       "       [ 80000,      0,      2],\n",
       "       [ 50000,      0,      1]])"
      ]
     },
     "execution_count": 22,
     "metadata": {},
     "output_type": "execute_result"
    }
   ],
   "source": [
    "dataset.X[:, :3]"
   ]
  },
  {
   "cell_type": "code",
   "execution_count": 23,
   "metadata": {},
   "outputs": [
    {
     "data": {
      "text/plain": [
       "array([[-1.1303681 , -1.4678429 ,  1.4544897 ],\n",
       "       [-0.28055307, -0.09865116,  0.40045395],\n",
       "       [-0.04878536, -0.54942757,  0.12739141],\n",
       "       ...,\n",
       "       [-1.0531121 , -0.00755102,  0.39872003],\n",
       "       [-0.66683257, -1.1677203 ,  2.5451603 ],\n",
       "       [-0.8986003 , -0.37212133, -0.19348139]], dtype=float32)"
      ]
     },
     "execution_count": 23,
     "metadata": {},
     "output_type": "execute_result"
    }
   ],
   "source": [
    "dataset.X_test[:, :3]"
   ]
  },
  {
   "cell_type": "code",
   "execution_count": null,
   "metadata": {},
   "outputs": [],
   "source": [
    "dataset.inverse_transform(dataset.X_train[:, 1:3], dataset.categorical_columns)"
   ]
  },
  {
   "cell_type": "code",
   "execution_count": 14,
   "metadata": {},
   "outputs": [],
   "source": [
    "source_class = 0\n",
    "target_class = 1\n",
    "X_test_origin = dataset.X_test[dataset.y_test == source_class]\n",
    "y_test_origin = dataset.y_test[dataset.y_test == source_class]"
   ]
  },
  {
   "cell_type": "code",
   "execution_count": 15,
   "metadata": {},
   "outputs": [
    {
     "name": "stderr",
     "output_type": "stream",
     "text": [
      "loss: 41275.0391, dist: 0.0356, max_inner: 8771.2539, loss_disc: 32477.5215, delta_loss: 26.2648: 100%|██████████| 20000/20000 [03:22<00:00, 99.00it/s]  \n"
     ]
    },
    {
     "name": "stdout",
     "output_type": "stream",
     "text": [
      "Correct: 335/643\n",
      "3\n"
     ]
    }
   ],
   "source": [
    "dataset.not_actionable_features = [\n",
    "    i\n",
    "    for i in range(len(dataset.feature_columns))\n",
    "    if i not in dataset.actionable_features\n",
    "]\n",
    "cf_method = RPPCEF(\n",
    "    X=X_test_origin,\n",
    "    cf_method_type=\"GCE\",\n",
    "    K=3,\n",
    "    gen_model=gen_model,\n",
    "    disc_model=disc_model,\n",
    "    disc_model_criterion=BinaryDiscLoss(),\n",
    "    # actionable_features=None,\n",
    "    # TODO: poprawa nazewnictwa\n",
    "    actionable_features=dataset.not_actionable_features,\n",
    "    neptune_run=None,\n",
    ")\n",
    "\n",
    "train_dataloader_for_log_prob = dataset.train_dataloader(batch_size=4096, shuffle=False)\n",
    "log_prob_threshold = torch.quantile(\n",
    "    gen_model.predict_log_prob(train_dataloader_for_log_prob),\n",
    "    0.1,\n",
    ")\n",
    "\n",
    "cf_dataloader = torch.utils.data.DataLoader(\n",
    "    torch.utils.data.TensorDataset(\n",
    "        torch.tensor(X_test_origin).float(),\n",
    "        torch.tensor(y_test_origin).float(),\n",
    "    ),\n",
    "    batch_size=4096,\n",
    "    shuffle=False,\n",
    ")\n",
    "\n",
    "\n",
    "delta, Xs, ys_orig, ys_target = cf_method.explain_dataloader(\n",
    "    dataloader=cf_dataloader,\n",
    "    epochs=20000,\n",
    "    lr=1e-3,\n",
    "    patience=1000,\n",
    "    alpha_dist=1e-2,\n",
    "    alpha_plaus=10**4,\n",
    "    alpha_class=10**5,\n",
    "    alpha_s=10**2,\n",
    "    alpha_k=10**2,\n",
    "    log_prob_threshold=log_prob_threshold,\n",
    ")\n",
    "\n",
    "M, S, D = delta.get_matrices()\n",
    "Xs_cfs = Xs + delta().detach().numpy()\n",
    "\n",
    "values, indexes = S.max(dim=1)\n",
    "\n",
    "total = len(values)\n",
    "i_correct = indexes[values == 1]\n",
    "print(f\"Correct: {len(i_correct)}/{total}\")\n",
    "print(len(set(i_correct.tolist())))"
   ]
  },
  {
   "cell_type": "code",
   "execution_count": 16,
   "metadata": {},
   "outputs": [
    {
     "data": {
      "text/plain": [
       "{'coverage': 1.0,\n",
       " 'validity': 0.7558320373250389,\n",
       " 'actionability': 0.0,\n",
       " 'sparsity': 0.2608695652173913,\n",
       " 'proximity_categorical_hamming': 0.9696066634530872,\n",
       " 'proximity_categorical_jaccard': 0.9696066634530872,\n",
       " 'proximity_continuous_manhattan': 1.4058448717164793,\n",
       " 'proximity_continuous_euclidean': 0.9696066634530872,\n",
       " 'proximity_continuous_mad': 10.902070196765036,\n",
       " 'proximity_l2_jaccard': 0.9696066634530872,\n",
       " 'proximity_mad_hamming': 10.902070196765036,\n",
       " 'prob_plausibility': 0.6936236391912908,\n",
       " 'log_density_cf': -19.389416,\n",
       " 'log_density_test': -5.6161857,\n",
       " 'lof_scores_cf': 1.3251867,\n",
       " 'lof_scores_test': 1.1561751,\n",
       " 'isolation_forest_scores_cf': 0.06668561771103282,\n",
       " 'isolation_forest_scores_test': 0.08938563744080388}"
      ]
     },
     "execution_count": 16,
     "metadata": {},
     "output_type": "execute_result"
    }
   ],
   "source": [
    "metrics = CFMetrics(\n",
    "    X_cf=Xs_cfs,\n",
    "    y_target=ys_target,\n",
    "    X_train=dataset.X_train,\n",
    "    y_train=dataset.y_train,\n",
    "    X_test=X_test_origin,\n",
    "    y_test=y_test_origin,\n",
    "    disc_model=disc_model,\n",
    "    gen_model=gen_model,\n",
    "    continuous_features=dataset.numerical_features,\n",
    "    categorical_features=dataset.categorical_features,\n",
    "    prob_plausibility_threshold=log_prob_threshold,\n",
    ")\n",
    "metrics.calc_all_metrics()"
   ]
  },
  {
   "cell_type": "code",
   "execution_count": 25,
   "metadata": {},
   "outputs": [
    {
     "data": {
      "image/png": "[encoded data removed]",
      "text/plain": [
       "<Figure size 1500x1500 with 3 Axes>"
      ]
     },
     "metadata": {},
     "output_type": "display_data"
    }
   ],
   "source": [
    "plt.figure(figsize=(15, 15))\n",
    "\n",
    "groups = S.argmax(dim=1)\n",
    "\n",
    "for i in range(D.shape[0]):\n",
    "    plt.subplot(3, 3, i + 1)\n",
    "    plt.bar(\n",
    "        range(len(dataset.actionable_features)),\n",
    "        D[i, dataset.actionable_features].detach().numpy(),\n",
    "    )\n",
    "    mean_magn = M.squeeze()[groups == i].mean(axis=0)\n",
    "    std_magn = M.squeeze()[groups == i].std(axis=0)\n",
    "    n_vectors = (S.argmax(axis=1) == i).sum()\n",
    "    feature_names = dataset.feature_columns\n",
    "    # add feature names to plot\n",
    "    plt.xticks(\n",
    "        range(len(dataset.actionable_features)),\n",
    "        [feature_names[i] for i in dataset.actionable_features],\n",
    "        rotation=45,\n",
    "    )\n",
    "    plt.title(\n",
    "        f\"CF {i}, # of cfs: {n_vectors},  Magnitude: {mean_magn:.2f} +- {std_magn:.2f}\"\n",
    "    )"
   ]
  },
  {
   "cell_type": "code",
   "execution_count": 18,
   "metadata": {},
   "outputs": [
    {
     "name": "stderr",
     "output_type": "stream",
     "text": [
      "/var/folders/br/pgzj4v8d4h5dpw0k8803m4hc0000gn/T/ipykernel_38847/1189973038.py:10: RuntimeWarning: Mean of empty slice.\n",
      "  mean_values_1 = subset_1.mean(axis=0)\n",
      "/Users/oleksiifurman/Developer/counterfactuals/venv/lib/python3.11/site-packages/numpy/core/_methods.py:121: RuntimeWarning: invalid value encountered in divide\n",
      "  ret = um.true_divide(\n",
      "/Users/oleksiifurman/Developer/counterfactuals/venv/lib/python3.11/site-packages/numpy/core/_methods.py:206: RuntimeWarning: Degrees of freedom <= 0 for slice\n",
      "  ret = _var(a, axis=axis, dtype=dtype, out=out, ddof=ddof,\n",
      "/Users/oleksiifurman/Developer/counterfactuals/venv/lib/python3.11/site-packages/numpy/core/_methods.py:163: RuntimeWarning: invalid value encountered in divide\n",
      "  arrmean = um.true_divide(arrmean, div, out=arrmean,\n",
      "/Users/oleksiifurman/Developer/counterfactuals/venv/lib/python3.11/site-packages/numpy/core/_methods.py:195: RuntimeWarning: invalid value encountered in divide\n",
      "  ret = um.true_divide(\n"
     ]
    },
    {
     "data": {
      "image/png": "[encoded data removed]",
      "text/plain": [
       "<Figure size 2500x500 with 23 Axes>"
      ]
     },
     "metadata": {},
     "output_type": "display_data"
    }
   ],
   "source": [
    "import matplotlib.pyplot as plt\n",
    "\n",
    "# First subset\n",
    "subset_0 = X_test_origin[S.argmax(dim=1) == 0]\n",
    "mean_values_0 = subset_0.mean(axis=0)\n",
    "std_values_0 = subset_0.std(axis=0)\n",
    "\n",
    "# Second subset\n",
    "subset_1 = X_test_origin[S.argmax(dim=1) == 3]\n",
    "mean_values_1 = subset_1.mean(axis=0)\n",
    "std_values_1 = subset_1.std(axis=0)\n",
    "\n",
    "fig, axes = plt.subplots(1, len(mean_values_0), figsize=(25, 5), sharey=True)\n",
    "\n",
    "for i in range(len(mean_values_0)):\n",
    "    axes[i].bar(\n",
    "        0, mean_values_0[i], yerr=std_values_0[i], capsize=5, color=\"blue\", alpha=0.7\n",
    "    )\n",
    "    axes[i].bar(\n",
    "        1, mean_values_1[i], yerr=std_values_1[i], capsize=5, color=\"green\", alpha=0.7\n",
    "    )\n",
    "    axes[i].set_xticks([0, 1])\n",
    "    # axes[i].set_xticklabels(['Subset 0', 'Subset 1'])\n",
    "    # axes[i].set_title(f'Feature {i}')\n",
    "\n",
    "fig.suptitle(\"Mean and Std of Features for Subsets 0 and 3\")\n",
    "plt.show()"
   ]
  },
  {
   "cell_type": "code",
   "execution_count": null,
   "metadata": {},
   "outputs": [],
   "source": []
  }
 ],
 "metadata": {
  "kernelspec": {
   "display_name": "venv",
   "language": "python",
   "name": "python3"
  },
  "language_info": {
   "codemirror_mode": {
    "name": "ipython",
    "version": 3
   },
   "file_extension": ".py",
   "mimetype": "text/x-python",
   "name": "python",
   "nbconvert_exporter": "python",
   "pygments_lexer": "ipython3",
   "version": "3.11.11"
  }
 },
 "nbformat": 4,
 "nbformat_minor": 4
}
