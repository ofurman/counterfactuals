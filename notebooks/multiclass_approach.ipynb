{
 "cells": [
  {
   "cell_type": "code",
   "execution_count": 1,
   "metadata": {},
   "outputs": [
    {
     "name": "stderr",
     "output_type": "stream",
     "text": [
      "/Users/ofurman/Study/counterfactuals/venv/lib/python3.11/site-packages/tqdm/auto.py:21: TqdmWarning: IProgress not found. Please update jupyter and ipywidgets. See https://ipywidgets.readthedocs.io/en/stable/user_install.html\n",
      "  from .autonotebook import tqdm as notebook_tqdm\n"
     ]
    }
   ],
   "source": [
    "import torch\n",
    "import numpy as np\n",
    "\n",
    "from counterfactuals.datasets.blobs import BlobsDataset\n",
    "from counterfactuals.discriminative_models.logistic_regression import (\n",
    "    MultinomialLogisticRegression,\n",
    ")\n",
    "from counterfactuals.generative_models import MaskedAutoregressiveFlow\n",
    "from counterfactuals.cf_methods.ppcef import PPCEF\n",
    "from counterfactuals.metrics.metrics import evaluate_cf\n",
    "\n",
    "from sklearn.metrics import classification_report\n",
    "\n",
    "import matplotlib.pyplot as plt"
   ]
  },
  {
   "cell_type": "code",
   "execution_count": 2,
   "metadata": {},
   "outputs": [],
   "source": [
    "dataset = BlobsDataset(\"../data/blobs.csv\")\n",
    "train_dataloader = dataset.train_dataloader(\n",
    "    batch_size=128,\n",
    "    shuffle=True,\n",
    "    noise_lvl=0,\n",
    ")\n",
    "test_dataloader = dataset.test_dataloader(batch_size=128, shuffle=False)"
   ]
  },
  {
   "cell_type": "code",
   "execution_count": 3,
   "metadata": {},
   "outputs": [
    {
     "name": "stderr",
     "output_type": "stream",
     "text": [
      "Epoch 99, Loss: 0.0160: 100%|██████████| 100/100 [00:00<00:00, 153.71it/s]\n"
     ]
    },
    {
     "name": "stdout",
     "output_type": "stream",
     "text": [
      "              precision    recall  f1-score   support\n",
      "\n",
      "           0       1.00      1.00      1.00        50\n",
      "           1       1.00      1.00      1.00        50\n",
      "           2       1.00      1.00      1.00        50\n",
      "\n",
      "    accuracy                           1.00       150\n",
      "   macro avg       1.00      1.00      1.00       150\n",
      "weighted avg       1.00      1.00      1.00       150\n",
      "\n"
     ]
    }
   ],
   "source": [
    "disc_model = MultinomialLogisticRegression(\n",
    "    input_size=dataset.X_test.shape[1], target_size=3\n",
    ")\n",
    "disc_model.fit(dataset.train_dataloader(128, True), epochs=100)\n",
    "preds = disc_model.predict(dataset.X_test)\n",
    "print(classification_report(dataset.y_test.flatten(), preds.numpy()))"
   ]
  },
  {
   "cell_type": "code",
   "execution_count": 4,
   "metadata": {},
   "outputs": [
    {
     "name": "stderr",
     "output_type": "stream",
     "text": [
      "Epoch 199, Train: 3.6275, test: 3.6841: 100%|██████████| 200/200 [00:07<00:00, 25.16it/s]\n"
     ]
    }
   ],
   "source": [
    "gen_model = MaskedAutoregressiveFlow(\n",
    "    features=dataset.X_test.shape[1],\n",
    "    hidden_features=4,\n",
    "    context_features=1,\n",
    ")\n",
    "gen_model.fit(train_dataloader, test_dataloader, num_epochs=200)"
   ]
  },
  {
   "cell_type": "code",
   "execution_count": 5,
   "metadata": {},
   "outputs": [
    {
     "name": "stdout",
     "output_type": "stream",
     "text": [
      "              precision    recall  f1-score   support\n",
      "\n",
      "           0       1.00      1.00      1.00        50\n",
      "           1       1.00      1.00      1.00        50\n",
      "           2       1.00      1.00      1.00        50\n",
      "\n",
      "    accuracy                           1.00       150\n",
      "   macro avg       1.00      1.00      1.00       150\n",
      "weighted avg       1.00      1.00      1.00       150\n",
      "\n"
     ]
    }
   ],
   "source": [
    "y_preds = []\n",
    "with torch.no_grad():\n",
    "    for x, y in zip(dataset.X_test, dataset.y_test):\n",
    "        x = torch.from_numpy(x).view(1, -1)\n",
    "        y_zero = torch.Tensor([0])\n",
    "        y_one = torch.Tensor([1])\n",
    "        y_two = torch.Tensor([2])\n",
    "        y_pred = np.argmax(\n",
    "            [\n",
    "                gen_model(x, y_zero).item(),\n",
    "                gen_model(x, y_one).item(),\n",
    "                gen_model(x, y_two).item(),\n",
    "            ]\n",
    "        )\n",
    "        y_preds.append(y_pred)\n",
    "print(classification_report(dataset.y_test.flatten(), y_preds))"
   ]
  },
  {
   "cell_type": "code",
   "execution_count": 6,
   "metadata": {},
   "outputs": [],
   "source": [
    "class MulticlassDiscLoss(torch.nn.modules.loss._Loss):\n",
    "    def __init__(\n",
    "        self, size_average=None, reduce=None, reduction: str = \"mean\", eps=0.02\n",
    "    ) -> None:\n",
    "        super().__init__(size_average, reduce, reduction)\n",
    "        self.eps = eps\n",
    "\n",
    "    def forward(self, input: torch.Tensor, target: torch.Tensor) -> torch.Tensor:\n",
    "        return torch.nn.functional.cross_entropy(input, target.view(-1))"
   ]
  },
  {
   "cell_type": "code",
   "execution_count": 7,
   "metadata": {},
   "outputs": [],
   "source": [
    "loss_fn = MulticlassDiscLoss()"
   ]
  },
  {
   "cell_type": "code",
   "execution_count": 8,
   "metadata": {},
   "outputs": [],
   "source": [
    "cf = PPCEF(\n",
    "    gen_model=gen_model,\n",
    "    disc_model=disc_model,\n",
    "    disc_model_criterion=loss_fn,\n",
    "    neptune_run=None,\n",
    ")"
   ]
  },
  {
   "cell_type": "code",
   "execution_count": 33,
   "metadata": {},
   "outputs": [
    {
     "name": "stderr",
     "output_type": "stream",
     "text": [
      "  0%|          | 0/1 [00:00<?, ?it/s]"
     ]
    },
    {
     "name": "stderr",
     "output_type": "stream",
     "text": [
      "100%|██████████| 1/1 [00:07<00:00,  7.35s/it]\n"
     ]
    }
   ],
   "source": [
    "delta = torch.median(gen_model.predict_log_prob(train_dataloader))\n",
    "cf_dataloader = dataset.test_dataloader(batch_size=1024, shuffle=False)\n",
    "Xs_cfs, Xs, ys_orig, loss_components = cf.search_batch(\n",
    "    cf_dataloader,\n",
    "    epochs=5000,\n",
    "    patience=200,\n",
    "    lr=0.005,\n",
    "    alpha=100,\n",
    "    delta=delta,\n",
    ")"
   ]
  },
  {
   "cell_type": "code",
   "execution_count": 34,
   "metadata": {},
   "outputs": [
    {
     "data": {
      "text/plain": [
       "dict_keys(['cf_search/loss', 'cf_search/dist', 'cf_search/max_inner', 'cf_search/loss_disc'])"
      ]
     },
     "execution_count": 34,
     "metadata": {},
     "output_type": "execute_result"
    }
   ],
   "source": [
    "loss_components.keys()"
   ]
  },
  {
   "cell_type": "code",
   "execution_count": 35,
   "metadata": {},
   "outputs": [
    {
     "data": {
      "image/png": "[encoded data removed]",
      "text/plain": [
       "<Figure size 640x480 with 4 Axes>"
      ]
     },
     "metadata": {},
     "output_type": "display_data"
    }
   ],
   "source": [
    "for i, (k, v) in enumerate(loss_components.items(), 1):\n",
    "    plt.subplot(4, 1, i)\n",
    "    plt.plot(v, label=k)\n",
    "    plt.legend()"
   ]
  },
  {
   "cell_type": "code",
   "execution_count": 28,
   "metadata": {},
   "outputs": [
    {
     "name": "stdout",
     "output_type": "stream",
     "text": [
      "(150, 2)\n"
     ]
    }
   ],
   "source": [
    "metrics = evaluate_cf(\n",
    "    gen_model=gen_model,\n",
    "    disc_model=disc_model,\n",
    "    X=Xs,\n",
    "    X_cf=Xs_cfs,\n",
    "    model_returned=np.ones(Xs_cfs.shape[0], dtype=bool),\n",
    "    categorical_features=dataset.categorical_features,\n",
    "    continuous_features=dataset.numerical_features,\n",
    "    X_train=dataset.X_train,\n",
    "    y_train=dataset.y_train.reshape(-1),\n",
    "    X_test=dataset.X_test,\n",
    "    y_test=dataset.y_test,\n",
    "    delta=delta.numpy(),\n",
    ")"
   ]
  },
  {
   "cell_type": "code",
   "execution_count": 29,
   "metadata": {},
   "outputs": [
    {
     "data": {
      "text/plain": [
       "{'model_returned_smth': 1.0,\n",
       " 'valid_cf_disc': 1.0,\n",
       " 'dissimilarity_proximity_categorical_hamming': nan,\n",
       " 'dissimilarity_proximity_categorical_jaccard': 0.0,\n",
       " 'dissimilarity_proximity_continuous_manhatan': 14.58043851741279,\n",
       " 'dissimilarity_proximity_continuous_euclidean': 10.3889407911851,\n",
       " 'dissimilarity_proximity_continuous_mad': 2.8097885219256082,\n",
       " 'distance_l2_jaccard': 10.3889407911851,\n",
       " 'distance_mad_hamming': nan,\n",
       " 'sparsity': 1.0,\n",
       " 'valid_cf_gen': 0.6733333333333333,\n",
       " 'flow_log_density_cfs_zero': -9.563441,\n",
       " 'flow_log_density_cfs_one': -10.7399435,\n",
       " 'flow_log_density_cfs': -10.151692,\n",
       " 'flow_log_density_xs_zero': -28.231096,\n",
       " 'flow_log_density_xs_one': -30.890398,\n",
       " 'flow_log_density_xs': -29.56075,\n",
       " 'flow_prob_condition_acc': 0.5}"
      ]
     },
     "execution_count": 29,
     "metadata": {},
     "output_type": "execute_result"
    }
   ],
   "source": [
    "metrics"
   ]
  },
  {
   "cell_type": "code",
   "execution_count": null,
   "metadata": {},
   "outputs": [],
   "source": []
  }
 ],
 "metadata": {
  "kernelspec": {
   "display_name": "Python 3",
   "language": "python",
   "name": "python3"
  },
  "language_info": {
   "codemirror_mode": {
    "name": "ipython",
    "version": 3
   },
   "file_extension": ".py",
   "mimetype": "text/x-python",
   "name": "python",
   "nbconvert_exporter": "python",
   "pygments_lexer": "ipython3",
   "version": "3.11.8"
  }
 },
 "nbformat": 4,
 "nbformat_minor": 4
}
