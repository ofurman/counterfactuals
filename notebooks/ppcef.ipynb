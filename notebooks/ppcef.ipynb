{
 "cells": [
  {
   "cell_type": "code",
   "execution_count": null,
   "metadata": {},
   "outputs": [],
   "source": [
    "%load_ext autoreload\n",
    "%autoreload 2"
   ]
  },
  {
   "cell_type": "code",
   "execution_count": null,
   "metadata": {},
   "outputs": [],
   "source": [
    "import torch\n",
    "\n",
    "from counterfactuals.datasets import MoonsDataset\n",
    "from counterfactuals.cf_methods.ppcef import PPCEF\n",
    "from counterfactuals.generative_models import MaskedAutoregressiveFlow\n",
    "from counterfactuals.discriminative_models import LogisticRegression\n",
    "from counterfactuals.losses import BinaryDiscLoss"
   ]
  },
  {
   "cell_type": "code",
   "execution_count": null,
   "metadata": {},
   "outputs": [],
   "source": [
    "dataset = MoonsDataset(\"data/moons.csv\")\n",
    "train_dataloader = dataset.train_dataloader(batch_size=16, shuffle=True)\n",
    "test_dataloader = dataset.test_dataloader(batch_size=16, shuffle=False)\n",
    "\n",
    "disc_model = LogisticRegression(dataset.X_test.shape[1], 1)\n",
    "disc_model.fit(train_dataloader, test_dataloader)\n",
    "\n",
    "gen_model = MaskedAutoregressiveFlow(\n",
    "    features=dataset.X_train.shape[1], hidden_features=8, context_features=1\n",
    ")\n",
    "gen_model.fit(train_dataloader, test_dataloader)\n",
    "\n",
    "cf = PPCEF(\n",
    "    gen_model=gen_model,\n",
    "    disc_model=disc_model,\n",
    "    disc_model_criterion=BinaryDiscLoss(),\n",
    "    neptune_run=None,\n",
    ")\n",
    "median_log_prob = torch.median(gen_model.predict_log_prob(test_dataloader))\n",
    "X_cf, X_orig, y_orig, y_target, _ = cf.search_batch(\n",
    "    test_dataloader, alpha=100, delta=median_log_prob\n",
    ")\n",
    "print(X_cf)"
   ]
  },
  {
   "cell_type": "code",
   "execution_count": null,
   "metadata": {},
   "outputs": [],
   "source": []
  },
  {
   "cell_type": "code",
   "execution_count": null,
   "metadata": {},
   "outputs": [],
   "source": []
  },
  {
   "cell_type": "code",
   "execution_count": null,
   "metadata": {},
   "outputs": [],
   "source": []
  },
  {
   "cell_type": "code",
   "execution_count": null,
   "metadata": {},
   "outputs": [],
   "source": []
  },
  {
   "cell_type": "code",
   "execution_count": null,
   "metadata": {},
   "outputs": [],
   "source": [
    "X_cf"
   ]
  },
  {
   "cell_type": "code",
   "execution_count": null,
   "metadata": {},
   "outputs": [],
   "source": []
  }
 ],
 "metadata": {
  "kernelspec": {
   "display_name": "venv",
   "language": "python",
   "name": "python3"
  },
  "language_info": {
   "codemirror_mode": {
    "name": "ipython",
    "version": 3
   },
   "file_extension": ".py",
   "mimetype": "text/x-python",
   "name": "python",
   "nbconvert_exporter": "python",
   "pygments_lexer": "ipython3",
   "version": "3.11.8"
  }
 },
 "nbformat": 4,
 "nbformat_minor": 2
}
