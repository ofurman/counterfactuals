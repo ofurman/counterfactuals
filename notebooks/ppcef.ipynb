{
 "cells": [
  {
   "cell_type": "code",
   "execution_count": null,
   "metadata": {
    "metadata": {}
   },
   "outputs": [],
   "source": [
    "%load_ext autoreload\n",
    "%autoreload 2"
   ]
  },
  {
   "cell_type": "code",
   "execution_count": null,
   "metadata": {
    "metadata": {}
   },
   "outputs": [],
   "source": [
    "import torch\n",
    "import numpy as np\n",
    "import matplotlib.pyplot as plt\n",
    "\n",
    "from counterfactuals.cf_methods.ppcef import PPCEF\n",
    "from counterfactuals.generative_models import MaskedAutoregressiveFlow\n",
    "from counterfactuals.discriminative_models import LinearRegression\n",
    "from counterfactuals.losses import RegressionLoss"
   ]
  },
  {
   "cell_type": "code",
   "execution_count": null,
   "metadata": {
    "metadata": {}
   },
   "outputs": [],
   "source": [
    "from sklearn.datasets import make_regression\n",
    "from sklearn.model_selection import train_test_split\n",
    "from sklearn.preprocessing import MinMaxScaler\n",
    "# from sklearn.linear_model import LinearRegression"
   ]
  },
  {
   "cell_type": "code",
   "execution_count": null,
   "metadata": {},
   "outputs": [],
   "source": [
    "X_large, y_large = make_regression(\n",
    "    n_samples=1000, n_features=2, noise=0.1, random_state=32\n",
    ")\n",
    "X = MinMaxScaler().fit_transform(X_large)\n",
    "y = MinMaxScaler().fit_transform(y_large.reshape(-1, 1)).reshape(-1)\n",
    "\n",
    "# Plotting the dataset with predictions and a color gradient based on the target value\n",
    "fig_prediction = plt.figure(figsize=(10, 8))\n",
    "ax_prediction = fig_prediction.add_subplot(111, projection=\"3d\")\n",
    "\n",
    "# Scatter plot using the actual test data and coloring based on predicted target values\n",
    "scatter = ax_prediction.scatter(X[:, 0], X[:, 1], y, c=y, cmap=\"viridis\", marker=\"o\")\n",
    "\n",
    "# Adding color bar to indicate the scale of the target values\n",
    "cbar = fig_prediction.colorbar(scatter, ax=ax_prediction, shrink=0.5, aspect=5)\n",
    "cbar.set_label(\"Predicted Target Value\")\n",
    "\n",
    "ax_prediction.set_xlabel(\"Feature 1\")\n",
    "ax_prediction.set_ylabel(\"Feature 2\")\n",
    "ax_prediction.set_zlabel(\"Actual Target\")\n",
    "\n",
    "plt.title(\"Regression Plot with Color Gradient Based on Target Value\")\n",
    "plt.show()"
   ]
  },
  {
   "cell_type": "code",
   "execution_count": null,
   "metadata": {},
   "outputs": [],
   "source": [
    "from sklearn.metrics import mean_squared_error, r2_score\n",
    "\n",
    "# Splitting the dataset into training and testing sets\n",
    "X_train, X_test, y_train, y_test = train_test_split(\n",
    "    X_large, y_large, test_size=0.2, random_state=42\n",
    ")\n",
    "\n",
    "# Initializing and fitting the Linear Regression model\n",
    "lr_model = LinearRegression()\n",
    "lr_model.fit(X_train, y_train)\n",
    "\n",
    "# Predicting target values on the testing set\n",
    "y_pred_train = lr_model.predict(X_train)\n",
    "y_pred_test = lr_model.predict(X_test)\n",
    "\n",
    "# Calculating the Mean Squared Error and R^2 Score\n",
    "mse_test = mean_squared_error(y_test, y_pred_test)\n",
    "mse_train = mean_squared_error(y_train, y_pred_train)\n",
    "r2_test = r2_score(y_test, y_pred_test)\n",
    "r2_train = r2_score(y_train, y_pred_train)\n",
    "\n",
    "print(f\"Mean Squared Error (Test): {mse_test}\")\n",
    "print(f\"Mean Squared Error (Train): {mse_train}\")\n",
    "print(f\"R^2 Score (Test): {r2_test}\")\n",
    "print(f\"R^2 Score (Train): {r2_train}\")"
   ]
  },
  {
   "cell_type": "code",
   "execution_count": null,
   "metadata": {},
   "outputs": [],
   "source": [
    "# Plotting the dataset with predictions and adding the linear regression plane\n",
    "fig_with_plane = plt.figure(figsize=(10, 8))\n",
    "ax_with_plane = fig_with_plane.add_subplot(111, projection=\"3d\")\n",
    "\n",
    "# Creating grid for the regression plane\n",
    "x_grid, y_grid = np.meshgrid(\n",
    "    np.linspace(min(X_train[:, 0]), max(X_train[:, 0]), 20),\n",
    "    np.linspace(min(X_train[:, 1]), max(X_train[:, 1]), 20),\n",
    ")\n",
    "# Predicting over the grid to plot the plane\n",
    "z_grid = lr_model.predict(np.c_[x_grid.ravel(), y_grid.ravel()]).reshape(x_grid.shape)\n",
    "\n",
    "# Plotting the regression plane\n",
    "ax_with_plane.plot_surface(x_grid, y_grid, z_grid, alpha=0.5, cmap=\"coolwarm\")\n",
    "\n",
    "# Scatter plot using the actual test data with a color gradient\n",
    "scatter = ax_with_plane.scatter(\n",
    "    X_train[:, 0], X_train[:, 1], y_train, c=y_pred_train, cmap=\"viridis\", marker=\"o\"\n",
    ")\n",
    "\n",
    "# Adding color bar to indicate the scale of the target values\n",
    "cbar = fig_with_plane.colorbar(scatter, ax=ax_with_plane, shrink=0.5, aspect=5)\n",
    "cbar.set_label(\"Predicted Target Value\")\n",
    "\n",
    "ax_with_plane.set_xlabel(\"Feature 1\")\n",
    "ax_with_plane.set_ylabel(\"Feature 2\")\n",
    "ax_with_plane.set_zlabel(\"Actual Target\")\n",
    "\n",
    "plt.title(\"3D Regression Plot with Prediction Plane and Color Gradient\")\n",
    "plt.show()"
   ]
  },
  {
   "cell_type": "code",
   "execution_count": null,
   "metadata": {},
   "outputs": [],
   "source": [
    "# Plotting the dataset with predictions and adding the linear regression plane\n",
    "fig_with_plane = plt.figure(figsize=(10, 8))\n",
    "ax_with_plane = fig_with_plane.add_subplot(111, projection=\"3d\")\n",
    "\n",
    "# Creating grid for the regression plane\n",
    "x_grid, y_grid = np.meshgrid(\n",
    "    np.linspace(min(X_test[:, 0]), max(X_test[:, 0]), 20),\n",
    "    np.linspace(min(X_test[:, 1]), max(X_test[:, 1]), 20),\n",
    ")\n",
    "# Predicting over the grid to plot the plane\n",
    "z_grid = lr_model.predict(np.c_[x_grid.ravel(), y_grid.ravel()]).reshape(x_grid.shape)\n",
    "\n",
    "# Plotting the regression plane\n",
    "ax_with_plane.plot_surface(x_grid, y_grid, z_grid, alpha=0.5, cmap=\"coolwarm\")\n",
    "\n",
    "# Scatter plot using the actual test data with a color gradient\n",
    "scatter = ax_with_plane.scatter(\n",
    "    X_test[:, 0], X_test[:, 1], y_test, c=y_pred_test, cmap=\"viridis\", marker=\"o\"\n",
    ")\n",
    "\n",
    "# Adding color bar to indicate the scale of the target values\n",
    "cbar = fig_with_plane.colorbar(scatter, ax=ax_with_plane, shrink=0.5, aspect=5)\n",
    "cbar.set_label(\"Predicted Target Value\")\n",
    "\n",
    "ax_with_plane.set_xlabel(\"Feature 1\")\n",
    "ax_with_plane.set_ylabel(\"Feature 2\")\n",
    "ax_with_plane.set_zlabel(\"Actual Target\")\n",
    "\n",
    "plt.title(\"3D Regression Plot with Prediction Plane and Color Gradient\")\n",
    "plt.show()"
   ]
  },
  {
   "cell_type": "code",
   "execution_count": null,
   "metadata": {
    "metadata": {}
   },
   "outputs": [],
   "source": [
    "import torch.utils\n",
    "import torch.utils.data\n",
    "\n",
    "\n",
    "X_train, X_test, y_train, y_test = train_test_split(\n",
    "    X, y, test_size=0.2, random_state=42\n",
    ")\n",
    "\n",
    "train_dataloader = torch.utils.data.DataLoader(\n",
    "    torch.utils.data.TensorDataset(\n",
    "        torch.tensor(X_train, dtype=torch.float32),\n",
    "        torch.tensor(y_train, dtype=torch.float32),\n",
    "    ),\n",
    "    batch_size=1024,\n",
    "    shuffle=True,\n",
    ")\n",
    "test_dataloader = torch.utils.data.DataLoader(\n",
    "    torch.utils.data.TensorDataset(\n",
    "        torch.tensor(X_test, dtype=torch.float32),\n",
    "        torch.tensor(y_test, dtype=torch.float32),\n",
    "    ),\n",
    "    batch_size=1024,\n",
    "    shuffle=False,\n",
    ")"
   ]
  },
  {
   "cell_type": "code",
   "execution_count": null,
   "metadata": {
    "metadata": {}
   },
   "outputs": [],
   "source": [
    "# dataset = WineQualityDataset(\"../data/regression/winequality.csv\")\n",
    "# train_dataloader = dataset.train_dataloader(batch_size=256, shuffle=True, label_noise_lvl=0.0)\n",
    "# test_dataloader = dataset.test_dataloader(batch_size=256, shuffle=False)"
   ]
  },
  {
   "cell_type": "code",
   "execution_count": null,
   "metadata": {
    "metadata": {}
   },
   "outputs": [],
   "source": [
    "disc_model = LinearRegression(2, 1)\n",
    "disc_model.fit(train_dataloader, test_dataloader, epochs=3000, lr=0.003)"
   ]
  },
  {
   "cell_type": "code",
   "execution_count": null,
   "metadata": {},
   "outputs": [],
   "source": [
    "# Plotting the dataset with predictions and adding the linear regression plane\n",
    "fig_with_plane = plt.figure(figsize=(10, 8))\n",
    "ax_with_plane = fig_with_plane.add_subplot(111, projection=\"3d\")\n",
    "\n",
    "# Creating grid for the regression plane\n",
    "x_grid, y_grid = np.meshgrid(\n",
    "    np.linspace(min(X_test[:, 0]), max(X_test[:, 0]), 20),\n",
    "    np.linspace(min(X_test[:, 1]), max(X_test[:, 1]), 20),\n",
    ")\n",
    "# Predicting over the grid to plot the plane\n",
    "z_grid = disc_model.predict(np.c_[x_grid.ravel(), y_grid.ravel()]).reshape(x_grid.shape)\n",
    "\n",
    "# Plotting the regression plane\n",
    "ax_with_plane.plot_surface(x_grid, y_grid, z_grid, alpha=0.5, cmap=\"viridis\")\n",
    "\n",
    "y_pred_test = disc_model.predict(X_test)\n",
    "\n",
    "# Scatter plot using the actual test data with a color gradient\n",
    "scatter = ax_with_plane.scatter(\n",
    "    X_test[:, 0],\n",
    "    X_test[:, 1],\n",
    "    y_test,\n",
    "    c=y_pred_test,\n",
    "    cmap=\"viridis\",\n",
    "    marker=\"o\",\n",
    "    edgecolors=\"black\",\n",
    ")\n",
    "\n",
    "# Adding color bar to indicate the scale of the target values\n",
    "cbar = fig_with_plane.colorbar(scatter, ax=ax_with_plane, shrink=0.5, aspect=5)\n",
    "cbar.set_label(\"Predicted Target Value\")\n",
    "\n",
    "ax_with_plane.set_xlabel(\"Feature 1\")\n",
    "ax_with_plane.set_ylabel(\"Feature 2\")\n",
    "ax_with_plane.set_zlabel(\"Actual Target\")\n",
    "\n",
    "plt.title(\"3D Regression Plot with Prediction Plane\")\n",
    "plt.show()"
   ]
  },
  {
   "cell_type": "code",
   "execution_count": null,
   "metadata": {},
   "outputs": [],
   "source": [
    "def collate_fn(batch):\n",
    "    X, y = zip(*batch)\n",
    "    X = torch.stack(X)\n",
    "    y = torch.stack(y)\n",
    "\n",
    "    # Add Gaussian noise to train features\n",
    "    X = X + (torch.randn_like(X) * 0.03)\n",
    "\n",
    "    # Add Gaussian noise to train labels\n",
    "    y = y + (torch.randn_like(y) * 0.01)\n",
    "    return X, y\n",
    "\n",
    "\n",
    "gen_train_dataloader = torch.utils.data.DataLoader(\n",
    "    torch.utils.data.TensorDataset(\n",
    "        torch.from_numpy(X_train).float(), torch.from_numpy(y_train).float()\n",
    "    ),\n",
    "    batch_size=1024,\n",
    "    shuffle=True,\n",
    "    collate_fn=collate_fn,\n",
    ")"
   ]
  },
  {
   "cell_type": "code",
   "execution_count": null,
   "metadata": {
    "metadata": {}
   },
   "outputs": [],
   "source": [
    "# train_dataloader = dataset.train_dataloader(batch_size=256, shuffle=True, noise_lvl=0.003)\n",
    "# test_dataloader = dataset.test_dataloader(batch_size=256, shuffle=False)\n",
    "\n",
    "gen_model = MaskedAutoregressiveFlow(\n",
    "    features=2,\n",
    "    hidden_features=8,\n",
    "    num_layers=2,\n",
    "    num_blocks_per_layer=2,\n",
    "    context_features=1,\n",
    ")\n",
    "gen_model.fit(\n",
    "    gen_train_dataloader,\n",
    "    test_dataloader,\n",
    "    num_epochs=3000,\n",
    "    patience=100,\n",
    "    learning_rate=0.001,\n",
    ")"
   ]
  },
  {
   "cell_type": "code",
   "execution_count": null,
   "metadata": {
    "metadata": {}
   },
   "outputs": [],
   "source": [
    "xline = torch.linspace(-0.25, 1.25, 200)\n",
    "yline = torch.linspace(-0.25, 1.25, 200)\n",
    "xgrid, ygrid = torch.meshgrid(xline, yline)\n",
    "xyinput = torch.cat([xgrid.reshape(-1, 1), ygrid.reshape(-1, 1)], dim=1)"
   ]
  },
  {
   "cell_type": "code",
   "execution_count": null,
   "metadata": {
    "metadata": {}
   },
   "outputs": [],
   "source": [
    "median_log_prob = torch.median(gen_model.predict_log_prob(test_dataloader))\n",
    "median_log_prob"
   ]
  },
  {
   "cell_type": "code",
   "execution_count": null,
   "metadata": {
    "metadata": {}
   },
   "outputs": [],
   "source": [
    "with torch.no_grad():\n",
    "    ys = torch.fill_(torch.zeros_like(xyinput[:, 0]), 0.55)\n",
    "    zgrid = gen_model(xyinput, ys).exp().reshape(200, 200)\n",
    "zgrid = zgrid.numpy()\n",
    "plt.contour(\n",
    "    xgrid.numpy(),\n",
    "    ygrid.numpy(),\n",
    "    zgrid,\n",
    "    levels=10,\n",
    "    cmap=\"Greys\",\n",
    "    linewidths=0.4,\n",
    "    antialiased=True,\n",
    ")\n",
    "\n",
    "prob_threshold_exp = np.exp(median_log_prob)\n",
    "plt.contourf(\n",
    "    xgrid.numpy(),\n",
    "    ygrid.numpy(),\n",
    "    zgrid,\n",
    "    levels=[prob_threshold_exp, prob_threshold_exp * 10.00],\n",
    "    alpha=0.5,\n",
    "    colors=\"#DC143C\",\n",
    ")  # 10.00 is an arbitrary huge value to colour the whole distribution.\n",
    "# plt.scatter(X_train[:, 0], y_train, c=\"blue\", alpha=0.1)"
   ]
  },
  {
   "cell_type": "code",
   "execution_count": null,
   "metadata": {
    "metadata": {}
   },
   "outputs": [],
   "source": [
    "cf = PPCEF(\n",
    "    gen_model=gen_model,\n",
    "    disc_model=disc_model,\n",
    "    disc_model_criterion=RegressionLoss(),\n",
    "    neptune_run=None,\n",
    ")\n",
    "median_log_prob = torch.median(gen_model.predict_log_prob(test_dataloader))\n",
    "X_cf, X_orig, y_orig, y_target, losses = cf.search_batch(\n",
    "    test_dataloader,\n",
    "    alpha=100,\n",
    "    delta=median_log_prob,\n",
    "    target=0.2,\n",
    "    patience=100,\n",
    "    epochs=2000,\n",
    ")\n",
    "# print(X_cf)"
   ]
  },
  {
   "cell_type": "code",
   "execution_count": null,
   "metadata": {
    "metadata": {}
   },
   "outputs": [],
   "source": [
    "plt.figure(figsize=(15, 10))\n",
    "for i, (loss_name, loss_values) in enumerate(losses.items()):\n",
    "    plt.subplot(len(losses), 1, i + 1)\n",
    "    plt.plot(loss_values, label=loss_name)\n",
    "    plt.legend()"
   ]
  },
  {
   "cell_type": "code",
   "execution_count": null,
   "metadata": {
    "metadata": {}
   },
   "outputs": [],
   "source": [
    "np.mean(np.abs(disc_model.predict(X_cf).numpy() - y_target.reshape(-1)))"
   ]
  },
  {
   "cell_type": "code",
   "execution_count": null,
   "metadata": {
    "metadata": {}
   },
   "outputs": [],
   "source": [
    "np.mean(np.abs(disc_model.predict(X_orig).numpy() - y_target))"
   ]
  },
  {
   "cell_type": "code",
   "execution_count": null,
   "metadata": {},
   "outputs": [],
   "source": [
    "(\n",
    "    gen_model(torch.from_numpy(X_cf), torch.from_numpy(y_target)) > median_log_prob\n",
    ").float().mean()"
   ]
  },
  {
   "cell_type": "code",
   "execution_count": null,
   "metadata": {
    "metadata": {}
   },
   "outputs": [],
   "source": [
    "# plt.scatter(X_train[:, 1], y_train, c=\"black\", label=\"train\")\n",
    "plt.scatter(X_test[:, 1], y_test, c=\"blue\", label=\"test\")\n",
    "plt.scatter(X_cf[:, 1], y_target, c=\"red\", label=\"cf\")"
   ]
  },
  {
   "cell_type": "code",
   "execution_count": null,
   "metadata": {},
   "outputs": [],
   "source": [
    "# Plotting the dataset with predictions and adding the linear regression plane\n",
    "fig_with_plane = plt.figure(figsize=(10, 8))\n",
    "ax_with_plane = fig_with_plane.add_subplot(111, projection=\"3d\")\n",
    "\n",
    "# Creating grid for the regression plane\n",
    "x_grid, y_grid = np.meshgrid(\n",
    "    np.linspace(min(X_train[:, 0]), max(X_train[:, 0]), 20),\n",
    "    np.linspace(min(X_train[:, 1]), max(X_train[:, 1]), 20),\n",
    ")\n",
    "# Predicting over the grid to plot the plane\n",
    "z_grid = disc_model.predict(np.c_[x_grid.ravel(), y_grid.ravel()]).reshape(x_grid.shape)\n",
    "\n",
    "# Plotting the regression plane\n",
    "# ax_with_plane.plot_surface(x_grid, y_grid, z_grid, alpha=0.5, cmap='coolwarm')\n",
    "\n",
    "y_cf_pred = disc_model.predict(X_cf)\n",
    "\n",
    "# Scatter plot using the actual test data with a color gradient\n",
    "scatter = ax_with_plane.scatter(\n",
    "    X_train[:, 0],\n",
    "    X_train[:, 1],\n",
    "    y_train,\n",
    "    c=y_train,\n",
    "    cmap=\"viridis\",\n",
    "    marker=\"o\",\n",
    "    alpha=0.2,\n",
    ")\n",
    "scatter = ax_with_plane.scatter(\n",
    "    X_cf[:, 0], X_cf[:, 1], y_cf_pred, c=\"red\", cmap=\"viridis\", marker=\"o\"\n",
    ")\n",
    "\n",
    "# Adding color bar to indicate the scale of the target values\n",
    "cbar = fig_with_plane.colorbar(scatter, ax=ax_with_plane, shrink=0.5, aspect=5)\n",
    "cbar.set_label(\"Predicted Target Value\")\n",
    "\n",
    "ax_with_plane.set_xlabel(\"Feature 1\")\n",
    "ax_with_plane.set_ylabel(\"Feature 2\")\n",
    "ax_with_plane.set_zlabel(\"Actual Target\")\n",
    "\n",
    "plt.title(\"3D Regression Plot with Prediction Plane and Color Gradient\")\n",
    "plt.show()"
   ]
  },
  {
   "cell_type": "code",
   "execution_count": null,
   "metadata": {},
   "outputs": [],
   "source": []
  }
 ],
 "metadata": {
  "kernelspec": {
   "display_name": "venv",
   "language": "python",
   "name": "python3"
  },
  "language_info": {
   "codemirror_mode": {
    "name": "ipython",
    "version": 3
   },
   "file_extension": ".py",
   "mimetype": "text/x-python",
   "name": "python",
   "nbconvert_exporter": "python",
   "pygments_lexer": "ipython3",
   "version": "3.11.9"
  }
 },
 "nbformat": 4,
 "nbformat_minor": 2
}
