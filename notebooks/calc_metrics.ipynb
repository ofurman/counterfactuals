{
 "cells": [
  {
   "cell_type": "code",
   "execution_count": 476,
   "metadata": {},
   "outputs": [],
   "source": [
    "from pathlib import Path\n",
    "import pandas as pd"
   ]
  },
  {
   "cell_type": "code",
   "execution_count": 477,
   "metadata": {},
   "outputs": [],
   "source": [
    "def dataframe_to_markdown(df):\n",
    "    headers = list(df.columns)\n",
    "    markdown = \"| \" + \" | \".join(headers) + \" |\\n\"\n",
    "    markdown += \"| \" + \" | \".join([\"---\"] * len(headers)) + \" |\\n\"\n",
    "\n",
    "    for _, row in df.iterrows():\n",
    "        markdown += \"| \" + \" | \".join(str(cell) for cell in row) + \" |\\n\"\n",
    "    return markdown"
   ]
  },
  {
   "cell_type": "code",
   "execution_count": null,
   "metadata": {},
   "outputs": [],
   "source": [
    "dataset = \"HelocDataset\"\n",
    "method = \"PUMAL/E19\"\n",
    "# model_name = \"MultilayerPerceptron\"\n",
    "model_name = \"MultinomialLogisticRegression\"\n",
    "\n",
    "root = f\"../models/{dataset}/{method}\""
   ]
  },
  {
   "cell_type": "code",
   "execution_count": 479,
   "metadata": {},
   "outputs": [],
   "source": [
    "metrics = []\n",
    "time_files = []"
   ]
  },
  {
   "cell_type": "code",
   "execution_count": 480,
   "metadata": {},
   "outputs": [],
   "source": [
    "for i in range(5):\n",
    "    path = Path(root) / f\"fold_{i}\" / f\"cf_metrics_{model_name}.csv\"\n",
    "    df = pd.read_csv(path)\n",
    "    metrics.append(df)"
   ]
  },
  {
   "cell_type": "code",
   "execution_count": 481,
   "metadata": {},
   "outputs": [],
   "source": [
    "merged_df = pd.concat(metrics, axis=0, ignore_index=True)"
   ]
  },
  {
   "cell_type": "code",
   "execution_count": 482,
   "metadata": {},
   "outputs": [],
   "source": [
    "mean_ = merged_df.mean(axis=0)\n",
    "std_ = merged_df.std(axis=0)"
   ]
  },
  {
   "cell_type": "code",
   "execution_count": 483,
   "metadata": {},
   "outputs": [],
   "source": [
    "def format_mean_std(m, s):\n",
    "    return f\"{m:.2f} ± {s:.2f}\"\n",
    "\n",
    "\n",
    "# Create the merged table\n",
    "formatted = pd.DataFrame(\n",
    "    {col: [format_mean_std(mean_[col], std_[col])] for col in merged_df.columns}\n",
    ").T"
   ]
  },
  {
   "cell_type": "code",
   "execution_count": 484,
   "metadata": {},
   "outputs": [],
   "source": [
    "used_metrics = [\n",
    "    \"K_vectors\",\n",
    "    \"coverage\",\n",
    "    \"validity\",\n",
    "    \"proximity_continuous_euclidean\",\n",
    "    \"isolation_forest_scores_cf\",\n",
    "    \"log_density_cf\",\n",
    "    # \"lof_scores_cf\",\n",
    "    \"prob_plausibility\",\n",
    "    \"pairwise_cosine_sim_min\",\n",
    "]"
   ]
  },
  {
   "cell_type": "code",
   "execution_count": 485,
   "metadata": {},
   "outputs": [],
   "source": [
    "transposed = formatted.T\n",
    "transposed = transposed[used_metrics]"
   ]
  },
  {
   "cell_type": "code",
   "execution_count": 486,
   "metadata": {},
   "outputs": [
    {
     "data": {
      "text/html": [
       "<div>\n",
       "<style scoped>\n",
       "    .dataframe tbody tr th:only-of-type {\n",
       "        vertical-align: middle;\n",
       "    }\n",
       "\n",
       "    .dataframe tbody tr th {\n",
       "        vertical-align: top;\n",
       "    }\n",
       "\n",
       "    .dataframe thead th {\n",
       "        text-align: right;\n",
       "    }\n",
       "</style>\n",
       "<table border=\"1\" class=\"dataframe\">\n",
       "  <thead>\n",
       "    <tr style=\"text-align: right;\">\n",
       "      <th></th>\n",
       "      <th>K_vectors</th>\n",
       "      <th>coverage</th>\n",
       "      <th>validity</th>\n",
       "      <th>proximity_continuous_euclidean</th>\n",
       "      <th>isolation_forest_scores_cf</th>\n",
       "      <th>log_density_cf</th>\n",
       "      <th>prob_plausibility</th>\n",
       "      <th>pairwise_cosine_sim_min</th>\n",
       "    </tr>\n",
       "  </thead>\n",
       "  <tbody>\n",
       "    <tr>\n",
       "      <th>0</th>\n",
       "      <td>290.00 ± 31.80</td>\n",
       "      <td>1.00 ± 0.00</td>\n",
       "      <td>1.00 ± 0.00</td>\n",
       "      <td>0.44 ± 0.06</td>\n",
       "      <td>0.08 ± 0.00</td>\n",
       "      <td>33.32 ± 0.41</td>\n",
       "      <td>0.99 ± 0.01</td>\n",
       "      <td>0.09 ± 0.02</td>\n",
       "    </tr>\n",
       "  </tbody>\n",
       "</table>\n",
       "</div>"
      ],
      "text/plain": [
       "        K_vectors     coverage     validity proximity_continuous_euclidean  \\\n",
       "0  290.00 ± 31.80  1.00 ± 0.00  1.00 ± 0.00                    0.44 ± 0.06   \n",
       "\n",
       "  isolation_forest_scores_cf log_density_cf prob_plausibility  \\\n",
       "0                0.08 ± 0.00   33.32 ± 0.41       0.99 ± 0.01   \n",
       "\n",
       "  pairwise_cosine_sim_min  \n",
       "0             0.09 ± 0.02  "
      ]
     },
     "execution_count": 486,
     "metadata": {},
     "output_type": "execute_result"
    }
   ],
   "source": [
    "transposed"
   ]
  },
  {
   "cell_type": "code",
   "execution_count": 487,
   "metadata": {},
   "outputs": [
    {
     "name": "stdout",
     "output_type": "stream",
     "text": [
      "| K_vectors | coverage | validity | proximity_continuous_euclidean | isolation_forest_scores_cf | log_density_cf | prob_plausibility | pairwise_cosine_sim_min |\n",
      "| --- | --- | --- | --- | --- | --- | --- | --- |\n",
      "| 290.00 ± 31.80 | 1.00 ± 0.00 | 1.00 ± 0.00 | 0.44 ± 0.06 | 0.08 ± 0.00 | 33.32 ± 0.41 | 0.99 ± 0.01 | 0.09 ± 0.02 |\n",
      "\n"
     ]
    }
   ],
   "source": [
    "print(dataframe_to_markdown(transposed))"
   ]
  }
 ],
 "metadata": {
  "kernelspec": {
   "display_name": ".venv",
   "language": "python",
   "name": "python3"
  },
  "language_info": {
   "codemirror_mode": {
    "name": "ipython",
    "version": 3
   },
   "file_extension": ".py",
   "mimetype": "text/x-python",
   "name": "python",
   "nbconvert_exporter": "python",
   "pygments_lexer": "ipython3",
   "version": "3.9.19"
  }
 },
 "nbformat": 4,
 "nbformat_minor": 2
}
