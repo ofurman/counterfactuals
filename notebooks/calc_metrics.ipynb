{
 "cells": [
  {
   "cell_type": "code",
   "execution_count": 1,
   "metadata": {},
   "outputs": [],
   "source": [
    "from pathlib import Path\n",
    "import numpy as np\n",
    "import pandas as pd"
   ]
  },
  {
   "cell_type": "code",
   "execution_count": 2,
   "metadata": {},
   "outputs": [],
   "source": [
    "dataset = \"HelocDataset\"\n",
    "method = \"GLOBE_CE\"\n",
    "model_name = \"MultilayerPerceptron\"\n",
    "# model_name = \"MultinomialLogisticRegression\"\n",
    "\n",
    "root = f\"../models/{dataset}/{method}\""
   ]
  },
  {
   "cell_type": "code",
   "execution_count": 3,
   "metadata": {},
   "outputs": [],
   "source": [
    "metrics = []\n",
    "time_files = []"
   ]
  },
  {
   "cell_type": "code",
   "execution_count": 4,
   "metadata": {},
   "outputs": [],
   "source": [
    "for i in range(5):\n",
    "    path = Path(root) / f\"fold_{i}\" / f\"cf_metrics_{model_name}.csv\"\n",
    "    df = pd.read_csv(path)\n",
    "    metrics.append(df)\n",
    "\n",
    "    path = Path(root) / f\"fold_{i}\" / \"search_time.txt\"\n",
    "    with open(path, \"r\") as f:\n",
    "        search_time = f.read()\n",
    "\n",
    "    time_files.append(float(search_time))"
   ]
  },
  {
   "cell_type": "code",
   "execution_count": 5,
   "metadata": {},
   "outputs": [],
   "source": [
    "merged_df = pd.concat(metrics, axis=0, ignore_index=True)"
   ]
  },
  {
   "cell_type": "code",
   "execution_count": 6,
   "metadata": {},
   "outputs": [
    {
     "name": "stderr",
     "output_type": "stream",
     "text": [
      "/Users/lukasz/miniconda3/envs/globe-ce/lib/python3.11/site-packages/pandas/core/nanops.py:1016: RuntimeWarning: invalid value encountered in subtract\n",
      "  sqr = _ensure_numeric((avg - values) ** 2)\n"
     ]
    }
   ],
   "source": [
    "mean_ = merged_df.mean(axis=0)\n",
    "std_ = merged_df.std(axis=0)"
   ]
  },
  {
   "cell_type": "code",
   "execution_count": 7,
   "metadata": {},
   "outputs": [],
   "source": [
    "def format_mean_std(m, s):\n",
    "    return f\"{m:.2f} ± {s:.2f}\"\n",
    "\n",
    "\n",
    "# Create the merged table\n",
    "formatted = pd.DataFrame(\n",
    "    {col: [format_mean_std(mean_[col], std_[col])] for col in merged_df.columns}\n",
    ").T"
   ]
  },
  {
   "cell_type": "code",
   "execution_count": 8,
   "metadata": {},
   "outputs": [],
   "source": [
    "used_metrics = [\n",
    "    \"coverage\",\n",
    "    \"validity\",\n",
    "    \"proximity_continuous_euclidean\",\n",
    "    \"prob_plausibility\",\n",
    "    \"log_density_cf\",\n",
    "    \"isolation_forest_scores_cf\",\n",
    "    \"lof_scores_cf\",\n",
    "]"
   ]
  },
  {
   "cell_type": "code",
   "execution_count": 9,
   "metadata": {},
   "outputs": [],
   "source": [
    "transposed = formatted.T\n",
    "transposed = transposed[used_metrics]"
   ]
  },
  {
   "cell_type": "code",
   "execution_count": 10,
   "metadata": {},
   "outputs": [],
   "source": [
    "transposed[\"search_time\"] = [f\"{np.mean(time_files):.2f} ± {np.std(time_files):.2f}\"]"
   ]
  },
  {
   "cell_type": "code",
   "execution_count": 11,
   "metadata": {},
   "outputs": [
    {
     "data": {
      "text/html": [
       "<div>\n",
       "<style scoped>\n",
       "    .dataframe tbody tr th:only-of-type {\n",
       "        vertical-align: middle;\n",
       "    }\n",
       "\n",
       "    .dataframe tbody tr th {\n",
       "        vertical-align: top;\n",
       "    }\n",
       "\n",
       "    .dataframe thead th {\n",
       "        text-align: right;\n",
       "    }\n",
       "</style>\n",
       "<table border=\"1\" class=\"dataframe\">\n",
       "  <thead>\n",
       "    <tr style=\"text-align: right;\">\n",
       "      <th></th>\n",
       "      <th>coverage</th>\n",
       "      <th>validity</th>\n",
       "      <th>proximity_continuous_euclidean</th>\n",
       "      <th>prob_plausibility</th>\n",
       "      <th>log_density_cf</th>\n",
       "      <th>isolation_forest_scores_cf</th>\n",
       "      <th>lof_scores_cf</th>\n",
       "      <th>search_time</th>\n",
       "    </tr>\n",
       "  </thead>\n",
       "  <tbody>\n",
       "    <tr>\n",
       "      <th>0</th>\n",
       "      <td>1.00 ± 0.00</td>\n",
       "      <td>0.99 ± 0.02</td>\n",
       "      <td>0.74 ± 0.18</td>\n",
       "      <td>0.12 ± 0.04</td>\n",
       "      <td>-inf ± nan</td>\n",
       "      <td>0.05 ± 0.01</td>\n",
       "      <td>2.22 ± 0.37</td>\n",
       "      <td>4.75 ± 0.22</td>\n",
       "    </tr>\n",
       "  </tbody>\n",
       "</table>\n",
       "</div>"
      ],
      "text/plain": [
       "      coverage     validity proximity_continuous_euclidean prob_plausibility  \\\n",
       "0  1.00 ± 0.00  0.99 ± 0.02                    0.74 ± 0.18       0.12 ± 0.04   \n",
       "\n",
       "  log_density_cf isolation_forest_scores_cf lof_scores_cf  search_time  \n",
       "0     -inf ± nan                0.05 ± 0.01   2.22 ± 0.37  4.75 ± 0.22  "
      ]
     },
     "execution_count": 11,
     "metadata": {},
     "output_type": "execute_result"
    }
   ],
   "source": [
    "transposed"
   ]
  },
  {
   "cell_type": "code",
   "execution_count": 12,
   "metadata": {},
   "outputs": [
    {
     "data": {
      "text/plain": [
       "'| 1.00 ± 0.00 | 0.99 ± 0.02 | 0.74 ± 0.18 | 0.12 ± 0.04 | -inf ± nan | 0.05 ± 0.01 | 2.22 ± 0.37 | 4.75 ± 0.22 |'"
      ]
     },
     "execution_count": 12,
     "metadata": {},
     "output_type": "execute_result"
    }
   ],
   "source": [
    "\"| \" + \" | \".join(transposed.loc[0].to_list()) + \" |\""
   ]
  },
  {
   "cell_type": "code",
   "execution_count": 13,
   "metadata": {},
   "outputs": [],
   "source": [
    "t = [\n",
    "    18.37492847442627,\n",
    "    18.803892135620117,\n",
    "    18.664883852005005,\n",
    "    18.604572057724,\n",
    "    18.54537868499756,\n",
    "]"
   ]
  }
 ],
 "metadata": {
  "kernelspec": {
   "display_name": "globe-ce",
   "language": "python",
   "name": "python3"
  },
  "language_info": {
   "codemirror_mode": {
    "name": "ipython",
    "version": 3
   },
   "file_extension": ".py",
   "mimetype": "text/x-python",
   "name": "python",
   "nbconvert_exporter": "python",
   "pygments_lexer": "ipython3",
   "version": "3.11.9"
  }
 },
 "nbformat": 4,
 "nbformat_minor": 2
}
