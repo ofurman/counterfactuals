{
 "cells": [
  {
   "cell_type": "code",
   "execution_count": 109,
   "metadata": {},
   "outputs": [],
   "source": [
    "from pathlib import Path\n",
    "import pandas as pd"
   ]
  },
  {
   "cell_type": "code",
   "execution_count": 110,
   "metadata": {},
   "outputs": [],
   "source": [
    "def dataframe_to_markdown(df):\n",
    "    headers = list(df.columns)\n",
    "    markdown = \"| \" + \" | \".join(headers) + \" |\\n\"\n",
    "    markdown += \"| \" + \" | \".join([\"---\"] * len(headers)) + \" |\\n\"\n",
    "\n",
    "    for _, row in df.iterrows():\n",
    "        markdown += \"| \" + \" | \".join(str(cell) for cell in row) + \" |\\n\"\n",
    "    return markdown"
   ]
  },
  {
   "cell_type": "code",
   "execution_count": 111,
   "metadata": {},
   "outputs": [],
   "source": [
    "dataset = \"LawDataset\"\n",
    "method = \"CCHVAE\"\n",
    "model_name = \"MultilayerPerceptron\"\n",
    "# model_name = \"MultinomialLogisticRegression\"\n",
    "\n",
    "root = f\"../models/{dataset}/{method}\""
   ]
  },
  {
   "cell_type": "code",
   "execution_count": 112,
   "metadata": {},
   "outputs": [],
   "source": [
    "metrics = []\n",
    "time_files = []"
   ]
  },
  {
   "cell_type": "code",
   "execution_count": 113,
   "metadata": {},
   "outputs": [],
   "source": [
    "for i in range(5):\n",
    "    path = Path(root) / f\"fold_{i}\" / f\"cf_metrics_{model_name}.csv\"\n",
    "    df = pd.read_csv(path)\n",
    "    metrics.append(df)"
   ]
  },
  {
   "cell_type": "code",
   "execution_count": 114,
   "metadata": {},
   "outputs": [],
   "source": [
    "merged_df = pd.concat(metrics, axis=0, ignore_index=True)"
   ]
  },
  {
   "cell_type": "code",
   "execution_count": 115,
   "metadata": {},
   "outputs": [],
   "source": [
    "mean_ = merged_df.mean(axis=0)\n",
    "std_ = merged_df.std(axis=0)"
   ]
  },
  {
   "cell_type": "code",
   "execution_count": 116,
   "metadata": {},
   "outputs": [],
   "source": [
    "def format_mean_std(m, s):\n",
    "    return f\"{m:.2f} ± {s:.2f}\"\n",
    "\n",
    "\n",
    "# Create the merged table\n",
    "formatted = pd.DataFrame(\n",
    "    {col: [format_mean_std(mean_[col], std_[col])] for col in merged_df.columns}\n",
    ").T"
   ]
  },
  {
   "cell_type": "code",
   "execution_count": 117,
   "metadata": {},
   "outputs": [],
   "source": [
    "used_metrics = [\n",
    "    \"validity\",\n",
    "    \"prob_plausibility\",\n",
    "    \"lof_scores_cf\",\n",
    "    \"isolation_forest_scores_cf\",\n",
    "    \"log_density_cf\",\n",
    "    \"proximity_continuous_manhattan\",\n",
    "    \"proximity_continuous_euclidean\",\n",
    "    \"cf_search_time\",\n",
    "]"
   ]
  },
  {
   "cell_type": "code",
   "execution_count": 118,
   "metadata": {},
   "outputs": [],
   "source": [
    "transposed = formatted.T\n",
    "transposed = transposed[used_metrics]"
   ]
  },
  {
   "cell_type": "code",
   "execution_count": 119,
   "metadata": {},
   "outputs": [
    {
     "data": {
      "text/html": [
       "<div>\n",
       "<style scoped>\n",
       "    .dataframe tbody tr th:only-of-type {\n",
       "        vertical-align: middle;\n",
       "    }\n",
       "\n",
       "    .dataframe tbody tr th {\n",
       "        vertical-align: top;\n",
       "    }\n",
       "\n",
       "    .dataframe thead th {\n",
       "        text-align: right;\n",
       "    }\n",
       "</style>\n",
       "<table border=\"1\" class=\"dataframe\">\n",
       "  <thead>\n",
       "    <tr style=\"text-align: right;\">\n",
       "      <th></th>\n",
       "      <th>validity</th>\n",
       "      <th>prob_plausibility</th>\n",
       "      <th>lof_scores_cf</th>\n",
       "      <th>isolation_forest_scores_cf</th>\n",
       "      <th>log_density_cf</th>\n",
       "      <th>proximity_continuous_manhattan</th>\n",
       "      <th>proximity_continuous_euclidean</th>\n",
       "      <th>cf_search_time</th>\n",
       "    </tr>\n",
       "  </thead>\n",
       "  <tbody>\n",
       "    <tr>\n",
       "      <th>0</th>\n",
       "      <td>0.78 ± 0.02</td>\n",
       "      <td>0.97 ± 0.02</td>\n",
       "      <td>3.26 ± 1.64</td>\n",
       "      <td>0.11 ± 0.01</td>\n",
       "      <td>-10.35 ± 0.89</td>\n",
       "      <td>0.73 ± 0.03</td>\n",
       "      <td>0.69 ± 0.03</td>\n",
       "      <td>6.65 ± 0.70</td>\n",
       "    </tr>\n",
       "  </tbody>\n",
       "</table>\n",
       "</div>"
      ],
      "text/plain": [
       "      validity prob_plausibility lof_scores_cf isolation_forest_scores_cf  \\\n",
       "0  0.78 ± 0.02       0.97 ± 0.02   3.26 ± 1.64                0.11 ± 0.01   \n",
       "\n",
       "  log_density_cf proximity_continuous_manhattan  \\\n",
       "0  -10.35 ± 0.89                    0.73 ± 0.03   \n",
       "\n",
       "  proximity_continuous_euclidean cf_search_time  \n",
       "0                    0.69 ± 0.03    6.65 ± 0.70  "
      ]
     },
     "execution_count": 119,
     "metadata": {},
     "output_type": "execute_result"
    }
   ],
   "source": [
    "transposed"
   ]
  },
  {
   "cell_type": "code",
   "execution_count": 120,
   "metadata": {},
   "outputs": [
    {
     "name": "stdout",
     "output_type": "stream",
     "text": [
      "| validity | prob_plausibility | lof_scores_cf | isolation_forest_scores_cf | log_density_cf | proximity_continuous_manhattan | proximity_continuous_euclidean | cf_search_time |\n",
      "| --- | --- | --- | --- | --- | --- | --- | --- |\n",
      "| 0.78 ± 0.02 | 0.97 ± 0.02 | 3.26 ± 1.64 | 0.11 ± 0.01 | -10.35 ± 0.89 | 0.73 ± 0.03 | 0.69 ± 0.03 | 6.65 ± 0.70 |\n",
      "\n"
     ]
    }
   ],
   "source": [
    "print(dataframe_to_markdown(transposed))"
   ]
  },
  {
   "cell_type": "code",
   "execution_count": null,
   "metadata": {},
   "outputs": [],
   "source": []
  },
  {
   "cell_type": "markdown",
   "metadata": {},
   "source": [
    "German\n",
    "\n",
    "MLR\n",
    "| validity |\n",
    "| --- |\n",
    "| 0.38 ± 0.06 |\n",
    "\n",
    "MLP\n",
    "\n",
    "| validity |\n",
    "| --- |\n",
    "| 0.57 ± 0.16 |\n",
    "\n",
    "Law\n",
    "\n",
    "MLR\n",
    "| validity |\n",
    "| --- |\n",
    "| 0.89 ± 0.25 |\n",
    "\n",
    "MLP\n",
    "\n",
    "| validity |\n",
    "| --- |\n",
    "| 1.00 ± 0.00 |\n",
    "\n",
    "Adult\n",
    "\n",
    "MLR\n",
    "\n",
    "| validity |\n",
    "| --- |\n",
    "| 0.57 ± 0.04 |\n",
    "\n",
    "MLP\n",
    "\n",
    "| validity |\n",
    "| --- |\n",
    "| 0.63 ± 0.06 |"
   ]
  }
 ],
 "metadata": {
  "kernelspec": {
   "display_name": "cf",
   "language": "python",
   "name": "python3"
  },
  "language_info": {
   "codemirror_mode": {
    "name": "ipython",
    "version": 3
   },
   "file_extension": ".py",
   "mimetype": "text/x-python",
   "name": "python",
   "nbconvert_exporter": "python",
   "pygments_lexer": "ipython3",
   "version": "3.11.9"
  }
 },
 "nbformat": 4,
 "nbformat_minor": 2
}
