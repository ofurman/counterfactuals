{
 "cells": [
  {
   "cell_type": "code",
   "execution_count": 66,
   "metadata": {},
   "outputs": [],
   "source": [
    "from pathlib import Path\n",
    "import pandas as pd"
   ]
  },
  {
   "cell_type": "code",
   "execution_count": 67,
   "metadata": {},
   "outputs": [],
   "source": [
    "def dataframe_to_markdown(df):\n",
    "    headers = list(df.columns)\n",
    "    markdown = \"| \" + \" | \".join(headers) + \" |\\n\"\n",
    "    markdown += \"| \" + \" | \".join([\"---\"] * len(headers)) + \" |\\n\"\n",
    "\n",
    "    for _, row in df.iterrows():\n",
    "        markdown += \"| \" + \" | \".join(str(cell) for cell in row) + \" |\\n\"\n",
    "    return markdown"
   ]
  },
  {
   "cell_type": "code",
   "execution_count": 68,
   "metadata": {},
   "outputs": [],
   "source": [
    "dataset = \"WineDataset\"\n",
    "method = \"Group_GLOBE_CE\"\n",
    "model_name = \"MultilayerPerceptron\"\n",
    "# model_name = \"MultinomialLogisticRegression\"\n",
    "\n",
    "root = f\"../models/{dataset}/{method}\""
   ]
  },
  {
   "cell_type": "code",
   "execution_count": 69,
   "metadata": {},
   "outputs": [],
   "source": [
    "metrics = []\n",
    "time_files = []"
   ]
  },
  {
   "cell_type": "code",
   "execution_count": 70,
   "metadata": {},
   "outputs": [],
   "source": [
    "for i in range(5):\n",
    "    path = Path(root) / f\"fold_{i}\" / f\"cf_metrics_{model_name}.csv\"\n",
    "    df = pd.read_csv(path)\n",
    "    metrics.append(df)"
   ]
  },
  {
   "cell_type": "code",
   "execution_count": 71,
   "metadata": {},
   "outputs": [],
   "source": [
    "merged_df = pd.concat(metrics, axis=0, ignore_index=True)"
   ]
  },
  {
   "cell_type": "code",
   "execution_count": 72,
   "metadata": {},
   "outputs": [],
   "source": [
    "mean_ = merged_df.mean(axis=0)\n",
    "std_ = merged_df.std(axis=0)"
   ]
  },
  {
   "cell_type": "code",
   "execution_count": 73,
   "metadata": {},
   "outputs": [],
   "source": [
    "def format_mean_std(m, s):\n",
    "    return f\"{m:.2f} ± {s:.2f}\"\n",
    "\n",
    "\n",
    "# Create the merged table\n",
    "formatted = pd.DataFrame(\n",
    "    {col: [format_mean_std(mean_[col], std_[col])] for col in merged_df.columns}\n",
    ").T"
   ]
  },
  {
   "cell_type": "code",
   "execution_count": 74,
   "metadata": {},
   "outputs": [],
   "source": [
    "used_metrics = [\n",
    "    \"coverage\",\n",
    "    \"validity\",\n",
    "    \"proximity_continuous_euclidean\",\n",
    "    \"prob_plausibility\",\n",
    "    \"log_density_cf\",\n",
    "    \"isolation_forest_scores_cf\",\n",
    "    \"lof_scores_cf\",\n",
    "    \"cf_search_time\",\n",
    "]"
   ]
  },
  {
   "cell_type": "code",
   "execution_count": 75,
   "metadata": {},
   "outputs": [],
   "source": [
    "transposed = formatted.T\n",
    "transposed = transposed[used_metrics]"
   ]
  },
  {
   "cell_type": "code",
   "execution_count": 76,
   "metadata": {},
   "outputs": [
    {
     "data": {
      "text/html": [
       "<div>\n",
       "<style scoped>\n",
       "    .dataframe tbody tr th:only-of-type {\n",
       "        vertical-align: middle;\n",
       "    }\n",
       "\n",
       "    .dataframe tbody tr th {\n",
       "        vertical-align: top;\n",
       "    }\n",
       "\n",
       "    .dataframe thead th {\n",
       "        text-align: right;\n",
       "    }\n",
       "</style>\n",
       "<table border=\"1\" class=\"dataframe\">\n",
       "  <thead>\n",
       "    <tr style=\"text-align: right;\">\n",
       "      <th></th>\n",
       "      <th>coverage</th>\n",
       "      <th>validity</th>\n",
       "      <th>proximity_continuous_euclidean</th>\n",
       "      <th>prob_plausibility</th>\n",
       "      <th>log_density_cf</th>\n",
       "      <th>isolation_forest_scores_cf</th>\n",
       "      <th>lof_scores_cf</th>\n",
       "      <th>cf_search_time</th>\n",
       "    </tr>\n",
       "  </thead>\n",
       "  <tbody>\n",
       "    <tr>\n",
       "      <th>0</th>\n",
       "      <td>1.00 ± 0.00</td>\n",
       "      <td>0.11 ± 0.24</td>\n",
       "      <td>0.78 ± nan</td>\n",
       "      <td>0.03 ± 0.04</td>\n",
       "      <td>-55.74 ± 104.10</td>\n",
       "      <td>0.06 ± 0.02</td>\n",
       "      <td>1.11 ± 0.21</td>\n",
       "      <td>2.29 ± 0.23</td>\n",
       "    </tr>\n",
       "  </tbody>\n",
       "</table>\n",
       "</div>"
      ],
      "text/plain": [
       "      coverage     validity proximity_continuous_euclidean prob_plausibility  \\\n",
       "0  1.00 ± 0.00  0.11 ± 0.24                     0.78 ± nan       0.03 ± 0.04   \n",
       "\n",
       "    log_density_cf isolation_forest_scores_cf lof_scores_cf cf_search_time  \n",
       "0  -55.74 ± 104.10                0.06 ± 0.02   1.11 ± 0.21    2.29 ± 0.23  "
      ]
     },
     "execution_count": 76,
     "metadata": {},
     "output_type": "execute_result"
    }
   ],
   "source": [
    "transposed"
   ]
  },
  {
   "cell_type": "code",
   "execution_count": 77,
   "metadata": {},
   "outputs": [
    {
     "name": "stdout",
     "output_type": "stream",
     "text": [
      "| coverage | validity | proximity_continuous_euclidean | prob_plausibility | log_density_cf | isolation_forest_scores_cf | lof_scores_cf | cf_search_time |\n",
      "| --- | --- | --- | --- | --- | --- | --- | --- |\n",
      "| 1.00 ± 0.00 | 0.11 ± 0.24 | 0.78 ± nan | 0.03 ± 0.04 | -55.74 ± 104.10 | 0.06 ± 0.02 | 1.11 ± 0.21 | 2.29 ± 0.23 |\n",
      "\n"
     ]
    }
   ],
   "source": [
    "print(dataframe_to_markdown(transposed))"
   ]
  },
  {
   "cell_type": "code",
   "execution_count": 78,
   "metadata": {},
   "outputs": [
    {
     "data": {
      "text/plain": [
       "'| 1.00 ± 0.00 | 0.11 ± 0.24 | 0.78 ± nan | 0.03 ± 0.04 | -55.74 ± 104.10 | 0.06 ± 0.02 | 1.11 ± 0.21 | 2.29 ± 0.23 |'"
      ]
     },
     "execution_count": 78,
     "metadata": {},
     "output_type": "execute_result"
    }
   ],
   "source": [
    "\"| \" + \" | \".join(transposed.loc[0].to_list()) + \" |\""
   ]
  }
 ],
 "metadata": {
  "kernelspec": {
   "display_name": "cf",
   "language": "python",
   "name": "python3"
  },
  "language_info": {
   "codemirror_mode": {
    "name": "ipython",
    "version": 3
   },
   "file_extension": ".py",
   "mimetype": "text/x-python",
   "name": "python",
   "nbconvert_exporter": "python",
   "pygments_lexer": "ipython3",
   "version": "3.11.9"
  }
 },
 "nbformat": 4,
 "nbformat_minor": 2
}
