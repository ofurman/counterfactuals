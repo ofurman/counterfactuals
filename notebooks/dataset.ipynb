{
 "cells": [
  {
   "cell_type": "code",
   "execution_count": 11,
   "id": "1343c194",
   "metadata": {},
   "outputs": [],
   "source": [
    "from counterfactuals.datasets import GiveMeSomeCreditDataset"
   ]
  },
  {
   "cell_type": "code",
   "execution_count": 12,
   "id": "8beb304c",
   "metadata": {},
   "outputs": [],
   "source": []
  },
  {
   "cell_type": "code",
   "execution_count": 13,
   "id": "bfbae290",
   "metadata": {},
   "outputs": [],
   "source": [
    "ds = GiveMeSomeCreditDataset(\"../data/give_me_some_credit.csv\")"
   ]
  },
  {
   "cell_type": "code",
   "execution_count": 14,
   "id": "875a2059",
   "metadata": {},
   "outputs": [
    {
     "name": "stdout",
     "output_type": "stream",
     "text": [
      "(80000, 45) (20000, 45) (80000,) (20000,)\n",
      "#######\n",
      "(80000, 45) (20000, 45) (80000,) (20000,)\n",
      "#######\n",
      "(80000, 47) (20000, 47) (80000,) (20000,)\n",
      "#######\n",
      "(80000, 47) (20000, 47) (80000,) (20000,)\n",
      "#######\n",
      "(80000, 47) (20000, 47) (80000,) (20000,)\n",
      "#######\n"
     ]
    }
   ],
   "source": [
    "for X_train, X_test, y_train, y_test in ds.get_cv_splits():\n",
    "    print(X_train.shape, X_test.shape, y_train.shape, y_test.shape)\n",
    "    print(\"#######\")"
   ]
  }
 ],
 "metadata": {
  "kernelspec": {
   "display_name": "cf",
   "language": "python",
   "name": "python3"
  },
  "language_info": {
   "codemirror_mode": {
    "name": "ipython",
    "version": 3
   },
   "file_extension": ".py",
   "mimetype": "text/x-python",
   "name": "python",
   "nbconvert_exporter": "python",
   "pygments_lexer": "ipython3",
   "version": "3.11.9"
  }
 },
 "nbformat": 4,
 "nbformat_minor": 5
}
