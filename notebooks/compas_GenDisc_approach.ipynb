{
 "cells": [
  {
   "cell_type": "code",
   "execution_count": 1,
   "metadata": {},
   "outputs": [],
   "source": [
    "%load_ext autoreload\n",
    "%autoreload 2"
   ]
  },
  {
   "cell_type": "code",
   "execution_count": 2,
   "metadata": {},
   "outputs": [],
   "source": [
    "import torch\n",
    "import numpy as np"
   ]
  },
  {
   "cell_type": "code",
   "execution_count": 3,
   "metadata": {},
   "outputs": [
    {
     "name": "stderr",
     "output_type": "stream",
     "text": [
      "/Users/ofurman/Study/counterfactuals/venv/lib/python3.11/site-packages/tqdm/auto.py:21: TqdmWarning: IProgress not found. Please update jupyter and ipywidgets. See https://ipywidgets.readthedocs.io/en/stable/user_install.html\n",
      "  from .autonotebook import tqdm as notebook_tqdm\n"
     ]
    }
   ],
   "source": [
    "from nflows.flows import MaskedAutoregressiveFlow\n",
    "\n",
    "from counterfactuals.datasets.heloc import HelocDataset\n",
    "from counterfactuals.datasets.moons import MoonsDataset\n",
    "from counterfactuals.datasets.law import LawDataset\n",
    "from counterfactuals.datasets.compas import CompasDataset\n",
    "\n",
    "from counterfactuals.optimizers.approach_gen_disc import ApproachGenDisc\n",
    "\n",
    "from sklearn.linear_model import LogisticRegression\n",
    "from sklearn.neural_network import MLPClassifier\n",
    "from sklearn.metrics import classification_report\n",
    "\n",
    "from counterfactuals.metrics.metrics import (\n",
    "    perc_valid_cf,\n",
    "    perc_valid_actionable_cf,\n",
    "    continuous_distance,\n",
    "    categorical_distance,\n",
    "    distance_l2_jaccard,\n",
    "    distance_mad_hamming,\n",
    "    plausibility,\n",
    "    delta_proba\n",
    ")"
   ]
  },
  {
   "cell_type": "code",
   "execution_count": 4,
   "metadata": {},
   "outputs": [],
   "source": [
    "dataset = CompasDataset(file_path=\"../data/origin/compas_two_years.csv\")\n",
    "train_dataloader = dataset.train_dataloader(batch_size=64, shuffle=True)\n",
    "test_dataloader = dataset.test_dataloader(batch_size=64, shuffle=False)"
   ]
  },
  {
   "cell_type": "code",
   "execution_count": 5,
   "metadata": {},
   "outputs": [
    {
     "name": "stdout",
     "output_type": "stream",
     "text": [
      "              precision    recall  f1-score   support\n",
      "\n",
      "         0.0       0.79      0.77      0.78       423\n",
      "         1.0       0.78      0.79      0.78       419\n",
      "\n",
      "    accuracy                           0.78       842\n",
      "   macro avg       0.78      0.78      0.78       842\n",
      "weighted avg       0.78      0.78      0.78       842\n",
      "\n"
     ]
    },
    {
     "name": "stderr",
     "output_type": "stream",
     "text": [
      "/Users/ofurman/Study/counterfactuals/venv/lib/python3.11/site-packages/sklearn/neural_network/_multilayer_perceptron.py:691: ConvergenceWarning: Stochastic Optimizer: Maximum iterations (100) reached and the optimization hasn't converged yet.\n",
      "  warnings.warn(\n"
     ]
    }
   ],
   "source": [
    "# clf = LogisticRegression()\n",
    "clf = MLPClassifier((128, 64), max_iter=100)\n",
    "clf.fit(dataset.X_train, dataset.y_train)\n",
    "y_pred_train = clf.predict(dataset.X_train)\n",
    "y_pred_test = clf.predict(dataset.X_test)\n",
    "print(classification_report(dataset.y_test, y_pred_test, output_dict=False))"
   ]
  },
  {
   "cell_type": "code",
   "execution_count": 6,
   "metadata": {},
   "outputs": [],
   "source": [
    "flow = MaskedAutoregressiveFlow(features=dataset.X_test.shape[1], hidden_features=4, context_features=None)\n",
    "cf = ApproachGenDisc(gen_model=flow, disc_model=clf)"
   ]
  },
  {
   "cell_type": "code",
   "execution_count": 7,
   "metadata": {},
   "outputs": [
    {
     "name": "stderr",
     "output_type": "stream",
     "text": [
      "Epochs:   2%|▏         | 3/200 [00:00<00:17, 11.02it/s]"
     ]
    },
    {
     "name": "stdout",
     "output_type": "stream",
     "text": [
      "Epoch 0, Train: 43.587529828471524, test: 40.9719249180385\n"
     ]
    },
    {
     "name": "stderr",
     "output_type": "stream",
     "text": [
      "Epochs:   6%|▋         | 13/200 [00:01<00:15, 11.78it/s]"
     ]
    },
    {
     "name": "stdout",
     "output_type": "stream",
     "text": [
      "Epoch 10, Train: -0.2981909133734242, test: -0.4081937564270837\n"
     ]
    },
    {
     "name": "stderr",
     "output_type": "stream",
     "text": [
      "Epochs:  12%|█▏        | 23/200 [00:01<00:15, 11.68it/s]"
     ]
    },
    {
     "name": "stdout",
     "output_type": "stream",
     "text": [
      "Epoch 20, Train: -1.7054029251298597, test: -1.7455938820328032\n"
     ]
    },
    {
     "name": "stderr",
     "output_type": "stream",
     "text": [
      "Epochs:  16%|█▋        | 33/200 [00:02<00:13, 12.17it/s]"
     ]
    },
    {
     "name": "stdout",
     "output_type": "stream",
     "text": [
      "Epoch 30, Train: -2.7367403891778763, test: -2.654904763613428\n"
     ]
    },
    {
     "name": "stderr",
     "output_type": "stream",
     "text": [
      "Epochs:  22%|██▏       | 43/200 [00:03<00:12, 12.20it/s]"
     ]
    },
    {
     "name": "stdout",
     "output_type": "stream",
     "text": [
      "Epoch 40, Train: -5.598197437101795, test: -5.734824333872114\n"
     ]
    },
    {
     "name": "stderr",
     "output_type": "stream",
     "text": [
      "Epochs:  26%|██▋       | 53/200 [00:04<00:12, 12.17it/s]"
     ]
    },
    {
     "name": "stdout",
     "output_type": "stream",
     "text": [
      "Epoch 50, Train: -8.505825988708004, test: -8.692775419780187\n"
     ]
    },
    {
     "name": "stderr",
     "output_type": "stream",
     "text": [
      "Epochs:  32%|███▏      | 63/200 [00:05<00:11, 12.22it/s]"
     ]
    },
    {
     "name": "stdout",
     "output_type": "stream",
     "text": [
      "Epoch 60, Train: -11.140110646524738, test: -11.858657564435687\n"
     ]
    },
    {
     "name": "stderr",
     "output_type": "stream",
     "text": [
      "Epochs:  36%|███▋      | 73/200 [00:06<00:10, 12.21it/s]"
     ]
    },
    {
     "name": "stdout",
     "output_type": "stream",
     "text": [
      "Epoch 70, Train: -14.252436945515294, test: -14.949844496590751\n"
     ]
    },
    {
     "name": "stderr",
     "output_type": "stream",
     "text": [
      "Epochs:  42%|████▏     | 83/200 [00:06<00:09, 12.23it/s]"
     ]
    },
    {
     "name": "stdout",
     "output_type": "stream",
     "text": [
      "Epoch 80, Train: -16.196782081357895, test: -16.682552610124862\n"
     ]
    },
    {
     "name": "stderr",
     "output_type": "stream",
     "text": [
      "Epochs:  46%|████▋     | 93/200 [00:07<00:08, 12.30it/s]"
     ]
    },
    {
     "name": "stdout",
     "output_type": "stream",
     "text": [
      "Epoch 90, Train: -17.096112558918616, test: -17.896042619432723\n"
     ]
    },
    {
     "name": "stderr",
     "output_type": "stream",
     "text": [
      "Epochs:  52%|█████▏    | 103/200 [00:08<00:07, 12.17it/s]"
     ]
    },
    {
     "name": "stdout",
     "output_type": "stream",
     "text": [
      "Epoch 100, Train: -17.7854548423521, test: -18.370494161333358\n"
     ]
    },
    {
     "name": "stderr",
     "output_type": "stream",
     "text": [
      "Epochs:  56%|█████▋    | 113/200 [00:09<00:07, 12.22it/s]"
     ]
    },
    {
     "name": "stdout",
     "output_type": "stream",
     "text": [
      "Epoch 110, Train: -19.10747460396059, test: -19.635623659406388\n"
     ]
    },
    {
     "name": "stderr",
     "output_type": "stream",
     "text": [
      "Epochs:  62%|██████▏   | 123/200 [00:10<00:06, 12.18it/s]"
     ]
    },
    {
     "name": "stdout",
     "output_type": "stream",
     "text": [
      "Epoch 120, Train: -18.915714756135017, test: -19.579544884817942\n"
     ]
    },
    {
     "name": "stderr",
     "output_type": "stream",
     "text": [
      "Epochs:  66%|██████▋   | 133/200 [00:10<00:05, 12.23it/s]"
     ]
    },
    {
     "name": "stdout",
     "output_type": "stream",
     "text": [
      "Epoch 130, Train: -19.159069645789362, test: -19.48715795789446\n"
     ]
    },
    {
     "name": "stderr",
     "output_type": "stream",
     "text": [
      "Epochs:  72%|███████▏  | 143/200 [00:11<00:04, 12.23it/s]"
     ]
    },
    {
     "name": "stdout",
     "output_type": "stream",
     "text": [
      "Epoch 140, Train: -19.953757532181278, test: -19.762725830078125\n"
     ]
    },
    {
     "name": "stderr",
     "output_type": "stream",
     "text": [
      "Epochs:  76%|███████▋  | 153/200 [00:12<00:03, 12.20it/s]"
     ]
    },
    {
     "name": "stdout",
     "output_type": "stream",
     "text": [
      "Epoch 150, Train: -19.91091315977035, test: -20.95369257245745\n"
     ]
    },
    {
     "name": "stderr",
     "output_type": "stream",
     "text": [
      "Epochs:  82%|████████▏ | 163/200 [00:13<00:03, 12.15it/s]"
     ]
    },
    {
     "name": "stdout",
     "output_type": "stream",
     "text": [
      "Epoch 160, Train: -19.46411508129489, test: -19.560198102678573\n"
     ]
    },
    {
     "name": "stderr",
     "output_type": "stream",
     "text": [
      "Epochs:  86%|████████▋ | 173/200 [00:14<00:02, 12.17it/s]"
     ]
    },
    {
     "name": "stdout",
     "output_type": "stream",
     "text": [
      "Epoch 170, Train: -20.995983246834047, test: -21.2900573185512\n"
     ]
    },
    {
     "name": "stderr",
     "output_type": "stream",
     "text": [
      "Epochs:  92%|█████████▏| 183/200 [00:15<00:01, 12.19it/s]"
     ]
    },
    {
     "name": "stdout",
     "output_type": "stream",
     "text": [
      "Epoch 180, Train: -20.055115607477003, test: -21.225250925336564\n"
     ]
    },
    {
     "name": "stderr",
     "output_type": "stream",
     "text": [
      "Epochs:  96%|█████████▋| 193/200 [00:15<00:00, 12.17it/s]"
     ]
    },
    {
     "name": "stdout",
     "output_type": "stream",
     "text": [
      "Epoch 190, Train: -21.634810909148186, test: -21.794276646205358\n"
     ]
    },
    {
     "name": "stderr",
     "output_type": "stream",
     "text": [
      "Epochs: 100%|██████████| 200/200 [00:16<00:00, 12.11it/s]\n"
     ]
    }
   ],
   "source": [
    "cf.train_model(\n",
    "    train_loader=train_dataloader,\n",
    "    test_loader=test_dataloader,\n",
    "    epochs=200,\n",
    "    verbose=True\n",
    ")"
   ]
  },
  {
   "cell_type": "code",
   "execution_count": 8,
   "metadata": {},
   "outputs": [
    {
     "name": "stdout",
     "output_type": "stream",
     "text": [
      "              precision    recall  f1-score   support\n",
      "\n",
      "         0.0       0.50      1.00      0.67       423\n",
      "         1.0       0.00      0.00      0.00       419\n",
      "\n",
      "    accuracy                           0.50       842\n",
      "   macro avg       0.25      0.50      0.33       842\n",
      "weighted avg       0.25      0.50      0.34       842\n",
      "\n"
     ]
    },
    {
     "name": "stderr",
     "output_type": "stream",
     "text": [
      "/Users/ofurman/Study/counterfactuals/venv/lib/python3.11/site-packages/sklearn/metrics/_classification.py:1471: UndefinedMetricWarning: Precision and F-score are ill-defined and being set to 0.0 in labels with no predicted samples. Use `zero_division` parameter to control this behavior.\n",
      "  _warn_prf(average, modifier, msg_start, len(result))\n",
      "/Users/ofurman/Study/counterfactuals/venv/lib/python3.11/site-packages/sklearn/metrics/_classification.py:1471: UndefinedMetricWarning: Precision and F-score are ill-defined and being set to 0.0 in labels with no predicted samples. Use `zero_division` parameter to control this behavior.\n",
      "  _warn_prf(average, modifier, msg_start, len(result))\n",
      "/Users/ofurman/Study/counterfactuals/venv/lib/python3.11/site-packages/sklearn/metrics/_classification.py:1471: UndefinedMetricWarning: Precision and F-score are ill-defined and being set to 0.0 in labels with no predicted samples. Use `zero_division` parameter to control this behavior.\n",
      "  _warn_prf(average, modifier, msg_start, len(result))\n"
     ]
    }
   ],
   "source": [
    "cf.test_model(test_loader=test_dataloader)"
   ]
  },
  {
   "cell_type": "code",
   "execution_count": 9,
   "metadata": {},
   "outputs": [
    {
     "name": "stderr",
     "output_type": "stream",
     "text": [
      "0it [00:00, ?it/s]"
     ]
    },
    {
     "name": "stderr",
     "output_type": "stream",
     "text": [
      "100it [00:25,  3.85it/s]\n"
     ]
    }
   ],
   "source": [
    "Xs_cfs = cf.generate_counterfactuals(Xs=dataset.X_test[:100], ys=dataset.y_test[:100], num_epochs=100, lr=0.005, alpha=20, beta=0.01)\n",
    "Xs_cfs = torch.concat(Xs_cfs).detach()"
   ]
  },
  {
   "cell_type": "code",
   "execution_count": 11,
   "metadata": {},
   "outputs": [],
   "source": [
    "y_cfs_pred_mlpc = clf.predict(Xs_cfs)\n",
    "y_orig_pred_mlpc = clf.predict(dataset.X_test[:100])"
   ]
  },
  {
   "cell_type": "code",
   "execution_count": 12,
   "metadata": {},
   "outputs": [
    {
     "data": {
      "text/plain": [
       "{'valid_cf': 0.02,\n",
       " 'valid_cf_for_orig_data': 0.22,\n",
       " 'continuous_distance': 10.4251913975653,\n",
       " 'categorical_distance': 0.48,\n",
       " 'distance_l2_jaccard': 0.27139890054267696,\n",
       " 'distance_mad_hamming': 5.112228220476975,\n",
       " 'plausibility': 7.521560593275668,\n",
       " 'delta_probability': 0.020853292,\n",
       " 'log_density': 21.179031}"
      ]
     },
     "execution_count": 12,
     "metadata": {},
     "output_type": "execute_result"
    }
   ],
   "source": [
    "X = dataset.X_test[:100]\n",
    "ys_cfs_pred = clf.predict(Xs_cfs)\n",
    "ys_orig_pred = clf.predict(dataset.X_test[:100])\n",
    "ys_orig = dataset.y_test[:100].flatten()\n",
    "\n",
    "{\n",
    "    \"valid_cf\": perc_valid_cf(ys_orig_pred, y_cf=ys_cfs_pred),\n",
    "    \"valid_cf_for_orig_data\": perc_valid_cf(ys_orig, y_cf=ys_cfs_pred),\n",
    "    # \"perc_valid_actionable_cf\": perc_valid_actionable_cf(X=dataset.X_test[:100], X_cf=Xs_cfs, y=ys_orig_pred, y_cf=ys_cfs_pred, actionable_features=[1,2]),\n",
    "    \"continuous_distance\": continuous_distance(X=X, X_cf=Xs_cfs, continuous_features=dataset.continuous_columns, metric='mad', X_all=dataset.X_test),\n",
    "    \"categorical_distance\": categorical_distance(X=X, X_cf=Xs_cfs, categorical_features=dataset.categorical_columns, metric='jaccard', agg='mean'),\n",
    "    \"distance_l2_jaccard\": distance_l2_jaccard(X=X, X_cf=Xs_cfs, continuous_features=dataset.continuous_columns, categorical_features=dataset.categorical_columns),\n",
    "    \"distance_mad_hamming\": distance_mad_hamming(X=X, X_cf=Xs_cfs,\n",
    "                                                 continuous_features=dataset.continuous_columns, categorical_features=dataset.categorical_columns, X_all=X, agg='mean'),\n",
    "    \"plausibility\": plausibility(\n",
    "        X, Xs_cfs, ys_orig,\n",
    "        continuous_features_all=dataset.continuous_columns,\n",
    "        categorical_features_all=dataset.categorical_columns,\n",
    "        X_train=dataset.X_train,\n",
    "        ratio_cont=None\n",
    "    ),\n",
    "    \"delta_probability\": delta_proba(X, Xs_cfs, classifier=clf),\n",
    "    \"log_density\": np.mean(cf.predict_model(test_dataloader))\n",
    "}"
   ]
  },
  {
   "cell_type": "code",
   "execution_count": null,
   "metadata": {},
   "outputs": [],
   "source": []
  }
 ],
 "metadata": {
  "kernelspec": {
   "display_name": "venv",
   "language": "python",
   "name": "python3"
  },
  "language_info": {
   "codemirror_mode": {
    "name": "ipython",
    "version": 3
   },
   "file_extension": ".py",
   "mimetype": "text/x-python",
   "name": "python",
   "nbconvert_exporter": "python",
   "pygments_lexer": "ipython3",
   "version": "3.11.6"
  }
 },
 "nbformat": 4,
 "nbformat_minor": 2
}
