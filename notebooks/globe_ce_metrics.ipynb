{
 "cells": [
  {
   "cell_type": "code",
   "execution_count": 1,
   "metadata": {},
   "outputs": [],
   "source": [
    "from pathlib import Path\n",
    "\n",
    "import pandas as pd"
   ]
  },
  {
   "cell_type": "code",
   "execution_count": 2,
   "metadata": {},
   "outputs": [],
   "source": [
    "root = \"../models\""
   ]
  },
  {
   "cell_type": "code",
   "execution_count": 3,
   "metadata": {},
   "outputs": [],
   "source": [
    "DATASET = \"WineDataset\""
   ]
  },
  {
   "cell_type": "code",
   "execution_count": 4,
   "metadata": {},
   "outputs": [],
   "source": [
    "stat_files = list(Path(root).rglob(f\"{DATASET}/GLOBE_CE/fold_*/cf_metrics_*.csv\"))"
   ]
  },
  {
   "cell_type": "code",
   "execution_count": 5,
   "metadata": {},
   "outputs": [],
   "source": []
  },
  {
   "cell_type": "code",
   "execution_count": 6,
   "metadata": {},
   "outputs": [],
   "source": [
    "metric_means = {}"
   ]
  },
  {
   "cell_type": "code",
   "execution_count": 7,
   "metadata": {},
   "outputs": [],
   "source": [
    "results = {}"
   ]
  },
  {
   "cell_type": "code",
   "execution_count": 10,
   "metadata": {},
   "outputs": [],
   "source": [
    "def get_model_name(stat_file):\n",
    "    return str(stat_file).split(\"/\")[-1].split(\".\")[-2].split(\"_\")[-1]"
   ]
  },
  {
   "cell_type": "code",
   "execution_count": 16,
   "metadata": {},
   "outputs": [
    {
     "data": {
      "text/html": [
       "<div>\n",
       "<style scoped>\n",
       "    .dataframe tbody tr th:only-of-type {\n",
       "        vertical-align: middle;\n",
       "    }\n",
       "\n",
       "    .dataframe tbody tr th {\n",
       "        vertical-align: top;\n",
       "    }\n",
       "\n",
       "    .dataframe thead th {\n",
       "        text-align: right;\n",
       "    }\n",
       "</style>\n",
       "<table border=\"1\" class=\"dataframe\">\n",
       "  <thead>\n",
       "    <tr style=\"text-align: right;\">\n",
       "      <th></th>\n",
       "      <th>Dataset</th>\n",
       "      <th>coverage</th>\n",
       "      <th>validity</th>\n",
       "      <th>actionability</th>\n",
       "      <th>sparsity</th>\n",
       "      <th>proximity_categorical_hamming</th>\n",
       "      <th>proximity_categorical_jaccard</th>\n",
       "      <th>proximity_continuous_manhattan</th>\n",
       "      <th>proximity_continuous_euclidean</th>\n",
       "      <th>proximity_continuous_mad</th>\n",
       "      <th>proximity_l2_jaccard</th>\n",
       "      <th>proximity_mad_hamming</th>\n",
       "      <th>prob_plausibility</th>\n",
       "      <th>log_density_cf</th>\n",
       "      <th>log_density_test</th>\n",
       "      <th>lof_scores_cf</th>\n",
       "      <th>lof_scores_test</th>\n",
       "      <th>isolation_forest_scores_cf</th>\n",
       "      <th>isolation_forest_scores_test</th>\n",
       "    </tr>\n",
       "  </thead>\n",
       "  <tbody>\n",
       "    <tr>\n",
       "      <th>0</th>\n",
       "      <td>WineDataset</td>\n",
       "      <td>1.00 ± 0.00</td>\n",
       "      <td>0.60 ± 0.55</td>\n",
       "      <td>0.00 ± 0.00</td>\n",
       "      <td>1.00 ± 0.00</td>\n",
       "      <td>nan ± nan</td>\n",
       "      <td>0.77 ± 0.09</td>\n",
       "      <td>0.81 ± 0.14</td>\n",
       "      <td>0.77 ± 0.09</td>\n",
       "      <td>5.19 ± 2.58</td>\n",
       "      <td>0.77 ± 0.09</td>\n",
       "      <td>nan ± nan</td>\n",
       "      <td>0.02 ± 0.04</td>\n",
       "      <td>-17.20 ± 19.14</td>\n",
       "      <td>-7.52 ± 5.65</td>\n",
       "      <td>1.30 ± 0.28</td>\n",
       "      <td>1.03 ± 0.03</td>\n",
       "      <td>0.05 ± 0.03</td>\n",
       "      <td>0.07 ± 0.01</td>\n",
       "    </tr>\n",
       "  </tbody>\n",
       "</table>\n",
       "</div>"
      ],
      "text/plain": [
       "       Dataset     coverage     validity actionability     sparsity  \\\n",
       "0  WineDataset  1.00 ± 0.00  0.60 ± 0.55   0.00 ± 0.00  1.00 ± 0.00   \n",
       "\n",
       "  proximity_categorical_hamming proximity_categorical_jaccard  \\\n",
       "0                     nan ± nan                   0.77 ± 0.09   \n",
       "\n",
       "  proximity_continuous_manhattan proximity_continuous_euclidean  \\\n",
       "0                    0.81 ± 0.14                    0.77 ± 0.09   \n",
       "\n",
       "  proximity_continuous_mad proximity_l2_jaccard proximity_mad_hamming  \\\n",
       "0              5.19 ± 2.58          0.77 ± 0.09             nan ± nan   \n",
       "\n",
       "  prob_plausibility  log_density_cf log_density_test lof_scores_cf  \\\n",
       "0       0.02 ± 0.04  -17.20 ± 19.14     -7.52 ± 5.65   1.30 ± 0.28   \n",
       "\n",
       "  lof_scores_test isolation_forest_scores_cf isolation_forest_scores_test  \n",
       "0     1.03 ± 0.03                0.05 ± 0.03                  0.07 ± 0.01  "
      ]
     },
     "execution_count": 16,
     "metadata": {},
     "output_type": "execute_result"
    }
   ],
   "source": [
    "experiments = []\n",
    "\n",
    "\n",
    "def round_2_digits(x):\n",
    "    return f\"{x:.2f}\"\n",
    "\n",
    "\n",
    "for experiment in stat_files:\n",
    "    model_name = get_model_name(experiment)\n",
    "    if \"MultilayerPerceptron\" in model_name:\n",
    "        experiments.append(pd.read_csv(experiment))\n",
    "\n",
    "experiments_df = pd.concat(experiments)\n",
    "experiments_df\n",
    "\n",
    "df = experiments_df\n",
    "\n",
    "new_df = (\n",
    "    pd.DataFrame(df.mean()).map(round_2_digits).T.astype(str)\n",
    "    + \" ± \"\n",
    "    + pd.DataFrame(df.std()).map(round_2_digits).T.astype(str)\n",
    ")\n",
    "new_df[\"Dataset\"] = DATASET\n",
    "columns = [new_df.columns[-1]] + list(new_df.columns[:-1])\n",
    "reordered_df = new_df[columns]\n",
    "reordered_df"
   ]
  }
 ],
 "metadata": {
  "kernelspec": {
   "display_name": "cf",
   "language": "python",
   "name": "python3"
  },
  "language_info": {
   "codemirror_mode": {
    "name": "ipython",
    "version": 3
   },
   "file_extension": ".py",
   "mimetype": "text/x-python",
   "name": "python",
   "nbconvert_exporter": "python",
   "pygments_lexer": "ipython3",
   "version": "3.11.11"
  }
 },
 "nbformat": 4,
 "nbformat_minor": 2
}
