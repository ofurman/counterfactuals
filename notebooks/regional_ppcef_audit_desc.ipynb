{
 "cells": [
  {
   "cell_type": "code",
   "execution_count": 1,
   "metadata": {},
   "outputs": [],
   "source": [
    "%load_ext autoreload\n",
    "%autoreload 2"
   ]
  },
  {
   "cell_type": "code",
   "execution_count": 2,
   "metadata": {},
   "outputs": [],
   "source": [
    "import os\n",
    "\n",
    "os.environ[\"CUDA_VISIBLE_DEVICES\"] = \"-1\""
   ]
  },
  {
   "cell_type": "code",
   "execution_count": 3,
   "metadata": {},
   "outputs": [
    {
     "name": "stderr",
     "output_type": "stream",
     "text": [
      "/home/lukasz/miniconda3/envs/cf/lib/python3.11/site-packages/tqdm/auto.py:21: TqdmWarning: IProgress not found. Please update jupyter and ipywidgets. See https://ipywidgets.readthedocs.io/en/stable/user_install.html\n",
      "  from .autonotebook import tqdm as notebook_tqdm\n"
     ]
    }
   ],
   "source": [
    "import torch\n",
    "from matplotlib import pyplot as plt\n",
    "\n",
    "from counterfactuals.datasets import AuditDataset\n",
    "from counterfactuals.losses import MulticlassDiscLoss\n",
    "from counterfactuals.cf_methods.group_ppcef.rppcef import RPPCEF\n",
    "from counterfactuals.generative_models import MaskedAutoregressiveFlow\n",
    "from counterfactuals.discriminative_models import MultilayerPerceptron\n",
    "from counterfactuals.metrics import CFMetrics"
   ]
  },
  {
   "cell_type": "code",
   "execution_count": 4,
   "metadata": {},
   "outputs": [
    {
     "name": "stderr",
     "output_type": "stream",
     "text": [
      "Seed set to 42\n"
     ]
    },
    {
     "data": {
      "text/plain": [
       "42"
      ]
     },
     "execution_count": 4,
     "metadata": {},
     "output_type": "execute_result"
    }
   ],
   "source": [
    "from lightning.pytorch import seed_everything\n",
    "\n",
    "seed_everything(42, workers=True)"
   ]
  },
  {
   "cell_type": "code",
   "execution_count": 5,
   "metadata": {},
   "outputs": [],
   "source": [
    "dataset = AuditDataset(\"../data/audit.csv\")"
   ]
  },
  {
   "cell_type": "code",
   "execution_count": 6,
   "metadata": {},
   "outputs": [
    {
     "name": "stderr",
     "output_type": "stream",
     "text": [
      "/home/lukasz/genwro/counterfactuals/counterfactuals/discriminative_models/multilayer_perceptron.py:109: FutureWarning: You are using `torch.load` with `weights_only=False` (the current default value), which uses the default pickle module implicitly. It is possible to construct malicious pickle data which will execute arbitrary code during unpickling (See https://github.com/pytorch/pytorch/blob/main/SECURITY.md#untrusted-models for more details). In a future release, the default value for `weights_only` will be flipped to `True`. This limits the functions that could be executed during unpickling. Arbitrary objects will no longer be allowed to be loaded via this mode unless they are explicitly allowlisted by the user via `torch.serialization.add_safe_globals`. We recommend you start setting `weights_only=True` for any use case where you don't have full control of the loaded file. Please open an issue on GitHub for any issues related to this experimental feature.\n",
      "  self.load_state_dict(torch.load(path))\n"
     ]
    }
   ],
   "source": [
    "disc_model = MultilayerPerceptron(dataset.X_test.shape[1], [512, 512], 2)\n",
    "# disc_model.fit(\n",
    "#     dataset.train_dataloader(batch_size=128, shuffle=True),\n",
    "#     dataset.test_dataloader(batch_size=128, shuffle=False),\n",
    "#     epochs=5000,\n",
    "#     patience=100,\n",
    "#     lr=1e-3,\n",
    "#     checkpoint_path=\"audit_disc_model.pt\",\n",
    "# )\n",
    "disc_model.load(\"audit_disc_model.pt\")"
   ]
  },
  {
   "cell_type": "code",
   "execution_count": 7,
   "metadata": {},
   "outputs": [
    {
     "name": "stdout",
     "output_type": "stream",
     "text": [
      "Test accuracy: 0.9508196721311475\n"
     ]
    }
   ],
   "source": [
    "y_pred = disc_model.predict(dataset.X_test).detach().numpy().flatten()\n",
    "print(\"Test accuracy:\", (y_pred == dataset.y_test).mean())"
   ]
  },
  {
   "cell_type": "code",
   "execution_count": 8,
   "metadata": {},
   "outputs": [],
   "source": [
    "dataset.y_train = disc_model.predict(dataset.X_train).detach().numpy()\n",
    "dataset.y_test = disc_model.predict(dataset.X_test).detach().numpy()"
   ]
  },
  {
   "cell_type": "code",
   "execution_count": 9,
   "metadata": {},
   "outputs": [
    {
     "name": "stderr",
     "output_type": "stream",
     "text": [
      "Epoch 499, Train: -39.1721, test: -39.1254, patience: 48: 100%|██████████| 500/500 [00:25<00:00, 19.70it/s] \n",
      "/home/lukasz/genwro/counterfactuals/counterfactuals/generative_models/maf/maf.py:154: FutureWarning: You are using `torch.load` with `weights_only=False` (the current default value), which uses the default pickle module implicitly. It is possible to construct malicious pickle data which will execute arbitrary code during unpickling (See https://github.com/pytorch/pytorch/blob/main/SECURITY.md#untrusted-models for more details). In a future release, the default value for `weights_only` will be flipped to `True`. This limits the functions that could be executed during unpickling. Arbitrary objects will no longer be allowed to be loaded via this mode unless they are explicitly allowlisted by the user via `torch.serialization.add_safe_globals`. We recommend you start setting `weights_only=True` for any use case where you don't have full control of the loaded file. Please open an issue on GitHub for any issues related to this experimental feature.\n",
      "  self.load_state_dict(torch.load(path))\n"
     ]
    }
   ],
   "source": [
    "gen_model = MaskedAutoregressiveFlow(\n",
    "    features=dataset.X_train.shape[1],\n",
    "    hidden_features=16,\n",
    "    num_blocks_per_layer=2,\n",
    "    num_layers=5,\n",
    "    context_features=1,\n",
    "    batch_norm_within_layers=True,\n",
    "    batch_norm_between_layers=True,\n",
    "    use_random_permutations=True,\n",
    ")\n",
    "train_dataloader = dataset.train_dataloader(\n",
    "    batch_size=256, shuffle=True, noise_lvl=0.03\n",
    ")\n",
    "test_dataloader = dataset.test_dataloader(batch_size=256, shuffle=False)\n",
    "\n",
    "gen_model.fit(\n",
    "    train_dataloader,\n",
    "    train_dataloader,\n",
    "    learning_rate=1e-3,\n",
    "    patience=100,\n",
    "    num_epochs=500,\n",
    "    checkpoint_path=\"audit_flow.pth\",\n",
    ")\n",
    "gen_model.load(\"audit_flow.pth\")"
   ]
  },
  {
   "cell_type": "code",
   "execution_count": 10,
   "metadata": {},
   "outputs": [],
   "source": [
    "source_class = 0\n",
    "target_class = 1\n",
    "X_test_origin = dataset.X_test[dataset.y_test == source_class]\n",
    "y_test_origin = dataset.y_test[dataset.y_test == source_class]"
   ]
  },
  {
   "cell_type": "code",
   "execution_count": 11,
   "metadata": {},
   "outputs": [
    {
     "data": {
      "text/plain": [
       "['PARA_A',\n",
       " 'Score_A',\n",
       " 'Risk_A',\n",
       " 'PARA_B',\n",
       " 'Score_B',\n",
       " 'Risk_B',\n",
       " 'TOTAL',\n",
       " 'numbers',\n",
       " 'Score_B.1',\n",
       " 'Risk_C',\n",
       " 'Money_Value',\n",
       " 'Score_MV',\n",
       " 'Risk_D',\n",
       " 'District_Loss',\n",
       " 'PROB',\n",
       " 'RiSk_E',\n",
       " 'History',\n",
       " 'Prob',\n",
       " 'Risk_F',\n",
       " 'Score',\n",
       " 'Inherent_Risk',\n",
       " 'CONTROL_RISK',\n",
       " 'Audit_Risk',\n",
       " 'Risk']"
      ]
     },
     "execution_count": 11,
     "metadata": {},
     "output_type": "execute_result"
    }
   ],
   "source": [
    "dataset.features"
   ]
  },
  {
   "cell_type": "code",
   "execution_count": 12,
   "metadata": {},
   "outputs": [
    {
     "data": {
      "text/plain": [
       "'History'"
      ]
     },
     "execution_count": 12,
     "metadata": {},
     "output_type": "execute_result"
    }
   ],
   "source": [
    "dataset.features[0]\n",
    "dataset.features[4]\n",
    "dataset.features[6]\n",
    "dataset.features[16]"
   ]
  },
  {
   "cell_type": "code",
   "execution_count": 15,
   "metadata": {},
   "outputs": [
    {
     "name": "stderr",
     "output_type": "stream",
     "text": [
      "loss: 19840.7285, dist: 1.1754, max_inner: 114.9247, loss_disc: 0.6931, delta_loss: 1417.0331: 100%|██████████| 3000/3000 [00:27<00:00, 110.08it/s]\n"
     ]
    },
    {
     "name": "stdout",
     "output_type": "stream",
     "text": [
      "Correct: 62/62\n",
      "4\n"
     ]
    },
    {
     "data": {
      "text/plain": [
       "{'coverage': 1.0,\n",
       " 'validity': 0.3870967741935484,\n",
       " 'actionability': 0.0,\n",
       " 'sparsity': 0.17391304347826086,\n",
       " 'proximity_categorical_hamming': nan,\n",
       " 'proximity_categorical_jaccard': 0.8025680303155472,\n",
       " 'proximity_continuous_manhattan': 0.9117938076597056,\n",
       " 'proximity_continuous_euclidean': 0.8025680303155472,\n",
       " 'proximity_continuous_mad': 37.747306840542365,\n",
       " 'proximity_l2_jaccard': 0.8025680303155472,\n",
       " 'proximity_mad_hamming': nan,\n",
       " 'prob_plausibility': 0.0,\n",
       " 'log_density_cf': -71.89284,\n",
       " 'log_density_test': 43.745644,\n",
       " 'lof_scores_cf': 1.345595,\n",
       " 'lof_scores_test': 140242.5,\n",
       " 'isolation_forest_scores_cf': 0.07618491356042917,\n",
       " 'isolation_forest_scores_test': 0.15549669203031144}"
      ]
     },
     "execution_count": 15,
     "metadata": {},
     "output_type": "execute_result"
    }
   ],
   "source": [
    "dataset.actionable_features = [0, 4, 6, 16]\n",
    "dataset.not_actionable_features = [\n",
    "    1,\n",
    "    2,\n",
    "    3,\n",
    "    5,\n",
    "    7,\n",
    "    8,\n",
    "    9,\n",
    "    10,\n",
    "    11,\n",
    "    12,\n",
    "    13,\n",
    "    14,\n",
    "    15,\n",
    "    17,\n",
    "    18,\n",
    "    19,\n",
    "    20,\n",
    "    21,\n",
    "    22,\n",
    "]\n",
    "\n",
    "cf_method = RPPCEF(\n",
    "    X=X_test_origin,\n",
    "    cf_method_type=\"GCE\",\n",
    "    K=6,\n",
    "    gen_model=gen_model,\n",
    "    disc_model=disc_model,\n",
    "    disc_model_criterion=MulticlassDiscLoss(),\n",
    "    # actionable_features=None,\n",
    "    actionable_features=dataset.not_actionable_features,\n",
    "    neptune_run=None,\n",
    ")\n",
    "\n",
    "train_dataloader_for_log_prob = dataset.train_dataloader(batch_size=4096, shuffle=False)\n",
    "log_prob_threshold = torch.quantile(\n",
    "    gen_model.predict_log_prob(train_dataloader_for_log_prob),\n",
    "    0.25,\n",
    ")\n",
    "\n",
    "cf_dataloader = torch.utils.data.DataLoader(\n",
    "    torch.utils.data.TensorDataset(\n",
    "        torch.tensor(X_test_origin).float(),\n",
    "        torch.tensor(y_test_origin).float(),\n",
    "    ),\n",
    "    batch_size=4096,\n",
    "    shuffle=False,\n",
    ")\n",
    "\n",
    "\n",
    "delta, Xs, ys_orig, ys_target = cf_method.explain_dataloader(\n",
    "    dataloader=cf_dataloader,\n",
    "    epochs=3000,\n",
    "    lr=0.003,\n",
    "    patience=300,\n",
    "    alpha=100,\n",
    "    alpha_s=1000,\n",
    "    alpha_k=100,\n",
    "    log_prob_threshold=log_prob_threshold,\n",
    ")\n",
    "\n",
    "M, S, D = delta.get_matrices()\n",
    "Xs_cfs = Xs + delta().detach().numpy()\n",
    "\n",
    "values, indexes = S.max(dim=1)\n",
    "\n",
    "total = len(values)\n",
    "i_correct = indexes[values == 1]\n",
    "print(f\"Correct: {len(i_correct)}/{total}\")\n",
    "print(len(set(i_correct.tolist())))\n",
    "\n",
    "metrics = CFMetrics(\n",
    "    X_cf=Xs_cfs,\n",
    "    y_target=ys_target,\n",
    "    X_train=dataset.X_train,\n",
    "    y_train=dataset.y_train,\n",
    "    X_test=X_test_origin,\n",
    "    y_test=y_test_origin,\n",
    "    disc_model=disc_model,\n",
    "    gen_model=gen_model,\n",
    "    continuous_features=list(range(dataset.X_train.shape[1])),\n",
    "    categorical_features=dataset.categorical_features,\n",
    "    prob_plausibility_threshold=log_prob_threshold,\n",
    ")\n",
    "metrics.calc_all_metrics()"
   ]
  },
  {
   "cell_type": "code",
   "execution_count": null,
   "metadata": {},
   "outputs": [],
   "source": [
    "# https://www.researchgate.net/publication/323655455_Fraudulent_Firm_Classification_A_Case_Study_of_an_External_Audit\n",
    "\n",
    "# @article{article,\n",
    "# author = {Hooda, Nishtha and Bawa, Seema and Rana, Prashant},\n",
    "# year = {2018},\n",
    "# month = {04},\n",
    "# pages = {},\n",
    "# title = {Fraudulent Firm Classification: A Case Study of an External Audit},\n",
    "# volume = {32},\n",
    "# journal = {Applied Artificial Intelligence},\n",
    "# doi = {10.1080/08839514.2018.1451032}\n",
    "# }"
   ]
  },
  {
   "cell_type": "code",
   "execution_count": 12,
   "metadata": {},
   "outputs": [
    {
     "name": "stderr",
     "output_type": "stream",
     "text": [
      "/tmp/ipykernel_96070/6959748.py:9: UserWarning: std(): degrees of freedom is <= 0. Correction should be strictly less than the reduction factor (input numel divided by output numel). (Triggered internally at ../aten/src/ATen/native/ReduceOps.cpp:1808.)\n",
      "  std_magn = M.squeeze()[groups == i].std(axis=0)\n"
     ]
    },
    {
     "data": {
      "image/png": "[encoded data removed]",
      "text/plain": [
       "<Figure size 1500x1500 with 4 Axes>"
      ]
     },
     "metadata": {},
     "output_type": "display_data"
    }
   ],
   "source": [
    "plt.figure(figsize=(15, 15))\n",
    "\n",
    "groups = S.argmax(dim=1)\n",
    "\n",
    "for i in range(D.shape[0]):\n",
    "    plt.subplot(3, 3, i + 1)\n",
    "    plt.bar(\n",
    "        [f\"F{feat_num}\" for feat_num in dataset.actionable_features],\n",
    "        D[i, dataset.actionable_features].detach().numpy(),\n",
    "    )\n",
    "    mean_magn = M.squeeze()[groups == i].mean(axis=0)\n",
    "    std_magn = M.squeeze()[groups == i].std(axis=0)\n",
    "    n_vectors = (S.argmax(axis=1) == i).sum()\n",
    "    plt.title(\n",
    "        f\"CF {i}, # of cfs: {n_vectors},  Magnitude: {mean_magn:.2f} +- {std_magn:.2f}\"\n",
    "    )"
   ]
  }
 ],
 "metadata": {
  "kernelspec": {
   "display_name": "cf",
   "language": "python",
   "name": "python3"
  },
  "language_info": {
   "codemirror_mode": {
    "name": "ipython",
    "version": 3
   },
   "file_extension": ".py",
   "mimetype": "text/x-python",
   "name": "python",
   "nbconvert_exporter": "python",
   "pygments_lexer": "ipython3",
   "version": "3.11.9"
  }
 },
 "nbformat": 4,
 "nbformat_minor": 4
}
