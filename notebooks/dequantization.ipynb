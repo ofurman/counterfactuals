{
 "cells": [
  {
   "cell_type": "code",
   "execution_count": 1,
   "metadata": {},
   "outputs": [],
   "source": [
    "import torch\n",
    "\n",
    "\n",
    "from counterfactuals.datasets import AdultDataset\n",
    "from counterfactuals.dequantization import DequantizationOriginal"
   ]
  },
  {
   "cell_type": "code",
   "execution_count": 2,
   "metadata": {},
   "outputs": [],
   "source": [
    "dataset = AdultDataset(\"../data/adult.csv\")"
   ]
  },
  {
   "cell_type": "code",
   "execution_count": 3,
   "metadata": {},
   "outputs": [],
   "source": [
    "X_test = dataset.X_test"
   ]
  },
  {
   "cell_type": "code",
   "execution_count": 8,
   "metadata": {},
   "outputs": [
    {
     "data": {
      "text/plain": [
       "tensor([[0.4110, 0.3980, 0.0000, 0.0000, 0.0000, 0.0000, 0.0000, 0.0000, 0.0000,\n",
       "         1.0000, 0.0000, 1.0000, 0.0000, 0.0000, 0.0000, 1.0000, 0.0000, 0.0000,\n",
       "         0.0000, 0.0000, 0.0000],\n",
       "        [0.1096, 0.3980, 0.0000, 0.0000, 0.0000, 0.0000, 0.0000, 0.0000, 0.0000,\n",
       "         1.0000, 0.0000, 0.0000, 0.0000, 1.0000, 0.0000, 0.0000, 0.0000, 1.0000,\n",
       "         0.0000, 0.0000, 0.0000]])"
      ]
     },
     "execution_count": 8,
     "metadata": {},
     "output_type": "execute_result"
    }
   ],
   "source": [
    "torch.from_numpy(X_test[0:2])"
   ]
  },
  {
   "cell_type": "code",
   "execution_count": 5,
   "metadata": {},
   "outputs": [],
   "source": [
    "deq = DequantizationOriginal(dataset.categorical_features_lists)"
   ]
  },
  {
   "cell_type": "code",
   "execution_count": 6,
   "metadata": {},
   "outputs": [
    {
     "data": {
      "text/plain": [
       "tensor([[ 0.4110,  0.3980,  3.3353, -1.0966, -2.6848],\n",
       "        [ 0.1096,  0.3980,  3.4401,  0.4775, -0.2634]])"
      ]
     },
     "execution_count": 6,
     "metadata": {},
     "output_type": "execute_result"
    }
   ],
   "source": [
    "x_deq = deq(torch.from_numpy(X_test[0:2]))\n",
    "x_deq"
   ]
  },
  {
   "cell_type": "code",
   "execution_count": 9,
   "metadata": {},
   "outputs": [],
   "source": [
    "x_out = deq(x_deq, reverse=True)"
   ]
  },
  {
   "cell_type": "code",
   "execution_count": 10,
   "metadata": {},
   "outputs": [
    {
     "data": {
      "text/plain": [
       "tensor([[True, True, True, True, True, True, True, True, True, True, True, True,\n",
       "         True, True, True, True, True, True, True, True, True],\n",
       "        [True, True, True, True, True, True, True, True, True, True, True, True,\n",
       "         True, True, True, True, True, True, True, True, True]])"
      ]
     },
     "execution_count": 10,
     "metadata": {},
     "output_type": "execute_result"
    }
   ],
   "source": [
    "torch.from_numpy(X_test[0:2]) == x_out"
   ]
  },
  {
   "cell_type": "code",
   "execution_count": 51,
   "metadata": {},
   "outputs": [],
   "source": [
    "import torch\n",
    "import torch.nn as nn\n",
    "\n",
    "\n",
    "class DequantizationOriginal(nn.Module):\n",
    "    def __init__(self, categorical_features_lists, alpha=1e-5):\n",
    "        \"\"\"\n",
    "        Args:\n",
    "            alpha: small constant that is used to scale the original input.\n",
    "                    Prevents dealing with values very close to 0 and 1 when inverting the sigmoid\n",
    "            quants: Number of possible discrete values (usually 256 for 8-bit image)\n",
    "        \"\"\"\n",
    "        super().__init__()\n",
    "        self.alpha = alpha\n",
    "        self.categorical_features_lists = categorical_features_lists\n",
    "        self.numerical_features = list(range(0, categorical_features_lists[0][0]))\n",
    "        self.quants = torch.Tensor([len(x) for x in categorical_features_lists])\n",
    "\n",
    "    def forward(self, z, ldj=None, reverse=False):\n",
    "        num_feat = z[:, self.numerical_features]\n",
    "        if not reverse:\n",
    "            z = self.from_one_hot(z)\n",
    "            z, ldj = self.dequant(z, ldj)\n",
    "            z, ldj = self.sigmoid(z, ldj, reverse=True)\n",
    "        else:\n",
    "            z = z[:, len(self.numerical_features) :]\n",
    "            z, ldj = self.sigmoid(z, ldj, reverse=False)\n",
    "            z = z * self.quants\n",
    "            # ldj += np.log(self.quants) * np.prod(z.shape[1:])\n",
    "            for i in range(len(self.quants)):\n",
    "                z[:, i] = (\n",
    "                    torch.floor(z[:, i])\n",
    "                    .clamp(min=0, max=self.quants[i] - 1)\n",
    "                    .to(torch.int32)\n",
    "                )\n",
    "        return torch.hstack([num_feat, z])  # , ldj\n",
    "\n",
    "    def from_one_hot(self, z):\n",
    "        cat_feat = torch.zeros((z.shape[0], len(self.categorical_features_lists)))\n",
    "        for i, i_cat in enumerate(self.categorical_features_lists):\n",
    "            cat_feat[:, i] = torch.argmax(z[:, i_cat], dim=1)\n",
    "        return cat_feat\n",
    "\n",
    "    def sigmoid(self, z, ldj=None, reverse=False):\n",
    "        # Applies an invertible sigmoid transformation\n",
    "        if not reverse:\n",
    "            # ldj += (-z - 2 * F.softplus(-z)).sum()\n",
    "            z = torch.sigmoid(z)\n",
    "        else:\n",
    "            z = (\n",
    "                z * (1 - self.alpha) + 0.5 * self.alpha\n",
    "            )  # Scale to prevent boundaries 0 and 1\n",
    "            # ldj += np.log(1 - self.alpha) * np.prod(z.shape[1:])\n",
    "            # ldj += (-torch.log(z) - torch.log(1 - z)).sum()\n",
    "            z = torch.log(z) - torch.log(1 - z)\n",
    "        return z, ldj\n",
    "\n",
    "    def dequant(self, z, ldj=None):\n",
    "        # Transform discrete values to continuous volumes\n",
    "        z = z.to(torch.float32)\n",
    "        z = z + torch.rand_like(z).detach()\n",
    "        z = z / self.quants\n",
    "        # ldj -= np.log(8) * np.prod(z.shape[1:])\n",
    "        return z, ldj"
   ]
  },
  {
   "cell_type": "code",
   "execution_count": 57,
   "metadata": {},
   "outputs": [],
   "source": [
    "deq = DequantizationOriginal(dataset.categorical_features_lists)"
   ]
  },
  {
   "cell_type": "code",
   "execution_count": 58,
   "metadata": {},
   "outputs": [],
   "source": [
    "x = torch.from_numpy(X_test[:5]).float()"
   ]
  },
  {
   "cell_type": "code",
   "execution_count": 102,
   "metadata": {},
   "outputs": [
    {
     "data": {
      "text/plain": [
       "tensor([[0.4110, 0.3980, 0.0000, 0.0000, 0.0000, 0.0000, 0.0000, 0.0000, 0.0000,\n",
       "         1.0000, 0.0000, 1.0000, 0.0000, 0.0000, 0.0000, 1.0000, 0.0000, 0.0000,\n",
       "         0.0000, 0.0000, 0.0000],\n",
       "        [0.1096, 0.3980, 0.0000, 0.0000, 0.0000, 0.0000, 0.0000, 0.0000, 0.0000,\n",
       "         1.0000, 0.0000, 0.0000, 0.0000, 1.0000, 0.0000, 0.0000, 0.0000, 1.0000,\n",
       "         0.0000, 0.0000, 0.0000],\n",
       "        [0.6301, 0.3980, 0.0000, 1.0000, 0.0000, 0.0000, 0.0000, 0.0000, 0.0000,\n",
       "         0.0000, 0.0000, 1.0000, 0.0000, 0.0000, 0.0000, 0.0000, 0.0000, 0.0000,\n",
       "         1.0000, 0.0000, 0.0000],\n",
       "        [0.3425, 0.5510, 0.0000, 0.0000, 0.0000, 0.0000, 0.0000, 0.0000, 0.0000,\n",
       "         1.0000, 0.0000, 1.0000, 0.0000, 0.0000, 0.0000, 0.0000, 0.0000, 0.0000,\n",
       "         0.0000, 0.0000, 1.0000],\n",
       "        [0.3288, 0.6531, 0.0000, 0.0000, 0.0000, 0.0000, 0.0000, 1.0000, 0.0000,\n",
       "         0.0000, 0.0000, 1.0000, 0.0000, 0.0000, 0.0000, 0.0000, 0.0000, 1.0000,\n",
       "         0.0000, 0.0000, 0.0000]])"
      ]
     },
     "execution_count": 102,
     "metadata": {},
     "output_type": "execute_result"
    }
   ],
   "source": [
    "x"
   ]
  },
  {
   "cell_type": "code",
   "execution_count": 103,
   "metadata": {},
   "outputs": [
    {
     "data": {
      "text/plain": [
       "tensor([[ 0.4110,  0.3980,  3.0588, -0.8408, -2.1959],\n",
       "        [ 0.1096,  0.3980,  2.1952,  0.8099, -0.4018],\n",
       "        [ 0.6301,  0.3980, -1.2952, -1.1783,  0.4731],\n",
       "        [ 0.3425,  0.5510,  3.7515, -0.8798,  6.3128],\n",
       "        [ 0.3288,  0.6531,  0.5378, -0.9485, -0.5795]])"
      ]
     },
     "execution_count": 103,
     "metadata": {},
     "output_type": "execute_result"
    }
   ],
   "source": [
    "deq_x = deq(x, reverse=False)\n",
    "deq_x"
   ]
  },
  {
   "cell_type": "code",
   "execution_count": 104,
   "metadata": {},
   "outputs": [
    {
     "data": {
      "text/plain": [
       "tensor([[0.4110, 0.3980, 7.0000, 1.0000, 0.0000],\n",
       "        [0.1096, 0.3980, 7.0000, 3.0000, 2.0000],\n",
       "        [0.6301, 0.3980, 1.0000, 1.0000, 3.0000],\n",
       "        [0.3425, 0.5510, 7.0000, 1.0000, 5.0000],\n",
       "        [0.3288, 0.6531, 5.0000, 1.0000, 2.0000]])"
      ]
     },
     "execution_count": 104,
     "metadata": {},
     "output_type": "execute_result"
    }
   ],
   "source": [
    "deq(deq_x, reverse=True)"
   ]
  },
  {
   "cell_type": "code",
   "execution_count": null,
   "metadata": {},
   "outputs": [],
   "source": []
  }
 ],
 "metadata": {
  "kernelspec": {
   "display_name": "venv",
   "language": "python",
   "name": "python3"
  },
  "language_info": {
   "codemirror_mode": {
    "name": "ipython",
    "version": 3
   },
   "file_extension": ".py",
   "mimetype": "text/x-python",
   "name": "python",
   "nbconvert_exporter": "python",
   "pygments_lexer": "ipython3",
   "version": "3.11.8"
  }
 },
 "nbformat": 4,
 "nbformat_minor": 2
}
