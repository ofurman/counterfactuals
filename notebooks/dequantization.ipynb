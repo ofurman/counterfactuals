{
 "cells": [
  {
   "cell_type": "code",
   "execution_count": 1,
   "metadata": {},
   "outputs": [],
   "source": [
    "%load_ext autoreload\n",
    "%autoreload 2"
   ]
  },
  {
   "cell_type": "code",
   "execution_count": 2,
   "metadata": {},
   "outputs": [],
   "source": [
    "import torch\n",
    "\n",
    "from counterfactuals.datasets import AdultDataset\n",
    "\n",
    "# from counterfactuals.dequantization import DequantizationOriginal\n",
    "from counterfactuals.generative_models import MaskedAutoregressiveFlow"
   ]
  },
  {
   "cell_type": "code",
   "execution_count": 3,
   "metadata": {},
   "outputs": [
    {
     "data": {
      "text/plain": [
       "[2, 3, 4, 5, 6, 7]"
      ]
     },
     "execution_count": 3,
     "metadata": {},
     "output_type": "execute_result"
    }
   ],
   "source": [
    "dataset = AdultDataset(\"../data/adult.csv\")\n",
    "dataset.categorical_columns"
   ]
  },
  {
   "cell_type": "code",
   "execution_count": 4,
   "metadata": {},
   "outputs": [],
   "source": [
    "quants = [len(cat) for cat in dataset.categorical_features_lists]\n",
    "\n",
    "\n",
    "gen_model = MaskedAutoregressiveFlow(\n",
    "    features=dataset.X_test.shape[1],\n",
    "    hidden_features=4,\n",
    "    context_features=1,\n",
    "    category_counts=quants,\n",
    "    category_indices=dataset.categorical_columns,\n",
    ")"
   ]
  },
  {
   "cell_type": "code",
   "execution_count": 5,
   "metadata": {},
   "outputs": [
    {
     "name": "stderr",
     "output_type": "stream",
     "text": [
      "/Users/ofurman/Study/counterfactuals/venv/lib/python3.11/site-packages/tqdm/auto.py:21: TqdmWarning: IProgress not found. Please update jupyter and ipywidgets. See https://ipywidgets.readthedocs.io/en/stable/user_install.html\n",
      "  from .autonotebook import tqdm as notebook_tqdm\n",
      "Epoch 499, Train: 9.3048, test: 9.2609: 100%|██████████| 500/500 [00:58<00:00,  8.54it/s] \n"
     ]
    }
   ],
   "source": [
    "gen_model.fit(\n",
    "    train_loader=dataset.train_dataloader(2048, True),\n",
    "    test_loader=dataset.test_dataloader(2048, False),\n",
    "    num_epochs=500,\n",
    "    learning_rate=3e-3,\n",
    ")"
   ]
  },
  {
   "cell_type": "code",
   "execution_count": 6,
   "metadata": {},
   "outputs": [
    {
     "data": {
      "text/plain": [
       "tensor([8.6996e-05, 8.9871e-05, 7.8645e-04, 1.4191e-05, 2.2602e-04, 1.4802e-04,\n",
       "        4.6260e-06, 2.1161e-03, 5.1729e-06, 2.7269e-04],\n",
       "       grad_fn=<ExpBackward0>)"
      ]
     },
     "execution_count": 6,
     "metadata": {},
     "output_type": "execute_result"
    }
   ],
   "source": [
    "gen_model(\n",
    "    torch.from_numpy(dataset.X_test[:10]), torch.from_numpy(dataset.y_test[:10])\n",
    ").exp()"
   ]
  },
  {
   "cell_type": "code",
   "execution_count": 16,
   "metadata": {},
   "outputs": [
    {
     "data": {
      "text/plain": [
       "tensor([1.6801e-04, 1.9023e+01, 1.1569e+04, 1.0708e+04, 7.6580e+04, 5.5666e+02,\n",
       "        2.7540e-04, 1.6459e+04, 8.4886e-04, 8.6580e+03],\n",
       "       grad_fn=<ExpBackward0>)"
      ]
     },
     "execution_count": 16,
     "metadata": {},
     "output_type": "execute_result"
    }
   ],
   "source": [
    "gen_model(\n",
    "    torch.from_numpy(dataset.X_test[:10]), torch.from_numpy(dataset.y_test[:10])\n",
    ").exp()"
   ]
  },
  {
   "cell_type": "code",
   "execution_count": null,
   "metadata": {},
   "outputs": [],
   "source": []
  }
 ],
 "metadata": {
  "kernelspec": {
   "display_name": "venv",
   "language": "python",
   "name": "python3"
  },
  "language_info": {
   "codemirror_mode": {
    "name": "ipython",
    "version": 3
   },
   "file_extension": ".py",
   "mimetype": "text/x-python",
   "name": "python",
   "nbconvert_exporter": "python",
   "pygments_lexer": "ipython3",
   "version": "3.11.8"
  }
 },
 "nbformat": 4,
 "nbformat_minor": 2
}
