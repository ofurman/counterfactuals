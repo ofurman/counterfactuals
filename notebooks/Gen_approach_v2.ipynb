{
 "cells": [
  {
   "cell_type": "code",
   "execution_count": 1,
   "metadata": {},
   "outputs": [],
   "source": [
    "%load_ext autoreload\n",
    "%autoreload 2"
   ]
  },
  {
   "cell_type": "code",
   "execution_count": 2,
   "metadata": {},
   "outputs": [],
   "source": [
    "import torch\n",
    "import numpy as np\n",
    "import matplotlib.pyplot as plt"
   ]
  },
  {
   "cell_type": "code",
   "execution_count": 3,
   "metadata": {},
   "outputs": [
    {
     "name": "stderr",
     "output_type": "stream",
     "text": [
      "/Users/ofurman/Study/counterfactuals/venv/lib/python3.11/site-packages/tqdm/auto.py:21: TqdmWarning: IProgress not found. Please update jupyter and ipywidgets. See https://ipywidgets.readthedocs.io/en/stable/user_install.html\n",
      "  from .autonotebook import tqdm as notebook_tqdm\n"
     ]
    }
   ],
   "source": [
    "from nflows.flows import MaskedAutoregressiveFlow\n",
    "\n",
    "from counterfactuals.datasets import (\n",
    "    AdultDataset,\n",
    "    GermanCreditDataset,\n",
    "    CompasDataset,\n",
    "    HelocDataset,\n",
    "    LawDataset,\n",
    "    MoonsDataset,\n",
    ")\n",
    "from counterfactuals.discriminative_models import LogisticRegression, MultilayerPerceptron\n",
    "from counterfactuals.optimizers.base import BaseCounterfactualModel\n",
    "from counterfactuals.optimizers.approach_three import ApproachThree\n",
    "\n",
    "from counterfactuals.metrics.metrics import (\n",
    "    evaluate_cf,\n",
    ")\n",
    "\n",
    "# from sklearn.linear_model import LogisticRegression\n",
    "# from sklearn.neural_network import MLPClassifier\n",
    "from sklearn.metrics import classification_report"
   ]
  },
  {
   "cell_type": "markdown",
   "metadata": {},
   "source": [
    "# Create dataset"
   ]
  },
  {
   "cell_type": "code",
   "execution_count": 4,
   "metadata": {},
   "outputs": [],
   "source": [
    "dataset = CompasDataset(file_path=\"../data/compas_two_years.csv\")\n",
    "dataset = AdultDataset(file_path=\"../data/adult.csv\")"
   ]
  },
  {
   "cell_type": "code",
   "execution_count": 5,
   "metadata": {},
   "outputs": [
    {
     "name": "stderr",
     "output_type": "stream",
     "text": [
      "Epoch 199, Loss: 0.4406: 100%|██████████| 200/200 [00:09<00:00, 21.09it/s]"
     ]
    },
    {
     "name": "stdout",
     "output_type": "stream",
     "text": [
      "              precision    recall  f1-score   support\n",
      "\n",
      "         0.0       0.81      0.80      0.81       785\n",
      "         1.0       0.80      0.82      0.81       784\n",
      "\n",
      "    accuracy                           0.81      1569\n",
      "   macro avg       0.81      0.81      0.81      1569\n",
      "weighted avg       0.81      0.81      0.81      1569\n",
      "\n"
     ]
    },
    {
     "name": "stderr",
     "output_type": "stream",
     "text": [
      "\n"
     ]
    },
    {
     "data": {
      "text/plain": [
       "(1569,)"
      ]
     },
     "execution_count": 5,
     "metadata": {},
     "output_type": "execute_result"
    }
   ],
   "source": [
    "# disc_model = MLPClassifier(hidden_layer_sizes=(128, 64), max_iter=100)\n",
    "\n",
    "# from sklearn.linear_model import LogisticRegression\n",
    "\n",
    "# disc_model = LogisticRegression()\n",
    "# disc_model.fit(dataset.X_train, dataset.y_train.reshape(-1))\n",
    "# print(classification_report(dataset.y_test, disc_model.predict(dataset.X_test)))\n",
    "# print(disc_model.predict(dataset.X_test).shape)\n",
    "\n",
    "# build custom module for logistic regression\n",
    "# class LogisticRegression(torch.nn.Module):    \n",
    "#     # build the constructor\n",
    "#     def __init__(self, n_inputs, n_outputs):\n",
    "#         super(LogisticRegression, self).__init__()\n",
    "#         self.linear = torch.nn.Linear(n_inputs, n_outputs)\n",
    "#     # make predictions\n",
    "#     def forward(self, x):\n",
    "#         y_pred = torch.sigmoid(self.linear(x))\n",
    "#         return y_pred\n",
    "#     def fit(self, train_loader):\n",
    "#         # defining the optimizer\n",
    "#         optimizer = torch.optim.Adam(self.linear.parameters(), lr=0.01)\n",
    "#         # defining Cross-Entropy loss\n",
    "#         criterion = torch.nn.BCELoss()\n",
    "         \n",
    "#         epochs = 200\n",
    "\n",
    "#         for epoch in range(epochs):\n",
    "#             for i, (examples, labels) in enumerate(train_loader):\n",
    "#                 optimizer.zero_grad()\n",
    "#                 outputs = self.forward(examples)\n",
    "#                 labels = labels.reshape(-1, 1)\n",
    "#                 loss = criterion(outputs, labels)\n",
    "#                 # Loss.append(loss.item())\n",
    "#                 loss.backward()\n",
    "#                 optimizer.step()\n",
    "\n",
    "#     def predict(self, X_test):\n",
    "#         probs = self.forward(torch.from_numpy(X_test))\n",
    "#         probs = probs > 0.5\n",
    "#         return np.squeeze(probs.numpy().astype(np.float32))\n",
    "        \n",
    " \n",
    "disc_model = LogisticRegression(dataset.X_train.shape[1], 1)\n",
    "train_dataloader = dataset.train_dataloader(batch_size=128, shuffle=True, noise_lvl=1e-5)\n",
    "disc_model.fit(train_dataloader)\n",
    "print(classification_report(dataset.y_test, disc_model.predict(dataset.X_test)))\n",
    "disc_model.predict(dataset.X_test).shape"
   ]
  },
  {
   "cell_type": "markdown",
   "metadata": {},
   "source": [
    "# Relabeling"
   ]
  },
  {
   "cell_type": "code",
   "execution_count": 6,
   "metadata": {},
   "outputs": [],
   "source": [
    "y_pred_train = disc_model.predict(dataset.X_train)\n",
    "y_pred_test = disc_model.predict(dataset.X_test)\n",
    "dataset.y_train = y_pred_train\n",
    "dataset.y_test = y_pred_test\n",
    "\n",
    "# noise_lvl - zaszumianie numerycznych cech treningowego datasetu\n",
    "train_dataloader = dataset.train_dataloader(batch_size=128, shuffle=True, noise_lvl=1e-5)\n",
    "test_dataloader = dataset.test_dataloader(batch_size=128, shuffle=False)"
   ]
  },
  {
   "cell_type": "markdown",
   "metadata": {},
   "source": [
    "# Create flow model"
   ]
  },
  {
   "cell_type": "code",
   "execution_count": 7,
   "metadata": {},
   "outputs": [],
   "source": [
    "# from nflows.flows import SimpleRealNVP\n",
    "\n",
    "# flow = SimpleRealNVP(use_volume_preserving=True, features=dataset.X_train.shape[1], hidden_features=4, context_features=1, num_layers=5)\n",
    "\n",
    "flow = MaskedAutoregressiveFlow(features=dataset.X_train.shape[1], hidden_features=4, num_blocks_per_layer=2, num_layers=1, context_features=1)"
   ]
  },
  {
   "cell_type": "markdown",
   "metadata": {},
   "source": [
    "# Define custom search step within class"
   ]
  },
  {
   "cell_type": "code",
   "execution_count": 8,
   "metadata": {},
   "outputs": [],
   "source": [
    "class CustomApproach(BaseCounterfactualModel):\n",
    "    def search_step(self, x_param, x_origin, context_origin, context_target, **search_step_kwargs):\n",
    "        alpha = search_step_kwargs.get(\"alpha\", None)\n",
    "        beta = search_step_kwargs.get(\"beta\", None)\n",
    "        if alpha is None:\n",
    "            raise ValueError(\"Parameter 'alpha' should be in kwargs\")\n",
    "        if beta is None:\n",
    "            raise ValueError(\"Parameter 'beta' should be in kwargs\")\n",
    "\n",
    "        dist = torch.linalg.norm(x_origin-x_param, axis=1)\n",
    "        self.lr_model.eval()\n",
    "        outputs = self.lr_model.forward(x_param)\n",
    "        loss_d    = self.criterion(outputs, context_target)\n",
    "\n",
    "        p_x_param_c_orig = self.gen_model.log_prob(x_param, context=context_origin)\n",
    "        p_x_param_c_target = self.gen_model.log_prob(x_param, context=context_target)\n",
    "        p_x_orig_c_orig = self.gen_model.log_prob(x_origin, context=context_origin.flatten()[0].repeat((x_origin.shape[0], 1)))\n",
    "\n",
    "        p_x_param_c_orig_with_beta = p_x_param_c_orig + beta\n",
    "        max_inner = torch.nn.functional.relu(p_x_orig_c_orig-p_x_param_c_target)\n",
    "        max_outer = torch.nn.functional.relu(p_x_param_c_orig_with_beta - p_x_param_c_target)\n",
    "        loss = dist + alpha * (max_outer + max_inner + loss_d)\n",
    "        return loss, dist, max_inner, max_outer"
   ]
  },
  {
   "cell_type": "markdown",
   "metadata": {},
   "source": [
    "# Create cf class, train and test flow model"
   ]
  },
  {
   "cell_type": "code",
   "execution_count": 9,
   "metadata": {},
   "outputs": [],
   "source": [
    "cf = CustomApproach(gen_model=flow, disc_model=disc_model, checkpoint_path=\"model.pt\", neptune_run=None)"
   ]
  },
  {
   "cell_type": "code",
   "execution_count": 10,
   "metadata": {},
   "outputs": [
    {
     "name": "stderr",
     "output_type": "stream",
     "text": [
      "/Users/ofurman/Study/counterfactuals/venv/lib/python3.11/site-packages/numpy/core/fromnumeric.py:3504: RuntimeWarning: Mean of empty slice.\n",
      "  return _methods._mean(a, axis=axis, dtype=dtype,\n",
      "/Users/ofurman/Study/counterfactuals/venv/lib/python3.11/site-packages/numpy/core/_methods.py:129: RuntimeWarning: invalid value encountered in scalar divide\n",
      "  ret = ret.dtype.type(ret / rcount)\n",
      "Epochs: 0, Loss: nan:   0%|          | 0/100 [00:00<?, ?it/s]"
     ]
    },
    {
     "name": "stderr",
     "output_type": "stream",
     "text": [
      "Epoch 99, Train: -7.3016, test: -7.5436: 100%|██████████| 100/100 [00:14<00:00,  6.81it/s]\n"
     ]
    }
   ],
   "source": [
    "cf.lr_model = disc_model\n",
    "cf.criterion = torch.nn.BCELoss()\n",
    "cf.train_model(\n",
    "    train_loader=train_dataloader,\n",
    "    test_loader=test_dataloader,\n",
    "    epochs=100,\n",
    "    patience=20,\n",
    "    eps=1e-3, # eps for patience\n",
    ")"
   ]
  },
  {
   "cell_type": "code",
   "execution_count": 11,
   "metadata": {},
   "outputs": [
    {
     "data": {
      "text/plain": [
       "{'0.0': {'precision': 0.9233668341708543,\n",
       "  'recall': 0.9557867360208062,\n",
       "  'f1-score': 0.9392971246006389,\n",
       "  'support': 769.0},\n",
       " '1.0': {'precision': 0.9560155239327296,\n",
       "  'recall': 0.92375,\n",
       "  'f1-score': 0.9396058486967577,\n",
       "  'support': 800.0},\n",
       " 'accuracy': 0.9394518801784576,\n",
       " 'macro avg': {'precision': 0.9396911790517919,\n",
       "  'recall': 0.9397683680104031,\n",
       "  'f1-score': 0.9394514866486983,\n",
       "  'support': 1569.0},\n",
       " 'weighted avg': {'precision': 0.9400137123158513,\n",
       "  'recall': 0.9394518801784576,\n",
       "  'f1-score': 0.9394545365043323,\n",
       "  'support': 1569.0}}"
      ]
     },
     "execution_count": 11,
     "metadata": {},
     "output_type": "execute_result"
    }
   ],
   "source": [
    "cf.test_model(test_loader=test_dataloader)"
   ]
  },
  {
   "cell_type": "markdown",
   "metadata": {},
   "source": [
    "# Search counterfactuals"
   ]
  },
  {
   "cell_type": "code",
   "execution_count": 12,
   "metadata": {},
   "outputs": [
    {
     "name": "stderr",
     "output_type": "stream",
     "text": [
      "  0%|          | 0/99 [00:00<?, ?it/s]"
     ]
    },
    {
     "name": "stderr",
     "output_type": "stream",
     "text": [
      "100%|██████████| 99/99 [01:59<00:00,  1.20s/it]\n"
     ]
    }
   ],
   "source": [
    "search_step_kwargs = {\n",
    "    \"alpha\": 20,\n",
    "    \"beta\": 0.1,\n",
    "}\n",
    "test_dataloader = dataset.test_dataloader(batch_size=16, shuffle=False)\n",
    "Xs_cf, Xs_orig, ys_orig = cf.search_batch(\n",
    "    dataloader=test_dataloader,\n",
    "    epochs=1000,\n",
    "    lr=0.005,\n",
    "    **search_step_kwargs\n",
    ")"
   ]
  },
  {
   "cell_type": "markdown",
   "metadata": {},
   "source": [
    "# Evaluate"
   ]
  },
  {
   "cell_type": "code",
   "execution_count": 15,
   "metadata": {},
   "outputs": [
    {
     "data": {
      "text/plain": [
       "{'model_returned_smth': 1.0,\n",
       " 'valid_cf_disc': 1.0,\n",
       " 'dissimilarity_proximity_categorical_hamming': 1.0,\n",
       " 'dissimilarity_proximity_categorical_jaccard': 1.0,\n",
       " 'dissimilarity_proximity_continuous_manhatan': 0.5303242868310656,\n",
       " 'dissimilarity_proximity_continuous_euclidean': 0.38921158024051233,\n",
       " 'dissimilarity_proximity_continuous_mad': 7.032700486039568,\n",
       " 'distance_l2_jaccard': 0.954756413351149,\n",
       " 'distance_mad_hamming': 1.4468667026695976,\n",
       " 'plausibility': 1.4458508809961907,\n",
       " 'kde_log_density_cfs': -35.13325071849308,\n",
       " 'kde_log_density_xs': 29.69112856968939,\n",
       " 'sparsity': 1.0}"
      ]
     },
     "execution_count": 15,
     "metadata": {},
     "output_type": "execute_result"
    }
   ],
   "source": [
    "evaluate_cf(\n",
    "    cf_class=None,\n",
    "    disc_model=disc_model,\n",
    "    X=Xs_orig,\n",
    "    X_cf=Xs_cf,\n",
    "    model_returned=np.ones(Xs_cf.shape[0]).astype(bool),\n",
    "    continuous_features=dataset.numerical_features,\n",
    "    categorical_features=dataset.categorical_features,\n",
    "    X_train=dataset.X_train,\n",
    "    y_train=dataset.y_train,\n",
    "    X_test=dataset.X_test,\n",
    "    y_test=dataset.y_test,\n",
    ")"
   ]
  },
  {
   "cell_type": "code",
   "execution_count": null,
   "metadata": {},
   "outputs": [],
   "source": []
  }
 ],
 "metadata": {
  "kernelspec": {
   "display_name": "Python 3 (ipykernel)",
   "language": "python",
   "name": "python3"
  },
  "language_info": {
   "codemirror_mode": {
    "name": "ipython",
    "version": 3
   },
   "file_extension": ".py",
   "mimetype": "text/x-python",
   "name": "python",
   "nbconvert_exporter": "python",
   "pygments_lexer": "ipython3",
   "version": "3.11.6"
  }
 },
 "nbformat": 4,
 "nbformat_minor": 4
}
