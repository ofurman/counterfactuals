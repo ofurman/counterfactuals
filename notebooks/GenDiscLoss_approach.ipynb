{
 "cells": [
  {
   "cell_type": "code",
   "execution_count": 1,
   "metadata": {},
   "outputs": [],
   "source": [
    "%load_ext autoreload\n",
    "%autoreload 2"
   ]
  },
  {
   "cell_type": "code",
   "execution_count": 2,
   "metadata": {},
   "outputs": [],
   "source": [
    "import torch\n",
    "import numpy as np\n",
    "import matplotlib.pyplot as plt"
   ]
  },
  {
   "cell_type": "code",
   "execution_count": 3,
   "metadata": {},
   "outputs": [
    {
     "name": "stderr",
     "output_type": "stream",
     "text": [
      "/Users/ofurman/Study/counterfactuals/venv/lib/python3.11/site-packages/tqdm/auto.py:21: TqdmWarning: IProgress not found. Please update jupyter and ipywidgets. See https://ipywidgets.readthedocs.io/en/stable/user_install.html\n",
      "  from .autonotebook import tqdm as notebook_tqdm\n"
     ]
    }
   ],
   "source": [
    "from nflows.flows import MaskedAutoregressiveFlow\n",
    "\n",
    "from counterfactuals.datasets import (\n",
    "    AdultDataset,\n",
    "    GermanCreditDataset,\n",
    "    CompasDataset,\n",
    "    HelocDataset,\n",
    "    LawDataset,\n",
    "    MoonsDataset,\n",
    ")\n",
    "from counterfactuals.discriminative_models import LogisticRegression, MultilayerPerceptron\n",
    "from counterfactuals.optimizers.base import BaseCounterfactualModel\n",
    "from counterfactuals.optimizers.ppcef import PPCEF\n",
    "\n",
    "from counterfactuals.metrics.metrics import (\n",
    "    evaluate_cf,\n",
    ")\n",
    "from sklearn.metrics import classification_report"
   ]
  },
  {
   "cell_type": "markdown",
   "metadata": {},
   "source": [
    "# Create dataset"
   ]
  },
  {
   "cell_type": "code",
   "execution_count": 4,
   "metadata": {},
   "outputs": [],
   "source": [
    "# dataset = CompasDataset(file_path=\"../data/compas_two_years.csv\")\n",
    "dataset = AdultDataset(file_path=\"../data/adult.csv\")\n",
    "# dataset = GermanCreditDataset(file_path=\"../data/german_credit.csv\")"
   ]
  },
  {
   "cell_type": "code",
   "execution_count": 6,
   "metadata": {},
   "outputs": [
    {
     "name": "stderr",
     "output_type": "stream",
     "text": [
      "  0%|          | 0/20 [00:00<?, ?it/s]"
     ]
    },
    {
     "name": "stderr",
     "output_type": "stream",
     "text": [
      "Epoch 19, Loss: 0.4451: 100%|██████████| 20/20 [00:01<00:00, 15.86it/s]\n"
     ]
    },
    {
     "name": "stdout",
     "output_type": "stream",
     "text": [
      "              precision    recall  f1-score   support\n",
      "\n",
      "         0.0       0.82      0.79      0.80       785\n",
      "         1.0       0.80      0.83      0.81       784\n",
      "\n",
      "    accuracy                           0.81      1569\n",
      "   macro avg       0.81      0.81      0.81      1569\n",
      "weighted avg       0.81      0.81      0.81      1569\n",
      "\n"
     ]
    },
    {
     "data": {
      "text/plain": [
       "(1569,)"
      ]
     },
     "execution_count": 6,
     "metadata": {},
     "output_type": "execute_result"
    }
   ],
   "source": [
    "disc_model = LogisticRegression(dataset.X_train.shape[1], 1)\n",
    "\n",
    "# disc_model = MultilayerPerceptron([dataset.X_train.shape[1], 128, 1])\n",
    "train_dataloader = dataset.train_dataloader(batch_size=128, shuffle=True, noise_lvl=0)\n",
    "disc_model.fit(train_dataloader, epochs=20)\n",
    "print(classification_report(dataset.y_test, disc_model.predict(dataset.X_test)))\n",
    "disc_model.predict(dataset.X_test).shape"
   ]
  },
  {
   "cell_type": "markdown",
   "metadata": {},
   "source": [
    "# Relabeling"
   ]
  },
  {
   "cell_type": "code",
   "execution_count": 7,
   "metadata": {},
   "outputs": [],
   "source": [
    "y_pred_train = disc_model.predict(dataset.X_train)\n",
    "y_pred_test = disc_model.predict(dataset.X_test)\n",
    "dataset.y_train = y_pred_train\n",
    "dataset.y_test = y_pred_test\n",
    "\n",
    "# noise_lvl - zaszumianie numerycznych cech treningowego datasetu\n",
    "train_dataloader = dataset.train_dataloader(batch_size=128, shuffle=True, noise_lvl=1e-5)\n",
    "test_dataloader = dataset.test_dataloader(batch_size=128, shuffle=False)"
   ]
  },
  {
   "cell_type": "markdown",
   "metadata": {},
   "source": [
    "# Create flow model"
   ]
  },
  {
   "cell_type": "code",
   "execution_count": 8,
   "metadata": {},
   "outputs": [],
   "source": [
    "# from nflows.flows import SimpleRealNVP\n",
    "\n",
    "# flow = SimpleRealNVP(use_volume_preserving=True, features=dataset.X_train.shape[1], hidden_features=4, context_features=1, num_layers=5)\n",
    "\n",
    "flow = MaskedAutoregressiveFlow(features=dataset.X_train.shape[1], hidden_features=4, num_blocks_per_layer=2, num_layers=1, context_features=1)"
   ]
  },
  {
   "cell_type": "markdown",
   "metadata": {},
   "source": [
    "# Create cf class, train and test flow model"
   ]
  },
  {
   "cell_type": "code",
   "execution_count": 9,
   "metadata": {},
   "outputs": [],
   "source": [
    "cf = PPCEF(gen_model=flow, disc_model=disc_model, disc_model_criterion=torch.nn.BCELoss(), checkpoint_path=\"model.pt\", neptune_run=None)"
   ]
  },
  {
   "cell_type": "code",
   "execution_count": 11,
   "metadata": {},
   "outputs": [
    {
     "name": "stderr",
     "output_type": "stream",
     "text": [
      "  0%|          | 0/20 [00:00<?, ?it/s]"
     ]
    },
    {
     "name": "stderr",
     "output_type": "stream",
     "text": [
      "Epoch 19, Train: -1.7291, test: -2.3006: 100%|██████████| 20/20 [00:03<00:00,  5.38it/s]\n"
     ]
    }
   ],
   "source": [
    "cf.train_model(\n",
    "    train_loader=train_dataloader,\n",
    "    test_loader=test_dataloader,\n",
    "    epochs=20,\n",
    "    patience=20,\n",
    "    eps=1e-3, # eps for patience\n",
    ")"
   ]
  },
  {
   "cell_type": "code",
   "execution_count": 14,
   "metadata": {},
   "outputs": [
    {
     "name": "stdout",
     "output_type": "stream",
     "text": [
      "torch.Size([128])\n",
      "torch.Size([128])\n",
      "torch.Size([128])\n",
      "torch.Size([128])\n",
      "torch.Size([128])\n",
      "torch.Size([128])\n",
      "torch.Size([128])\n",
      "torch.Size([128])\n",
      "torch.Size([128])\n",
      "torch.Size([128])\n",
      "torch.Size([128])\n",
      "torch.Size([128])\n",
      "torch.Size([33])\n"
     ]
    },
    {
     "data": {
      "text/plain": [
       "{'0.0': {'precision': 0.9315068493150684,\n",
       "  'recall': 0.8994708994708994,\n",
       "  'f1-score': 0.9152086137281292,\n",
       "  'support': 756.0},\n",
       " '1.0': {'precision': 0.9094159713945172,\n",
       "  'recall': 0.9384993849938499,\n",
       "  'f1-score': 0.9237288135593219,\n",
       "  'support': 813.0},\n",
       " 'accuracy': 0.9196940726577438,\n",
       " 'macro avg': {'precision': 0.9204614103547928,\n",
       "  'recall': 0.9189851422323747,\n",
       "  'f1-score': 0.9194687136437256,\n",
       "  'support': 1569.0},\n",
       " 'weighted avg': {'precision': 0.9200601420178038,\n",
       "  'recall': 0.9196940726577438,\n",
       "  'f1-score': 0.9196234782678103,\n",
       "  'support': 1569.0}}"
      ]
     },
     "execution_count": 14,
     "metadata": {},
     "output_type": "execute_result"
    }
   ],
   "source": [
    "cf.test_model(test_loader=test_dataloader)"
   ]
  },
  {
   "cell_type": "markdown",
   "metadata": {},
   "source": [
    "# Search counterfactuals"
   ]
  },
  {
   "cell_type": "code",
   "execution_count": 11,
   "metadata": {},
   "outputs": [
    {
     "name": "stderr",
     "output_type": "stream",
     "text": [
      "  0%|          | 0/99 [00:00<?, ?it/s]"
     ]
    },
    {
     "name": "stderr",
     "output_type": "stream",
     "text": [
      "100%|██████████| 99/99 [01:58<00:00,  1.19s/it]\n"
     ]
    }
   ],
   "source": [
    "search_step_kwargs = {\n",
    "    \"alpha\": 20,\n",
    "    \"beta\": 0.1,\n",
    "}\n",
    "test_dataloader = dataset.test_dataloader(batch_size=16, shuffle=False)\n",
    "Xs_cf, Xs_orig, ys_orig = cf.search_batch(\n",
    "    dataloader=test_dataloader,\n",
    "    epochs=1000,\n",
    "    lr=0.005,\n",
    "    **search_step_kwargs\n",
    ")"
   ]
  },
  {
   "cell_type": "markdown",
   "metadata": {},
   "source": [
    "# Evaluate"
   ]
  },
  {
   "cell_type": "code",
   "execution_count": 12,
   "metadata": {},
   "outputs": [
    {
     "data": {
      "text/plain": [
       "{'model_returned_smth': 1.0,\n",
       " 'valid_cf_disc': 1.0,\n",
       " 'dissimilarity_proximity_categorical_hamming': 1.0,\n",
       " 'dissimilarity_proximity_categorical_jaccard': 1.0,\n",
       " 'dissimilarity_proximity_continuous_manhatan': 0.5377690049382553,\n",
       " 'dissimilarity_proximity_continuous_euclidean': 0.39735776260117645,\n",
       " 'dissimilarity_proximity_continuous_mad': 7.009989652305443,\n",
       " 'distance_l2_jaccard': 0.9553598342667539,\n",
       " 'distance_mad_hamming': 1.445184418689292,\n",
       " 'plausibility': 1.4445169624158827,\n",
       " 'kde_log_density_cfs': -37.17960926968742,\n",
       " 'kde_log_density_xs': 29.749573210099516,\n",
       " 'sparsity': 1.0,\n",
       " 'valid_cf_gen': 0.9120458891013384,\n",
       " 'flow_log_density_cfs': -57.212868,\n",
       " 'flow_log_density_xs': -39.244335}"
      ]
     },
     "execution_count": 12,
     "metadata": {},
     "output_type": "execute_result"
    }
   ],
   "source": [
    "evaluate_cf(\n",
    "    cf_class=cf,\n",
    "    disc_model=disc_model,\n",
    "    X=Xs_orig,\n",
    "    X_cf=Xs_cf,\n",
    "    model_returned=np.ones(Xs_cf.shape[0]).astype(bool),\n",
    "    continuous_features=dataset.numerical_features,\n",
    "    categorical_features=dataset.categorical_features,\n",
    "    X_train=dataset.X_train,\n",
    "    y_train=dataset.y_train,\n",
    "    X_test=dataset.X_test,\n",
    "    y_test=dataset.y_test,\n",
    ")"
   ]
  },
  {
   "cell_type": "code",
   "execution_count": null,
   "metadata": {},
   "outputs": [],
   "source": []
  }
 ],
 "metadata": {
  "kernelspec": {
   "display_name": "Python 3 (ipykernel)",
   "language": "python",
   "name": "python3"
  },
  "language_info": {
   "codemirror_mode": {
    "name": "ipython",
    "version": 3
   },
   "file_extension": ".py",
   "mimetype": "text/x-python",
   "name": "python",
   "nbconvert_exporter": "python",
   "pygments_lexer": "ipython3",
   "version": "3.11.6"
  }
 },
 "nbformat": 4,
 "nbformat_minor": 4
}
