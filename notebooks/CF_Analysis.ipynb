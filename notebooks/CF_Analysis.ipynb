{
 "cells": [
  {
   "cell_type": "code",
   "execution_count": 2,
   "id": "915a2d78-89e1-4907-96bc-2f9d18fbbc94",
   "metadata": {},
   "outputs": [],
   "source": [
    "import numpy as np\n",
    "import pandas as pd\n",
    "\n",
    "df = pd.read_csv(\"../Counterfactuals_lambda_ablation.csv\")\n",
    "\n",
    "column_mapping = {\n",
    "    \"parameters/method\": \"Method\",\n",
    "    \"parameters/disc_model/model_name\": \"Model\",\n",
    "    \"parameters/dataset\": \"Dataset\",\n",
    "    \"parameters/counterfactuals/origin_class\": \"Origin Class\",\n",
    "    # \"parameters/counterfactuals/K\": \"K\",\n",
    "    \"metrics/cf/K_vectors\": \"K\",\n",
    "    \"metrics/cf/valid_cf_disc\": \"Validity\",\n",
    "    \"metrics/cf/flow_prob_condition_acc\": \"Prob. Plaus.\",\n",
    "    \"metrics/cf/cf_belongs_to_group\": \"CFs assigned to group\",\n",
    "    # \"metrics/cf/flow_log_density_cfs\": \"Log Dens.\",\n",
    "    \"metrics/cf/dissimilarity_proximity_continuous_manhatan\": \"L1\",\n",
    "    \"metrics/cf/dissimilarity_proximity_continuous_euclidean\": \"L2\",\n",
    "    # \"metrics/cf/isolation_forest_scores_cfs\": \"IsoForest\",\n",
    "    # \"metrics/cf/lof_scores_cfs\": \"LOF\",\n",
    "    # \"metrics/cf/plausibility\": \"Plaus.\",\n",
    "    \"parameters/counterfactuals/alpha\": \"Alpha\",\n",
    "    \"parameters/counterfactuals/alpha_k\": \"Alpha K\",\n",
    "    \"parameters/counterfactuals/alpha_s\": \"Alpha S\",\n",
    "}\n",
    "df = df.rename(columns=column_mapping)[column_mapping.values()]\n",
    "df[\"Model\"] = df[\"Model\"].replace(\n",
    "    {\"MultinomialLogisticRegression\": \"LogisticRegression\"}\n",
    ")\n",
    "df[\"Model\"] = df[\"Model\"].replace(\n",
    "    {\n",
    "        \"LogisticRegression\": \"LR\",\n",
    "        \"MultilayerPerceptron\": \"MLP\",\n",
    "    }\n",
    ")\n",
    "\n",
    "df[\"Dataset\"] = df[\"Dataset\"].apply(lambda x: x[:-7])\n",
    "data = (\n",
    "    df.groupby(\n",
    "        [\"Model\", \"Dataset\", \"Method\", \"Alpha\", \"Alpha K\", \"Alpha S\"], as_index=False\n",
    "    )\n",
    "    .mean()\n",
    "    .round(2)\n",
    "    .drop(columns=[\"Origin Class\"])\n",
    "    .drop(columns=[\"Method\"])\n",
    ")"
   ]
  },
  {
   "cell_type": "markdown",
   "id": "6295abaa-43c4-4408-8e1f-7888c44d6f60",
   "metadata": {},
   "source": [
    "Analysis of influence of $\\lambda_K$ on number of created subgroups."
   ]
  },
  {
   "cell_type": "code",
   "execution_count": 3,
   "id": "a2a05391-f804-45b0-ad86-e19847710289",
   "metadata": {},
   "outputs": [
    {
     "data": {
      "text/html": [
       "<div>\n",
       "<style scoped>\n",
       "    .dataframe tbody tr th:only-of-type {\n",
       "        vertical-align: middle;\n",
       "    }\n",
       "\n",
       "    .dataframe tbody tr th {\n",
       "        vertical-align: top;\n",
       "    }\n",
       "\n",
       "    .dataframe thead th {\n",
       "        text-align: right;\n",
       "    }\n",
       "</style>\n",
       "<table border=\"1\" class=\"dataframe\">\n",
       "  <thead>\n",
       "    <tr style=\"text-align: right;\">\n",
       "      <th></th>\n",
       "      <th>Validity</th>\n",
       "      <th>Prob. Plaus.</th>\n",
       "      <th>L1</th>\n",
       "      <th>L2</th>\n",
       "      <th>K</th>\n",
       "    </tr>\n",
       "    <tr>\n",
       "      <th>Alpha K</th>\n",
       "      <th></th>\n",
       "      <th></th>\n",
       "      <th></th>\n",
       "      <th></th>\n",
       "      <th></th>\n",
       "    </tr>\n",
       "  </thead>\n",
       "  <tbody>\n",
       "    <tr>\n",
       "      <th>1</th>\n",
       "      <td>0.988516</td>\n",
       "      <td>0.966875</td>\n",
       "      <td>0.836875</td>\n",
       "      <td>0.418984</td>\n",
       "      <td>26.480469</td>\n",
       "    </tr>\n",
       "    <tr>\n",
       "      <th>10</th>\n",
       "      <td>0.985703</td>\n",
       "      <td>0.943281</td>\n",
       "      <td>0.875078</td>\n",
       "      <td>0.433047</td>\n",
       "      <td>15.719766</td>\n",
       "    </tr>\n",
       "    <tr>\n",
       "      <th>100</th>\n",
       "      <td>0.980000</td>\n",
       "      <td>0.896016</td>\n",
       "      <td>0.900000</td>\n",
       "      <td>0.440156</td>\n",
       "      <td>6.385469</td>\n",
       "    </tr>\n",
       "    <tr>\n",
       "      <th>1000</th>\n",
       "      <td>0.973984</td>\n",
       "      <td>0.848047</td>\n",
       "      <td>0.905078</td>\n",
       "      <td>0.441406</td>\n",
       "      <td>2.497734</td>\n",
       "    </tr>\n",
       "  </tbody>\n",
       "</table>\n",
       "</div>"
      ],
      "text/plain": [
       "         Validity  Prob. Plaus.        L1        L2          K\n",
       "Alpha K                                                       \n",
       "1        0.988516      0.966875  0.836875  0.418984  26.480469\n",
       "10       0.985703      0.943281  0.875078  0.433047  15.719766\n",
       "100      0.980000      0.896016  0.900000  0.440156   6.385469\n",
       "1000     0.973984      0.848047  0.905078  0.441406   2.497734"
      ]
     },
     "execution_count": 3,
     "metadata": {},
     "output_type": "execute_result"
    }
   ],
   "source": [
    "data.groupby([\"Alpha K\"])[[\"Validity\", \"Prob. Plaus.\", \"L1\", \"L2\", \"K\"]].mean()"
   ]
  },
  {
   "cell_type": "code",
   "execution_count": 11,
   "id": "d584f92e",
   "metadata": {},
   "outputs": [
    {
     "name": "stdout",
     "output_type": "stream",
     "text": [
      "\\begin{tabular}{lrrrrr}\n",
      "\\toprule\n",
      " & Validity & Prob. Plaus. & L1 & L2 & K \\\\\n",
      "Alpha K &  &  &  &  &  \\\\\n",
      "\\midrule\n",
      "1 & 0.99 & 0.97 & 0.84 & 0.42 & 26.48 \\\\\n",
      "10 & 0.99 & 0.94 & 0.88 & 0.43 & 15.72 \\\\\n",
      "100 & 0.98 & 0.90 & 0.90 & 0.44 & 6.39 \\\\\n",
      "1000 & 0.97 & 0.85 & 0.91 & 0.44 & 2.50 \\\\\n",
      "\\bottomrule\n",
      "\\end{tabular}\n",
      "\n"
     ]
    }
   ],
   "source": [
    "print(\n",
    "    data.groupby([\"Alpha K\"])[[\"Validity\", \"Prob. Plaus.\", \"L1\", \"L2\", \"K\"]]\n",
    "    .mean()\n",
    "    .to_latex(float_format=\"%.2f\")\n",
    ")"
   ]
  },
  {
   "cell_type": "markdown",
   "id": "e3ff5c91-a462-4528-a56a-59f222f46adc",
   "metadata": {},
   "source": [
    "We can observe that with the increase of $\\lambda_K$ number of subgroups decreases, meaning more clear explanations. However, it impacts (as expected) validity, probabilistic plausability and the distances in the negative way."
   ]
  },
  {
   "cell_type": "markdown",
   "id": "84a9c31a-3812-4cae-96af-c0df44d660ea",
   "metadata": {},
   "source": [
    "Analysis of influence of $\\lambda_S$ on number of correctly assigned CF to group, i.e., exactly one subgroup was selected."
   ]
  },
  {
   "cell_type": "code",
   "execution_count": 5,
   "id": "45935c77-3d6d-4ace-b2be-6226bbfb64f5",
   "metadata": {},
   "outputs": [
    {
     "data": {
      "text/html": [
       "<div>\n",
       "<style scoped>\n",
       "    .dataframe tbody tr th:only-of-type {\n",
       "        vertical-align: middle;\n",
       "    }\n",
       "\n",
       "    .dataframe tbody tr th {\n",
       "        vertical-align: top;\n",
       "    }\n",
       "\n",
       "    .dataframe thead th {\n",
       "        text-align: right;\n",
       "    }\n",
       "</style>\n",
       "<table border=\"1\" class=\"dataframe\">\n",
       "  <thead>\n",
       "    <tr style=\"text-align: right;\">\n",
       "      <th></th>\n",
       "      <th>Validity</th>\n",
       "      <th>Prob. Plaus.</th>\n",
       "      <th>L1</th>\n",
       "      <th>L2</th>\n",
       "      <th>CFs assigned to group</th>\n",
       "    </tr>\n",
       "    <tr>\n",
       "      <th>Alpha S</th>\n",
       "      <th></th>\n",
       "      <th></th>\n",
       "      <th></th>\n",
       "      <th></th>\n",
       "      <th></th>\n",
       "    </tr>\n",
       "  </thead>\n",
       "  <tbody>\n",
       "    <tr>\n",
       "      <th>1</th>\n",
       "      <td>0.983516</td>\n",
       "      <td>0.909687</td>\n",
       "      <td>0.900312</td>\n",
       "      <td>0.439766</td>\n",
       "      <td>0.947109</td>\n",
       "    </tr>\n",
       "    <tr>\n",
       "      <th>10</th>\n",
       "      <td>0.981406</td>\n",
       "      <td>0.907422</td>\n",
       "      <td>0.888516</td>\n",
       "      <td>0.435859</td>\n",
       "      <td>0.969297</td>\n",
       "    </tr>\n",
       "    <tr>\n",
       "      <th>100</th>\n",
       "      <td>0.982344</td>\n",
       "      <td>0.913203</td>\n",
       "      <td>0.871875</td>\n",
       "      <td>0.431250</td>\n",
       "      <td>0.985859</td>\n",
       "    </tr>\n",
       "    <tr>\n",
       "      <th>1000</th>\n",
       "      <td>0.980938</td>\n",
       "      <td>0.923906</td>\n",
       "      <td>0.856328</td>\n",
       "      <td>0.426719</td>\n",
       "      <td>0.997891</td>\n",
       "    </tr>\n",
       "  </tbody>\n",
       "</table>\n",
       "</div>"
      ],
      "text/plain": [
       "         Validity  Prob. Plaus.        L1        L2  CFs assigned to group\n",
       "Alpha S                                                                   \n",
       "1        0.983516      0.909687  0.900312  0.439766               0.947109\n",
       "10       0.981406      0.907422  0.888516  0.435859               0.969297\n",
       "100      0.982344      0.913203  0.871875  0.431250               0.985859\n",
       "1000     0.980938      0.923906  0.856328  0.426719               0.997891"
      ]
     },
     "execution_count": 5,
     "metadata": {},
     "output_type": "execute_result"
    }
   ],
   "source": [
    "data.groupby([\"Alpha S\"])[\n",
    "    [\"Validity\", \"Prob. Plaus.\", \"L1\", \"L2\", \"CFs assigned to group\"]\n",
    "].mean()"
   ]
  },
  {
   "cell_type": "code",
   "execution_count": 10,
   "id": "d1600b03",
   "metadata": {},
   "outputs": [
    {
     "name": "stdout",
     "output_type": "stream",
     "text": [
      "\\begin{tabular}{lrrrrr}\n",
      "\\toprule\n",
      " & Validity & Prob. Plaus. & L1 & L2 & CFs assigned to group \\\\\n",
      "Alpha S &  &  &  &  &  \\\\\n",
      "\\midrule\n",
      "1 & 0.98 & 0.91 & 0.90 & 0.44 & 0.95 \\\\\n",
      "10 & 0.98 & 0.91 & 0.89 & 0.44 & 0.97 \\\\\n",
      "100 & 0.98 & 0.91 & 0.87 & 0.43 & 0.99 \\\\\n",
      "1000 & 0.98 & 0.92 & 0.86 & 0.43 & 1.00 \\\\\n",
      "\\bottomrule\n",
      "\\end{tabular}\n",
      "\n"
     ]
    }
   ],
   "source": [
    "print(\n",
    "    data.groupby([\"Alpha S\"])[\n",
    "        [\"Validity\", \"Prob. Plaus.\", \"L1\", \"L2\", \"CFs assigned to group\"]\n",
    "    ]\n",
    "    .mean()\n",
    "    .to_latex(float_format=\"%.2f\")\n",
    ")"
   ]
  },
  {
   "cell_type": "markdown",
   "id": "7d5df015-42d4-4ea1-aca1-c729bad02d1e",
   "metadata": {},
   "source": [
    "We can observe that with the increase of $\\lambda_S$, number of correctly assigned CFs to relevant shifting vector increase, together with improvement with other metrics."
   ]
  },
  {
   "cell_type": "markdown",
   "id": "f1fdf177-cae3-41e6-b900-2c7e5d25fd18",
   "metadata": {},
   "source": [
    "Analysis of influence of $\\lambda$ on validity, plausability and distance."
   ]
  },
  {
   "cell_type": "code",
   "execution_count": 7,
   "id": "1e38d260-4baa-4fdc-a0fa-a22ae704c0a3",
   "metadata": {},
   "outputs": [
    {
     "data": {
      "text/html": [
       "<div>\n",
       "<style scoped>\n",
       "    .dataframe tbody tr th:only-of-type {\n",
       "        vertical-align: middle;\n",
       "    }\n",
       "\n",
       "    .dataframe tbody tr th {\n",
       "        vertical-align: top;\n",
       "    }\n",
       "\n",
       "    .dataframe thead th {\n",
       "        text-align: right;\n",
       "    }\n",
       "</style>\n",
       "<table border=\"1\" class=\"dataframe\">\n",
       "  <thead>\n",
       "    <tr style=\"text-align: right;\">\n",
       "      <th></th>\n",
       "      <th>Validity</th>\n",
       "      <th>Prob. Plaus.</th>\n",
       "      <th>L1</th>\n",
       "      <th>L2</th>\n",
       "    </tr>\n",
       "    <tr>\n",
       "      <th>Alpha</th>\n",
       "      <th></th>\n",
       "      <th></th>\n",
       "      <th></th>\n",
       "      <th></th>\n",
       "    </tr>\n",
       "  </thead>\n",
       "  <tbody>\n",
       "    <tr>\n",
       "      <th>1</th>\n",
       "      <td>0.969609</td>\n",
       "      <td>0.818984</td>\n",
       "      <td>0.772266</td>\n",
       "      <td>0.389531</td>\n",
       "    </tr>\n",
       "    <tr>\n",
       "      <th>10</th>\n",
       "      <td>0.979766</td>\n",
       "      <td>0.902266</td>\n",
       "      <td>0.810859</td>\n",
       "      <td>0.404687</td>\n",
       "    </tr>\n",
       "    <tr>\n",
       "      <th>100</th>\n",
       "      <td>0.986328</td>\n",
       "      <td>0.948203</td>\n",
       "      <td>0.910937</td>\n",
       "      <td>0.444141</td>\n",
       "    </tr>\n",
       "    <tr>\n",
       "      <th>1000</th>\n",
       "      <td>0.992500</td>\n",
       "      <td>0.984766</td>\n",
       "      <td>1.022969</td>\n",
       "      <td>0.495234</td>\n",
       "    </tr>\n",
       "  </tbody>\n",
       "</table>\n",
       "</div>"
      ],
      "text/plain": [
       "       Validity  Prob. Plaus.        L1        L2\n",
       "Alpha                                            \n",
       "1      0.969609      0.818984  0.772266  0.389531\n",
       "10     0.979766      0.902266  0.810859  0.404687\n",
       "100    0.986328      0.948203  0.910937  0.444141\n",
       "1000   0.992500      0.984766  1.022969  0.495234"
      ]
     },
     "execution_count": 7,
     "metadata": {},
     "output_type": "execute_result"
    }
   ],
   "source": [
    "data.groupby([\"Alpha\"])[[\"Validity\", \"Prob. Plaus.\", \"L1\", \"L2\"]].mean()"
   ]
  },
  {
   "cell_type": "code",
   "execution_count": 9,
   "id": "5204c108",
   "metadata": {},
   "outputs": [
    {
     "name": "stdout",
     "output_type": "stream",
     "text": [
      "\\begin{tabular}{lrrrr}\n",
      "\\toprule\n",
      " & Validity & Prob. Plaus. & L1 & L2 \\\\\n",
      "Alpha &  &  &  &  \\\\\n",
      "\\midrule\n",
      "1 & 0.97 & 0.82 & 0.77 & 0.39 \\\\\n",
      "10 & 0.98 & 0.90 & 0.81 & 0.40 \\\\\n",
      "100 & 0.99 & 0.95 & 0.91 & 0.44 \\\\\n",
      "1000 & 0.99 & 0.98 & 1.02 & 0.50 \\\\\n",
      "\\bottomrule\n",
      "\\end{tabular}\n",
      "\n"
     ]
    }
   ],
   "source": [
    "print(\n",
    "    data.groupby([\"Alpha\"])[[\"Validity\", \"Prob. Plaus.\", \"L1\", \"L2\"]]\n",
    "    .mean()\n",
    "    .to_latex(float_format=\"%.2f\")\n",
    ")"
   ]
  },
  {
   "cell_type": "markdown",
   "id": "57061612-dba1-49e3-8e7e-392b3f7daadc",
   "metadata": {},
   "source": [
    "We can observe that with the increase of $\\lambda$ metrics of validity and probabilistic plausability increase but in the cost of distance. It's a expected trade-off as valid and plausbile CFs usually lies farther away from the starting observation."
   ]
  },
  {
   "cell_type": "markdown",
   "id": "74697d11-f824-4fb5-96d9-15ac1ce6bc73",
   "metadata": {},
   "source": [
    "(Optional??) Overall average results of K, CFs assigned and other metrics."
   ]
  },
  {
   "cell_type": "code",
   "execution_count": 6,
   "id": "b3a2c9cf-d873-4e2a-8ab0-ad786ad98cb5",
   "metadata": {},
   "outputs": [
    {
     "data": {
      "text/plain": [
       "Validity                 0.98875\n",
       "Prob. Plaus.             0.94375\n",
       "L1                       1.02750\n",
       "L2                       0.50250\n",
       "K                        5.50000\n",
       "CFs assigned to group    0.98000\n",
       "dtype: float64"
      ]
     },
     "execution_count": 6,
     "metadata": {},
     "output_type": "execute_result"
    }
   ],
   "source": [
    "f = np.logical_and(\n",
    "    np.logical_and(data[\"Alpha\"] == 1000, data[\"Alpha S\"] == 1000),\n",
    "    data[\"Alpha K\"] == 1000,\n",
    ")\n",
    "\n",
    "data.loc[\n",
    "    f, [\"Validity\", \"Prob. Plaus.\", \"L1\", \"L2\", \"K\", \"CFs assigned to group\"]\n",
    "].mean()"
   ]
  },
  {
   "cell_type": "code",
   "execution_count": null,
   "id": "e57f3d65",
   "metadata": {},
   "outputs": [],
   "source": []
  }
 ],
 "metadata": {
  "kernelspec": {
   "display_name": "Python 3 (ipykernel)",
   "language": "python",
   "name": "python3"
  },
  "language_info": {
   "codemirror_mode": {
    "name": "ipython",
    "version": 3
   },
   "file_extension": ".py",
   "mimetype": "text/x-python",
   "name": "python",
   "nbconvert_exporter": "python",
   "pygments_lexer": "ipython3",
   "version": "3.11.9"
  }
 },
 "nbformat": 4,
 "nbformat_minor": 5
}
