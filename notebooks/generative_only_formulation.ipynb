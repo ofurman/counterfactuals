{
 "cells": [
  {
   "cell_type": "code",
   "execution_count": null,
   "metadata": {},
   "outputs": [],
   "source": [
    "import matplotlib.pyplot as plt\n",
    "import sklearn.datasets as datasets\n",
    "import numpy as np\n",
    "from functools import partial\n",
    "from scipy.optimize import minimize\n",
    "\n",
    "import torch\n",
    "import torch.optim as optim\n",
    "from torch.optim import Adam\n",
    "\n",
    "from nflows.flows import MaskedAutoregressiveFlow\n",
    "from matplotlib import cm, ticker\n",
    "from numpy import ma"
   ]
  },
  {
   "cell_type": "code",
   "execution_count": null,
   "metadata": {},
   "outputs": [],
   "source": [
    "from counterfactuals.utils import plot_distributions"
   ]
  },
  {
   "cell_type": "code",
   "execution_count": null,
   "metadata": {},
   "outputs": [],
   "source": [
    "x, y = datasets.make_moons(512, noise=0.1)\n",
    "plt.scatter(x[:, 0], x[:, 1], c=y);"
   ]
  },
  {
   "cell_type": "markdown",
   "metadata": {},
   "source": [
    "# Train generative model"
   ]
  },
  {
   "cell_type": "code",
   "execution_count": null,
   "metadata": {},
   "outputs": [],
   "source": [
    "flow = MaskedAutoregressiveFlow(features=2, hidden_features=4, context_features=1)\n",
    "optimizer = optim.Adam(flow.parameters())\n",
    "\n",
    "num_iter = 10000\n",
    "for i in range(num_iter):\n",
    "    x, y = datasets.make_moons(128, noise=.1)\n",
    "    x = torch.tensor(x, dtype=torch.float32)\n",
    "    y = torch.tensor(y, dtype=torch.float32).reshape(-1, 1)\n",
    "    optimizer.zero_grad()\n",
    "    loss = -flow.log_prob(inputs=x, context=y).mean()\n",
    "    loss.backward()\n",
    "    optimizer.step()\n",
    "    if (i + 1) % 1000 == 0:\n",
    "        print(loss.item())"
   ]
  },
  {
   "cell_type": "markdown",
   "metadata": {},
   "source": [
    "# Generative model only approach\n",
    "$$ p(\\mathbf{x}|y)=\\gamma $$\n",
    "$$ \\min_{\\mathbf{x}'} d(\\mathbf{x}, \\mathbf{x}') + \\lambda \\cdot \\max (\\max(p(\\mathbf{x}'|y)+\\beta, \\gamma) - p(\\mathbf{x}'|y'), 0) $$"
   ]
  },
  {
   "cell_type": "code",
   "execution_count": null,
   "metadata": {},
   "outputs": [],
   "source": [
    "x_origin = torch.tensor([[1.,  0.]], requires_grad=False)\n",
    "x = torch.tensor([[1.,  0.]], requires_grad=True)\n",
    "\n",
    "def optim_function(x, x_origin, model, alpha=20.0, beta=0.01):\n",
    "    model.eval()\n",
    "    dist = torch.linalg.norm(x_origin-x, axis=1)\n",
    "\n",
    "    y_orig = torch.zeros(x.shape[0]).reshape(-1, 1)\n",
    "    y_hat = torch.ones(x.shape[0]).reshape(-1, 1)\n",
    "\n",
    "    p_x_param_c_orig = model.log_prob(x, context=y_orig).exp()\n",
    "    p_x_param_c_target = model.log_prob(x, context=y_hat).exp()\n",
    "    p_x_orig_c_orig = model.log_prob(x_origin, context=torch.zeros(x_origin.shape[0]).reshape(-1, 1)).exp()\n",
    "\n",
    "    p_x_param_c_orig_with_beta = p_x_param_c_orig + beta\n",
    "    max_inner = torch.clamp(p_x_param_c_orig_with_beta, min=p_x_orig_c_orig)\n",
    "    max_outer = torch.clamp(max_inner - p_x_param_c_target, min=torch.Tensor([0.0]))\n",
    "    loss = dist + alpha * max_outer\n",
    "    return loss"
   ]
  },
  {
   "cell_type": "code",
   "execution_count": null,
   "metadata": {},
   "outputs": [],
   "source": [
    "optimizer = Adam([x], lr=0.03)\n",
    "alpha = 20\n",
    "\n",
    "num_iterations = 100\n",
    "for i in range(num_iterations):\n",
    "    y = optim_function(x, x_origin, flow, alpha=alpha)\n",
    "    optimizer.zero_grad()\n",
    "    y.backward()\n",
    "    optimizer.step()\n",
    "    if (i+1) % 10 == 0:\n",
    "        plot_distributions(x, x_origin, flow, optim_function, alpha=alpha)"
   ]
  },
  {
   "cell_type": "code",
   "execution_count": null,
   "metadata": {},
   "outputs": [],
   "source": []
  }
 ],
 "metadata": {
  "kernelspec": {
   "display_name": "venv",
   "language": "python",
   "name": "python3"
  },
  "language_info": {
   "codemirror_mode": {
    "name": "ipython",
    "version": 3
   },
   "file_extension": ".py",
   "mimetype": "text/x-python",
   "name": "python",
   "nbconvert_exporter": "python",
   "pygments_lexer": "ipython3"
  }
 },
 "nbformat": 4,
 "nbformat_minor": 2
}
