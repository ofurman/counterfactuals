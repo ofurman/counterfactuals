{
 "cells": [
  {
   "cell_type": "code",
   "execution_count": 1,
   "metadata": {},
   "outputs": [],
   "source": [
    "%load_ext autoreload\n",
    "%autoreload 2"
   ]
  },
  {
   "cell_type": "code",
   "execution_count": 2,
   "metadata": {},
   "outputs": [
    {
     "name": "stderr",
     "output_type": "stream",
     "text": [
      "/Users/lukasz/miniconda3/envs/globe-ce/lib/python3.11/site-packages/tqdm/auto.py:21: TqdmWarning: IProgress not found. Please update jupyter and ipywidgets. See https://ipywidgets.readthedocs.io/en/stable/user_install.html\n",
      "  from .autonotebook import tqdm as notebook_tqdm\n"
     ]
    }
   ],
   "source": [
    "import torch\n",
    "import numpy as np\n",
    "\n",
    "from counterfactuals.datasets import LawDataset, AdultDataset, GermanCreditDataset\n",
    "from counterfactuals.cf_methods.ppcef import PPCEF\n",
    "from counterfactuals.generative_models import MaskedAutoregressiveFlow\n",
    "from counterfactuals.discriminative_models import MultilayerPerceptron\n",
    "from counterfactuals.losses import MulticlassDiscLoss\n",
    "from counterfactuals.metrics import evaluate_cf"
   ]
  },
  {
   "cell_type": "code",
   "execution_count": 3,
   "metadata": {},
   "outputs": [],
   "source": [
    "datasets = {\n",
    "    \"adult\": (\n",
    "        AdultDataset(\"../data/adult.csv\"),\n",
    "        \"adult_disc_model.pt\",\n",
    "        \"adult_flow.pth\",\n",
    "    ),\n",
    "    \"law\": (\n",
    "        LawDataset(\"../data/law.csv\"),\n",
    "        \"law_disc_model.pt\",\n",
    "        \"law_flow.pth\",\n",
    "        \"law_flow_eval.pth\",\n",
    "    ),\n",
    "    \"german\": (\n",
    "        GermanCreditDataset(\"../data/german_credit.csv\"),\n",
    "        \"german_disc_model.pt\",\n",
    "        \"german_flow.pth\",\n",
    "    ),\n",
    "}\n",
    "\n",
    "dataset, disc_model_path, gen_model_path, gen_model_eval_path = datasets[\"law\"]"
   ]
  },
  {
   "cell_type": "code",
   "execution_count": 31,
   "metadata": {},
   "outputs": [],
   "source": [
    "from counterfactuals.datasets.utils import CustomCategoricalTransformer\n",
    "from sklearn.compose import ColumnTransformer\n",
    "\n",
    "\n",
    "def dequantize(dataset, data=None, transformer=None):\n",
    "    \"\"\"\n",
    "    Apply dequantization, only affecting categorical features\n",
    "\n",
    "    Parameters:\n",
    "    -----------\n",
    "    dataset : Dataset object\n",
    "        Dataset containing categorical_features_lists\n",
    "    data : np.ndarray, optional\n",
    "        Optional external data to transform instead of dataset.X_train/X_test\n",
    "    transformer : ColumnTransformer, optional\n",
    "        Pre-fitted transformer to use for transformation. If None, create and fit a new one.\n",
    "\n",
    "    Returns:\n",
    "    --------\n",
    "    tuple or np.ndarray\n",
    "        If data is None: returns (transformer, None)\n",
    "        If data is provided: returns (transformer, transformed_data)\n",
    "    \"\"\"\n",
    "    # If no transformer is provided, create a new one\n",
    "    if transformer is None:\n",
    "        transformers = [\n",
    "            (f\"cat_group_{i}\", CustomCategoricalTransformer(), group)\n",
    "            for i, group in enumerate(dataset.categorical_features_lists)\n",
    "        ]\n",
    "\n",
    "        transformer = ColumnTransformer(\n",
    "            transformers=transformers,\n",
    "            remainder=\"drop\",  # Drop continuous features\n",
    "        )\n",
    "\n",
    "        # Fit the transformer if it's newly created\n",
    "        if data is None:\n",
    "            # Handle dataset data (original functionality)\n",
    "            X_train_original = dataset.X_train.copy()\n",
    "            X_test_original = dataset.X_test.copy()\n",
    "\n",
    "            # Fit on training data\n",
    "            cat_transformed_train = transformer.fit_transform(dataset.X_train)\n",
    "            cat_transformed_test = transformer.transform(dataset.X_test)\n",
    "\n",
    "            dataset.X_train = X_train_original.copy()\n",
    "            dataset.X_test = X_test_original.copy()\n",
    "\n",
    "            # Replace categorical features with transformed values\n",
    "            cat_idx = 0\n",
    "            for group in dataset.categorical_features_lists:\n",
    "                for i, feature_idx in enumerate(group):\n",
    "                    dataset.X_train[:, feature_idx] = cat_transformed_train[:, cat_idx]\n",
    "                    dataset.X_test[:, feature_idx] = cat_transformed_test[:, cat_idx]\n",
    "                    cat_idx += 1\n",
    "\n",
    "            return transformer, None\n",
    "        else:\n",
    "            # Fit on dataset but transform the external data\n",
    "            transformer.fit(dataset.X_train)\n",
    "\n",
    "    # If data is provided, transform it using the transformer (either provided or newly created)\n",
    "    if data is not None:\n",
    "        data_copy = data.copy()\n",
    "\n",
    "        # Process each categorical feature group\n",
    "        for i, group in enumerate(dataset.categorical_features_lists):\n",
    "            transformer_name = f\"cat_group_{i}\"\n",
    "\n",
    "            # Extract just the columns for this group\n",
    "            group_data = data_copy[:, group]\n",
    "\n",
    "            # Get transformed data for this group\n",
    "            transformed_data = transformer.named_transformers_[\n",
    "                transformer_name\n",
    "            ].transform(group_data)\n",
    "\n",
    "            # Replace only categorical columns with their transformed values\n",
    "            for j, feature_idx in enumerate(group):\n",
    "                data_copy[:, feature_idx] = transformed_data[:, j]\n",
    "\n",
    "        return transformer, data_copy\n",
    "\n",
    "    # If we reach here, it means transformer was provided but no data to transform\n",
    "    return transformer, None\n",
    "\n",
    "\n",
    "def inverse_dequantize(dataset, dequantizer, data=None):\n",
    "    \"\"\"\n",
    "    Inverse the dequantization process, only affecting categorical features\n",
    "\n",
    "    Parameters:\n",
    "    -----------\n",
    "    dataset : Dataset object\n",
    "        Dataset containing categorical_features_lists\n",
    "    dequantizer : ColumnTransformer\n",
    "        The fitted dequantizer returned by dequantize()\n",
    "    data : np.ndarray, optional\n",
    "        Optional external data to transform instead of dataset.X_train/X_test\n",
    "\n",
    "    Returns:\n",
    "    --------\n",
    "    np.ndarray or None\n",
    "        Returns transformed data if data parameter provided, otherwise None\n",
    "    \"\"\"\n",
    "    if data is not None:\n",
    "        # Handle external data\n",
    "        data_copy = data.copy()\n",
    "\n",
    "        for i, group in enumerate(dataset.categorical_features_lists):\n",
    "            transformer_name = f\"cat_group_{i}\"\n",
    "            group_data = data_copy[:, group]\n",
    "\n",
    "            transformed_data = dequantizer.named_transformers_[\n",
    "                transformer_name\n",
    "            ].inverse_transform(group_data)\n",
    "\n",
    "            # Replace only categorical columns with their transformed values\n",
    "            for j, feature_idx in enumerate(group):\n",
    "                data_copy[:, feature_idx] = transformed_data[:, j]\n",
    "\n",
    "        return data_copy\n",
    "    else:\n",
    "        # Handle dataset data\n",
    "        X_train_copy = dataset.X_train.copy()\n",
    "        X_test_copy = dataset.X_test.copy()\n",
    "\n",
    "        for i, group in enumerate(dataset.categorical_features_lists):\n",
    "            transformer_name = f\"cat_group_{i}\"\n",
    "\n",
    "            # Process X_train\n",
    "            group_train = X_train_copy[:, group]\n",
    "            transformed_train = dequantizer.named_transformers_[\n",
    "                transformer_name\n",
    "            ].inverse_transform(group_train)\n",
    "            for j, feature_idx in enumerate(group):\n",
    "                X_train_copy[:, feature_idx] = transformed_train[:, j]\n",
    "\n",
    "            # Process X_test\n",
    "            group_test = X_test_copy[:, group]\n",
    "            transformed_test = dequantizer.named_transformers_[\n",
    "                transformer_name\n",
    "            ].inverse_transform(group_test)\n",
    "            for j, feature_idx in enumerate(group):\n",
    "                X_test_copy[:, feature_idx] = transformed_test[:, j]\n",
    "\n",
    "        dataset.X_train = X_train_copy\n",
    "        dataset.X_test = X_test_copy\n",
    "        return None"
   ]
  },
  {
   "cell_type": "code",
   "execution_count": 5,
   "metadata": {},
   "outputs": [
    {
     "name": "stderr",
     "output_type": "stream",
     "text": [
      "/Users/lukasz/Genwro/counterfactuals/counterfactuals/discriminative_models/multilayer_perceptron.py:110: FutureWarning: You are using `torch.load` with `weights_only=False` (the current default value), which uses the default pickle module implicitly. It is possible to construct malicious pickle data which will execute arbitrary code during unpickling (See https://github.com/pytorch/pytorch/blob/main/SECURITY.md#untrusted-models for more details). In a future release, the default value for `weights_only` will be flipped to `True`. This limits the functions that could be executed during unpickling. Arbitrary objects will no longer be allowed to be loaded via this mode unless they are explicitly allowlisted by the user via `torch.serialization.add_safe_globals`. We recommend you start setting `weights_only=True` for any use case where you don't have full control of the loaded file. Please open an issue on GitHub for any issues related to this experimental feature.\n",
      "  self.load_state_dict(torch.load(path))\n"
     ]
    }
   ],
   "source": [
    "# disc_model = MultilayerPerceptron(dataset.X_test.shape[1], [512, 512], 2)\n",
    "disc_model = MultilayerPerceptron(dataset.X_test.shape[1], [256, 256], 2)\n",
    "# disc_model.fit(\n",
    "#     dataset.train_dataloader(batch_size=128, shuffle=True),\n",
    "#     dataset.test_dataloader(batch_size=128, shuffle=False),\n",
    "#     epochs=5000,\n",
    "#     patience=100,\n",
    "#     lr=1e-3,\n",
    "#     checkpoint_path=disc_model_path,\n",
    "# )\n",
    "disc_model.load(disc_model_path)\n",
    "# disc_model.load(\"german_disc_model_onehot.pt\")"
   ]
  },
  {
   "cell_type": "code",
   "execution_count": 6,
   "metadata": {},
   "outputs": [
    {
     "name": "stdout",
     "output_type": "stream",
     "text": [
      "Test accuracy: 0.7454954954954955\n"
     ]
    }
   ],
   "source": [
    "y_pred = disc_model.predict(dataset.X_test).detach().numpy().flatten()\n",
    "print(\"Test accuracy:\", (y_pred == dataset.y_test).mean())"
   ]
  },
  {
   "cell_type": "code",
   "execution_count": 7,
   "metadata": {},
   "outputs": [],
   "source": [
    "dataset.y_train = disc_model.predict(dataset.X_train).detach().numpy()\n",
    "dataset.y_test = disc_model.predict(dataset.X_test).detach().numpy()"
   ]
  },
  {
   "cell_type": "code",
   "execution_count": 8,
   "metadata": {},
   "outputs": [
    {
     "name": "stderr",
     "output_type": "stream",
     "text": [
      "/Users/lukasz/Genwro/counterfactuals/counterfactuals/generative_models/maf/maf.py:154: FutureWarning: You are using `torch.load` with `weights_only=False` (the current default value), which uses the default pickle module implicitly. It is possible to construct malicious pickle data which will execute arbitrary code during unpickling (See https://github.com/pytorch/pytorch/blob/main/SECURITY.md#untrusted-models for more details). In a future release, the default value for `weights_only` will be flipped to `True`. This limits the functions that could be executed during unpickling. Arbitrary objects will no longer be allowed to be loaded via this mode unless they are explicitly allowlisted by the user via `torch.serialization.add_safe_globals`. We recommend you start setting `weights_only=True` for any use case where you don't have full control of the loaded file. Please open an issue on GitHub for any issues related to this experimental feature.\n",
      "  self.load_state_dict(torch.load(path))\n"
     ]
    }
   ],
   "source": [
    "gen_model_eval = MaskedAutoregressiveFlow(\n",
    "    features=dataset.X_train.shape[1],\n",
    "    hidden_features=16,\n",
    "    num_blocks_per_layer=4,\n",
    "    num_layers=8,\n",
    "    context_features=1,\n",
    "    batch_norm_within_layers=True,\n",
    "    batch_norm_between_layers=True,\n",
    "    use_random_permutations=True,\n",
    ")\n",
    "train_dataloader = dataset.train_dataloader(\n",
    "    batch_size=256, shuffle=True, noise_lvl=0.03\n",
    ")\n",
    "test_dataloader = dataset.test_dataloader(batch_size=256, shuffle=False)\n",
    "\n",
    "# gen_model_eval.fit(\n",
    "#     train_dataloader,\n",
    "#     train_dataloader,\n",
    "#     learning_rate=1e-3,\n",
    "#     patience=100,\n",
    "#     num_epochs=500,\n",
    "#     checkpoint_path=gen_model_eval_path,\n",
    "# )\n",
    "gen_model_eval.load(gen_model_eval_path)"
   ]
  },
  {
   "cell_type": "code",
   "execution_count": 9,
   "metadata": {},
   "outputs": [],
   "source": [
    "dequantizer = dequantize(dataset)"
   ]
  },
  {
   "cell_type": "code",
   "execution_count": 13,
   "metadata": {},
   "outputs": [
    {
     "name": "stderr",
     "output_type": "stream",
     "text": [
      "Epoch 499, Train: 2.7664, test: 2.3346, patience: 39: 100%|██████████| 500/500 [01:19<00:00,  6.28it/s]  \n",
      "/Users/lukasz/Genwro/counterfactuals/counterfactuals/generative_models/maf/maf.py:154: FutureWarning: You are using `torch.load` with `weights_only=False` (the current default value), which uses the default pickle module implicitly. It is possible to construct malicious pickle data which will execute arbitrary code during unpickling (See https://github.com/pytorch/pytorch/blob/main/SECURITY.md#untrusted-models for more details). In a future release, the default value for `weights_only` will be flipped to `True`. This limits the functions that could be executed during unpickling. Arbitrary objects will no longer be allowed to be loaded via this mode unless they are explicitly allowlisted by the user via `torch.serialization.add_safe_globals`. We recommend you start setting `weights_only=True` for any use case where you don't have full control of the loaded file. Please open an issue on GitHub for any issues related to this experimental feature.\n",
      "  self.load_state_dict(torch.load(path))\n"
     ]
    }
   ],
   "source": [
    "gen_model = MaskedAutoregressiveFlow(\n",
    "    features=dataset.X_train.shape[1],\n",
    "    hidden_features=16,\n",
    "    num_blocks_per_layer=4,\n",
    "    num_layers=8,\n",
    "    context_features=1,\n",
    "    batch_norm_within_layers=True,\n",
    "    batch_norm_between_layers=True,\n",
    "    use_random_permutations=True,\n",
    ")\n",
    "train_dataloader = dataset.train_dataloader(\n",
    "    batch_size=256, shuffle=True, noise_lvl=0.03\n",
    ")\n",
    "test_dataloader = dataset.test_dataloader(batch_size=256, shuffle=False)\n",
    "\n",
    "# gen_model.fit(\n",
    "#     train_dataloader,\n",
    "#     train_dataloader,\n",
    "#     learning_rate=1e-3,\n",
    "#     patience=100,\n",
    "#     num_epochs=500,\n",
    "#     checkpoint_path=gen_model_path,\n",
    "# )\n",
    "gen_model.load(gen_model_path)"
   ]
  },
  {
   "cell_type": "code",
   "execution_count": 14,
   "metadata": {},
   "outputs": [
    {
     "name": "stderr",
     "output_type": "stream",
     "text": [
      "Discriminator loss: 0.0000, Prob loss: 0.0144: 100%|██████████| 4000/4000 [00:33<00:00, 120.08it/s]\n"
     ]
    },
    {
     "data": {
      "text/plain": [
       "tensor(-5.7548)"
      ]
     },
     "execution_count": 14,
     "metadata": {},
     "output_type": "execute_result"
    }
   ],
   "source": [
    "cf = PPCEF(\n",
    "    gen_model=gen_model,\n",
    "    disc_model=disc_model,\n",
    "    disc_model_criterion=MulticlassDiscLoss(),\n",
    "    neptune_run=None,\n",
    ")\n",
    "\n",
    "target_class = 0\n",
    "X_test_origin = dataset.X_test[dataset.y_test != target_class]\n",
    "y_test_origin = dataset.y_test[dataset.y_test != target_class]\n",
    "\n",
    "cf_dataloader = torch.utils.data.DataLoader(\n",
    "    torch.utils.data.TensorDataset(\n",
    "        torch.tensor(X_test_origin).float(),\n",
    "        torch.tensor(y_test_origin).float(),\n",
    "    ),\n",
    "    batch_size=1024,\n",
    "    shuffle=False,\n",
    ")\n",
    "\n",
    "\n",
    "log_prob_threshold = torch.quantile(gen_model.predict_log_prob(cf_dataloader), 0.25)\n",
    "deltas, X_orig, y_orig, y_target, logs = cf.explain_dataloader(\n",
    "    cf_dataloader,\n",
    "    alpha=100,\n",
    "    log_prob_threshold=log_prob_threshold,\n",
    "    epochs=4000,\n",
    "    lr=0.001,\n",
    "    categorical_intervals=dataset.categorical_features_lists,\n",
    ")\n",
    "log_prob_threshold"
   ]
  },
  {
   "cell_type": "code",
   "execution_count": 46,
   "metadata": {},
   "outputs": [],
   "source": [
    "X_cf = X_orig + deltas\n",
    "X_cf_cat = X_cf.copy()\n",
    "\n",
    "for interval in dataset.categorical_features_lists:\n",
    "    max_indices = np.argmax(X_cf_cat[:, interval], axis=1)\n",
    "    X_cf_cat[:, interval] = np.eye(X_cf_cat[:, interval].shape[1])[max_indices]"
   ]
  },
  {
   "cell_type": "code",
   "execution_count": 155,
   "metadata": {},
   "outputs": [],
   "source": [
    "# for categorical_features, transform in zip(\n",
    "#         dataset.categorical_features_lists, dequantizer.named_transformers_\n",
    "#     ):\n",
    "\n",
    "#     X_cf[:, categorical_features] = dequantizer.named_transformers_[\n",
    "#         transform\n",
    "#     ].inverse_transform(X_cf[:, list(range(len(categorical_features)))])"
   ]
  },
  {
   "cell_type": "code",
   "execution_count": 47,
   "metadata": {},
   "outputs": [],
   "source": [
    "# X_cf_deq = inverse_dequantize(dataset, dequantizer, X_cf_cat)\n",
    "_, X_cf_q = dequantize(dataset, X_cf_cat, dequantizer)"
   ]
  },
  {
   "cell_type": "code",
   "execution_count": 48,
   "metadata": {},
   "outputs": [
    {
     "name": "stderr",
     "output_type": "stream",
     "text": [
      "2025-04-19 11:51:24,347 - counterfactuals.metrics.distances - INFO - Calculating combined distance\n",
      "2025-04-19 11:51:24,348 - counterfactuals.metrics.distances - INFO - Calculating continuous distance\n",
      "2025-04-19 11:51:24,348 - counterfactuals.metrics.distances - INFO - Calculating categorical distance\n",
      "2025-04-19 11:51:24,349 - counterfactuals.metrics.distances - INFO - Calculating combined distance\n",
      "2025-04-19 11:51:24,349 - counterfactuals.metrics.distances - INFO - Calculating continuous distance\n",
      "2025-04-19 11:51:24,349 - counterfactuals.metrics.distances - INFO - Calculating categorical distance\n",
      "2025-04-19 11:51:24,350 - counterfactuals.metrics.distances - INFO - Calculating combined distance\n",
      "2025-04-19 11:51:24,350 - counterfactuals.metrics.distances - INFO - Calculating continuous distance\n",
      "2025-04-19 11:51:24,351 - counterfactuals.metrics.distances - INFO - Calculating categorical distance\n",
      "2025-04-19 11:51:24,352 - counterfactuals.metrics.distances - INFO - Calculating combined distance\n",
      "2025-04-19 11:51:24,353 - counterfactuals.metrics.distances - INFO - Calculating continuous distance\n",
      "2025-04-19 11:51:24,354 - counterfactuals.metrics.distances - INFO - Calculating categorical distance\n",
      "2025-04-19 11:51:24,355 - counterfactuals.metrics.distances - INFO - Calculating combined distance\n",
      "2025-04-19 11:51:24,355 - counterfactuals.metrics.distances - INFO - Calculating continuous distance\n",
      "2025-04-19 11:51:24,460 - counterfactuals.metrics.distances - INFO - Calculating categorical distance\n",
      "2025-04-19 11:51:24,461 - counterfactuals.metrics.distances - INFO - Calculating combined distance\n",
      "2025-04-19 11:51:24,461 - counterfactuals.metrics.distances - INFO - Calculating continuous distance\n",
      "2025-04-19 11:51:24,462 - counterfactuals.metrics.distances - INFO - Calculating categorical distance\n",
      "2025-04-19 11:51:24,462 - counterfactuals.metrics.distances - INFO - Calculating combined distance\n",
      "2025-04-19 11:51:24,463 - counterfactuals.metrics.distances - INFO - Calculating continuous distance\n",
      "2025-04-19 11:51:24,572 - counterfactuals.metrics.distances - INFO - Calculating categorical distance\n"
     ]
    },
    {
     "data": {
      "text/plain": [
       "{'coverage': 1.0,\n",
       " 'validity': 0.9151785714285714,\n",
       " 'actionability': 0.0,\n",
       " 'sparsity': 0.9962225274725275,\n",
       " 'proximity_categorical_hamming': 0.8312443619784518,\n",
       " 'proximity_categorical_jaccard': 0.8312443619784518,\n",
       " 'proximity_continuous_manhattan': 0.8737806974220007,\n",
       " 'proximity_continuous_euclidean': 0.8312443619784518,\n",
       " 'proximity_continuous_mad': 1.6685796865189577,\n",
       " 'proximity_l2_jaccard': 0.8312443619784518,\n",
       " 'proximity_mad_hamming': 1.6685796865189577,\n",
       " 'prob_plausibility': 0.7901785714285714,\n",
       " 'log_density_cf': -3.6842823,\n",
       " 'log_density_test': -10.425357,\n",
       " 'lof_scores_cf': 1.0816156,\n",
       " 'lof_scores_test': 1.0943108,\n",
       " 'isolation_forest_scores_cf': 0.07907068300191541,\n",
       " 'isolation_forest_scores_test': 0.07398354269553695}"
      ]
     },
     "execution_count": 48,
     "metadata": {},
     "output_type": "execute_result"
    }
   ],
   "source": [
    "evaluate_cf(\n",
    "    disc_model=disc_model,\n",
    "    gen_model=gen_model,\n",
    "    X_cf=X_cf_q,\n",
    "    model_returned=np.ones(X_cf_cat.shape[0]),\n",
    "    continuous_features=dataset.numerical_features,\n",
    "    categorical_features=dataset.categorical_features,\n",
    "    X_train=dataset.X_train,\n",
    "    y_train=dataset.y_train,\n",
    "    X_test=X_orig,\n",
    "    y_test=y_orig,\n",
    "    median_log_prob=log_prob_threshold,\n",
    "    y_target=y_target,\n",
    ")"
   ]
  }
 ],
 "metadata": {
  "kernelspec": {
   "display_name": "globe-ce",
   "language": "python",
   "name": "python3"
  },
  "language_info": {
   "codemirror_mode": {
    "name": "ipython",
    "version": 3
   },
   "file_extension": ".py",
   "mimetype": "text/x-python",
   "name": "python",
   "nbconvert_exporter": "python",
   "pygments_lexer": "ipython3",
   "version": "3.11.9"
  }
 },
 "nbformat": 4,
 "nbformat_minor": 2
}
