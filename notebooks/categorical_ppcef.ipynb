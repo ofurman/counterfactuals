{
 "cells": [
  {
   "cell_type": "code",
   "execution_count": 1,
   "metadata": {},
   "outputs": [],
   "source": [
    "%load_ext autoreload\n",
    "%autoreload 2"
   ]
  },
  {
   "cell_type": "code",
   "execution_count": 2,
   "metadata": {},
   "outputs": [
    {
     "name": "stderr",
     "output_type": "stream",
     "text": [
      "/home/lukasz/miniconda3/envs/cf/lib/python3.11/site-packages/tqdm/auto.py:21: TqdmWarning: IProgress not found. Please update jupyter and ipywidgets. See https://ipywidgets.readthedocs.io/en/stable/user_install.html\n",
      "  from .autonotebook import tqdm as notebook_tqdm\n"
     ]
    }
   ],
   "source": [
    "import torch\n",
    "import numpy as np\n",
    "\n",
    "from counterfactuals.datasets import LawDataset, AdultDataset, GermanCreditDataset\n",
    "from counterfactuals.cf_methods.ppcef import PPCEF\n",
    "from counterfactuals.generative_models import MaskedAutoregressiveFlow\n",
    "from counterfactuals.discriminative_models import MultilayerPerceptron\n",
    "from counterfactuals.losses import MulticlassDiscLoss\n",
    "from counterfactuals.metrics import evaluate_cf\n",
    "from counterfactuals.datasets.utils import (\n",
    "    dequantize,\n",
    ")"
   ]
  },
  {
   "cell_type": "code",
   "execution_count": 3,
   "metadata": {},
   "outputs": [],
   "source": [
    "datasets = {\n",
    "    \"adult\": (\n",
    "        AdultDataset(\"../data/adult.csv\"),\n",
    "        \"adult_disc_model.pt\",\n",
    "        \"adult_flow.pth\",\n",
    "    ),\n",
    "    \"law\": (\n",
    "        LawDataset(\"../data/law.csv\"),\n",
    "        \"law_disc_model.pt\",\n",
    "        \"law_flow.pth\",\n",
    "    ),\n",
    "    \"german\": (\n",
    "        GermanCreditDataset(\"../data/german_credit.csv\"),\n",
    "        \"german_disc_model.pt\",\n",
    "        \"german_flow.pth\",\n",
    "    ),\n",
    "}\n",
    "\n",
    "dataset, disc_model_path, gen_model_path = datasets[\"adult\"]"
   ]
  },
  {
   "cell_type": "code",
   "execution_count": 4,
   "metadata": {},
   "outputs": [
    {
     "name": "stderr",
     "output_type": "stream",
     "text": [
      "/home/lukasz/genwro/counterfactuals/counterfactuals/discriminative_models/multilayer_perceptron.py:110: FutureWarning: You are using `torch.load` with `weights_only=False` (the current default value), which uses the default pickle module implicitly. It is possible to construct malicious pickle data which will execute arbitrary code during unpickling (See https://github.com/pytorch/pytorch/blob/main/SECURITY.md#untrusted-models for more details). In a future release, the default value for `weights_only` will be flipped to `True`. This limits the functions that could be executed during unpickling. Arbitrary objects will no longer be allowed to be loaded via this mode unless they are explicitly allowlisted by the user via `torch.serialization.add_safe_globals`. We recommend you start setting `weights_only=True` for any use case where you don't have full control of the loaded file. Please open an issue on GitHub for any issues related to this experimental feature.\n",
      "  self.load_state_dict(torch.load(path))\n"
     ]
    }
   ],
   "source": [
    "# disc_model = MultilayerPerceptron(dataset.X_test.shape[1], [512, 512], 2)\n",
    "disc_model = MultilayerPerceptron(dataset.X_test.shape[1], [256, 256], 2)\n",
    "# disc_model.fit(\n",
    "#     dataset.train_dataloader(batch_size=128, shuffle=True),\n",
    "#     dataset.test_dataloader(batch_size=128, shuffle=False),\n",
    "#     epochs=5000,\n",
    "#     patience=100,\n",
    "#     lr=1e-3,\n",
    "#     checkpoint_path=disc_model_path,\n",
    "# )\n",
    "disc_model.load(disc_model_path)"
   ]
  },
  {
   "cell_type": "code",
   "execution_count": 5,
   "metadata": {},
   "outputs": [
    {
     "name": "stdout",
     "output_type": "stream",
     "text": [
      "Test accuracy: 0.8209734377399048\n"
     ]
    }
   ],
   "source": [
    "y_pred = disc_model.predict(dataset.X_test).detach().numpy().flatten()\n",
    "print(\"Test accuracy:\", (y_pred == dataset.y_test).mean())"
   ]
  },
  {
   "cell_type": "code",
   "execution_count": 6,
   "metadata": {},
   "outputs": [],
   "source": [
    "dataset.y_train = disc_model.predict(dataset.X_train).detach().numpy()\n",
    "dataset.y_test = disc_model.predict(dataset.X_test).detach().numpy()"
   ]
  },
  {
   "cell_type": "code",
   "execution_count": 7,
   "metadata": {},
   "outputs": [
    {
     "name": "stderr",
     "output_type": "stream",
     "text": [
      "/home/lukasz/genwro/counterfactuals/counterfactuals/generative_models/maf/maf.py:161: FutureWarning: You are using `torch.load` with `weights_only=False` (the current default value), which uses the default pickle module implicitly. It is possible to construct malicious pickle data which will execute arbitrary code during unpickling (See https://github.com/pytorch/pytorch/blob/main/SECURITY.md#untrusted-models for more details). In a future release, the default value for `weights_only` will be flipped to `True`. This limits the functions that could be executed during unpickling. Arbitrary objects will no longer be allowed to be loaded via this mode unless they are explicitly allowlisted by the user via `torch.serialization.add_safe_globals`. We recommend you start setting `weights_only=True` for any use case where you don't have full control of the loaded file. Please open an issue on GitHub for any issues related to this experimental feature.\n",
      "  self.load_state_dict(torch.load(path))\n"
     ]
    }
   ],
   "source": [
    "gen_model = MaskedAutoregressiveFlow(\n",
    "    features=dataset.X_train.shape[1],\n",
    "    hidden_features=16,\n",
    "    num_blocks_per_layer=4,\n",
    "    num_layers=8,\n",
    "    context_features=1,\n",
    "    batch_norm_within_layers=True,\n",
    "    batch_norm_between_layers=True,\n",
    "    use_random_permutations=True,\n",
    ")\n",
    "train_dataloader = dataset.train_dataloader(\n",
    "    batch_size=256, shuffle=True, noise_lvl=0.03\n",
    ")\n",
    "test_dataloader = dataset.test_dataloader(batch_size=256, shuffle=False)\n",
    "\n",
    "# gen_model.fit(\n",
    "#     train_dataloader,\n",
    "#     train_dataloader,\n",
    "#     learning_rate=1e-3,\n",
    "#     patience=100,\n",
    "#     num_epochs=500,\n",
    "#     checkpoint_path=gen_model_path,\n",
    "# )\n",
    "gen_model.load(gen_model_path)"
   ]
  },
  {
   "cell_type": "code",
   "execution_count": 8,
   "metadata": {},
   "outputs": [],
   "source": [
    "dequantizer, _ = dequantize(dataset)"
   ]
  },
  {
   "cell_type": "code",
   "execution_count": 9,
   "metadata": {},
   "outputs": [
    {
     "name": "stderr",
     "output_type": "stream",
     "text": [
      "Discriminator loss: 0.0509, Prob loss: 690070.7500: 100%|██████████| 10000/10000 [02:12<00:00, 75.37it/s]    \n"
     ]
    },
    {
     "data": {
      "text/plain": [
       "tensor(-15.4933)"
      ]
     },
     "execution_count": 9,
     "metadata": {},
     "output_type": "execute_result"
    }
   ],
   "source": [
    "cf = PPCEF(\n",
    "    gen_model=gen_model,\n",
    "    disc_model=disc_model,\n",
    "    disc_model_criterion=MulticlassDiscLoss(),\n",
    "    neptune_run=None,\n",
    ")\n",
    "\n",
    "target_class = 0\n",
    "X_test_origin = dataset.X_test[dataset.y_test != target_class]\n",
    "y_test_origin = dataset.y_test[dataset.y_test != target_class]\n",
    "\n",
    "cf_dataloader = torch.utils.data.DataLoader(\n",
    "    torch.utils.data.TensorDataset(\n",
    "        torch.tensor(X_test_origin).float(),\n",
    "        torch.tensor(y_test_origin).float(),\n",
    "    ),\n",
    "    batch_size=1024,\n",
    "    shuffle=False,\n",
    ")\n",
    "\n",
    "\n",
    "log_prob_threshold = torch.quantile(gen_model.predict_log_prob(cf_dataloader), 0.25)\n",
    "dataset = AdultDataset(\"../data/adult.csv\")\n",
    "X_test_origin = dataset.X_test[dataset.y_test != target_class]\n",
    "y_test_origin = dataset.y_test[dataset.y_test != target_class]\n",
    "\n",
    "cf_dataloader = torch.utils.data.DataLoader(\n",
    "    torch.utils.data.TensorDataset(\n",
    "        torch.tensor(X_test_origin).float(),\n",
    "        torch.tensor(y_test_origin).float(),\n",
    "    ),\n",
    "    batch_size=1024,\n",
    "    shuffle=False,\n",
    ")\n",
    "\n",
    "\n",
    "deltas, X_orig, y_orig, y_target, logs = cf.explain_dataloader(\n",
    "    cf_dataloader,\n",
    "    alpha=100,\n",
    "    log_prob_threshold=log_prob_threshold,\n",
    "    epochs=10000,\n",
    "    lr=0.001,\n",
    "    categorical_intervals=dataset.categorical_features_lists,\n",
    ")\n",
    "log_prob_threshold"
   ]
  },
  {
   "cell_type": "code",
   "execution_count": 10,
   "metadata": {},
   "outputs": [],
   "source": [
    "X_cf = X_orig + deltas\n",
    "X_cf_cat = X_cf.copy()\n",
    "\n",
    "for interval in dataset.categorical_features_lists:\n",
    "    max_indices = np.argmax(X_cf_cat[:, interval], axis=1)\n",
    "    X_cf_cat[:, interval] = np.eye(X_cf_cat[:, interval].shape[1])[max_indices]"
   ]
  },
  {
   "cell_type": "code",
   "execution_count": 11,
   "metadata": {},
   "outputs": [],
   "source": [
    "# for categorical_features, transform in zip(\n",
    "#         dataset.categorical_features_lists, dequantizer.named_transformers_\n",
    "#     ):\n",
    "\n",
    "#     X_cf[:, categorical_features] = dequantizer.named_transformers_[\n",
    "#         transform\n",
    "#     ].inverse_transform(X_cf[:, list(range(len(categorical_features)))])"
   ]
  },
  {
   "cell_type": "code",
   "execution_count": 12,
   "metadata": {},
   "outputs": [],
   "source": [
    "# X_cf_deq = inverse_dequantize(dataset, dequantizer, X_cf_cat)\n",
    "dequantizer, _ = dequantize(dataset)\n",
    "_, X_cf_q = dequantize(dataset, X_cf_cat, dequantizer)\n",
    "dataset = AdultDataset(\"../data/adult.csv\")"
   ]
  },
  {
   "cell_type": "code",
   "execution_count": 13,
   "metadata": {},
   "outputs": [],
   "source": [
    "import torch.nn as nn\n",
    "\n",
    "\n",
    "class DequantizingFlow(nn.Module):\n",
    "    def __init__(self, gen_model, dequantizer, dataset):\n",
    "        super().__init__()\n",
    "        self.gen_model = gen_model\n",
    "        self.dequantizer = dequantizer\n",
    "        self.dequantize = dequantize\n",
    "        self.dataset = dataset\n",
    "\n",
    "    def forward(self, X, y):\n",
    "        if isinstance(X, torch.Tensor):\n",
    "            X = X.numpy()\n",
    "        _, X = self.dequantize(self.dataset, X, self.dequantizer)\n",
    "        X = torch.from_numpy(X)\n",
    "        log_probs = self.gen_model(X, y)\n",
    "        return log_probs\n",
    "\n",
    "\n",
    "dequantizing_flow = DequantizingFlow(gen_model, dequantizer, dataset)"
   ]
  },
  {
   "cell_type": "code",
   "execution_count": 14,
   "metadata": {},
   "outputs": [
    {
     "name": "stderr",
     "output_type": "stream",
     "text": [
      "2025-04-21 15:23:32,805 - counterfactuals.metrics.distances - INFO - Calculating combined distance\n",
      "2025-04-21 15:23:32,806 - counterfactuals.metrics.distances - INFO - Calculating continuous distance\n",
      "2025-04-21 15:23:32,806 - counterfactuals.metrics.distances - INFO - Calculating categorical distance\n",
      "2025-04-21 15:23:32,806 - counterfactuals.metrics.distances - INFO - Calculating combined distance\n",
      "2025-04-21 15:23:32,807 - counterfactuals.metrics.distances - INFO - Calculating continuous distance\n",
      "2025-04-21 15:23:32,807 - counterfactuals.metrics.distances - INFO - Calculating categorical distance\n",
      "2025-04-21 15:23:32,807 - counterfactuals.metrics.distances - INFO - Calculating combined distance\n",
      "2025-04-21 15:23:32,808 - counterfactuals.metrics.distances - INFO - Calculating continuous distance\n",
      "2025-04-21 15:23:32,808 - counterfactuals.metrics.distances - INFO - Calculating categorical distance\n",
      "2025-04-21 15:23:32,808 - counterfactuals.metrics.distances - INFO - Calculating combined distance\n",
      "2025-04-21 15:23:32,809 - counterfactuals.metrics.distances - INFO - Calculating continuous distance\n",
      "2025-04-21 15:23:32,809 - counterfactuals.metrics.distances - INFO - Calculating categorical distance\n",
      "2025-04-21 15:23:32,809 - counterfactuals.metrics.distances - INFO - Calculating combined distance\n",
      "2025-04-21 15:23:32,809 - counterfactuals.metrics.distances - INFO - Calculating continuous distance\n",
      "2025-04-21 15:23:32,814 - counterfactuals.metrics.distances - INFO - Calculating categorical distance\n",
      "2025-04-21 15:23:32,814 - counterfactuals.metrics.distances - INFO - Calculating combined distance\n",
      "2025-04-21 15:23:32,814 - counterfactuals.metrics.distances - INFO - Calculating continuous distance\n",
      "2025-04-21 15:23:32,814 - counterfactuals.metrics.distances - INFO - Calculating categorical distance\n",
      "2025-04-21 15:23:32,815 - counterfactuals.metrics.distances - INFO - Calculating combined distance\n",
      "2025-04-21 15:23:32,815 - counterfactuals.metrics.distances - INFO - Calculating continuous distance\n",
      "2025-04-21 15:23:32,818 - counterfactuals.metrics.distances - INFO - Calculating categorical distance\n"
     ]
    },
    {
     "data": {
      "text/plain": [
       "{'coverage': 1.0,\n",
       " 'validity': 0.4032258064516129,\n",
       " 'actionability': 0.0,\n",
       " 'sparsity': 0.07675194660734148,\n",
       " 'proximity_categorical_hamming': 0.031169021221318545,\n",
       " 'proximity_categorical_jaccard': 0.06003601629521017,\n",
       " 'proximity_continuous_manhattan': 0.06750814141311082,\n",
       " 'proximity_continuous_euclidean': 0.06003601629521017,\n",
       " 'proximity_continuous_mad': 0.6443739354551719,\n",
       " 'proximity_l2_jaccard': 0.06003601629521017,\n",
       " 'proximity_mad_hamming': 0.6155069403812803,\n",
       " 'prob_plausibility': 0.3870967741935484,\n",
       " 'log_density_cf': -116.41296,\n",
       " 'log_density_test': -102.39931,\n",
       " 'lof_scores_cf': 1.2957588,\n",
       " 'lof_scores_test': 1.196811,\n",
       " 'isolation_forest_scores_cf': 0.025560530669840622,\n",
       " 'isolation_forest_scores_test': 0.04085840215068121}"
      ]
     },
     "execution_count": 14,
     "metadata": {},
     "output_type": "execute_result"
    }
   ],
   "source": [
    "evaluate_cf(\n",
    "    disc_model=disc_model,\n",
    "    gen_model=dequantizing_flow,\n",
    "    X_cf=X_cf_cat,\n",
    "    model_returned=np.ones(X_cf_cat.shape[0]),\n",
    "    continuous_features=dataset.numerical_features,\n",
    "    categorical_features=dataset.categorical_features,\n",
    "    X_train=dataset.X_train,\n",
    "    y_train=dataset.y_train,\n",
    "    X_test=X_orig,\n",
    "    y_test=y_orig,\n",
    "    median_log_prob=log_prob_threshold,\n",
    "    y_target=y_target,\n",
    ")"
   ]
  },
  {
   "cell_type": "code",
   "execution_count": null,
   "metadata": {},
   "outputs": [],
   "source": []
  }
 ],
 "metadata": {
  "kernelspec": {
   "display_name": "cf",
   "language": "python",
   "name": "python3"
  },
  "language_info": {
   "codemirror_mode": {
    "name": "ipython",
    "version": 3
   },
   "file_extension": ".py",
   "mimetype": "text/x-python",
   "name": "python",
   "nbconvert_exporter": "python",
   "pygments_lexer": "ipython3",
   "version": "3.11.9"
  }
 },
 "nbformat": 4,
 "nbformat_minor": 2
}
