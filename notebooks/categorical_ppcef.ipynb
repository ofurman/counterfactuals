{
 "cells": [
  {
   "cell_type": "code",
   "execution_count": 1,
   "metadata": {},
   "outputs": [],
   "source": [
    "%load_ext autoreload\n",
    "%autoreload 2"
   ]
  },
  {
   "cell_type": "code",
   "execution_count": 13,
   "metadata": {},
   "outputs": [],
   "source": [
    "import torch\n",
    "import numpy as np\n",
    "\n",
    "from counterfactuals.datasets import LawDataset, AdultDataset, GermanCreditDataset\n",
    "from counterfactuals.cf_methods.ppcef import PPCEF\n",
    "from counterfactuals.generative_models import MaskedAutoregressiveFlow\n",
    "from counterfactuals.discriminative_models import MultilayerPerceptron\n",
    "from counterfactuals.losses import MulticlassDiscLoss\n",
    "from counterfactuals.metrics import evaluate_cf"
   ]
  },
  {
   "cell_type": "code",
   "execution_count": 18,
   "metadata": {},
   "outputs": [],
   "source": [
    "datasets = {\n",
    "    \"adult\": (\n",
    "        AdultDataset(\"../data/adult.csv\"),\n",
    "        \"adult_disc_model.pt\",\n",
    "        \"adult_flow.pth\",\n",
    "    ),\n",
    "    \"law\": (LawDataset(\"../data/law.csv\"), \"law_disc_model.pt\", \"law_flow.pth\"),\n",
    "    \"german\": (\n",
    "        GermanCreditDataset(\"../data/german_credit.csv\"),\n",
    "        \"german_disc_model.pt\",\n",
    "        \"german_flow.pth\",\n",
    "    ),\n",
    "}\n",
    "\n",
    "dataset, disc_model_path, gen_model_path = datasets[\"german\"]"
   ]
  },
  {
   "cell_type": "code",
   "execution_count": 22,
   "metadata": {},
   "outputs": [
    {
     "data": {
      "text/plain": [
       "array([[ 1.4554957 , -1.1856792 , -0.7186756 , -0.7083931 ],\n",
       "       [-1.1928759 , -1.8245676 , -0.42487657,  2.010407  ],\n",
       "       [-0.71613324, -2.3951652 ,  1.2338164 , -0.9816397 ],\n",
       "       ...,\n",
       "       [-0.9022146 ,  1.425001  , -0.3370698 , -1.5520179 ],\n",
       "       [-0.08803034,  1.5119776 , -0.799332  , -1.2137854 ],\n",
       "       [ 1.963898  , -0.8233758 , -0.6724981 , -1.436671  ]],\n",
       "      dtype=float32)"
      ]
     },
     "execution_count": 22,
     "metadata": {},
     "output_type": "execute_result"
    }
   ],
   "source": [
    "dataset.X_train[:, 7:11]"
   ]
  },
  {
   "cell_type": "code",
   "execution_count": 16,
   "metadata": {},
   "outputs": [
    {
     "data": {
      "text/plain": [
       "array([[1., 0., 0., 0.],\n",
       "       [0., 0., 0., 1.],\n",
       "       [0., 0., 1., 0.],\n",
       "       ...,\n",
       "       [0., 1., 0., 0.],\n",
       "       [0., 1., 0., 0.],\n",
       "       [1., 0., 0., 0.]], dtype=float32)"
      ]
     },
     "execution_count": 16,
     "metadata": {},
     "output_type": "execute_result"
    }
   ],
   "source": [
    "dataset.X_train[:, 7:11]"
   ]
  },
  {
   "cell_type": "code",
   "execution_count": null,
   "metadata": {},
   "outputs": [],
   "source": [
    "# dataset = AdultDataset(\"../data/adult.csv\")\n",
    "# dataset = GermanCreditDataset(\"../data/german_credit.csv\")\n",
    "# dataset = LawDataset(\"../data/law.csv\")"
   ]
  },
  {
   "cell_type": "code",
   "execution_count": 5,
   "metadata": {},
   "outputs": [
    {
     "name": "stderr",
     "output_type": "stream",
     "text": [
      "  0%|          | 0/5000 [00:00<?, ?it/s]/home/lukasz/genwro/counterfactuals/counterfactuals/discriminative_models/multilayer_perceptron.py:109: FutureWarning: You are using `torch.load` with `weights_only=False` (the current default value), which uses the default pickle module implicitly. It is possible to construct malicious pickle data which will execute arbitrary code during unpickling (See https://github.com/pytorch/pytorch/blob/main/SECURITY.md#untrusted-models for more details). In a future release, the default value for `weights_only` will be flipped to `True`. This limits the functions that could be executed during unpickling. Arbitrary objects will no longer be allowed to be loaded via this mode unless they are explicitly allowlisted by the user via `torch.serialization.add_safe_globals`. We recommend you start setting `weights_only=True` for any use case where you don't have full control of the loaded file. Please open an issue on GitHub for any issues related to this experimental feature.\n",
      "  self.load_state_dict(torch.load(path))\n",
      "Epoch 134, Train: 0.5444, test: 0.5725, patience: 100:   3%|▎         | 135/5000 [00:02<01:25, 56.93it/s]\n"
     ]
    }
   ],
   "source": [
    "disc_model = MultilayerPerceptron(dataset.X_test.shape[1], [512, 512], 2)\n",
    "disc_model.fit(\n",
    "    dataset.train_dataloader(batch_size=128, shuffle=True),\n",
    "    dataset.test_dataloader(batch_size=128, shuffle=False),\n",
    "    epochs=5000,\n",
    "    patience=100,\n",
    "    lr=1e-3,\n",
    "    checkpoint_path=disc_model_path,\n",
    ")\n",
    "disc_model.load(disc_model_path)"
   ]
  },
  {
   "cell_type": "code",
   "execution_count": 6,
   "metadata": {},
   "outputs": [
    {
     "name": "stdout",
     "output_type": "stream",
     "text": [
      "Test accuracy: 0.725\n"
     ]
    }
   ],
   "source": [
    "y_pred = disc_model.predict(dataset.X_test).detach().numpy().flatten()\n",
    "print(\"Test accuracy:\", (y_pred == dataset.y_test).mean())"
   ]
  },
  {
   "cell_type": "code",
   "execution_count": null,
   "metadata": {},
   "outputs": [],
   "source": [
    "dataset.y_train = disc_model.predict(dataset.X_train).detach().numpy()\n",
    "dataset.y_test = disc_model.predict(dataset.X_test).detach().numpy()"
   ]
  },
  {
   "cell_type": "code",
   "execution_count": 11,
   "metadata": {},
   "outputs": [
    {
     "name": "stderr",
     "output_type": "stream",
     "text": [
      "Epoch 499, Train: -59.6201, test: -59.2076, patience: 33: 100%|██████████| 500/500 [00:53<00:00,  9.42it/s]               \n",
      "/home/lukasz/genwro/counterfactuals/counterfactuals/generative_models/maf/maf.py:154: FutureWarning: You are using `torch.load` with `weights_only=False` (the current default value), which uses the default pickle module implicitly. It is possible to construct malicious pickle data which will execute arbitrary code during unpickling (See https://github.com/pytorch/pytorch/blob/main/SECURITY.md#untrusted-models for more details). In a future release, the default value for `weights_only` will be flipped to `True`. This limits the functions that could be executed during unpickling. Arbitrary objects will no longer be allowed to be loaded via this mode unless they are explicitly allowlisted by the user via `torch.serialization.add_safe_globals`. We recommend you start setting `weights_only=True` for any use case where you don't have full control of the loaded file. Please open an issue on GitHub for any issues related to this experimental feature.\n",
      "  self.load_state_dict(torch.load(path))\n"
     ]
    }
   ],
   "source": [
    "gen_model = MaskedAutoregressiveFlow(\n",
    "    features=dataset.X_train.shape[1],\n",
    "    hidden_features=16,\n",
    "    num_blocks_per_layer=4,\n",
    "    num_layers=8,\n",
    "    context_features=1,\n",
    "    batch_norm_within_layers=True,\n",
    "    batch_norm_between_layers=True,\n",
    "    use_random_permutations=True,\n",
    ")\n",
    "train_dataloader = dataset.train_dataloader(\n",
    "    batch_size=256, shuffle=True, noise_lvl=0.03\n",
    ")\n",
    "test_dataloader = dataset.test_dataloader(batch_size=256, shuffle=False)\n",
    "\n",
    "gen_model.fit(\n",
    "    train_dataloader,\n",
    "    train_dataloader,\n",
    "    learning_rate=1e-3,\n",
    "    patience=100,\n",
    "    num_epochs=500,\n",
    "    checkpoint_path=gen_model_path,\n",
    ")\n",
    "gen_model.load(gen_model_path)"
   ]
  },
  {
   "cell_type": "code",
   "execution_count": null,
   "metadata": {},
   "outputs": [],
   "source": [
    "# t = torch.nn.functional.gumbel_softmax(torch.rand(10, 4), dim=1)\n",
    "# t"
   ]
  },
  {
   "cell_type": "code",
   "execution_count": 12,
   "metadata": {},
   "outputs": [
    {
     "name": "stderr",
     "output_type": "stream",
     "text": [
      "Discriminator loss: 0.5178, Prob loss: 81617190912.0000: 100%|██████████| 10000/10000 [02:51<00:00, 58.16it/s]        \n"
     ]
    }
   ],
   "source": [
    "cf = PPCEF(\n",
    "    gen_model=gen_model,\n",
    "    disc_model=disc_model,\n",
    "    disc_model_criterion=MulticlassDiscLoss(),\n",
    "    neptune_run=None,\n",
    ")\n",
    "cf_dataloader = dataset.test_dataloader(batch_size=1024, shuffle=False)\n",
    "log_prob_threshold = torch.quantile(gen_model.predict_log_prob(cf_dataloader), 0.25)\n",
    "deltas, X_orig, y_orig, y_target, logs = cf.explain_dataloader(\n",
    "    cf_dataloader,\n",
    "    alpha=100,\n",
    "    log_prob_threshold=log_prob_threshold,\n",
    "    epochs=10000,\n",
    "    lr=0.0005,\n",
    "    categorical_intervals=dataset.intervals,\n",
    ")"
   ]
  },
  {
   "cell_type": "code",
   "execution_count": null,
   "metadata": {},
   "outputs": [
    {
     "data": {
      "text/plain": [
       "{'coverage': 1.0,\n",
       " 'validity': 1.0,\n",
       " 'actionability': 0.03333333333333333,\n",
       " 'sparsity': 0.9644736842105263,\n",
       " 'proximity_categorical_hamming': 0.8588701917714915,\n",
       " 'proximity_categorical_jaccard': 0.8588701917714915,\n",
       " 'proximity_continuous_manhattan': 0.8743564683240689,\n",
       " 'proximity_continuous_euclidean': 0.8588701917714915,\n",
       " 'proximity_continuous_mad': 1.0398214643327925,\n",
       " 'proximity_l2_jaccard': 0.8588701917714915,\n",
       " 'proximity_mad_hamming': 1.0398214643327925,\n",
       " 'prob_plausibility': 1.0,\n",
       " 'log_density_cf': -178.47653,\n",
       " 'log_density_test': -735.59247,\n",
       " 'lof_scores_cf': 1.0352931,\n",
       " 'lof_scores_test': 1.0257134,\n",
       " 'isolation_forest_scores_cf': 0.030959670740704336,\n",
       " 'isolation_forest_scores_test': 0.031583695862440614}"
      ]
     },
     "execution_count": 59,
     "metadata": {},
     "output_type": "execute_result"
    }
   ],
   "source": [
    "X_cf = X_orig + deltas\n",
    "\n",
    "evaluate_cf(\n",
    "    disc_model=disc_model,\n",
    "    gen_model=gen_model,\n",
    "    X_cf=X_cf,\n",
    "    model_returned=np.ones(X_cf.shape[0]),\n",
    "    continuous_features=dataset.numerical_features,\n",
    "    categorical_features=dataset.categorical_features,\n",
    "    X_train=dataset.X_train,\n",
    "    y_train=dataset.y_train,\n",
    "    X_test=X_orig,\n",
    "    y_test=y_orig,\n",
    "    median_log_prob=log_prob_threshold,\n",
    "    y_target=y_target,\n",
    ")"
   ]
  },
  {
   "cell_type": "code",
   "execution_count": null,
   "metadata": {},
   "outputs": [],
   "source": [
    "# torch.nn.functional.gumbel_softmax(torch.rand(4, 3), tau=0.1, dim=1)"
   ]
  },
  {
   "cell_type": "code",
   "execution_count": null,
   "metadata": {},
   "outputs": [
    {
     "ename": "NameError",
     "evalue": "name 'X_orig' is not defined",
     "output_type": "error",
     "traceback": [
      "\u001b[0;31m---------------------------------------------------------------------------\u001b[0m",
      "\u001b[0;31mNameError\u001b[0m                                 Traceback (most recent call last)",
      "Cell \u001b[0;32mIn[1], line 1\u001b[0m\n\u001b[0;32m----> 1\u001b[0m X_cf \u001b[38;5;241m=\u001b[39m \u001b[43mX_orig\u001b[49m \u001b[38;5;241m+\u001b[39m deltas\n\u001b[1;32m      2\u001b[0m X_cf_cat \u001b[38;5;241m=\u001b[39m X_cf\u001b[38;5;241m.\u001b[39mcopy()\n\u001b[1;32m      4\u001b[0m X_cf_cat \u001b[38;5;241m=\u001b[39m torch\u001b[38;5;241m.\u001b[39mtensor(X_cf_cat)\n",
      "\u001b[0;31mNameError\u001b[0m: name 'X_orig' is not defined"
     ]
    }
   ],
   "source": [
    "X_cf = X_orig + deltas\n",
    "X_cf_cat = X_cf.copy()\n",
    "\n",
    "X_cf_cat = torch.tensor(X_cf_cat)\n",
    "for interval in dataset.intervals:\n",
    "    begin, end = interval\n",
    "    X_cf_cat[:, begin:end] = torch.nn.functional.gumbel_softmax(\n",
    "        X_cf_cat[:, begin:end], tau=0.1, dim=1\n",
    "    )\n",
    "    # X_cf_cat[:, begin:end] = torch.nn.functional.softmax(X_cf_cat[:, begin:end], dim=1)\n",
    "X_cf_cat = X_cf_cat.numpy()\n",
    "\n",
    "for interval in dataset.intervals:\n",
    "    begin, end = interval\n",
    "    max_indices = np.argmax(X_cf_cat[:, begin:end], axis=1)\n",
    "    X_cf_cat[:, begin:end] = np.eye(X_cf_cat[:, begin:end].shape[1])[max_indices]"
   ]
  },
  {
   "cell_type": "code",
   "execution_count": null,
   "metadata": {},
   "outputs": [
    {
     "data": {
      "text/plain": [
       "{'coverage': 1.0,\n",
       " 'validity': 0.4666666666666667,\n",
       " 'actionability': 0.0,\n",
       " 'sparsity': 0.995906432748538,\n",
       " 'proximity_categorical_hamming': 0.8910642958216046,\n",
       " 'proximity_categorical_jaccard': 0.8910642958216046,\n",
       " 'proximity_continuous_manhattan': 0.9074907010846737,\n",
       " 'proximity_continuous_euclidean': 0.8910642958216046,\n",
       " 'proximity_continuous_mad': 1.0735054347226936,\n",
       " 'proximity_l2_jaccard': 0.8910642958216046,\n",
       " 'proximity_mad_hamming': 1.0735054347226936,\n",
       " 'prob_plausibility': 0.0,\n",
       " 'log_density_cf': -574714.56,\n",
       " 'log_density_test': -735.59247,\n",
       " 'lof_scores_cf': 1.5396397,\n",
       " 'lof_scores_test': 1.0257134,\n",
       " 'isolation_forest_scores_cf': -0.12522032679129527,\n",
       " 'isolation_forest_scores_test': 0.031583695862440614}"
      ]
     },
     "execution_count": 67,
     "metadata": {},
     "output_type": "execute_result"
    }
   ],
   "source": [
    "evaluate_cf(\n",
    "    disc_model=disc_model,\n",
    "    gen_model=gen_model,\n",
    "    X_cf=X_cf_cat,\n",
    "    model_returned=np.ones(X_cf_cat.shape[0]),\n",
    "    continuous_features=dataset.numerical_features,\n",
    "    categorical_features=dataset.categorical_features,\n",
    "    X_train=dataset.X_train,\n",
    "    y_train=dataset.y_train,\n",
    "    X_test=X_orig,\n",
    "    y_test=y_orig,\n",
    "    median_log_prob=log_prob_threshold,\n",
    "    y_target=y_target,\n",
    ")"
   ]
  },
  {
   "cell_type": "code",
   "execution_count": null,
   "metadata": {},
   "outputs": [],
   "source": [
    "# from collections import defaultdict\n",
    "# import bisect\n",
    "\n",
    "# import pandas as pd\n",
    "# from sklearn.model_selection import KFold\n",
    "# from sklearn.preprocessing import StandardScaler\n",
    "\n",
    "# SEED = 42\n",
    "\n",
    "# class TargetEncoderNormalizingDataCatalog():\n",
    "#     def __init__(self, data):\n",
    "#         self.data_frame = data.raw\n",
    "#         self.continous = data.continous\n",
    "#         self.categoricals = data.categoricals\n",
    "#         self.feature_names = self.categoricals + self.continous\n",
    "#         self.scaler = StandardScaler()\n",
    "#         self.target = data.target\n",
    "#         self.data_catalog = data\n",
    "#         self.convert_to_target_encoding_form()\n",
    "#         self.normalize_feature()\n",
    "#         self.encoded_feature_name = \"\"\n",
    "#         self.immutables = data.immutables\n",
    "\n",
    "#     def convert_to_target_encoding_form(self):\n",
    "#         self.cat_dict = {}\n",
    "#         self.target_encoded_dict = {}\n",
    "#         for feature in self.categoricals:\n",
    "#             tmp_dict = defaultdict(lambda: 0)\n",
    "#             data_tmp = pd.DataFrame({feature: self.data_frame[feature], self.target: self.data_frame[self.target]})\n",
    "#             target_mean = data_tmp.groupby(feature)[self.target].mean()\n",
    "#             self.target_encoded_dict[feature] = target_mean\n",
    "#             for cat in target_mean.index.tolist():\n",
    "#                 tmp_dict[cat] = target_mean[cat]\n",
    "#             self.cat_dict[feature] = dict(tmp_dict)\n",
    "\n",
    "#             tmp = np.repeat(np.nan, self.data_frame.shape[0])\n",
    "#             kf = KFold(n_splits=10, shuffle=True, random_state=SEED)\n",
    "#             for idx_1, idx_2 in kf.split(self.data_frame):\n",
    "#                 target_mean = data_tmp.iloc[idx_1].groupby(feature)[self.target].mean()\n",
    "#                 tmp[idx_2] = self.data_frame[feature].iloc[idx_2].map(target_mean)\n",
    "#             self.data_frame[feature] = tmp\n",
    "\n",
    "#         self.data_frame[self.categoricals] = self.data_frame[self.categoricals].astype('float')\n",
    "\n",
    "#     def normalize_feature(self):\n",
    "#         self.data_frame[self.feature_names] = self.scaler.fit_transform(self.data_frame[self.feature_names])\n",
    "\n",
    "#     def denormalize_continuous_feature(self, df):\n",
    "#         df[self.feature_names] = self.scaler.inverse_transform(df[self.feature_names])\n",
    "#         return df\n",
    "\n",
    "#     def convert_from_targetenc_to_original_forms(self, df):\n",
    "#         for cat in self.categoricals:\n",
    "#             d = self.cat_dict[cat]\n",
    "#             # ソート済みのキーと値のリストを作成\n",
    "#             sorted_keys = sorted(d.keys(), key=lambda k: d[k])\n",
    "#             sorted_values = [d[k] for k in sorted_keys]\n",
    "\n",
    "#             values = df[cat].values\n",
    "#             replace_values = []\n",
    "#             for val in values:\n",
    "#                 # 二分探索でbに最も近い値のインデックスを見つける\n",
    "#                 index = bisect.bisect_left(sorted_values, val)\n",
    "\n",
    "#                 # 最も近い値のインデックスを範囲内に収める\n",
    "#                 if index == len(sorted_values):\n",
    "#                     index -= 1\n",
    "#                 elif index > 0 and abs(sorted_values[index] - val) > abs(sorted_values[index - 1] - val):\n",
    "#                     index -= 1\n",
    "\n",
    "#                 # 最も絶対値の差が小さいキーを見つける\n",
    "#                 closest_key = sorted_keys[index]\n",
    "#                 replace_values.append(closest_key)\n",
    "#             df[cat] = replace_values\n",
    "#         return df\n"
   ]
  },
  {
   "cell_type": "code",
   "execution_count": null,
   "metadata": {},
   "outputs": [],
   "source": [
    "# columns = {\n",
    "#     \"compas\": [\"Sex\", \"Age_Cat\", \"Race\", \"C_Charge_Degree\",\n",
    "#                 \"Priors_Count\", \"Time_Served\", \"Status\"],\n",
    "#     \"german_credit\": [\"Existing-Account-Status\", \"Month-Duration\",\n",
    "#                         \"Credit-History\", \"Purpose\", \"Credit-Amount\",\n",
    "#                         \"Savings-Account\", \"Present-Employment\", \"Instalment-Rate\",\n",
    "#                         \"Sex\", \"Guarantors\", \"Residence\",\"Property\", \"Age\",\n",
    "#                         \"Installment\", \"Housing\", \"Existing-Credits\", \"Job\",\n",
    "#                         \"Num-People\", \"Telephone\", \"Foreign-Worker\", \"Status\"],\n",
    "#     \"adult_income\": [\"Age\", \"Workclass\", \"Fnlwgt\", \"Education\", \"Marital-Status\",\n",
    "#                         \"Occupation\", \"Relationship\", \"Race\", \"Sex\", \"Capital-Gain\",\n",
    "#                         \"Capital-Loss\", \"Hours-Per-Week\", \"Native-Country\", \"Status\"],\n",
    "#     \"default_credit\": ['Limit_Bal', 'Sex', 'Education', 'Marriage', 'Age', 'Pay_0',\n",
    "#                         'Pay_2', 'Pay_3', 'Pay_4', 'Pay_5', 'Pay_6', 'Bill_Amt1',\n",
    "#                         'Bill_Amt2', 'Bill_Amt3', 'Bill_Amt4', 'Bill_Amt5',\n",
    "#                         'Bill_Amt6', 'Pay_Amt1', 'Pay_Amt2', 'Pay_Amt3', 'Pay_Amt4',\n",
    "#                         'Pay_Amt5', 'Pay_Amt6', 'Status'],\n",
    "#     \"heloc\": ['ExternalRiskEstimate', 'MSinceOldestTradeOpen',\n",
    "#                 'MSinceMostRecentTradeOpen', 'AverageMInFile',\n",
    "#                 'NumSatisfactoryTrades', 'NumTrades60Ever2DerogPubRec',\n",
    "#                 'NumTrades90Ever2DerogPubRec', 'PercentTradesNeverDelq',\n",
    "#                 'MSinceMostRecentDelq', 'MaxDelq2PublicRecLast12M', 'MaxDelqEver',\n",
    "#                 'NumTotalTrades', 'NumTradesOpeninLast12M', 'PercentInstallTrades',\n",
    "#                 'MSinceMostRecentInqexcl7days', 'NumInqLast6M',\n",
    "#                 'NumInqLast6Mexcl7days', 'NetFractionRevolvingBurden',\n",
    "#                 'NetFractionInstallBurden', 'NumRevolvingTradesWBalance',\n",
    "#                 'NumInstallTradesWBalance', 'NumBank2NatlTradesWHighUtilization',\n",
    "#                 'PercentTradesWBalance', 'Status']\n",
    "# }"
   ]
  }
 ],
 "metadata": {
  "kernelspec": {
   "display_name": "cf",
   "language": "python",
   "name": "python3"
  },
  "language_info": {
   "codemirror_mode": {
    "name": "ipython",
    "version": 3
   },
   "file_extension": ".py",
   "mimetype": "text/x-python",
   "name": "python",
   "nbconvert_exporter": "python",
   "pygments_lexer": "ipython3",
   "version": "3.11.9"
  }
 },
 "nbformat": 4,
 "nbformat_minor": 2
}
