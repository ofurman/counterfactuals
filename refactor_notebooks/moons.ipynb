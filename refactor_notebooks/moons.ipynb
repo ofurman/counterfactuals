{
 "cells": [
  {
   "cell_type": "code",
   "execution_count": 10,
   "id": "88aee10a",
   "metadata": {},
   "outputs": [
    {
     "name": "stdout",
     "output_type": "stream",
     "text": [
      "✅ Dataset initialized\n",
      "Shape X: (1024, 2), Shape y: (1024,)\n",
      "Train size: 819, Test size: 205\n",
      "\n",
      "Sample features (X_train):\n",
      "[[ 1.02612991 -0.51870993]\n",
      " [ 0.12286923  1.02307735]\n",
      " [-0.78441225  0.33485768]\n",
      " [ 0.51044714  1.0194206 ]\n",
      " [ 1.43702633 -0.27508317]]\n",
      "\n",
      "Sample targets (y_train):\n",
      "[1. 0. 0. 0. 1.]\n",
      "\n",
      "Fold 1: train=(682, 2), test=(342, 2)\n",
      "\n",
      "Fold 2: train=(683, 2), test=(341, 2)\n",
      "\n",
      "Fold 3: train=(683, 2), test=(341, 2)\n"
     ]
    }
   ],
   "source": [
    "import yaml\n",
    "from pathlib import Path\n",
    "\n",
    "from counterfactuals.datasets.base import DatasetParameters\n",
    "from counterfactuals.datasets.moons import MoonsDataset\n",
    "\n",
    "# 1. Load YAML config\n",
    "with open(\"../config/datasets/moons.yaml\", \"r\") as f:\n",
    "    cfg_dict = yaml.safe_load(f)\n",
    "\n",
    "config = DatasetParameters(**cfg_dict)\n",
    "\n",
    "# 2. Initialize dataset\n",
    "dataset = MoonsDataset(config=config)\n",
    "\n",
    "print(\"✅ Dataset initialized\")\n",
    "print(f\"Shape X: {dataset.X.shape}, Shape y: {dataset.y.shape}\")\n",
    "\n",
    "# 3. Train/test split\n",
    "X_train, X_test, y_train, y_test = dataset.split_data(dataset.X, dataset.y)\n",
    "\n",
    "print(f\"Train size: {X_train.shape[0]}, Test size: {X_test.shape[0]}\")\n",
    "\n",
    "# 4. First few samples\n",
    "print(\"\\nSample features (X_train):\")\n",
    "print(X_train[:5])\n",
    "print(\"\\nSample targets (y_train):\")\n",
    "print(y_train[:5])\n",
    "\n",
    "# 5. Cross-validation check\n",
    "for i, (X_tr, X_te, y_tr, y_te) in enumerate(dataset.get_cv_splits(n_splits=3)):\n",
    "    print(f\"\\nFold {i+1}: train={X_tr.shape}, test={X_te.shape}\")"
   ]
  }
 ],
 "metadata": {
  "kernelspec": {
   "display_name": "counterfactuals",
   "language": "python",
   "name": "python3"
  },
  "language_info": {
   "codemirror_mode": {
    "name": "ipython",
    "version": 3
   },
   "file_extension": ".py",
   "mimetype": "text/x-python",
   "name": "python",
   "nbconvert_exporter": "python",
   "pygments_lexer": "ipython3",
   "version": "3.11.13"
  }
 },
 "nbformat": 4,
 "nbformat_minor": 5
}
