{
 "cells": [
  {
   "cell_type": "code",
   "execution_count": null,
   "id": "88aee10a",
   "metadata": {},
   "outputs": [
    {
     "ename": "",
     "evalue": "",
     "output_type": "error",
     "traceback": [
      "\u001b[1;31mRunning cells with 'counterfactuals (Python 3.11.13)' requires the ipykernel package.\n",
      "\u001b[1;31mInstall 'ipykernel' into the Python environment. \n",
      "\u001b[1;31mCommand: 'd:/.programowanie/counterfactuals/.venv/Scripts/python.exe -m pip install ipykernel -U --force-reinstall'"
     ]
    }
   ],
   "source": [
    "import yaml\n",
    "from pathlib import Path\n",
    "\n",
    "from counterfactuals.datasets.base import DatasetParameters\n",
    "from counterfactuals.datasets.moons import MoonsDataset\n",
    "\n",
    "# 1. Load YAML config\n",
    "with open(\"config/datasets/moons.yaml\", \"r\") as f:\n",
    "    cfg_dict = yaml.safe_load(f)\n",
    "\n",
    "config = DatasetParameters(**cfg_dict)\n",
    "\n",
    "# 2. Initialize dataset\n",
    "dataset = MoonsDataset(config=config)\n",
    "\n",
    "print(\"✅ Dataset initialized\")\n",
    "print(f\"Shape X: {dataset.X.shape}, Shape y: {dataset.y.shape}\")\n",
    "\n",
    "# 3. Train/test split\n",
    "X_train, X_test, y_train, y_test = dataset.split_data(dataset.X, dataset.y)\n",
    "\n",
    "print(f\"Train size: {X_train.shape[0]}, Test size: {X_test.shape[0]}\")\n",
    "\n",
    "# 4. First few samples\n",
    "print(\"\\nSample features (X_train):\")\n",
    "print(X_train[:5])\n",
    "print(\"\\nSample targets (y_train):\")\n",
    "print(y_train[:5])\n",
    "\n",
    "# 5. Cross-validation check\n",
    "for i, (X_tr, X_te, y_tr, y_te) in enumerate(dataset.get_cv_splits(n_splits=3)):\n",
    "    print(f\"\\nFold {i+1}: train={X_tr.shape}, test={X_te.shape}\")\n"
   ]
  }
 ],
 "metadata": {
  "kernelspec": {
   "display_name": "counterfactuals",
   "language": "python",
   "name": "python3"
  },
  "language_info": {
   "name": "python",
   "version": "3.11.13"
  }
 },
 "nbformat": 4,
 "nbformat_minor": 5
}
